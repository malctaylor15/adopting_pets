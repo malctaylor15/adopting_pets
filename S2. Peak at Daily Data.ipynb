{
 "cells": [
  {
   "cell_type": "code",
   "execution_count": 1,
   "metadata": {},
   "outputs": [],
   "source": [
    "import pandas as pd\n",
    "import sqlite3 \n",
    "import pytz\n",
    "import datetime\n",
    "tz = pytz.timezone('UTC')\n",
    "pd.set_option(\"display.max_columns\", 100)\n",
    "pd.set_option(\"display.max_colwidth\", 200)"
   ]
  },
  {
   "cell_type": "code",
   "execution_count": 2,
   "metadata": {},
   "outputs": [],
   "source": [
    "def get_cnts_pcts(series):\n",
    "    cnts = series.value_counts()\n",
    "    pcts = 100*series.value_counts(normalize=True).round(5)\n",
    "    combo = pd.concat({\"Count\":cnts, \"Percent\": pcts}, axis=1)\n",
    "    return(combo)\n"
   ]
  },
  {
   "cell_type": "code",
   "execution_count": 3,
   "metadata": {},
   "outputs": [
    {
     "name": "stdout",
     "output_type": "stream",
     "text": [
      "[('dog_10475_30mi',), ('cat_10475_30mi',), ('Organizations',), ('Dog_Image_Status',)]\n"
     ]
    }
   ],
   "source": [
    "con = sqlite3.connect('/home/malcolm/petfinder/data/petfinder.db')\n",
    "cursor = con.cursor()\n",
    "cursor.execute(\"SELECT name FROM sqlite_master WHERE type='table';\")\n",
    "print(cursor.fetchall())"
   ]
  },
  {
   "cell_type": "code",
   "execution_count": 4,
   "metadata": {},
   "outputs": [
    {
     "data": {
      "text/plain": [
       "[('2021-07-03', '2021-11-07', 299237)]"
      ]
     },
     "execution_count": 4,
     "metadata": {},
     "output_type": "execute_result"
    }
   ],
   "source": [
    "cursor.execute(\"\"\"\n",
    "select min(date_saved), max(date_saved), count(*)\n",
    "from dog_10475_30mi\n",
    "\"\"\").fetchall()"
   ]
  },
  {
   "cell_type": "code",
   "execution_count": 5,
   "metadata": {
    "scrolled": true
   },
   "outputs": [
    {
     "data": {
      "text/plain": [
       "[('2021-11-07', 2397, 2397),\n",
       " ('2021-11-06', 2432, 2428),\n",
       " ('2021-11-05', 2426, 2422),\n",
       " ('2021-11-04', 2411, 2411),\n",
       " ('2021-11-03', 2376, 2373),\n",
       " ('2021-11-02', 2383, 2383),\n",
       " ('2021-11-01', 2355, 2355),\n",
       " ('2021-10-31', 2384, 2384),\n",
       " ('2021-10-30', 2448, 2448),\n",
       " ('2021-10-29', 2415, 2412),\n",
       " ('2021-10-28', 2411, 2411),\n",
       " ('2021-10-27', 2319, 2318),\n",
       " ('2021-10-26', 2298, 2298),\n",
       " ('2021-10-25', 2305, 2304),\n",
       " ('2021-10-24', 2320, 2318),\n",
       " ('2021-10-23', 2333, 2329),\n",
       " ('2021-10-22', 2339, 2336),\n",
       " ('2021-10-21', 2334, 2330),\n",
       " ('2021-10-20', 2318, 2318),\n",
       " ('2021-10-19', 2319, 2319),\n",
       " ('2021-10-18', 2320, 2318),\n",
       " ('2021-10-17', 2321, 2319),\n",
       " ('2021-10-16', 2403, 2400),\n",
       " ('2021-10-15', 2416, 2416),\n",
       " ('2021-10-14', 2394, 2394),\n",
       " ('2021-10-13', 2370, 2368),\n",
       " ('2021-10-12', 2347, 2347),\n",
       " ('2021-10-11', 2350, 2350),\n",
       " ('2021-10-10', 2383, 2382),\n",
       " ('2021-10-09', 2438, 2436),\n",
       " ('2021-10-08', 2460, 2453),\n",
       " ('2021-10-07', 2435, 2433),\n",
       " ('2021-10-06', 2422, 2420),\n",
       " ('2021-10-05', 2396, 2396),\n",
       " ('2021-10-04', 2369, 2368),\n",
       " ('2021-10-03', 2399, 2397),\n",
       " ('2021-10-02', 2443, 2442),\n",
       " ('2021-10-01', 2442, 2437),\n",
       " ('2021-09-30', 2405, 2404),\n",
       " ('2021-09-29', 2405, 2404),\n",
       " ('2021-09-28', 2401, 2397),\n",
       " ('2021-09-27', 2376, 2376),\n",
       " ('2021-09-26', 2438, 2437),\n",
       " ('2021-09-25', 2494, 2494),\n",
       " ('2021-09-24', 2472, 2470),\n",
       " ('2021-09-23', 2470, 2468),\n",
       " ('2021-09-22', 2403, 2402),\n",
       " ('2021-09-21', 2392, 2392),\n",
       " ('2021-09-20', 2391, 2391),\n",
       " ('2021-09-18', 2422, 2422),\n",
       " ('2021-09-17', 2420, 2420),\n",
       " ('2021-09-16', 2403, 2403),\n",
       " ('2021-09-15', 2369, 2368),\n",
       " ('2021-09-14', 2319, 2318),\n",
       " ('2021-09-13', 2330, 2328),\n",
       " ('2021-09-12', 2322, 2321),\n",
       " ('2021-09-11', 2366, 2363),\n",
       " ('2021-09-10', 2358, 2357),\n",
       " ('2021-09-09', 2348, 2344),\n",
       " ('2021-09-08', 2334, 2331),\n",
       " ('2021-09-07', 2328, 2328),\n",
       " ('2021-09-06', 2317, 2317),\n",
       " ('2021-09-05', 2319, 2318),\n",
       " ('2021-09-04', 2382, 2378),\n",
       " ('2021-09-03', 2345, 2345),\n",
       " ('2021-09-02', 2271, 2271),\n",
       " ('2021-09-01', 2260, 2259),\n",
       " ('2021-08-31', 2217, 2216),\n",
       " ('2021-08-30', 2228, 2224),\n",
       " ('2021-08-29', 2274, 2273),\n",
       " ('2021-08-28', 2292, 2290),\n",
       " ('2021-08-27', 2293, 2293),\n",
       " ('2021-08-26', 2293, 2292),\n",
       " ('2021-08-25', 2288, 2287),\n",
       " ('2021-08-24', 2297, 2296),\n",
       " ('2021-08-23', 2279, 2275),\n",
       " ('2021-08-22', 2265, 2263),\n",
       " ('2021-08-21', 2309, 2306),\n",
       " ('2021-08-20', 2281, 2278),\n",
       " ('2021-08-19', 2275, 2275),\n",
       " ('2021-08-18', 2413, 2405),\n",
       " ('2021-08-17', 2298, 2298),\n",
       " ('2021-08-16', 2290, 2290),\n",
       " ('2021-08-15', 2320, 2317),\n",
       " ('2021-08-14', 2367, 2366),\n",
       " ('2021-08-13', 2353, 2350),\n",
       " ('2021-08-12', 2339, 2338),\n",
       " ('2021-08-11', 2339, 2338),\n",
       " ('2021-08-10', 2340, 2339),\n",
       " ('2021-08-09', 2368, 2366),\n",
       " ('2021-08-08', 2359, 2354),\n",
       " ('2021-08-07', 2428, 2428),\n",
       " ('2021-08-06', 2423, 2421),\n",
       " ('2021-08-05', 2399, 2398),\n",
       " ('2021-08-04', 2404, 2404),\n",
       " ('2021-08-03', 2392, 2391),\n",
       " ('2021-08-02', 2400, 2399),\n",
       " ('2021-08-01', 2377, 2377),\n",
       " ('2021-07-31', 2420, 2419),\n",
       " ('2021-07-30', 2406, 2404),\n",
       " ('2021-07-29', 2390, 2390),\n",
       " ('2021-07-28', 2369, 2368),\n",
       " ('2021-07-27', 2366, 2366),\n",
       " ('2021-07-26', 2342, 2341),\n",
       " ('2021-07-25', 2375, 2375),\n",
       " ('2021-07-24', 2443, 2443),\n",
       " ('2021-07-23', 2434, 2434),\n",
       " ('2021-07-22', 2418, 2417),\n",
       " ('2021-07-21', 2392, 2389),\n",
       " ('2021-07-20', 2348, 2345),\n",
       " ('2021-07-19', 2337, 2337),\n",
       " ('2021-07-18', 2350, 2348),\n",
       " ('2021-07-17', 2401, 2401),\n",
       " ('2021-07-16', 2390, 2389),\n",
       " ('2021-07-15', 2349, 2347),\n",
       " ('2021-07-14', 2319, 2318),\n",
       " ('2021-07-13', 2292, 2292),\n",
       " ('2021-07-12', 2280, 2279),\n",
       " ('2021-07-11', 2313, 2311),\n",
       " ('2021-07-10', 2345, 2345),\n",
       " ('2021-07-09', 2331, 2330),\n",
       " ('2021-07-08', 2089, 2087),\n",
       " ('2021-07-07', 2099, 2098),\n",
       " ('2021-07-06', 2282, 2280),\n",
       " ('2021-07-05', 2300, 2299),\n",
       " ('2021-07-04', 2282, 2274),\n",
       " ('2021-07-03', 2284, 2284)]"
      ]
     },
     "execution_count": 5,
     "metadata": {},
     "output_type": "execute_result"
    }
   ],
   "source": [
    "n_dogs = cursor.execute(\"\"\"\n",
    "select date_saved, count(*) as cnt_dogs\n",
    ", count(distinct id) as cnt_uniqueids\n",
    "from dog_10475_30mi\n",
    "group by date_saved\n",
    "order by 1 desc\n",
    "limit 30\n",
    "\"\"\").fetchall()\n",
    "n_dogs"
   ]
  },
  {
   "cell_type": "code",
   "execution_count": 97,
   "metadata": {},
   "outputs": [],
   "source": [
    "today = datetime.datetime.now()\n",
    "today_str = str(datetime.datetime.now().date())\n",
    "two_weeks = today - datetime.timedelta(days=21)\n",
    "two_weeks_str = str(two_weeks.date())"
   ]
  },
  {
   "cell_type": "code",
   "execution_count": 101,
   "metadata": {},
   "outputs": [
    {
     "data": {
      "text/html": [
       "<div>\n",
       "<style scoped>\n",
       "    .dataframe tbody tr th:only-of-type {\n",
       "        vertical-align: middle;\n",
       "    }\n",
       "\n",
       "    .dataframe tbody tr th {\n",
       "        vertical-align: top;\n",
       "    }\n",
       "\n",
       "    .dataframe thead th {\n",
       "        text-align: right;\n",
       "    }\n",
       "</style>\n",
       "<table border=\"1\" class=\"dataframe\">\n",
       "  <thead>\n",
       "    <tr style=\"text-align: right;\">\n",
       "      <th></th>\n",
       "      <th>count(*)</th>\n",
       "      <th>unique_new_dogs</th>\n",
       "      <th>unique_old_dogs</th>\n",
       "      <th>new_dogs</th>\n",
       "      <th>old_dogs</th>\n",
       "      <th>still_there_dogs</th>\n",
       "      <th>start_date</th>\n",
       "      <th>end_date</th>\n",
       "    </tr>\n",
       "  </thead>\n",
       "  <tbody>\n",
       "    <tr>\n",
       "      <th>0</th>\n",
       "      <td>3236</td>\n",
       "      <td>2443</td>\n",
       "      <td>2330</td>\n",
       "      <td>906</td>\n",
       "      <td>793</td>\n",
       "      <td>1537</td>\n",
       "      <td>2021-10-21</td>\n",
       "      <td>2021-11-11</td>\n",
       "    </tr>\n",
       "  </tbody>\n",
       "</table>\n",
       "</div>"
      ],
      "text/plain": [
       "   count(*)  unique_new_dogs  unique_old_dogs  new_dogs  old_dogs  \\\n",
       "0      3236             2443             2330       906       793   \n",
       "\n",
       "   still_there_dogs  start_date    end_date  \n",
       "0              1537  2021-10-21  2021-11-11  "
      ]
     },
     "execution_count": 101,
     "metadata": {},
     "output_type": "execute_result"
    }
   ],
   "source": [
    "sql2 = f\"\"\"\n",
    "\n",
    "with two_weeks_dogs as (\n",
    "select id as id_old\n",
    ", status as status_old\n",
    ", status_changed_at as status_change_old\n",
    ", date_saved as date_saved_old\n",
    "from dog_10475_30mi\n",
    "where date_saved = '{two_weeks_str}'\n",
    ") , \n",
    "today_dogs as (\n",
    "select id as id_new\n",
    ", status as status_new\n",
    ", status_changed_at as status_change_new\n",
    ", date_saved as date_saved_new\n",
    "from dog_10475_30mi\n",
    "where date_saved = '{today_str}'\n",
    ")\n",
    "\n",
    "\n",
    "select count(*)\n",
    ", count(distinct id_new) as unique_new_dogs\n",
    ", count(distinct id_old) as unique_old_dogs\n",
    ", sum(case when id_old is null then 1 else 0 end) as new_dogs -- Old doesn't have key so dog must be new\n",
    ", sum(case when id_new is null then 1 else 0 end) as old_dogs -- New doesn't have key so dog must be old \n",
    ", sum(case when id_old is not null and id_new is not null then 1 else 0 end) as still_there_dogs\n",
    ", min(date_saved_old) as start_date\n",
    ", max(date_saved_new) as end_date\n",
    "\n",
    "from (\n",
    "SELECT id_new, status_new, status_change_new, date_saved_new\n",
    ", id_old, status_old, status_change_old, date_saved_old\n",
    "from two_weeks_dogs\n",
    "left join today_dogs\n",
    "on two_weeks_dogs.id_old = today_dogs.id_new\n",
    "\n",
    "UNION \n",
    "\n",
    "SELECT id_new, status_new, status_change_new, date_saved_new\n",
    ", id_old, status_old, status_change_old, date_saved_old\n",
    "from today_dogs \n",
    "left join two_weeks_dogs\n",
    "on today_dogs.id_new = two_weeks_dogs.id_old\n",
    ")x\n",
    "\n",
    "\"\"\"\n",
    "\n",
    "demo1 = pd.read_sql(sql2, con)\n",
    "demo1"
   ]
  },
  {
   "cell_type": "code",
   "execution_count": null,
   "metadata": {},
   "outputs": [],
   "source": []
  },
  {
   "cell_type": "code",
   "execution_count": 7,
   "metadata": {
    "scrolled": true
   },
   "outputs": [
    {
     "name": "stdout",
     "output_type": "stream",
     "text": [
      "(2397, 51)\n"
     ]
    },
    {
     "data": {
      "text/html": [
       "<div>\n",
       "<style scoped>\n",
       "    .dataframe tbody tr th:only-of-type {\n",
       "        vertical-align: middle;\n",
       "    }\n",
       "\n",
       "    .dataframe tbody tr th {\n",
       "        vertical-align: top;\n",
       "    }\n",
       "\n",
       "    .dataframe thead th {\n",
       "        text-align: right;\n",
       "    }\n",
       "</style>\n",
       "<table border=\"1\" class=\"dataframe\">\n",
       "  <thead>\n",
       "    <tr style=\"text-align: right;\">\n",
       "      <th></th>\n",
       "      <th>id</th>\n",
       "      <th>organization_id</th>\n",
       "      <th>url</th>\n",
       "      <th>type</th>\n",
       "      <th>species</th>\n",
       "      <th>age</th>\n",
       "      <th>gender</th>\n",
       "      <th>size</th>\n",
       "      <th>coat</th>\n",
       "      <th>tags</th>\n",
       "      <th>name</th>\n",
       "      <th>description</th>\n",
       "      <th>organization_animal_id</th>\n",
       "      <th>photos</th>\n",
       "      <th>videos</th>\n",
       "      <th>status</th>\n",
       "      <th>status_changed_at</th>\n",
       "      <th>published_at</th>\n",
       "      <th>distance</th>\n",
       "      <th>breeds.primary</th>\n",
       "      <th>breeds.secondary</th>\n",
       "      <th>breeds.mixed</th>\n",
       "      <th>breeds.unknown</th>\n",
       "      <th>colors.primary</th>\n",
       "      <th>colors.secondary</th>\n",
       "      <th>colors.tertiary</th>\n",
       "      <th>attributes.spayed_neutered</th>\n",
       "      <th>attributes.house_trained</th>\n",
       "      <th>attributes.declawed</th>\n",
       "      <th>attributes.special_needs</th>\n",
       "      <th>attributes.shots_current</th>\n",
       "      <th>environment.children</th>\n",
       "      <th>environment.dogs</th>\n",
       "      <th>environment.cats</th>\n",
       "      <th>primary_photo_cropped.small</th>\n",
       "      <th>primary_photo_cropped.medium</th>\n",
       "      <th>primary_photo_cropped.large</th>\n",
       "      <th>primary_photo_cropped.full</th>\n",
       "      <th>contact.email</th>\n",
       "      <th>contact.phone</th>\n",
       "      <th>contact.address.address1</th>\n",
       "      <th>contact.address.address2</th>\n",
       "      <th>contact.address.city</th>\n",
       "      <th>contact.address.state</th>\n",
       "      <th>contact.address.postcode</th>\n",
       "      <th>contact.address.country</th>\n",
       "      <th>animal_id</th>\n",
       "      <th>animal_type</th>\n",
       "      <th>primary_photo_cropped</th>\n",
       "      <th>date_saved</th>\n",
       "      <th>org_name</th>\n",
       "    </tr>\n",
       "  </thead>\n",
       "  <tbody>\n",
       "    <tr>\n",
       "      <th>16767</th>\n",
       "      <td>53492780</td>\n",
       "      <td>NY1537</td>\n",
       "      <td>https://www.petfinder.com/dog/raja-53492780/ny/brooklyn/small-bites-rescue-inc-ny1537/?referrer_id=a0b0e7e5-a0ff-4872-86f9-c0328ab65a7c</td>\n",
       "      <td>Dog</td>\n",
       "      <td>Dog</td>\n",
       "      <td>Baby</td>\n",
       "      <td>Male</td>\n",
       "      <td>Large</td>\n",
       "      <td>Short</td>\n",
       "      <td>0       [Friendly, Playful, Smart, Curious, Affectionate]\\n1       [Friendly, Affectionate, Loyal, Gentle, Playfu...\\n2                                                      []\\n3                  ...</td>\n",
       "      <td>Raja</td>\n",
       "      <td>None</td>\n",
       "      <td>None</td>\n",
       "      <td>0       [{'small': 'https://dl5zpyw5k3jeb.cloudfront.n...\\n1       [{'small': 'https://dl5zpyw5k3jeb.cloudfront.n...\\n2       [{'small': 'https://dl5zpyw5k3jeb.cloudfront.n...\\n3       [{'small': ...</td>\n",
       "      <td>0                                                      []\\n1                                                      []\\n2       [{'embed': '&lt;iframe title=\"Video\" frameborder=...\\n3                  ...</td>\n",
       "      <td>adoptable</td>\n",
       "      <td>2021-11-07 05:03:43+00:00</td>\n",
       "      <td>2021-11-07 05:03:43+00:00</td>\n",
       "      <td>13.6441</td>\n",
       "      <td>Pit Bull Terrier</td>\n",
       "      <td>None</td>\n",
       "      <td>0</td>\n",
       "      <td>0</td>\n",
       "      <td>Red / Chestnut / Orange</td>\n",
       "      <td>None</td>\n",
       "      <td>None</td>\n",
       "      <td>0</td>\n",
       "      <td>0</td>\n",
       "      <td>None</td>\n",
       "      <td>0</td>\n",
       "      <td>1</td>\n",
       "      <td>1.0</td>\n",
       "      <td>1.0</td>\n",
       "      <td>NaN</td>\n",
       "      <td>https://dl5zpyw5k3jeb.cloudfront.net/photos/pets/53492780/1/?bust=1636261421&amp;width=300</td>\n",
       "      <td>https://dl5zpyw5k3jeb.cloudfront.net/photos/pets/53492780/1/?bust=1636261421&amp;width=450</td>\n",
       "      <td>https://dl5zpyw5k3jeb.cloudfront.net/photos/pets/53492780/1/?bust=1636261421&amp;width=600</td>\n",
       "      <td>https://dl5zpyw5k3jeb.cloudfront.net/photos/pets/53492780/1/?bust=1636261421</td>\n",
       "      <td>smallbitesrescueinc@gmail.com</td>\n",
       "      <td>None</td>\n",
       "      <td>None</td>\n",
       "      <td>None</td>\n",
       "      <td>Brooklyn</td>\n",
       "      <td>NY</td>\n",
       "      <td>11221</td>\n",
       "      <td>US</td>\n",
       "      <td>53492780</td>\n",
       "      <td>dog</td>\n",
       "      <td>None</td>\n",
       "      <td>2021-11-07 00:00:00+00:00</td>\n",
       "      <td>Small Bites Rescue Inc</td>\n",
       "    </tr>\n",
       "    <tr>\n",
       "      <th>16768</th>\n",
       "      <td>53220915</td>\n",
       "      <td>NY1545</td>\n",
       "      <td>https://www.petfinder.com/dog/melody-53220915/ny/floral-park/keep-me-warm-doghouses-inc-ny1545/?referrer_id=a0b0e7e5-a0ff-4872-86f9-c0328ab65a7c</td>\n",
       "      <td>Dog</td>\n",
       "      <td>Dog</td>\n",
       "      <td>Young</td>\n",
       "      <td>Female</td>\n",
       "      <td>Small</td>\n",
       "      <td>Medium</td>\n",
       "      <td>0       [Friendly, Playful, Smart, Curious, Affectionate]\\n1       [Friendly, Affectionate, Loyal, Gentle, Playfu...\\n2                                                      []\\n3                  ...</td>\n",
       "      <td>Melody</td>\n",
       "      <td>Melody is the sweetest dog! She playful and loves her humans and dog friend at her foster home. Melody is...</td>\n",
       "      <td>None</td>\n",
       "      <td>0       [{'small': 'https://dl5zpyw5k3jeb.cloudfront.n...\\n1       [{'small': 'https://dl5zpyw5k3jeb.cloudfront.n...\\n2       [{'small': 'https://dl5zpyw5k3jeb.cloudfront.n...\\n3       [{'small': ...</td>\n",
       "      <td>0                                                      []\\n1                                                      []\\n2       [{'embed': '&lt;iframe title=\"Video\" frameborder=...\\n3                  ...</td>\n",
       "      <td>adoptable</td>\n",
       "      <td>2021-11-07 03:57:14+00:00</td>\n",
       "      <td>2021-11-07 03:57:14+00:00</td>\n",
       "      <td>12.1493</td>\n",
       "      <td>Corgi</td>\n",
       "      <td>Jindo</td>\n",
       "      <td>1</td>\n",
       "      <td>0</td>\n",
       "      <td>White / Cream</td>\n",
       "      <td>None</td>\n",
       "      <td>None</td>\n",
       "      <td>1</td>\n",
       "      <td>1</td>\n",
       "      <td>None</td>\n",
       "      <td>0</td>\n",
       "      <td>1</td>\n",
       "      <td>1.0</td>\n",
       "      <td>1.0</td>\n",
       "      <td>NaN</td>\n",
       "      <td>https://dl5zpyw5k3jeb.cloudfront.net/photos/pets/53220915/1/?bust=1636257431&amp;width=300</td>\n",
       "      <td>https://dl5zpyw5k3jeb.cloudfront.net/photos/pets/53220915/1/?bust=1636257431&amp;width=450</td>\n",
       "      <td>https://dl5zpyw5k3jeb.cloudfront.net/photos/pets/53220915/1/?bust=1636257431&amp;width=600</td>\n",
       "      <td>https://dl5zpyw5k3jeb.cloudfront.net/photos/pets/53220915/1/?bust=1636257431</td>\n",
       "      <td>suekmwdadoptions@gmail.com</td>\n",
       "      <td>None</td>\n",
       "      <td>None</td>\n",
       "      <td>None</td>\n",
       "      <td>Floral Park</td>\n",
       "      <td>NY</td>\n",
       "      <td>11001</td>\n",
       "      <td>US</td>\n",
       "      <td>53220915</td>\n",
       "      <td>dog</td>\n",
       "      <td>None</td>\n",
       "      <td>2021-11-07 00:00:00+00:00</td>\n",
       "      <td>Keep Me Warm Doghouses, Inc</td>\n",
       "    </tr>\n",
       "    <tr>\n",
       "      <th>16769</th>\n",
       "      <td>53492320</td>\n",
       "      <td>NY245</td>\n",
       "      <td>https://www.petfinder.com/dog/manchita-53492320/ny/new-york/stray-from-the-heart-ny245/?referrer_id=a0b0e7e5-a0ff-4872-86f9-c0328ab65a7c</td>\n",
       "      <td>Dog</td>\n",
       "      <td>Dog</td>\n",
       "      <td>Adult</td>\n",
       "      <td>Female</td>\n",
       "      <td>Medium</td>\n",
       "      <td>None</td>\n",
       "      <td>0       [Friendly, Playful, Smart, Curious, Affectionate]\\n1       [Friendly, Affectionate, Loyal, Gentle, Playfu...\\n2                                                      []\\n3                  ...</td>\n",
       "      <td>Manchita</td>\n",
       "      <td>Manchita is a beautiful girl who was rescued off the street with her two babies.  Her babies got adopted but...</td>\n",
       "      <td>None</td>\n",
       "      <td>0       [{'small': 'https://dl5zpyw5k3jeb.cloudfront.n...\\n1       [{'small': 'https://dl5zpyw5k3jeb.cloudfront.n...\\n2       [{'small': 'https://dl5zpyw5k3jeb.cloudfront.n...\\n3       [{'small': ...</td>\n",
       "      <td>0                                                      []\\n1                                                      []\\n2       [{'embed': '&lt;iframe title=\"Video\" frameborder=...\\n3                  ...</td>\n",
       "      <td>adoptable</td>\n",
       "      <td>2021-11-07 02:52:19+00:00</td>\n",
       "      <td>2021-11-07 02:52:19+00:00</td>\n",
       "      <td>10.4905</td>\n",
       "      <td>Border Collie</td>\n",
       "      <td>Mixed Breed</td>\n",
       "      <td>1</td>\n",
       "      <td>0</td>\n",
       "      <td>None</td>\n",
       "      <td>None</td>\n",
       "      <td>None</td>\n",
       "      <td>0</td>\n",
       "      <td>0</td>\n",
       "      <td>None</td>\n",
       "      <td>0</td>\n",
       "      <td>0</td>\n",
       "      <td>NaN</td>\n",
       "      <td>NaN</td>\n",
       "      <td>NaN</td>\n",
       "      <td>https://dl5zpyw5k3jeb.cloudfront.net/photos/pets/53492320/1/?bust=1636253535&amp;width=300</td>\n",
       "      <td>https://dl5zpyw5k3jeb.cloudfront.net/photos/pets/53492320/1/?bust=1636253535&amp;width=450</td>\n",
       "      <td>https://dl5zpyw5k3jeb.cloudfront.net/photos/pets/53492320/1/?bust=1636253535&amp;width=600</td>\n",
       "      <td>https://dl5zpyw5k3jeb.cloudfront.net/photos/pets/53492320/1/?bust=1636253535</td>\n",
       "      <td>patricia.strayfromtheheart@gmail.com</td>\n",
       "      <td>None</td>\n",
       "      <td>P.O. Box 11</td>\n",
       "      <td>None</td>\n",
       "      <td>New York</td>\n",
       "      <td>NY</td>\n",
       "      <td>10023</td>\n",
       "      <td>US</td>\n",
       "      <td>53492320</td>\n",
       "      <td>dog</td>\n",
       "      <td>None</td>\n",
       "      <td>2021-11-07 00:00:00+00:00</td>\n",
       "      <td>Stray From The Heart</td>\n",
       "    </tr>\n",
       "    <tr>\n",
       "      <th>16770</th>\n",
       "      <td>53492314</td>\n",
       "      <td>NY611</td>\n",
       "      <td>https://www.petfinder.com/dog/buddy-53492314/ny/bedford/community-cats-inc-ny611/?referrer_id=a0b0e7e5-a0ff-4872-86f9-c0328ab65a7c</td>\n",
       "      <td>Dog</td>\n",
       "      <td>Dog</td>\n",
       "      <td>Baby</td>\n",
       "      <td>Male</td>\n",
       "      <td>Medium</td>\n",
       "      <td>Short</td>\n",
       "      <td>0       [Friendly, Playful, Smart, Curious, Affectionate]\\n1       [Friendly, Affectionate, Loyal, Gentle, Playfu...\\n2                                                      []\\n3                  ...</td>\n",
       "      <td>Buddy</td>\n",
       "      <td>Buddy is aptly named because he makes the perfect one!  This 11 month old from Tennessee is as sweet as...</td>\n",
       "      <td>None</td>\n",
       "      <td>0       [{'small': 'https://dl5zpyw5k3jeb.cloudfront.n...\\n1       [{'small': 'https://dl5zpyw5k3jeb.cloudfront.n...\\n2       [{'small': 'https://dl5zpyw5k3jeb.cloudfront.n...\\n3       [{'small': ...</td>\n",
       "      <td>0                                                      []\\n1                                                      []\\n2       [{'embed': '&lt;iframe title=\"Video\" frameborder=...\\n3                  ...</td>\n",
       "      <td>adoptable</td>\n",
       "      <td>2021-11-07 02:47:34+00:00</td>\n",
       "      <td>2021-11-07 02:47:34+00:00</td>\n",
       "      <td>23.9204</td>\n",
       "      <td>Pit Bull Terrier</td>\n",
       "      <td>None</td>\n",
       "      <td>0</td>\n",
       "      <td>0</td>\n",
       "      <td>Merle (Red)</td>\n",
       "      <td>None</td>\n",
       "      <td>None</td>\n",
       "      <td>1</td>\n",
       "      <td>1</td>\n",
       "      <td>None</td>\n",
       "      <td>0</td>\n",
       "      <td>1</td>\n",
       "      <td>1.0</td>\n",
       "      <td>1.0</td>\n",
       "      <td>NaN</td>\n",
       "      <td>https://dl5zpyw5k3jeb.cloudfront.net/photos/pets/53492314/1/?bust=1636253249&amp;width=300</td>\n",
       "      <td>https://dl5zpyw5k3jeb.cloudfront.net/photos/pets/53492314/1/?bust=1636253249&amp;width=450</td>\n",
       "      <td>https://dl5zpyw5k3jeb.cloudfront.net/photos/pets/53492314/1/?bust=1636253249&amp;width=600</td>\n",
       "      <td>https://dl5zpyw5k3jeb.cloudfront.net/photos/pets/53492314/1/?bust=1636253249</td>\n",
       "      <td>communitycats@yahoo.com</td>\n",
       "      <td>914-234-3771</td>\n",
       "      <td>402 Old Post Road</td>\n",
       "      <td>None</td>\n",
       "      <td>Bedford</td>\n",
       "      <td>NY</td>\n",
       "      <td>10506</td>\n",
       "      <td>US</td>\n",
       "      <td>53492314</td>\n",
       "      <td>dog</td>\n",
       "      <td>None</td>\n",
       "      <td>2021-11-07 00:00:00+00:00</td>\n",
       "      <td>Community Cats Inc.</td>\n",
       "    </tr>\n",
       "    <tr>\n",
       "      <th>16771</th>\n",
       "      <td>53492168</td>\n",
       "      <td>NJ279</td>\n",
       "      <td>https://www.petfinder.com/dog/ace-53492168/nj/closter/claws-nj279/?referrer_id=a0b0e7e5-a0ff-4872-86f9-c0328ab65a7c</td>\n",
       "      <td>Dog</td>\n",
       "      <td>Dog</td>\n",
       "      <td>Baby</td>\n",
       "      <td>Male</td>\n",
       "      <td>Medium</td>\n",
       "      <td>Short</td>\n",
       "      <td>0       [Friendly, Playful, Smart, Curious, Affectionate]\\n1       [Friendly, Affectionate, Loyal, Gentle, Playfu...\\n2                                                      []\\n3                  ...</td>\n",
       "      <td>Ace</td>\n",
       "      <td>Meet Ace! This handsome and cool dude is under a year old and around 45 pounds. He will be neutered...</td>\n",
       "      <td>Leanna</td>\n",
       "      <td>0       [{'small': 'https://dl5zpyw5k3jeb.cloudfront.n...\\n1       [{'small': 'https://dl5zpyw5k3jeb.cloudfront.n...\\n2       [{'small': 'https://dl5zpyw5k3jeb.cloudfront.n...\\n3       [{'small': ...</td>\n",
       "      <td>0                                                      []\\n1                                                      []\\n2       [{'embed': '&lt;iframe title=\"Video\" frameborder=...\\n3                  ...</td>\n",
       "      <td>adoptable</td>\n",
       "      <td>2021-11-07 02:06:05+00:00</td>\n",
       "      <td>2021-11-07 02:06:05+00:00</td>\n",
       "      <td>9.8347</td>\n",
       "      <td>American Staffordshire Terrier</td>\n",
       "      <td>None</td>\n",
       "      <td>0</td>\n",
       "      <td>0</td>\n",
       "      <td>Red / Chestnut / Orange</td>\n",
       "      <td>None</td>\n",
       "      <td>None</td>\n",
       "      <td>0</td>\n",
       "      <td>1</td>\n",
       "      <td>None</td>\n",
       "      <td>0</td>\n",
       "      <td>0</td>\n",
       "      <td>1.0</td>\n",
       "      <td>NaN</td>\n",
       "      <td>0.0</td>\n",
       "      <td>https://dl5zpyw5k3jeb.cloudfront.net/photos/pets/53492168/1/?bust=1636250761&amp;width=300</td>\n",
       "      <td>https://dl5zpyw5k3jeb.cloudfront.net/photos/pets/53492168/1/?bust=1636250761&amp;width=450</td>\n",
       "      <td>https://dl5zpyw5k3jeb.cloudfront.net/photos/pets/53492168/1/?bust=1636250761&amp;width=600</td>\n",
       "      <td>https://dl5zpyw5k3jeb.cloudfront.net/photos/pets/53492168/1/?bust=1636250761</td>\n",
       "      <td>clawsadopt@yahoo.com</td>\n",
       "      <td>(201) 768-0200</td>\n",
       "      <td>None</td>\n",
       "      <td>None</td>\n",
       "      <td>Closter</td>\n",
       "      <td>NJ</td>\n",
       "      <td>07624</td>\n",
       "      <td>US</td>\n",
       "      <td>53492168</td>\n",
       "      <td>dog</td>\n",
       "      <td>None</td>\n",
       "      <td>2021-11-07 00:00:00+00:00</td>\n",
       "      <td>CLAWS</td>\n",
       "    </tr>\n",
       "  </tbody>\n",
       "</table>\n",
       "</div>"
      ],
      "text/plain": [
       "             id organization_id  \\\n",
       "16767  53492780          NY1537   \n",
       "16768  53220915          NY1545   \n",
       "16769  53492320           NY245   \n",
       "16770  53492314           NY611   \n",
       "16771  53492168           NJ279   \n",
       "\n",
       "                                                                                                                                                    url  \\\n",
       "16767           https://www.petfinder.com/dog/raja-53492780/ny/brooklyn/small-bites-rescue-inc-ny1537/?referrer_id=a0b0e7e5-a0ff-4872-86f9-c0328ab65a7c   \n",
       "16768  https://www.petfinder.com/dog/melody-53220915/ny/floral-park/keep-me-warm-doghouses-inc-ny1545/?referrer_id=a0b0e7e5-a0ff-4872-86f9-c0328ab65a7c   \n",
       "16769          https://www.petfinder.com/dog/manchita-53492320/ny/new-york/stray-from-the-heart-ny245/?referrer_id=a0b0e7e5-a0ff-4872-86f9-c0328ab65a7c   \n",
       "16770                https://www.petfinder.com/dog/buddy-53492314/ny/bedford/community-cats-inc-ny611/?referrer_id=a0b0e7e5-a0ff-4872-86f9-c0328ab65a7c   \n",
       "16771                               https://www.petfinder.com/dog/ace-53492168/nj/closter/claws-nj279/?referrer_id=a0b0e7e5-a0ff-4872-86f9-c0328ab65a7c   \n",
       "\n",
       "      type species    age  gender    size    coat  \\\n",
       "16767  Dog     Dog   Baby    Male   Large   Short   \n",
       "16768  Dog     Dog  Young  Female   Small  Medium   \n",
       "16769  Dog     Dog  Adult  Female  Medium    None   \n",
       "16770  Dog     Dog   Baby    Male  Medium   Short   \n",
       "16771  Dog     Dog   Baby    Male  Medium   Short   \n",
       "\n",
       "                                                                                                                                                                                                          tags  \\\n",
       "16767  0       [Friendly, Playful, Smart, Curious, Affectionate]\\n1       [Friendly, Affectionate, Loyal, Gentle, Playfu...\\n2                                                      []\\n3                  ...   \n",
       "16768  0       [Friendly, Playful, Smart, Curious, Affectionate]\\n1       [Friendly, Affectionate, Loyal, Gentle, Playfu...\\n2                                                      []\\n3                  ...   \n",
       "16769  0       [Friendly, Playful, Smart, Curious, Affectionate]\\n1       [Friendly, Affectionate, Loyal, Gentle, Playfu...\\n2                                                      []\\n3                  ...   \n",
       "16770  0       [Friendly, Playful, Smart, Curious, Affectionate]\\n1       [Friendly, Affectionate, Loyal, Gentle, Playfu...\\n2                                                      []\\n3                  ...   \n",
       "16771  0       [Friendly, Playful, Smart, Curious, Affectionate]\\n1       [Friendly, Affectionate, Loyal, Gentle, Playfu...\\n2                                                      []\\n3                  ...   \n",
       "\n",
       "           name  \\\n",
       "16767      Raja   \n",
       "16768    Melody   \n",
       "16769  Manchita   \n",
       "16770     Buddy   \n",
       "16771       Ace   \n",
       "\n",
       "                                                                                                           description  \\\n",
       "16767                                                                                                             None   \n",
       "16768     Melody is the sweetest dog! She playful and loves her humans and dog friend at her foster home. Melody is...   \n",
       "16769  Manchita is a beautiful girl who was rescued off the street with her two babies.  Her babies got adopted but...   \n",
       "16770       Buddy is aptly named because he makes the perfect one!  This 11 month old from Tennessee is as sweet as...   \n",
       "16771           Meet Ace! This handsome and cool dude is under a year old and around 45 pounds. He will be neutered...   \n",
       "\n",
       "      organization_animal_id  \\\n",
       "16767                   None   \n",
       "16768                   None   \n",
       "16769                   None   \n",
       "16770                   None   \n",
       "16771                 Leanna   \n",
       "\n",
       "                                                                                                                                                                                                        photos  \\\n",
       "16767  0       [{'small': 'https://dl5zpyw5k3jeb.cloudfront.n...\\n1       [{'small': 'https://dl5zpyw5k3jeb.cloudfront.n...\\n2       [{'small': 'https://dl5zpyw5k3jeb.cloudfront.n...\\n3       [{'small': ...   \n",
       "16768  0       [{'small': 'https://dl5zpyw5k3jeb.cloudfront.n...\\n1       [{'small': 'https://dl5zpyw5k3jeb.cloudfront.n...\\n2       [{'small': 'https://dl5zpyw5k3jeb.cloudfront.n...\\n3       [{'small': ...   \n",
       "16769  0       [{'small': 'https://dl5zpyw5k3jeb.cloudfront.n...\\n1       [{'small': 'https://dl5zpyw5k3jeb.cloudfront.n...\\n2       [{'small': 'https://dl5zpyw5k3jeb.cloudfront.n...\\n3       [{'small': ...   \n",
       "16770  0       [{'small': 'https://dl5zpyw5k3jeb.cloudfront.n...\\n1       [{'small': 'https://dl5zpyw5k3jeb.cloudfront.n...\\n2       [{'small': 'https://dl5zpyw5k3jeb.cloudfront.n...\\n3       [{'small': ...   \n",
       "16771  0       [{'small': 'https://dl5zpyw5k3jeb.cloudfront.n...\\n1       [{'small': 'https://dl5zpyw5k3jeb.cloudfront.n...\\n2       [{'small': 'https://dl5zpyw5k3jeb.cloudfront.n...\\n3       [{'small': ...   \n",
       "\n",
       "                                                                                                                                                                                                        videos  \\\n",
       "16767  0                                                      []\\n1                                                      []\\n2       [{'embed': '<iframe title=\"Video\" frameborder=...\\n3                  ...   \n",
       "16768  0                                                      []\\n1                                                      []\\n2       [{'embed': '<iframe title=\"Video\" frameborder=...\\n3                  ...   \n",
       "16769  0                                                      []\\n1                                                      []\\n2       [{'embed': '<iframe title=\"Video\" frameborder=...\\n3                  ...   \n",
       "16770  0                                                      []\\n1                                                      []\\n2       [{'embed': '<iframe title=\"Video\" frameborder=...\\n3                  ...   \n",
       "16771  0                                                      []\\n1                                                      []\\n2       [{'embed': '<iframe title=\"Video\" frameborder=...\\n3                  ...   \n",
       "\n",
       "          status         status_changed_at              published_at  \\\n",
       "16767  adoptable 2021-11-07 05:03:43+00:00 2021-11-07 05:03:43+00:00   \n",
       "16768  adoptable 2021-11-07 03:57:14+00:00 2021-11-07 03:57:14+00:00   \n",
       "16769  adoptable 2021-11-07 02:52:19+00:00 2021-11-07 02:52:19+00:00   \n",
       "16770  adoptable 2021-11-07 02:47:34+00:00 2021-11-07 02:47:34+00:00   \n",
       "16771  adoptable 2021-11-07 02:06:05+00:00 2021-11-07 02:06:05+00:00   \n",
       "\n",
       "       distance                  breeds.primary breeds.secondary  \\\n",
       "16767   13.6441                Pit Bull Terrier             None   \n",
       "16768   12.1493                           Corgi            Jindo   \n",
       "16769   10.4905                   Border Collie      Mixed Breed   \n",
       "16770   23.9204                Pit Bull Terrier             None   \n",
       "16771    9.8347  American Staffordshire Terrier             None   \n",
       "\n",
       "       breeds.mixed  breeds.unknown           colors.primary colors.secondary  \\\n",
       "16767             0               0  Red / Chestnut / Orange             None   \n",
       "16768             1               0            White / Cream             None   \n",
       "16769             1               0                     None             None   \n",
       "16770             0               0              Merle (Red)             None   \n",
       "16771             0               0  Red / Chestnut / Orange             None   \n",
       "\n",
       "      colors.tertiary  attributes.spayed_neutered  attributes.house_trained  \\\n",
       "16767            None                           0                         0   \n",
       "16768            None                           1                         1   \n",
       "16769            None                           0                         0   \n",
       "16770            None                           1                         1   \n",
       "16771            None                           0                         1   \n",
       "\n",
       "      attributes.declawed  attributes.special_needs  attributes.shots_current  \\\n",
       "16767                None                         0                         1   \n",
       "16768                None                         0                         1   \n",
       "16769                None                         0                         0   \n",
       "16770                None                         0                         1   \n",
       "16771                None                         0                         0   \n",
       "\n",
       "       environment.children  environment.dogs  environment.cats  \\\n",
       "16767                   1.0               1.0               NaN   \n",
       "16768                   1.0               1.0               NaN   \n",
       "16769                   NaN               NaN               NaN   \n",
       "16770                   1.0               1.0               NaN   \n",
       "16771                   1.0               NaN               0.0   \n",
       "\n",
       "                                                                  primary_photo_cropped.small  \\\n",
       "16767  https://dl5zpyw5k3jeb.cloudfront.net/photos/pets/53492780/1/?bust=1636261421&width=300   \n",
       "16768  https://dl5zpyw5k3jeb.cloudfront.net/photos/pets/53220915/1/?bust=1636257431&width=300   \n",
       "16769  https://dl5zpyw5k3jeb.cloudfront.net/photos/pets/53492320/1/?bust=1636253535&width=300   \n",
       "16770  https://dl5zpyw5k3jeb.cloudfront.net/photos/pets/53492314/1/?bust=1636253249&width=300   \n",
       "16771  https://dl5zpyw5k3jeb.cloudfront.net/photos/pets/53492168/1/?bust=1636250761&width=300   \n",
       "\n",
       "                                                                 primary_photo_cropped.medium  \\\n",
       "16767  https://dl5zpyw5k3jeb.cloudfront.net/photos/pets/53492780/1/?bust=1636261421&width=450   \n",
       "16768  https://dl5zpyw5k3jeb.cloudfront.net/photos/pets/53220915/1/?bust=1636257431&width=450   \n",
       "16769  https://dl5zpyw5k3jeb.cloudfront.net/photos/pets/53492320/1/?bust=1636253535&width=450   \n",
       "16770  https://dl5zpyw5k3jeb.cloudfront.net/photos/pets/53492314/1/?bust=1636253249&width=450   \n",
       "16771  https://dl5zpyw5k3jeb.cloudfront.net/photos/pets/53492168/1/?bust=1636250761&width=450   \n",
       "\n",
       "                                                                  primary_photo_cropped.large  \\\n",
       "16767  https://dl5zpyw5k3jeb.cloudfront.net/photos/pets/53492780/1/?bust=1636261421&width=600   \n",
       "16768  https://dl5zpyw5k3jeb.cloudfront.net/photos/pets/53220915/1/?bust=1636257431&width=600   \n",
       "16769  https://dl5zpyw5k3jeb.cloudfront.net/photos/pets/53492320/1/?bust=1636253535&width=600   \n",
       "16770  https://dl5zpyw5k3jeb.cloudfront.net/photos/pets/53492314/1/?bust=1636253249&width=600   \n",
       "16771  https://dl5zpyw5k3jeb.cloudfront.net/photos/pets/53492168/1/?bust=1636250761&width=600   \n",
       "\n",
       "                                                         primary_photo_cropped.full  \\\n",
       "16767  https://dl5zpyw5k3jeb.cloudfront.net/photos/pets/53492780/1/?bust=1636261421   \n",
       "16768  https://dl5zpyw5k3jeb.cloudfront.net/photos/pets/53220915/1/?bust=1636257431   \n",
       "16769  https://dl5zpyw5k3jeb.cloudfront.net/photos/pets/53492320/1/?bust=1636253535   \n",
       "16770  https://dl5zpyw5k3jeb.cloudfront.net/photos/pets/53492314/1/?bust=1636253249   \n",
       "16771  https://dl5zpyw5k3jeb.cloudfront.net/photos/pets/53492168/1/?bust=1636250761   \n",
       "\n",
       "                              contact.email   contact.phone  \\\n",
       "16767         smallbitesrescueinc@gmail.com            None   \n",
       "16768            suekmwdadoptions@gmail.com            None   \n",
       "16769  patricia.strayfromtheheart@gmail.com            None   \n",
       "16770               communitycats@yahoo.com    914-234-3771   \n",
       "16771                  clawsadopt@yahoo.com  (201) 768-0200   \n",
       "\n",
       "      contact.address.address1 contact.address.address2 contact.address.city  \\\n",
       "16767                     None                     None             Brooklyn   \n",
       "16768                     None                     None          Floral Park   \n",
       "16769              P.O. Box 11                     None             New York   \n",
       "16770        402 Old Post Road                     None              Bedford   \n",
       "16771                     None                     None              Closter   \n",
       "\n",
       "      contact.address.state contact.address.postcode contact.address.country  \\\n",
       "16767                    NY                    11221                      US   \n",
       "16768                    NY                    11001                      US   \n",
       "16769                    NY                    10023                      US   \n",
       "16770                    NY                    10506                      US   \n",
       "16771                    NJ                    07624                      US   \n",
       "\n",
       "      animal_id animal_type primary_photo_cropped                date_saved  \\\n",
       "16767  53492780         dog                  None 2021-11-07 00:00:00+00:00   \n",
       "16768  53220915         dog                  None 2021-11-07 00:00:00+00:00   \n",
       "16769  53492320         dog                  None 2021-11-07 00:00:00+00:00   \n",
       "16770  53492314         dog                  None 2021-11-07 00:00:00+00:00   \n",
       "16771  53492168         dog                  None 2021-11-07 00:00:00+00:00   \n",
       "\n",
       "                          org_name  \n",
       "16767       Small Bites Rescue Inc  \n",
       "16768  Keep Me Warm Doghouses, Inc  \n",
       "16769         Stray From The Heart  \n",
       "16770          Community Cats Inc.  \n",
       "16771                        CLAWS  "
      ]
     },
     "execution_count": 7,
     "metadata": {},
     "output_type": "execute_result"
    }
   ],
   "source": [
    "data_raw = pd.read_sql(f\"\"\"\n",
    "select dogs.*, orgs.name as org_name \n",
    "from dog_10475_30mi dogs\n",
    "left join Organizations orgs\n",
    "on dogs.organization_id = orgs.id\n",
    "where date_saved between '{two_weeks_str}' and '{today_str}'\n",
    "\"\"\" , con)\n",
    "data_raw['published_at'] = pd.to_datetime(data_raw['published_at'])\n",
    "data_raw['status_changed_at'] = pd.to_datetime(data_raw['status_changed_at'])\n",
    "data_raw['date_saved'] = pd.to_datetime(data_raw['date_saved'], utc=True)\n",
    "\n",
    "data = data_raw[data_raw['date_saved'] == data_raw['date_saved'].max()]\n",
    "print(data.shape)\n",
    "data.head()"
   ]
  },
  {
   "cell_type": "code",
   "execution_count": 8,
   "metadata": {},
   "outputs": [
    {
     "data": {
      "text/plain": [
       "2853"
      ]
     },
     "execution_count": 8,
     "metadata": {},
     "output_type": "execute_result"
    }
   ],
   "source": [
    "data_raw['id'].nunique()"
   ]
  },
  {
   "cell_type": "code",
   "execution_count": null,
   "metadata": {},
   "outputs": [],
   "source": []
  },
  {
   "cell_type": "markdown",
   "metadata": {},
   "source": [
    "## Peak at some attributes"
   ]
  },
  {
   "cell_type": "code",
   "execution_count": 9,
   "metadata": {},
   "outputs": [
    {
     "data": {
      "text/plain": [
       "Index(['id', 'organization_id', 'url', 'type', 'species', 'age', 'gender',\n",
       "       'size', 'coat', 'tags', 'name', 'description', 'organization_animal_id',\n",
       "       'photos', 'videos', 'status', 'status_changed_at', 'published_at',\n",
       "       'distance', 'breeds.primary', 'breeds.secondary', 'breeds.mixed',\n",
       "       'breeds.unknown', 'colors.primary', 'colors.secondary',\n",
       "       'colors.tertiary', 'attributes.spayed_neutered',\n",
       "       'attributes.house_trained', 'attributes.declawed',\n",
       "       'attributes.special_needs', 'attributes.shots_current',\n",
       "       'environment.children', 'environment.dogs', 'environment.cats',\n",
       "       'primary_photo_cropped.small', 'primary_photo_cropped.medium',\n",
       "       'primary_photo_cropped.large', 'primary_photo_cropped.full',\n",
       "       'contact.email', 'contact.phone', 'contact.address.address1',\n",
       "       'contact.address.address2', 'contact.address.city',\n",
       "       'contact.address.state', 'contact.address.postcode',\n",
       "       'contact.address.country', 'animal_id', 'animal_type',\n",
       "       'primary_photo_cropped', 'date_saved', 'org_name'],\n",
       "      dtype='object')"
      ]
     },
     "execution_count": 9,
     "metadata": {},
     "output_type": "execute_result"
    }
   ],
   "source": [
    "data.columns"
   ]
  },
  {
   "cell_type": "code",
   "execution_count": 10,
   "metadata": {},
   "outputs": [
    {
     "data": {
      "text/plain": [
       "adoptable    2397\n",
       "Name: status, dtype: int64"
      ]
     },
     "execution_count": 10,
     "metadata": {},
     "output_type": "execute_result"
    }
   ],
   "source": [
    "data['status'].value_counts()"
   ]
  },
  {
   "cell_type": "code",
   "execution_count": 11,
   "metadata": {},
   "outputs": [
    {
     "data": {
      "text/plain": [
       "Timestamp('2010-01-17 00:00:00+0000', tz='UTC')"
      ]
     },
     "execution_count": 11,
     "metadata": {},
     "output_type": "execute_result"
    }
   ],
   "source": [
    "data['status_changed_at'] \n",
    "data['published_at'].min()"
   ]
  },
  {
   "cell_type": "code",
   "execution_count": 12,
   "metadata": {},
   "outputs": [
    {
     "data": {
      "text/plain": [
       "(286, 51)"
      ]
     },
     "execution_count": 12,
     "metadata": {},
     "output_type": "execute_result"
    }
   ],
   "source": [
    "data[data['status_changed_at'] <= '2021-01-01'].shape\n",
    "# Probably data quality issue.. should investigate or drop these records"
   ]
  },
  {
   "cell_type": "code",
   "execution_count": 13,
   "metadata": {},
   "outputs": [
    {
     "data": {
      "text/plain": [
       "(320, 51)"
      ]
     },
     "execution_count": 13,
     "metadata": {},
     "output_type": "execute_result"
    }
   ],
   "source": [
    "status_change = data[data['status_changed_at'] != data['published_at']]\n",
    "status_change.shape"
   ]
  },
  {
   "cell_type": "code",
   "execution_count": 14,
   "metadata": {
    "scrolled": true
   },
   "outputs": [
    {
     "data": {
      "text/html": [
       "<div>\n",
       "<style scoped>\n",
       "    .dataframe tbody tr th:only-of-type {\n",
       "        vertical-align: middle;\n",
       "    }\n",
       "\n",
       "    .dataframe tbody tr th {\n",
       "        vertical-align: top;\n",
       "    }\n",
       "\n",
       "    .dataframe thead th {\n",
       "        text-align: right;\n",
       "    }\n",
       "</style>\n",
       "<table border=\"1\" class=\"dataframe\">\n",
       "  <thead>\n",
       "    <tr style=\"text-align: right;\">\n",
       "      <th></th>\n",
       "      <th>id</th>\n",
       "      <th>organization_id</th>\n",
       "      <th>url</th>\n",
       "      <th>type</th>\n",
       "      <th>species</th>\n",
       "      <th>age</th>\n",
       "      <th>gender</th>\n",
       "      <th>size</th>\n",
       "      <th>coat</th>\n",
       "      <th>tags</th>\n",
       "      <th>name</th>\n",
       "      <th>description</th>\n",
       "      <th>organization_animal_id</th>\n",
       "      <th>photos</th>\n",
       "      <th>videos</th>\n",
       "      <th>status</th>\n",
       "      <th>status_changed_at</th>\n",
       "      <th>published_at</th>\n",
       "      <th>distance</th>\n",
       "      <th>breeds.primary</th>\n",
       "      <th>breeds.secondary</th>\n",
       "      <th>breeds.mixed</th>\n",
       "      <th>breeds.unknown</th>\n",
       "      <th>colors.primary</th>\n",
       "      <th>colors.secondary</th>\n",
       "      <th>colors.tertiary</th>\n",
       "      <th>attributes.spayed_neutered</th>\n",
       "      <th>attributes.house_trained</th>\n",
       "      <th>attributes.declawed</th>\n",
       "      <th>attributes.special_needs</th>\n",
       "      <th>attributes.shots_current</th>\n",
       "      <th>environment.children</th>\n",
       "      <th>environment.dogs</th>\n",
       "      <th>environment.cats</th>\n",
       "      <th>primary_photo_cropped.small</th>\n",
       "      <th>primary_photo_cropped.medium</th>\n",
       "      <th>primary_photo_cropped.large</th>\n",
       "      <th>primary_photo_cropped.full</th>\n",
       "      <th>contact.email</th>\n",
       "      <th>contact.phone</th>\n",
       "      <th>contact.address.address1</th>\n",
       "      <th>contact.address.address2</th>\n",
       "      <th>contact.address.city</th>\n",
       "      <th>contact.address.state</th>\n",
       "      <th>contact.address.postcode</th>\n",
       "      <th>contact.address.country</th>\n",
       "      <th>animal_id</th>\n",
       "      <th>animal_type</th>\n",
       "      <th>primary_photo_cropped</th>\n",
       "      <th>date_saved</th>\n",
       "      <th>org_name</th>\n",
       "    </tr>\n",
       "  </thead>\n",
       "  <tbody>\n",
       "    <tr>\n",
       "      <th>16948</th>\n",
       "      <td>53461770</td>\n",
       "      <td>NY1520</td>\n",
       "      <td>https://www.petfinder.com/dog/the-cheese-litter-53461770/ny/brooklyn/true-north-pet-rescue-mission-ny1520/?referrer_id=a0b0e7e5-a0ff-4872-86f9-c0328ab65a7c</td>\n",
       "      <td>Dog</td>\n",
       "      <td>Dog</td>\n",
       "      <td>Baby</td>\n",
       "      <td>Male</td>\n",
       "      <td>Medium</td>\n",
       "      <td>Medium</td>\n",
       "      <td>0       [Friendly, Playful, Smart, Curious, Affectionate]\\n1       [Friendly, Affectionate, Loyal, Gentle, Playfu...\\n2                                                      []\\n3                  ...</td>\n",
       "      <td>The Cheese litter</td>\n",
       "      <td>NOTE: There are 3 border collie mix pups in the Cheese litter still available for adoption. They are 7-8 weeks...</td>\n",
       "      <td>None</td>\n",
       "      <td>0       [{'small': 'https://dl5zpyw5k3jeb.cloudfront.n...\\n1       [{'small': 'https://dl5zpyw5k3jeb.cloudfront.n...\\n2       [{'small': 'https://dl5zpyw5k3jeb.cloudfront.n...\\n3       [{'small': ...</td>\n",
       "      <td>0                                                      []\\n1                                                      []\\n2       [{'embed': '&lt;iframe title=\"Video\" frameborder=...\\n3                  ...</td>\n",
       "      <td>adoptable</td>\n",
       "      <td>2021-11-04 10:14:01+00:00</td>\n",
       "      <td>2021-11-04 10:12:11+00:00</td>\n",
       "      <td>19.9039</td>\n",
       "      <td>Border Collie</td>\n",
       "      <td>None</td>\n",
       "      <td>1</td>\n",
       "      <td>0</td>\n",
       "      <td>Bicolor</td>\n",
       "      <td>None</td>\n",
       "      <td>None</td>\n",
       "      <td>1</td>\n",
       "      <td>0</td>\n",
       "      <td>None</td>\n",
       "      <td>0</td>\n",
       "      <td>0</td>\n",
       "      <td>NaN</td>\n",
       "      <td>NaN</td>\n",
       "      <td>NaN</td>\n",
       "      <td>https://dl5zpyw5k3jeb.cloudfront.net/photos/pets/53461770/1/?bust=1636020723&amp;width=300</td>\n",
       "      <td>https://dl5zpyw5k3jeb.cloudfront.net/photos/pets/53461770/1/?bust=1636020723&amp;width=450</td>\n",
       "      <td>https://dl5zpyw5k3jeb.cloudfront.net/photos/pets/53461770/1/?bust=1636020723&amp;width=600</td>\n",
       "      <td>https://dl5zpyw5k3jeb.cloudfront.net/photos/pets/53461770/1/?bust=1636020723</td>\n",
       "      <td>TrueNorthRescue@gmail.com</td>\n",
       "      <td>None</td>\n",
       "      <td>None</td>\n",
       "      <td>None</td>\n",
       "      <td>Brooklyn</td>\n",
       "      <td>NY</td>\n",
       "      <td>11229</td>\n",
       "      <td>US</td>\n",
       "      <td>53461770</td>\n",
       "      <td>dog</td>\n",
       "      <td>None</td>\n",
       "      <td>2021-11-07 00:00:00+00:00</td>\n",
       "      <td>True North Pet Rescue Mission</td>\n",
       "    </tr>\n",
       "    <tr>\n",
       "      <th>17094</th>\n",
       "      <td>53430508</td>\n",
       "      <td>NY1520</td>\n",
       "      <td>https://www.petfinder.com/dog/bono-53430508/ny/brooklyn/true-north-pet-rescue-mission-ny1520/?referrer_id=a0b0e7e5-a0ff-4872-86f9-c0328ab65a7c</td>\n",
       "      <td>Dog</td>\n",
       "      <td>Dog</td>\n",
       "      <td>Adult</td>\n",
       "      <td>Male</td>\n",
       "      <td>Small</td>\n",
       "      <td>Wire</td>\n",
       "      <td>0       [Friendly, Playful, Smart, Curious, Affectionate]\\n1       [Friendly, Affectionate, Loyal, Gentle, Playfu...\\n2                                                      []\\n3                  ...</td>\n",
       "      <td>Bono</td>\n",
       "      <td>Meet Bono! This terrier mix has just arrived from Texas and is settling into her foster home. This super sweet...</td>\n",
       "      <td>None</td>\n",
       "      <td>0       [{'small': 'https://dl5zpyw5k3jeb.cloudfront.n...\\n1       [{'small': 'https://dl5zpyw5k3jeb.cloudfront.n...\\n2       [{'small': 'https://dl5zpyw5k3jeb.cloudfront.n...\\n3       [{'small': ...</td>\n",
       "      <td>0                                                      []\\n1                                                      []\\n2       [{'embed': '&lt;iframe title=\"Video\" frameborder=...\\n3                  ...</td>\n",
       "      <td>adoptable</td>\n",
       "      <td>2021-11-01 19:09:59+00:00</td>\n",
       "      <td>2021-11-01 19:05:14+00:00</td>\n",
       "      <td>19.9039</td>\n",
       "      <td>Terrier</td>\n",
       "      <td>None</td>\n",
       "      <td>1</td>\n",
       "      <td>0</td>\n",
       "      <td>Apricot / Beige</td>\n",
       "      <td>Yellow / Tan / Blond / Fawn</td>\n",
       "      <td>White / Cream</td>\n",
       "      <td>1</td>\n",
       "      <td>1</td>\n",
       "      <td>None</td>\n",
       "      <td>0</td>\n",
       "      <td>1</td>\n",
       "      <td>NaN</td>\n",
       "      <td>NaN</td>\n",
       "      <td>NaN</td>\n",
       "      <td>https://dl5zpyw5k3jeb.cloudfront.net/photos/pets/53430508/1/?bust=1635773817&amp;width=300</td>\n",
       "      <td>https://dl5zpyw5k3jeb.cloudfront.net/photos/pets/53430508/1/?bust=1635773817&amp;width=450</td>\n",
       "      <td>https://dl5zpyw5k3jeb.cloudfront.net/photos/pets/53430508/1/?bust=1635773817&amp;width=600</td>\n",
       "      <td>https://dl5zpyw5k3jeb.cloudfront.net/photos/pets/53430508/1/?bust=1635773817</td>\n",
       "      <td>TrueNorthRescue@gmail.com</td>\n",
       "      <td>None</td>\n",
       "      <td>None</td>\n",
       "      <td>None</td>\n",
       "      <td>Brooklyn</td>\n",
       "      <td>NY</td>\n",
       "      <td>11229</td>\n",
       "      <td>US</td>\n",
       "      <td>53430508</td>\n",
       "      <td>dog</td>\n",
       "      <td>None</td>\n",
       "      <td>2021-11-07 00:00:00+00:00</td>\n",
       "      <td>True North Pet Rescue Mission</td>\n",
       "    </tr>\n",
       "    <tr>\n",
       "      <th>17113</th>\n",
       "      <td>53430554</td>\n",
       "      <td>NY1520</td>\n",
       "      <td>https://www.petfinder.com/dog/forrest-53430554/ny/brooklyn/true-north-pet-rescue-mission-ny1520/?referrer_id=a0b0e7e5-a0ff-4872-86f9-c0328ab65a7c</td>\n",
       "      <td>Dog</td>\n",
       "      <td>Dog</td>\n",
       "      <td>Senior</td>\n",
       "      <td>Male</td>\n",
       "      <td>Medium</td>\n",
       "      <td>Medium</td>\n",
       "      <td>0       [Friendly, Playful, Smart, Curious, Affectionate]\\n1       [Friendly, Affectionate, Loyal, Gentle, Playfu...\\n2                                                      []\\n3                  ...</td>\n",
       "      <td>Forrest</td>\n",
       "      <td>This handsome fella is Forrest, a lovable 8/9-year-old lab mix. Forrest is a rescue from Texas, where he likely gained...</td>\n",
       "      <td>None</td>\n",
       "      <td>0       [{'small': 'https://dl5zpyw5k3jeb.cloudfront.n...\\n1       [{'small': 'https://dl5zpyw5k3jeb.cloudfront.n...\\n2       [{'small': 'https://dl5zpyw5k3jeb.cloudfront.n...\\n3       [{'small': ...</td>\n",
       "      <td>0                                                      []\\n1                                                      []\\n2       [{'embed': '&lt;iframe title=\"Video\" frameborder=...\\n3                  ...</td>\n",
       "      <td>adoptable</td>\n",
       "      <td>2021-11-01 13:45:44+00:00</td>\n",
       "      <td>2021-11-01 13:45:15+00:00</td>\n",
       "      <td>19.9039</td>\n",
       "      <td>Labrador Retriever</td>\n",
       "      <td>None</td>\n",
       "      <td>0</td>\n",
       "      <td>0</td>\n",
       "      <td>Yellow / Tan / Blond / Fawn</td>\n",
       "      <td>None</td>\n",
       "      <td>None</td>\n",
       "      <td>1</td>\n",
       "      <td>1</td>\n",
       "      <td>None</td>\n",
       "      <td>0</td>\n",
       "      <td>1</td>\n",
       "      <td>1.0</td>\n",
       "      <td>1.0</td>\n",
       "      <td>NaN</td>\n",
       "      <td>https://dl5zpyw5k3jeb.cloudfront.net/photos/pets/53430554/1/?bust=1635774311&amp;width=300</td>\n",
       "      <td>https://dl5zpyw5k3jeb.cloudfront.net/photos/pets/53430554/1/?bust=1635774311&amp;width=450</td>\n",
       "      <td>https://dl5zpyw5k3jeb.cloudfront.net/photos/pets/53430554/1/?bust=1635774311&amp;width=600</td>\n",
       "      <td>https://dl5zpyw5k3jeb.cloudfront.net/photos/pets/53430554/1/?bust=1635774311</td>\n",
       "      <td>TrueNorthRescue@gmail.com</td>\n",
       "      <td>None</td>\n",
       "      <td>None</td>\n",
       "      <td>None</td>\n",
       "      <td>Brooklyn</td>\n",
       "      <td>NY</td>\n",
       "      <td>11229</td>\n",
       "      <td>US</td>\n",
       "      <td>53430554</td>\n",
       "      <td>dog</td>\n",
       "      <td>None</td>\n",
       "      <td>2021-11-07 00:00:00+00:00</td>\n",
       "      <td>True North Pet Rescue Mission</td>\n",
       "    </tr>\n",
       "    <tr>\n",
       "      <th>17114</th>\n",
       "      <td>53430470</td>\n",
       "      <td>NY939</td>\n",
       "      <td>https://www.petfinder.com/dog/baby-henny-star-super-urgt-star-needs-immed-foster-home-53430470/ny/brooklyn/tails-of-love-animal-rescue-inc-ny939/?referrer_id=a0b0e7e5-a0ff-4872-86f9-c0328ab65a7c</td>\n",
       "      <td>Dog</td>\n",
       "      <td>Dog</td>\n",
       "      <td>Baby</td>\n",
       "      <td>Male</td>\n",
       "      <td>Large</td>\n",
       "      <td>Short</td>\n",
       "      <td>0       [Friendly, Playful, Smart, Curious, Affectionate]\\n1       [Friendly, Affectionate, Loyal, Gentle, Playfu...\\n2                                                      []\\n3                  ...</td>\n",
       "      <td>Baby Henny - *SUPER URGT* NEEDS IMMED FOSTER HOME</td>\n",
       "      <td>My name is BABY HENNY and I&amp;#039;m a gorgeous Blond/White 9 mo M Amstaff/Hound X. I&amp;#039;m currently 40 lbs of...</td>\n",
       "      <td>None</td>\n",
       "      <td>0       [{'small': 'https://dl5zpyw5k3jeb.cloudfront.n...\\n1       [{'small': 'https://dl5zpyw5k3jeb.cloudfront.n...\\n2       [{'small': 'https://dl5zpyw5k3jeb.cloudfront.n...\\n3       [{'small': ...</td>\n",
       "      <td>0                                                      []\\n1                                                      []\\n2       [{'embed': '&lt;iframe title=\"Video\" frameborder=...\\n3                  ...</td>\n",
       "      <td>adoptable</td>\n",
       "      <td>2021-11-05 10:14:02+00:00</td>\n",
       "      <td>2021-11-01 13:23:50+00:00</td>\n",
       "      <td>14.0465</td>\n",
       "      <td>American Staffordshire Terrier</td>\n",
       "      <td>Hound</td>\n",
       "      <td>1</td>\n",
       "      <td>0</td>\n",
       "      <td>Apricot / Beige</td>\n",
       "      <td>White / Cream</td>\n",
       "      <td>None</td>\n",
       "      <td>1</td>\n",
       "      <td>0</td>\n",
       "      <td>None</td>\n",
       "      <td>0</td>\n",
       "      <td>1</td>\n",
       "      <td>1.0</td>\n",
       "      <td>1.0</td>\n",
       "      <td>NaN</td>\n",
       "      <td>https://dl5zpyw5k3jeb.cloudfront.net/photos/pets/53430470/1/?bust=1635773027&amp;width=300</td>\n",
       "      <td>https://dl5zpyw5k3jeb.cloudfront.net/photos/pets/53430470/1/?bust=1635773027&amp;width=450</td>\n",
       "      <td>https://dl5zpyw5k3jeb.cloudfront.net/photos/pets/53430470/1/?bust=1635773027&amp;width=600</td>\n",
       "      <td>https://dl5zpyw5k3jeb.cloudfront.net/photos/pets/53430470/1/?bust=1635773027</td>\n",
       "      <td>info@tailsofloverescue.org</td>\n",
       "      <td>None</td>\n",
       "      <td>None</td>\n",
       "      <td>None</td>\n",
       "      <td>Brooklyn</td>\n",
       "      <td>NY</td>\n",
       "      <td>11205</td>\n",
       "      <td>US</td>\n",
       "      <td>53430470</td>\n",
       "      <td>dog</td>\n",
       "      <td>None</td>\n",
       "      <td>2021-11-07 00:00:00+00:00</td>\n",
       "      <td>Tails of Love Animal Rescue, Inc.</td>\n",
       "    </tr>\n",
       "    <tr>\n",
       "      <th>17123</th>\n",
       "      <td>53427060</td>\n",
       "      <td>NY1191</td>\n",
       "      <td>https://www.petfinder.com/dog/zoey-53427060/ny/levittown/second-chance-animal-rescue-inc-ny1191/?referrer_id=a0b0e7e5-a0ff-4872-86f9-c0328ab65a7c</td>\n",
       "      <td>Dog</td>\n",
       "      <td>Dog</td>\n",
       "      <td>Young</td>\n",
       "      <td>Female</td>\n",
       "      <td>Small</td>\n",
       "      <td>Short</td>\n",
       "      <td>0       [Friendly, Playful, Smart, Curious, Affectionate]\\n1       [Friendly, Affectionate, Loyal, Gentle, Playfu...\\n2                                                      []\\n3                  ...</td>\n",
       "      <td>Zoey</td>\n",
       "      <td>Hi there. My name is Zoey. I am a 3-5 year old purebred Maltipoo. I am very friendly. Along with...</td>\n",
       "      <td>None</td>\n",
       "      <td>0       [{'small': 'https://dl5zpyw5k3jeb.cloudfront.n...\\n1       [{'small': 'https://dl5zpyw5k3jeb.cloudfront.n...\\n2       [{'small': 'https://dl5zpyw5k3jeb.cloudfront.n...\\n3       [{'small': ...</td>\n",
       "      <td>0                                                      []\\n1                                                      []\\n2       [{'embed': '&lt;iframe title=\"Video\" frameborder=...\\n3                  ...</td>\n",
       "      <td>adoptable</td>\n",
       "      <td>2021-11-07 02:02:48+00:00</td>\n",
       "      <td>2021-11-01 04:50:18+00:00</td>\n",
       "      <td>19.6067</td>\n",
       "      <td>Maltipoo</td>\n",
       "      <td>None</td>\n",
       "      <td>0</td>\n",
       "      <td>0</td>\n",
       "      <td>White / Cream</td>\n",
       "      <td>None</td>\n",
       "      <td>None</td>\n",
       "      <td>1</td>\n",
       "      <td>1</td>\n",
       "      <td>None</td>\n",
       "      <td>0</td>\n",
       "      <td>1</td>\n",
       "      <td>NaN</td>\n",
       "      <td>1.0</td>\n",
       "      <td>NaN</td>\n",
       "      <td>https://dl5zpyw5k3jeb.cloudfront.net/photos/pets/53427060/1/?bust=1635742217&amp;width=300</td>\n",
       "      <td>https://dl5zpyw5k3jeb.cloudfront.net/photos/pets/53427060/1/?bust=1635742217&amp;width=450</td>\n",
       "      <td>https://dl5zpyw5k3jeb.cloudfront.net/photos/pets/53427060/1/?bust=1635742217&amp;width=600</td>\n",
       "      <td>https://dl5zpyw5k3jeb.cloudfront.net/photos/pets/53427060/1/?bust=1635742217</td>\n",
       "      <td>info@scarny.org</td>\n",
       "      <td>None</td>\n",
       "      <td>None</td>\n",
       "      <td>None</td>\n",
       "      <td>Levittown</td>\n",
       "      <td>NY</td>\n",
       "      <td>11756</td>\n",
       "      <td>US</td>\n",
       "      <td>53427060</td>\n",
       "      <td>dog</td>\n",
       "      <td>None</td>\n",
       "      <td>2021-11-07 00:00:00+00:00</td>\n",
       "      <td>Second Chance Animal Rescue Inc.</td>\n",
       "    </tr>\n",
       "    <tr>\n",
       "      <th>...</th>\n",
       "      <td>...</td>\n",
       "      <td>...</td>\n",
       "      <td>...</td>\n",
       "      <td>...</td>\n",
       "      <td>...</td>\n",
       "      <td>...</td>\n",
       "      <td>...</td>\n",
       "      <td>...</td>\n",
       "      <td>...</td>\n",
       "      <td>...</td>\n",
       "      <td>...</td>\n",
       "      <td>...</td>\n",
       "      <td>...</td>\n",
       "      <td>...</td>\n",
       "      <td>...</td>\n",
       "      <td>...</td>\n",
       "      <td>...</td>\n",
       "      <td>...</td>\n",
       "      <td>...</td>\n",
       "      <td>...</td>\n",
       "      <td>...</td>\n",
       "      <td>...</td>\n",
       "      <td>...</td>\n",
       "      <td>...</td>\n",
       "      <td>...</td>\n",
       "      <td>...</td>\n",
       "      <td>...</td>\n",
       "      <td>...</td>\n",
       "      <td>...</td>\n",
       "      <td>...</td>\n",
       "      <td>...</td>\n",
       "      <td>...</td>\n",
       "      <td>...</td>\n",
       "      <td>...</td>\n",
       "      <td>...</td>\n",
       "      <td>...</td>\n",
       "      <td>...</td>\n",
       "      <td>...</td>\n",
       "      <td>...</td>\n",
       "      <td>...</td>\n",
       "      <td>...</td>\n",
       "      <td>...</td>\n",
       "      <td>...</td>\n",
       "      <td>...</td>\n",
       "      <td>...</td>\n",
       "      <td>...</td>\n",
       "      <td>...</td>\n",
       "      <td>...</td>\n",
       "      <td>...</td>\n",
       "      <td>...</td>\n",
       "      <td>...</td>\n",
       "    </tr>\n",
       "    <tr>\n",
       "      <th>19135</th>\n",
       "      <td>36206981</td>\n",
       "      <td>NY1292</td>\n",
       "      <td>https://www.petfinder.com/dog/mella-36206981/ny/far-rockaway/brat-rescue-inc-ny1292/?referrer_id=a0b0e7e5-a0ff-4872-86f9-c0328ab65a7c</td>\n",
       "      <td>Dog</td>\n",
       "      <td>Dog</td>\n",
       "      <td>Young</td>\n",
       "      <td>Male</td>\n",
       "      <td>Medium</td>\n",
       "      <td>None</td>\n",
       "      <td>0       [Friendly, Playful, Smart, Curious, Affectionate]\\n1       [Friendly, Affectionate, Loyal, Gentle, Playfu...\\n2                                                      []\\n3                  ...</td>\n",
       "      <td>Mella</td>\n",
       "      <td>Carmella is a great little girl.  She was running around the woods all by herself until we took her in....</td>\n",
       "      <td>None</td>\n",
       "      <td>0       [{'small': 'https://dl5zpyw5k3jeb.cloudfront.n...\\n1       [{'small': 'https://dl5zpyw5k3jeb.cloudfront.n...\\n2       [{'small': 'https://dl5zpyw5k3jeb.cloudfront.n...\\n3       [{'small': ...</td>\n",
       "      <td>0                                                      []\\n1                                                      []\\n2       [{'embed': '&lt;iframe title=\"Video\" frameborder=...\\n3                  ...</td>\n",
       "      <td>adoptable</td>\n",
       "      <td>2017-04-03 16:58:21+00:00</td>\n",
       "      <td>2016-09-12 19:24:32+00:00</td>\n",
       "      <td>18.9975</td>\n",
       "      <td>Pit Bull Terrier</td>\n",
       "      <td>None</td>\n",
       "      <td>0</td>\n",
       "      <td>0</td>\n",
       "      <td>None</td>\n",
       "      <td>None</td>\n",
       "      <td>None</td>\n",
       "      <td>1</td>\n",
       "      <td>1</td>\n",
       "      <td>None</td>\n",
       "      <td>0</td>\n",
       "      <td>1</td>\n",
       "      <td>NaN</td>\n",
       "      <td>NaN</td>\n",
       "      <td>NaN</td>\n",
       "      <td>https://dl5zpyw5k3jeb.cloudfront.net/photos/pets/36206981/1/?bust=1541561905&amp;width=300</td>\n",
       "      <td>https://dl5zpyw5k3jeb.cloudfront.net/photos/pets/36206981/1/?bust=1541561905&amp;width=450</td>\n",
       "      <td>https://dl5zpyw5k3jeb.cloudfront.net/photos/pets/36206981/1/?bust=1541561905&amp;width=600</td>\n",
       "      <td>https://dl5zpyw5k3jeb.cloudfront.net/photos/pets/36206981/1/?bust=1541561905</td>\n",
       "      <td>bratrescue@yahoo.com</td>\n",
       "      <td>None</td>\n",
       "      <td>None</td>\n",
       "      <td>None</td>\n",
       "      <td>Far Rockaway</td>\n",
       "      <td>NY</td>\n",
       "      <td>11691</td>\n",
       "      <td>US</td>\n",
       "      <td>36206981</td>\n",
       "      <td>dog</td>\n",
       "      <td>None</td>\n",
       "      <td>2021-11-07 00:00:00+00:00</td>\n",
       "      <td>None</td>\n",
       "    </tr>\n",
       "    <tr>\n",
       "      <th>19155</th>\n",
       "      <td>30758854</td>\n",
       "      <td>NY557</td>\n",
       "      <td>https://www.petfinder.com/dog/matt-30758854/ny/new-york/italian-greyhound-rescue-network-nyc-long-island-nj-eastern-pa-ny557/?referrer_id=a0b0e7e5-a0ff-4872-86f9-c0328ab65a7c</td>\n",
       "      <td>Dog</td>\n",
       "      <td>Dog</td>\n",
       "      <td>Senior</td>\n",
       "      <td>Male</td>\n",
       "      <td>Small</td>\n",
       "      <td>Short</td>\n",
       "      <td>0       [Friendly, Playful, Smart, Curious, Affectionate]\\n1       [Friendly, Affectionate, Loyal, Gentle, Playfu...\\n2                                                      []\\n3                  ...</td>\n",
       "      <td>Matt</td>\n",
       "      <td>Matt is a very sweet, well-behaved, loving senior Italian Greyhound. He is around 10 years old. He came in with...</td>\n",
       "      <td>None</td>\n",
       "      <td>0       [{'small': 'https://dl5zpyw5k3jeb.cloudfront.n...\\n1       [{'small': 'https://dl5zpyw5k3jeb.cloudfront.n...\\n2       [{'small': 'https://dl5zpyw5k3jeb.cloudfront.n...\\n3       [{'small': ...</td>\n",
       "      <td>0                                                      []\\n1                                                      []\\n2       [{'embed': '&lt;iframe title=\"Video\" frameborder=...\\n3                  ...</td>\n",
       "      <td>adoptable</td>\n",
       "      <td>2017-08-05 11:10:04+00:00</td>\n",
       "      <td>2014-11-08 18:47:21+00:00</td>\n",
       "      <td>12.8110</td>\n",
       "      <td>Italian Greyhound</td>\n",
       "      <td>None</td>\n",
       "      <td>0</td>\n",
       "      <td>0</td>\n",
       "      <td>Gray / Blue / Silver</td>\n",
       "      <td>White / Cream</td>\n",
       "      <td>None</td>\n",
       "      <td>1</td>\n",
       "      <td>0</td>\n",
       "      <td>None</td>\n",
       "      <td>0</td>\n",
       "      <td>1</td>\n",
       "      <td>NaN</td>\n",
       "      <td>NaN</td>\n",
       "      <td>NaN</td>\n",
       "      <td>https://dl5zpyw5k3jeb.cloudfront.net/photos/pets/30758854/1/?bust=1490874289&amp;width=300</td>\n",
       "      <td>https://dl5zpyw5k3jeb.cloudfront.net/photos/pets/30758854/1/?bust=1490874289&amp;width=450</td>\n",
       "      <td>https://dl5zpyw5k3jeb.cloudfront.net/photos/pets/30758854/1/?bust=1490874289&amp;width=600</td>\n",
       "      <td>https://dl5zpyw5k3jeb.cloudfront.net/photos/pets/30758854/1/?bust=1490874289</td>\n",
       "      <td>cityiggies@me.com</td>\n",
       "      <td>None</td>\n",
       "      <td>None</td>\n",
       "      <td>None</td>\n",
       "      <td>New York</td>\n",
       "      <td>NY</td>\n",
       "      <td>10003</td>\n",
       "      <td>US</td>\n",
       "      <td>30758854</td>\n",
       "      <td>dog</td>\n",
       "      <td>None</td>\n",
       "      <td>2021-11-07 00:00:00+00:00</td>\n",
       "      <td>None</td>\n",
       "    </tr>\n",
       "    <tr>\n",
       "      <th>19159</th>\n",
       "      <td>27249421</td>\n",
       "      <td>NY102</td>\n",
       "      <td>https://www.petfinder.com/dog/luke-27249421/ny/bayside/for-our-friends-inc-ny102/?referrer_id=a0b0e7e5-a0ff-4872-86f9-c0328ab65a7c</td>\n",
       "      <td>Dog</td>\n",
       "      <td>Dog</td>\n",
       "      <td>Senior</td>\n",
       "      <td>Male</td>\n",
       "      <td>Medium</td>\n",
       "      <td>Short</td>\n",
       "      <td>0       [Friendly, Playful, Smart, Curious, Affectionate]\\n1       [Friendly, Affectionate, Loyal, Gentle, Playfu...\\n2                                                      []\\n3                  ...</td>\n",
       "      <td>Luke</td>\n",
       "      <td>My name is Luke and I am a very handsome and loving 10 year-old Bull Terrier Mix.  I was found...</td>\n",
       "      <td>997</td>\n",
       "      <td>0       [{'small': 'https://dl5zpyw5k3jeb.cloudfront.n...\\n1       [{'small': 'https://dl5zpyw5k3jeb.cloudfront.n...\\n2       [{'small': 'https://dl5zpyw5k3jeb.cloudfront.n...\\n3       [{'small': ...</td>\n",
       "      <td>0                                                      []\\n1                                                      []\\n2       [{'embed': '&lt;iframe title=\"Video\" frameborder=...\\n3                  ...</td>\n",
       "      <td>adoptable</td>\n",
       "      <td>2021-08-09 04:14:35+00:00</td>\n",
       "      <td>2013-09-12 00:04:47+00:00</td>\n",
       "      <td>7.0267</td>\n",
       "      <td>Bull Terrier</td>\n",
       "      <td>Great Dane</td>\n",
       "      <td>1</td>\n",
       "      <td>0</td>\n",
       "      <td>White / Cream</td>\n",
       "      <td>Apricot / Beige</td>\n",
       "      <td>None</td>\n",
       "      <td>1</td>\n",
       "      <td>1</td>\n",
       "      <td>None</td>\n",
       "      <td>0</td>\n",
       "      <td>1</td>\n",
       "      <td>0.0</td>\n",
       "      <td>0.0</td>\n",
       "      <td>0.0</td>\n",
       "      <td>https://dl5zpyw5k3jeb.cloudfront.net/photos/pets/27249421/4/?bust=1498679095&amp;width=300</td>\n",
       "      <td>https://dl5zpyw5k3jeb.cloudfront.net/photos/pets/27249421/4/?bust=1498679095&amp;width=450</td>\n",
       "      <td>https://dl5zpyw5k3jeb.cloudfront.net/photos/pets/27249421/4/?bust=1498679095&amp;width=600</td>\n",
       "      <td>https://dl5zpyw5k3jeb.cloudfront.net/photos/pets/27249421/4/?bust=1498679095</td>\n",
       "      <td>fofdogrescue@yahoo.com</td>\n",
       "      <td>718-595-2161</td>\n",
       "      <td>P.O. Box 203</td>\n",
       "      <td>None</td>\n",
       "      <td>Bayside</td>\n",
       "      <td>NY</td>\n",
       "      <td>11364</td>\n",
       "      <td>US</td>\n",
       "      <td>27249421</td>\n",
       "      <td>dog</td>\n",
       "      <td>None</td>\n",
       "      <td>2021-11-07 00:00:00+00:00</td>\n",
       "      <td>None</td>\n",
       "    </tr>\n",
       "    <tr>\n",
       "      <th>19162</th>\n",
       "      <td>25009612</td>\n",
       "      <td>NY955</td>\n",
       "      <td>https://www.petfinder.com/dog/franklin-25009612/ny/glen-cove/project-pet-inc-ny955/?referrer_id=a0b0e7e5-a0ff-4872-86f9-c0328ab65a7c</td>\n",
       "      <td>Dog</td>\n",
       "      <td>Dog</td>\n",
       "      <td>Senior</td>\n",
       "      <td>Male</td>\n",
       "      <td>Medium</td>\n",
       "      <td>Short</td>\n",
       "      <td>0       [Friendly, Playful, Smart, Curious, Affectionate]\\n1       [Friendly, Affectionate, Loyal, Gentle, Playfu...\\n2                                                      []\\n3                  ...</td>\n",
       "      <td>Franklin</td>\n",
       "      <td>PLEASE EMAIL: mbwambwa@icloud.com\\nDIRECTLY TO FIND OUT HOW TO MEET THIS CUTIE!\\n\\nThis 8 year-old love muffin is summed up...</td>\n",
       "      <td>None</td>\n",
       "      <td>0       [{'small': 'https://dl5zpyw5k3jeb.cloudfront.n...\\n1       [{'small': 'https://dl5zpyw5k3jeb.cloudfront.n...\\n2       [{'small': 'https://dl5zpyw5k3jeb.cloudfront.n...\\n3       [{'small': ...</td>\n",
       "      <td>0                                                      []\\n1                                                      []\\n2       [{'embed': '&lt;iframe title=\"Video\" frameborder=...\\n3                  ...</td>\n",
       "      <td>adoptable</td>\n",
       "      <td>2014-09-29 20:37:01+00:00</td>\n",
       "      <td>2013-01-01 16:05:32+00:00</td>\n",
       "      <td>10.6483</td>\n",
       "      <td>Terrier</td>\n",
       "      <td>None</td>\n",
       "      <td>1</td>\n",
       "      <td>0</td>\n",
       "      <td>Yellow / Tan / Blond / Fawn</td>\n",
       "      <td>White / Cream</td>\n",
       "      <td>None</td>\n",
       "      <td>1</td>\n",
       "      <td>1</td>\n",
       "      <td>None</td>\n",
       "      <td>0</td>\n",
       "      <td>1</td>\n",
       "      <td>NaN</td>\n",
       "      <td>1.0</td>\n",
       "      <td>NaN</td>\n",
       "      <td>https://dl5zpyw5k3jeb.cloudfront.net/photos/pets/25009612/4/?bust=1533002011&amp;width=300</td>\n",
       "      <td>https://dl5zpyw5k3jeb.cloudfront.net/photos/pets/25009612/4/?bust=1533002011&amp;width=450</td>\n",
       "      <td>https://dl5zpyw5k3jeb.cloudfront.net/photos/pets/25009612/4/?bust=1533002011&amp;width=600</td>\n",
       "      <td>https://dl5zpyw5k3jeb.cloudfront.net/photos/pets/25009612/4/?bust=1533002011</td>\n",
       "      <td>friends@projectpetinc.org</td>\n",
       "      <td>None</td>\n",
       "      <td>None</td>\n",
       "      <td>None</td>\n",
       "      <td>Glen Cove</td>\n",
       "      <td>NY</td>\n",
       "      <td>11542</td>\n",
       "      <td>US</td>\n",
       "      <td>25009612</td>\n",
       "      <td>dog</td>\n",
       "      <td>None</td>\n",
       "      <td>2021-11-07 00:00:00+00:00</td>\n",
       "      <td>None</td>\n",
       "    </tr>\n",
       "    <tr>\n",
       "      <th>19163</th>\n",
       "      <td>15546918</td>\n",
       "      <td>NY769</td>\n",
       "      <td>https://www.petfinder.com/dog/buddy-15546918/ny/glen-head/shepherds-hope-rescue-ny769/?referrer_id=a0b0e7e5-a0ff-4872-86f9-c0328ab65a7c</td>\n",
       "      <td>Dog</td>\n",
       "      <td>Dog</td>\n",
       "      <td>Young</td>\n",
       "      <td>Male</td>\n",
       "      <td>Medium</td>\n",
       "      <td>None</td>\n",
       "      <td>0       [Friendly, Playful, Smart, Curious, Affectionate]\\n1       [Friendly, Affectionate, Loyal, Gentle, Playfu...\\n2                                                      []\\n3                  ...</td>\n",
       "      <td>Buddy</td>\n",
       "      <td>Here&amp;#039;s Buddy, an adorable 8 year old Shepherd mix.  He was adopted from one of the city shelters to an...</td>\n",
       "      <td>825418</td>\n",
       "      <td>0       [{'small': 'https://dl5zpyw5k3jeb.cloudfront.n...\\n1       [{'small': 'https://dl5zpyw5k3jeb.cloudfront.n...\\n2       [{'small': 'https://dl5zpyw5k3jeb.cloudfront.n...\\n3       [{'small': ...</td>\n",
       "      <td>0                                                      []\\n1                                                      []\\n2       [{'embed': '&lt;iframe title=\"Video\" frameborder=...\\n3                  ...</td>\n",
       "      <td>adoptable</td>\n",
       "      <td>2010-01-17 20:48:17+00:00</td>\n",
       "      <td>2010-01-17 00:00:00+00:00</td>\n",
       "      <td>10.9750</td>\n",
       "      <td>Shepherd</td>\n",
       "      <td>None</td>\n",
       "      <td>1</td>\n",
       "      <td>0</td>\n",
       "      <td>None</td>\n",
       "      <td>None</td>\n",
       "      <td>None</td>\n",
       "      <td>1</td>\n",
       "      <td>1</td>\n",
       "      <td>None</td>\n",
       "      <td>0</td>\n",
       "      <td>1</td>\n",
       "      <td>0.0</td>\n",
       "      <td>0.0</td>\n",
       "      <td>0.0</td>\n",
       "      <td>https://dl5zpyw5k3jeb.cloudfront.net/photos/pets/15546918/3/?bust=1452873122&amp;width=300</td>\n",
       "      <td>https://dl5zpyw5k3jeb.cloudfront.net/photos/pets/15546918/3/?bust=1452873122&amp;width=450</td>\n",
       "      <td>https://dl5zpyw5k3jeb.cloudfront.net/photos/pets/15546918/3/?bust=1452873122&amp;width=600</td>\n",
       "      <td>https://dl5zpyw5k3jeb.cloudfront.net/photos/pets/15546918/3/?bust=1452873122</td>\n",
       "      <td>toomanyshepherds@aol.com</td>\n",
       "      <td>None</td>\n",
       "      <td>None</td>\n",
       "      <td>None</td>\n",
       "      <td>Glen Head</td>\n",
       "      <td>NY</td>\n",
       "      <td>11545</td>\n",
       "      <td>US</td>\n",
       "      <td>15546918</td>\n",
       "      <td>dog</td>\n",
       "      <td>None</td>\n",
       "      <td>2021-11-07 00:00:00+00:00</td>\n",
       "      <td>None</td>\n",
       "    </tr>\n",
       "  </tbody>\n",
       "</table>\n",
       "<p>320 rows × 51 columns</p>\n",
       "</div>"
      ],
      "text/plain": [
       "             id organization_id  \\\n",
       "16948  53461770          NY1520   \n",
       "17094  53430508          NY1520   \n",
       "17113  53430554          NY1520   \n",
       "17114  53430470           NY939   \n",
       "17123  53427060          NY1191   \n",
       "...         ...             ...   \n",
       "19135  36206981          NY1292   \n",
       "19155  30758854           NY557   \n",
       "19159  27249421           NY102   \n",
       "19162  25009612           NY955   \n",
       "19163  15546918           NY769   \n",
       "\n",
       "                                                                                                                                                                                                      url  \\\n",
       "16948                                         https://www.petfinder.com/dog/the-cheese-litter-53461770/ny/brooklyn/true-north-pet-rescue-mission-ny1520/?referrer_id=a0b0e7e5-a0ff-4872-86f9-c0328ab65a7c   \n",
       "17094                                                      https://www.petfinder.com/dog/bono-53430508/ny/brooklyn/true-north-pet-rescue-mission-ny1520/?referrer_id=a0b0e7e5-a0ff-4872-86f9-c0328ab65a7c   \n",
       "17113                                                   https://www.petfinder.com/dog/forrest-53430554/ny/brooklyn/true-north-pet-rescue-mission-ny1520/?referrer_id=a0b0e7e5-a0ff-4872-86f9-c0328ab65a7c   \n",
       "17114  https://www.petfinder.com/dog/baby-henny-star-super-urgt-star-needs-immed-foster-home-53430470/ny/brooklyn/tails-of-love-animal-rescue-inc-ny939/?referrer_id=a0b0e7e5-a0ff-4872-86f9-c0328ab65a7c   \n",
       "17123                                                   https://www.petfinder.com/dog/zoey-53427060/ny/levittown/second-chance-animal-rescue-inc-ny1191/?referrer_id=a0b0e7e5-a0ff-4872-86f9-c0328ab65a7c   \n",
       "...                                                                                                                                                                                                   ...   \n",
       "19135                                                               https://www.petfinder.com/dog/mella-36206981/ny/far-rockaway/brat-rescue-inc-ny1292/?referrer_id=a0b0e7e5-a0ff-4872-86f9-c0328ab65a7c   \n",
       "19155                      https://www.petfinder.com/dog/matt-30758854/ny/new-york/italian-greyhound-rescue-network-nyc-long-island-nj-eastern-pa-ny557/?referrer_id=a0b0e7e5-a0ff-4872-86f9-c0328ab65a7c   \n",
       "19159                                                                  https://www.petfinder.com/dog/luke-27249421/ny/bayside/for-our-friends-inc-ny102/?referrer_id=a0b0e7e5-a0ff-4872-86f9-c0328ab65a7c   \n",
       "19162                                                                https://www.petfinder.com/dog/franklin-25009612/ny/glen-cove/project-pet-inc-ny955/?referrer_id=a0b0e7e5-a0ff-4872-86f9-c0328ab65a7c   \n",
       "19163                                                             https://www.petfinder.com/dog/buddy-15546918/ny/glen-head/shepherds-hope-rescue-ny769/?referrer_id=a0b0e7e5-a0ff-4872-86f9-c0328ab65a7c   \n",
       "\n",
       "      type species     age  gender    size    coat  \\\n",
       "16948  Dog     Dog    Baby    Male  Medium  Medium   \n",
       "17094  Dog     Dog   Adult    Male   Small    Wire   \n",
       "17113  Dog     Dog  Senior    Male  Medium  Medium   \n",
       "17114  Dog     Dog    Baby    Male   Large   Short   \n",
       "17123  Dog     Dog   Young  Female   Small   Short   \n",
       "...    ...     ...     ...     ...     ...     ...   \n",
       "19135  Dog     Dog   Young    Male  Medium    None   \n",
       "19155  Dog     Dog  Senior    Male   Small   Short   \n",
       "19159  Dog     Dog  Senior    Male  Medium   Short   \n",
       "19162  Dog     Dog  Senior    Male  Medium   Short   \n",
       "19163  Dog     Dog   Young    Male  Medium    None   \n",
       "\n",
       "                                                                                                                                                                                                          tags  \\\n",
       "16948  0       [Friendly, Playful, Smart, Curious, Affectionate]\\n1       [Friendly, Affectionate, Loyal, Gentle, Playfu...\\n2                                                      []\\n3                  ...   \n",
       "17094  0       [Friendly, Playful, Smart, Curious, Affectionate]\\n1       [Friendly, Affectionate, Loyal, Gentle, Playfu...\\n2                                                      []\\n3                  ...   \n",
       "17113  0       [Friendly, Playful, Smart, Curious, Affectionate]\\n1       [Friendly, Affectionate, Loyal, Gentle, Playfu...\\n2                                                      []\\n3                  ...   \n",
       "17114  0       [Friendly, Playful, Smart, Curious, Affectionate]\\n1       [Friendly, Affectionate, Loyal, Gentle, Playfu...\\n2                                                      []\\n3                  ...   \n",
       "17123  0       [Friendly, Playful, Smart, Curious, Affectionate]\\n1       [Friendly, Affectionate, Loyal, Gentle, Playfu...\\n2                                                      []\\n3                  ...   \n",
       "...                                                                                                                                                                                                        ...   \n",
       "19135  0       [Friendly, Playful, Smart, Curious, Affectionate]\\n1       [Friendly, Affectionate, Loyal, Gentle, Playfu...\\n2                                                      []\\n3                  ...   \n",
       "19155  0       [Friendly, Playful, Smart, Curious, Affectionate]\\n1       [Friendly, Affectionate, Loyal, Gentle, Playfu...\\n2                                                      []\\n3                  ...   \n",
       "19159  0       [Friendly, Playful, Smart, Curious, Affectionate]\\n1       [Friendly, Affectionate, Loyal, Gentle, Playfu...\\n2                                                      []\\n3                  ...   \n",
       "19162  0       [Friendly, Playful, Smart, Curious, Affectionate]\\n1       [Friendly, Affectionate, Loyal, Gentle, Playfu...\\n2                                                      []\\n3                  ...   \n",
       "19163  0       [Friendly, Playful, Smart, Curious, Affectionate]\\n1       [Friendly, Affectionate, Loyal, Gentle, Playfu...\\n2                                                      []\\n3                  ...   \n",
       "\n",
       "                                                    name  \\\n",
       "16948                                  The Cheese litter   \n",
       "17094                                               Bono   \n",
       "17113                                            Forrest   \n",
       "17114  Baby Henny - *SUPER URGT* NEEDS IMMED FOSTER HOME   \n",
       "17123                                               Zoey   \n",
       "...                                                  ...   \n",
       "19135                                              Mella   \n",
       "19155                                               Matt   \n",
       "19159                                               Luke   \n",
       "19162                                           Franklin   \n",
       "19163                                              Buddy   \n",
       "\n",
       "                                                                                                                          description  \\\n",
       "16948               NOTE: There are 3 border collie mix pups in the Cheese litter still available for adoption. They are 7-8 weeks...   \n",
       "17094               Meet Bono! This terrier mix has just arrived from Texas and is settling into her foster home. This super sweet...   \n",
       "17113       This handsome fella is Forrest, a lovable 8/9-year-old lab mix. Forrest is a rescue from Texas, where he likely gained...   \n",
       "17114               My name is BABY HENNY and I&#039;m a gorgeous Blond/White 9 mo M Amstaff/Hound X. I&#039;m currently 40 lbs of...   \n",
       "17123                             Hi there. My name is Zoey. I am a 3-5 year old purebred Maltipoo. I am very friendly. Along with...   \n",
       "...                                                                                                                               ...   \n",
       "19135                      Carmella is a great little girl.  She was running around the woods all by herself until we took her in....   \n",
       "19155              Matt is a very sweet, well-behaved, loving senior Italian Greyhound. He is around 10 years old. He came in with...   \n",
       "19159                               My name is Luke and I am a very handsome and loving 10 year-old Bull Terrier Mix.  I was found...   \n",
       "19162  PLEASE EMAIL: mbwambwa@icloud.com\\nDIRECTLY TO FIND OUT HOW TO MEET THIS CUTIE!\\n\\nThis 8 year-old love muffin is summed up...   \n",
       "19163                  Here&#039;s Buddy, an adorable 8 year old Shepherd mix.  He was adopted from one of the city shelters to an...   \n",
       "\n",
       "      organization_animal_id  \\\n",
       "16948                   None   \n",
       "17094                   None   \n",
       "17113                   None   \n",
       "17114                   None   \n",
       "17123                   None   \n",
       "...                      ...   \n",
       "19135                   None   \n",
       "19155                   None   \n",
       "19159                    997   \n",
       "19162                   None   \n",
       "19163                 825418   \n",
       "\n",
       "                                                                                                                                                                                                        photos  \\\n",
       "16948  0       [{'small': 'https://dl5zpyw5k3jeb.cloudfront.n...\\n1       [{'small': 'https://dl5zpyw5k3jeb.cloudfront.n...\\n2       [{'small': 'https://dl5zpyw5k3jeb.cloudfront.n...\\n3       [{'small': ...   \n",
       "17094  0       [{'small': 'https://dl5zpyw5k3jeb.cloudfront.n...\\n1       [{'small': 'https://dl5zpyw5k3jeb.cloudfront.n...\\n2       [{'small': 'https://dl5zpyw5k3jeb.cloudfront.n...\\n3       [{'small': ...   \n",
       "17113  0       [{'small': 'https://dl5zpyw5k3jeb.cloudfront.n...\\n1       [{'small': 'https://dl5zpyw5k3jeb.cloudfront.n...\\n2       [{'small': 'https://dl5zpyw5k3jeb.cloudfront.n...\\n3       [{'small': ...   \n",
       "17114  0       [{'small': 'https://dl5zpyw5k3jeb.cloudfront.n...\\n1       [{'small': 'https://dl5zpyw5k3jeb.cloudfront.n...\\n2       [{'small': 'https://dl5zpyw5k3jeb.cloudfront.n...\\n3       [{'small': ...   \n",
       "17123  0       [{'small': 'https://dl5zpyw5k3jeb.cloudfront.n...\\n1       [{'small': 'https://dl5zpyw5k3jeb.cloudfront.n...\\n2       [{'small': 'https://dl5zpyw5k3jeb.cloudfront.n...\\n3       [{'small': ...   \n",
       "...                                                                                                                                                                                                        ...   \n",
       "19135  0       [{'small': 'https://dl5zpyw5k3jeb.cloudfront.n...\\n1       [{'small': 'https://dl5zpyw5k3jeb.cloudfront.n...\\n2       [{'small': 'https://dl5zpyw5k3jeb.cloudfront.n...\\n3       [{'small': ...   \n",
       "19155  0       [{'small': 'https://dl5zpyw5k3jeb.cloudfront.n...\\n1       [{'small': 'https://dl5zpyw5k3jeb.cloudfront.n...\\n2       [{'small': 'https://dl5zpyw5k3jeb.cloudfront.n...\\n3       [{'small': ...   \n",
       "19159  0       [{'small': 'https://dl5zpyw5k3jeb.cloudfront.n...\\n1       [{'small': 'https://dl5zpyw5k3jeb.cloudfront.n...\\n2       [{'small': 'https://dl5zpyw5k3jeb.cloudfront.n...\\n3       [{'small': ...   \n",
       "19162  0       [{'small': 'https://dl5zpyw5k3jeb.cloudfront.n...\\n1       [{'small': 'https://dl5zpyw5k3jeb.cloudfront.n...\\n2       [{'small': 'https://dl5zpyw5k3jeb.cloudfront.n...\\n3       [{'small': ...   \n",
       "19163  0       [{'small': 'https://dl5zpyw5k3jeb.cloudfront.n...\\n1       [{'small': 'https://dl5zpyw5k3jeb.cloudfront.n...\\n2       [{'small': 'https://dl5zpyw5k3jeb.cloudfront.n...\\n3       [{'small': ...   \n",
       "\n",
       "                                                                                                                                                                                                        videos  \\\n",
       "16948  0                                                      []\\n1                                                      []\\n2       [{'embed': '<iframe title=\"Video\" frameborder=...\\n3                  ...   \n",
       "17094  0                                                      []\\n1                                                      []\\n2       [{'embed': '<iframe title=\"Video\" frameborder=...\\n3                  ...   \n",
       "17113  0                                                      []\\n1                                                      []\\n2       [{'embed': '<iframe title=\"Video\" frameborder=...\\n3                  ...   \n",
       "17114  0                                                      []\\n1                                                      []\\n2       [{'embed': '<iframe title=\"Video\" frameborder=...\\n3                  ...   \n",
       "17123  0                                                      []\\n1                                                      []\\n2       [{'embed': '<iframe title=\"Video\" frameborder=...\\n3                  ...   \n",
       "...                                                                                                                                                                                                        ...   \n",
       "19135  0                                                      []\\n1                                                      []\\n2       [{'embed': '<iframe title=\"Video\" frameborder=...\\n3                  ...   \n",
       "19155  0                                                      []\\n1                                                      []\\n2       [{'embed': '<iframe title=\"Video\" frameborder=...\\n3                  ...   \n",
       "19159  0                                                      []\\n1                                                      []\\n2       [{'embed': '<iframe title=\"Video\" frameborder=...\\n3                  ...   \n",
       "19162  0                                                      []\\n1                                                      []\\n2       [{'embed': '<iframe title=\"Video\" frameborder=...\\n3                  ...   \n",
       "19163  0                                                      []\\n1                                                      []\\n2       [{'embed': '<iframe title=\"Video\" frameborder=...\\n3                  ...   \n",
       "\n",
       "          status         status_changed_at              published_at  \\\n",
       "16948  adoptable 2021-11-04 10:14:01+00:00 2021-11-04 10:12:11+00:00   \n",
       "17094  adoptable 2021-11-01 19:09:59+00:00 2021-11-01 19:05:14+00:00   \n",
       "17113  adoptable 2021-11-01 13:45:44+00:00 2021-11-01 13:45:15+00:00   \n",
       "17114  adoptable 2021-11-05 10:14:02+00:00 2021-11-01 13:23:50+00:00   \n",
       "17123  adoptable 2021-11-07 02:02:48+00:00 2021-11-01 04:50:18+00:00   \n",
       "...          ...                       ...                       ...   \n",
       "19135  adoptable 2017-04-03 16:58:21+00:00 2016-09-12 19:24:32+00:00   \n",
       "19155  adoptable 2017-08-05 11:10:04+00:00 2014-11-08 18:47:21+00:00   \n",
       "19159  adoptable 2021-08-09 04:14:35+00:00 2013-09-12 00:04:47+00:00   \n",
       "19162  adoptable 2014-09-29 20:37:01+00:00 2013-01-01 16:05:32+00:00   \n",
       "19163  adoptable 2010-01-17 20:48:17+00:00 2010-01-17 00:00:00+00:00   \n",
       "\n",
       "       distance                  breeds.primary breeds.secondary  \\\n",
       "16948   19.9039                   Border Collie             None   \n",
       "17094   19.9039                         Terrier             None   \n",
       "17113   19.9039              Labrador Retriever             None   \n",
       "17114   14.0465  American Staffordshire Terrier            Hound   \n",
       "17123   19.6067                        Maltipoo             None   \n",
       "...         ...                             ...              ...   \n",
       "19135   18.9975                Pit Bull Terrier             None   \n",
       "19155   12.8110               Italian Greyhound             None   \n",
       "19159    7.0267                    Bull Terrier       Great Dane   \n",
       "19162   10.6483                         Terrier             None   \n",
       "19163   10.9750                        Shepherd             None   \n",
       "\n",
       "       breeds.mixed  breeds.unknown               colors.primary  \\\n",
       "16948             1               0                      Bicolor   \n",
       "17094             1               0              Apricot / Beige   \n",
       "17113             0               0  Yellow / Tan / Blond / Fawn   \n",
       "17114             1               0              Apricot / Beige   \n",
       "17123             0               0                White / Cream   \n",
       "...             ...             ...                          ...   \n",
       "19135             0               0                         None   \n",
       "19155             0               0         Gray / Blue / Silver   \n",
       "19159             1               0                White / Cream   \n",
       "19162             1               0  Yellow / Tan / Blond / Fawn   \n",
       "19163             1               0                         None   \n",
       "\n",
       "                  colors.secondary colors.tertiary  \\\n",
       "16948                         None            None   \n",
       "17094  Yellow / Tan / Blond / Fawn   White / Cream   \n",
       "17113                         None            None   \n",
       "17114                White / Cream            None   \n",
       "17123                         None            None   \n",
       "...                            ...             ...   \n",
       "19135                         None            None   \n",
       "19155                White / Cream            None   \n",
       "19159              Apricot / Beige            None   \n",
       "19162                White / Cream            None   \n",
       "19163                         None            None   \n",
       "\n",
       "       attributes.spayed_neutered  attributes.house_trained  \\\n",
       "16948                           1                         0   \n",
       "17094                           1                         1   \n",
       "17113                           1                         1   \n",
       "17114                           1                         0   \n",
       "17123                           1                         1   \n",
       "...                           ...                       ...   \n",
       "19135                           1                         1   \n",
       "19155                           1                         0   \n",
       "19159                           1                         1   \n",
       "19162                           1                         1   \n",
       "19163                           1                         1   \n",
       "\n",
       "      attributes.declawed  attributes.special_needs  attributes.shots_current  \\\n",
       "16948                None                         0                         0   \n",
       "17094                None                         0                         1   \n",
       "17113                None                         0                         1   \n",
       "17114                None                         0                         1   \n",
       "17123                None                         0                         1   \n",
       "...                   ...                       ...                       ...   \n",
       "19135                None                         0                         1   \n",
       "19155                None                         0                         1   \n",
       "19159                None                         0                         1   \n",
       "19162                None                         0                         1   \n",
       "19163                None                         0                         1   \n",
       "\n",
       "       environment.children  environment.dogs  environment.cats  \\\n",
       "16948                   NaN               NaN               NaN   \n",
       "17094                   NaN               NaN               NaN   \n",
       "17113                   1.0               1.0               NaN   \n",
       "17114                   1.0               1.0               NaN   \n",
       "17123                   NaN               1.0               NaN   \n",
       "...                     ...               ...               ...   \n",
       "19135                   NaN               NaN               NaN   \n",
       "19155                   NaN               NaN               NaN   \n",
       "19159                   0.0               0.0               0.0   \n",
       "19162                   NaN               1.0               NaN   \n",
       "19163                   0.0               0.0               0.0   \n",
       "\n",
       "                                                                  primary_photo_cropped.small  \\\n",
       "16948  https://dl5zpyw5k3jeb.cloudfront.net/photos/pets/53461770/1/?bust=1636020723&width=300   \n",
       "17094  https://dl5zpyw5k3jeb.cloudfront.net/photos/pets/53430508/1/?bust=1635773817&width=300   \n",
       "17113  https://dl5zpyw5k3jeb.cloudfront.net/photos/pets/53430554/1/?bust=1635774311&width=300   \n",
       "17114  https://dl5zpyw5k3jeb.cloudfront.net/photos/pets/53430470/1/?bust=1635773027&width=300   \n",
       "17123  https://dl5zpyw5k3jeb.cloudfront.net/photos/pets/53427060/1/?bust=1635742217&width=300   \n",
       "...                                                                                       ...   \n",
       "19135  https://dl5zpyw5k3jeb.cloudfront.net/photos/pets/36206981/1/?bust=1541561905&width=300   \n",
       "19155  https://dl5zpyw5k3jeb.cloudfront.net/photos/pets/30758854/1/?bust=1490874289&width=300   \n",
       "19159  https://dl5zpyw5k3jeb.cloudfront.net/photos/pets/27249421/4/?bust=1498679095&width=300   \n",
       "19162  https://dl5zpyw5k3jeb.cloudfront.net/photos/pets/25009612/4/?bust=1533002011&width=300   \n",
       "19163  https://dl5zpyw5k3jeb.cloudfront.net/photos/pets/15546918/3/?bust=1452873122&width=300   \n",
       "\n",
       "                                                                 primary_photo_cropped.medium  \\\n",
       "16948  https://dl5zpyw5k3jeb.cloudfront.net/photos/pets/53461770/1/?bust=1636020723&width=450   \n",
       "17094  https://dl5zpyw5k3jeb.cloudfront.net/photos/pets/53430508/1/?bust=1635773817&width=450   \n",
       "17113  https://dl5zpyw5k3jeb.cloudfront.net/photos/pets/53430554/1/?bust=1635774311&width=450   \n",
       "17114  https://dl5zpyw5k3jeb.cloudfront.net/photos/pets/53430470/1/?bust=1635773027&width=450   \n",
       "17123  https://dl5zpyw5k3jeb.cloudfront.net/photos/pets/53427060/1/?bust=1635742217&width=450   \n",
       "...                                                                                       ...   \n",
       "19135  https://dl5zpyw5k3jeb.cloudfront.net/photos/pets/36206981/1/?bust=1541561905&width=450   \n",
       "19155  https://dl5zpyw5k3jeb.cloudfront.net/photos/pets/30758854/1/?bust=1490874289&width=450   \n",
       "19159  https://dl5zpyw5k3jeb.cloudfront.net/photos/pets/27249421/4/?bust=1498679095&width=450   \n",
       "19162  https://dl5zpyw5k3jeb.cloudfront.net/photos/pets/25009612/4/?bust=1533002011&width=450   \n",
       "19163  https://dl5zpyw5k3jeb.cloudfront.net/photos/pets/15546918/3/?bust=1452873122&width=450   \n",
       "\n",
       "                                                                  primary_photo_cropped.large  \\\n",
       "16948  https://dl5zpyw5k3jeb.cloudfront.net/photos/pets/53461770/1/?bust=1636020723&width=600   \n",
       "17094  https://dl5zpyw5k3jeb.cloudfront.net/photos/pets/53430508/1/?bust=1635773817&width=600   \n",
       "17113  https://dl5zpyw5k3jeb.cloudfront.net/photos/pets/53430554/1/?bust=1635774311&width=600   \n",
       "17114  https://dl5zpyw5k3jeb.cloudfront.net/photos/pets/53430470/1/?bust=1635773027&width=600   \n",
       "17123  https://dl5zpyw5k3jeb.cloudfront.net/photos/pets/53427060/1/?bust=1635742217&width=600   \n",
       "...                                                                                       ...   \n",
       "19135  https://dl5zpyw5k3jeb.cloudfront.net/photos/pets/36206981/1/?bust=1541561905&width=600   \n",
       "19155  https://dl5zpyw5k3jeb.cloudfront.net/photos/pets/30758854/1/?bust=1490874289&width=600   \n",
       "19159  https://dl5zpyw5k3jeb.cloudfront.net/photos/pets/27249421/4/?bust=1498679095&width=600   \n",
       "19162  https://dl5zpyw5k3jeb.cloudfront.net/photos/pets/25009612/4/?bust=1533002011&width=600   \n",
       "19163  https://dl5zpyw5k3jeb.cloudfront.net/photos/pets/15546918/3/?bust=1452873122&width=600   \n",
       "\n",
       "                                                         primary_photo_cropped.full  \\\n",
       "16948  https://dl5zpyw5k3jeb.cloudfront.net/photos/pets/53461770/1/?bust=1636020723   \n",
       "17094  https://dl5zpyw5k3jeb.cloudfront.net/photos/pets/53430508/1/?bust=1635773817   \n",
       "17113  https://dl5zpyw5k3jeb.cloudfront.net/photos/pets/53430554/1/?bust=1635774311   \n",
       "17114  https://dl5zpyw5k3jeb.cloudfront.net/photos/pets/53430470/1/?bust=1635773027   \n",
       "17123  https://dl5zpyw5k3jeb.cloudfront.net/photos/pets/53427060/1/?bust=1635742217   \n",
       "...                                                                             ...   \n",
       "19135  https://dl5zpyw5k3jeb.cloudfront.net/photos/pets/36206981/1/?bust=1541561905   \n",
       "19155  https://dl5zpyw5k3jeb.cloudfront.net/photos/pets/30758854/1/?bust=1490874289   \n",
       "19159  https://dl5zpyw5k3jeb.cloudfront.net/photos/pets/27249421/4/?bust=1498679095   \n",
       "19162  https://dl5zpyw5k3jeb.cloudfront.net/photos/pets/25009612/4/?bust=1533002011   \n",
       "19163  https://dl5zpyw5k3jeb.cloudfront.net/photos/pets/15546918/3/?bust=1452873122   \n",
       "\n",
       "                    contact.email contact.phone contact.address.address1  \\\n",
       "16948   TrueNorthRescue@gmail.com          None                     None   \n",
       "17094   TrueNorthRescue@gmail.com          None                     None   \n",
       "17113   TrueNorthRescue@gmail.com          None                     None   \n",
       "17114  info@tailsofloverescue.org          None                     None   \n",
       "17123             info@scarny.org          None                     None   \n",
       "...                           ...           ...                      ...   \n",
       "19135        bratrescue@yahoo.com          None                     None   \n",
       "19155           cityiggies@me.com          None                     None   \n",
       "19159      fofdogrescue@yahoo.com  718-595-2161             P.O. Box 203   \n",
       "19162   friends@projectpetinc.org          None                     None   \n",
       "19163    toomanyshepherds@aol.com          None                     None   \n",
       "\n",
       "      contact.address.address2 contact.address.city contact.address.state  \\\n",
       "16948                     None             Brooklyn                    NY   \n",
       "17094                     None             Brooklyn                    NY   \n",
       "17113                     None             Brooklyn                    NY   \n",
       "17114                     None             Brooklyn                    NY   \n",
       "17123                     None            Levittown                    NY   \n",
       "...                        ...                  ...                   ...   \n",
       "19135                     None         Far Rockaway                    NY   \n",
       "19155                     None             New York                    NY   \n",
       "19159                     None              Bayside                    NY   \n",
       "19162                     None            Glen Cove                    NY   \n",
       "19163                     None            Glen Head                    NY   \n",
       "\n",
       "      contact.address.postcode contact.address.country animal_id animal_type  \\\n",
       "16948                    11229                      US  53461770         dog   \n",
       "17094                    11229                      US  53430508         dog   \n",
       "17113                    11229                      US  53430554         dog   \n",
       "17114                    11205                      US  53430470         dog   \n",
       "17123                    11756                      US  53427060         dog   \n",
       "...                        ...                     ...       ...         ...   \n",
       "19135                    11691                      US  36206981         dog   \n",
       "19155                    10003                      US  30758854         dog   \n",
       "19159                    11364                      US  27249421         dog   \n",
       "19162                    11542                      US  25009612         dog   \n",
       "19163                    11545                      US  15546918         dog   \n",
       "\n",
       "      primary_photo_cropped                date_saved  \\\n",
       "16948                  None 2021-11-07 00:00:00+00:00   \n",
       "17094                  None 2021-11-07 00:00:00+00:00   \n",
       "17113                  None 2021-11-07 00:00:00+00:00   \n",
       "17114                  None 2021-11-07 00:00:00+00:00   \n",
       "17123                  None 2021-11-07 00:00:00+00:00   \n",
       "...                     ...                       ...   \n",
       "19135                  None 2021-11-07 00:00:00+00:00   \n",
       "19155                  None 2021-11-07 00:00:00+00:00   \n",
       "19159                  None 2021-11-07 00:00:00+00:00   \n",
       "19162                  None 2021-11-07 00:00:00+00:00   \n",
       "19163                  None 2021-11-07 00:00:00+00:00   \n",
       "\n",
       "                                org_name  \n",
       "16948      True North Pet Rescue Mission  \n",
       "17094      True North Pet Rescue Mission  \n",
       "17113      True North Pet Rescue Mission  \n",
       "17114  Tails of Love Animal Rescue, Inc.  \n",
       "17123   Second Chance Animal Rescue Inc.  \n",
       "...                                  ...  \n",
       "19135                               None  \n",
       "19155                               None  \n",
       "19159                               None  \n",
       "19162                               None  \n",
       "19163                               None  \n",
       "\n",
       "[320 rows x 51 columns]"
      ]
     },
     "execution_count": 14,
     "metadata": {},
     "output_type": "execute_result"
    }
   ],
   "source": [
    "status_change"
   ]
  },
  {
   "cell_type": "code",
   "execution_count": 15,
   "metadata": {},
   "outputs": [
    {
     "data": {
      "text/plain": [
       "adoptable    320\n",
       "Name: status, dtype: int64"
      ]
     },
     "execution_count": 15,
     "metadata": {},
     "output_type": "execute_result"
    }
   ],
   "source": [
    "status_change.status.value_counts()"
   ]
  },
  {
   "cell_type": "code",
   "execution_count": 16,
   "metadata": {},
   "outputs": [],
   "source": [
    "def summarize_dog_pop(df):\n",
    "    \n",
    "    out = {}\n",
    "    out['Count'] = df.shape[0]\n",
    "    \n",
    "    def parse_cnts_pcts1(df, desc):\n",
    "        dict1 = {f'Top {desc} Name': df.iloc[0].name, \n",
    "                 f'Top {desc} %' : df.iloc[0]['Percent'], \n",
    "                }\n",
    "        return(dict1)\n",
    "    \n",
    "    def parse_cnts_pcts2(df, desc):\n",
    "        dict1 = {f'2nd {desc} Name': df.iloc[1].name, \n",
    "                 f'2nd {desc} %' : df.iloc[1]['Percent'], \n",
    "                }\n",
    "        return(dict1)\n",
    "    \n",
    "    breeds = get_cnts_pcts(df['breeds.primary'])\n",
    "    breeds_dict1 = parse_cnts_pcts1(breeds, 'Breed')\n",
    "    breeds_dict2 = parse_cnts_pcts2(breeds, 'Breed')\n",
    "\n",
    "    age = get_cnts_pcts(df['age'])\n",
    "    age_dict1 = parse_cnts_pcts1(age, 'Age')\n",
    "    age_dict2 = parse_cnts_pcts2(age, 'Age')\n",
    "    \n",
    "    color = get_cnts_pcts(df['colors.primary'])\n",
    "    color_dict1 = parse_cnts_pcts1(color, 'Color')\n",
    "    color_dict2 = parse_cnts_pcts2(color, 'Color')\n",
    "    \n",
    "    \n",
    "    children = get_cnts_pcts(df['environment.children'])\n",
    "    children_dict1 = parse_cnts_pcts1(children, 'Children')\n",
    "    children_dict2 = parse_cnts_pcts2(children, 'Children')\n",
    "    \n",
    "    housetrained = get_cnts_pcts(df['attributes.house_trained'])\n",
    "    housetrained_dict1 = parse_cnts_pcts1(housetrained, 'House Trained')\n",
    "    housetrained_dict2 = parse_cnts_pcts2(housetrained, 'House Trained')\n",
    "    \n",
    "    dog_friendly = get_cnts_pcts(df['environment.dogs'])\n",
    "    dog_friendly_dict1 = parse_cnts_pcts1(dog_friendly, 'Dog Friendly')\n",
    "    dog_friendly_dict2 = parse_cnts_pcts2(dog_friendly, 'Dog Friendly')\n",
    "    \n",
    "    out.update(breeds_dict1)\n",
    "    out.update(age_dict1)\n",
    "    out.update(color_dict1)\n",
    "    out.update(children_dict1)\n",
    "    out.update(housetrained_dict1)\n",
    "    out.update(dog_friendly_dict1)\n",
    "    out.update(breeds_dict2)\n",
    "    \n",
    "    out_series = pd.Series(out)\n",
    "    return(out_series)"
   ]
  },
  {
   "cell_type": "code",
   "execution_count": 17,
   "metadata": {},
   "outputs": [
    {
     "data": {
      "text/plain": [
       "Count                                   2397\n",
       "Top Breed Name            Labrador Retriever\n",
       "Top Breed %                           12.766\n",
       "Top Age Name                           Adult\n",
       "Top Age %                             42.762\n",
       "Top Color Name                         Black\n",
       "Top Color %                           23.297\n",
       "Top Children Name                          1\n",
       "Top Children %                        78.303\n",
       "Top House Trained Name                     0\n",
       "Top House Trained %                   59.032\n",
       "Top Dog Friendly Name                      1\n",
       "Top Dog Friendly %                    85.081\n",
       "2nd Breed Name              Pit Bull Terrier\n",
       "2nd Breed %                            12.39\n",
       "dtype: object"
      ]
     },
     "execution_count": 17,
     "metadata": {},
     "output_type": "execute_result"
    }
   ],
   "source": [
    "summary = summarize_dog_pop(data)\n",
    "summary"
   ]
  },
  {
   "cell_type": "code",
   "execution_count": 18,
   "metadata": {},
   "outputs": [
    {
     "data": {
      "text/plain": [
       "(2853, 51)"
      ]
     },
     "execution_count": 18,
     "metadata": {},
     "output_type": "execute_result"
    }
   ],
   "source": [
    "data_raw = data_raw.sort_values('date_saved')\n",
    "dedup_all_dogs = data_raw.drop_duplicates(subset=['id'])\n",
    "dedup_all_dogs.shape"
   ]
  },
  {
   "cell_type": "code",
   "execution_count": 19,
   "metadata": {},
   "outputs": [
    {
     "data": {
      "text/plain": [
       "Count                                   2853\n",
       "Top Breed Name            Labrador Retriever\n",
       "Top Breed %                           13.109\n",
       "Top Age Name                           Adult\n",
       "Top Age %                             40.834\n",
       "Top Color Name                         Black\n",
       "Top Color %                           23.193\n",
       "Top Children Name                          1\n",
       "Top Children %                        79.972\n",
       "Top House Trained Name                     0\n",
       "Top House Trained %                   60.358\n",
       "Top Dog Friendly Name                      1\n",
       "Top Dog Friendly %                    86.966\n",
       "2nd Breed Name              Pit Bull Terrier\n",
       "2nd Breed %                           11.427\n",
       "dtype: object"
      ]
     },
     "execution_count": 19,
     "metadata": {},
     "output_type": "execute_result"
    }
   ],
   "source": [
    "summary_raw = summarize_dog_pop(dedup_all_dogs)\n",
    "summary_raw"
   ]
  },
  {
   "cell_type": "code",
   "execution_count": 20,
   "metadata": {
    "scrolled": true
   },
   "outputs": [
    {
     "data": {
      "text/plain": [
       "'Labrador Retriever'"
      ]
     },
     "execution_count": 20,
     "metadata": {},
     "output_type": "execute_result"
    }
   ],
   "source": [
    "breeds = get_cnts_pcts(data['breeds.primary'])\n",
    "breeds.iloc[0].name"
   ]
  },
  {
   "cell_type": "code",
   "execution_count": 21,
   "metadata": {
    "scrolled": true
   },
   "outputs": [
    {
     "data": {
      "text/html": [
       "<div>\n",
       "<style scoped>\n",
       "    .dataframe tbody tr th:only-of-type {\n",
       "        vertical-align: middle;\n",
       "    }\n",
       "\n",
       "    .dataframe tbody tr th {\n",
       "        vertical-align: top;\n",
       "    }\n",
       "\n",
       "    .dataframe thead th {\n",
       "        text-align: right;\n",
       "    }\n",
       "</style>\n",
       "<table border=\"1\" class=\"dataframe\">\n",
       "  <thead>\n",
       "    <tr style=\"text-align: right;\">\n",
       "      <th></th>\n",
       "      <th>Count</th>\n",
       "      <th>Percent</th>\n",
       "    </tr>\n",
       "  </thead>\n",
       "  <tbody>\n",
       "    <tr>\n",
       "      <th>Black</th>\n",
       "      <td>366</td>\n",
       "      <td>23.297</td>\n",
       "    </tr>\n",
       "    <tr>\n",
       "      <th>White / Cream</th>\n",
       "      <td>230</td>\n",
       "      <td>14.640</td>\n",
       "    </tr>\n",
       "    <tr>\n",
       "      <th>Brown / Chocolate</th>\n",
       "      <td>169</td>\n",
       "      <td>10.757</td>\n",
       "    </tr>\n",
       "    <tr>\n",
       "      <th>Tricolor (Brown, Black, &amp; White)</th>\n",
       "      <td>147</td>\n",
       "      <td>9.357</td>\n",
       "    </tr>\n",
       "    <tr>\n",
       "      <th>Yellow / Tan / Blond / Fawn</th>\n",
       "      <td>141</td>\n",
       "      <td>8.975</td>\n",
       "    </tr>\n",
       "    <tr>\n",
       "      <th>Apricot / Beige</th>\n",
       "      <td>99</td>\n",
       "      <td>6.302</td>\n",
       "    </tr>\n",
       "    <tr>\n",
       "      <th>Brindle</th>\n",
       "      <td>98</td>\n",
       "      <td>6.238</td>\n",
       "    </tr>\n",
       "    <tr>\n",
       "      <th>Bicolor</th>\n",
       "      <td>97</td>\n",
       "      <td>6.174</td>\n",
       "    </tr>\n",
       "    <tr>\n",
       "      <th>Gray / Blue / Silver</th>\n",
       "      <td>89</td>\n",
       "      <td>5.665</td>\n",
       "    </tr>\n",
       "    <tr>\n",
       "      <th>Red / Chestnut / Orange</th>\n",
       "      <td>76</td>\n",
       "      <td>4.838</td>\n",
       "    </tr>\n",
       "    <tr>\n",
       "      <th>Golden</th>\n",
       "      <td>42</td>\n",
       "      <td>2.673</td>\n",
       "    </tr>\n",
       "    <tr>\n",
       "      <th>Sable</th>\n",
       "      <td>7</td>\n",
       "      <td>0.446</td>\n",
       "    </tr>\n",
       "    <tr>\n",
       "      <th>Merle (Blue)</th>\n",
       "      <td>5</td>\n",
       "      <td>0.318</td>\n",
       "    </tr>\n",
       "    <tr>\n",
       "      <th>Merle (Red)</th>\n",
       "      <td>4</td>\n",
       "      <td>0.255</td>\n",
       "    </tr>\n",
       "    <tr>\n",
       "      <th>Harlequin</th>\n",
       "      <td>1</td>\n",
       "      <td>0.064</td>\n",
       "    </tr>\n",
       "  </tbody>\n",
       "</table>\n",
       "</div>"
      ],
      "text/plain": [
       "                                  Count  Percent\n",
       "Black                               366   23.297\n",
       "White / Cream                       230   14.640\n",
       "Brown / Chocolate                   169   10.757\n",
       "Tricolor (Brown, Black, & White)    147    9.357\n",
       "Yellow / Tan / Blond / Fawn         141    8.975\n",
       "Apricot / Beige                      99    6.302\n",
       "Brindle                              98    6.238\n",
       "Bicolor                              97    6.174\n",
       "Gray / Blue / Silver                 89    5.665\n",
       "Red / Chestnut / Orange              76    4.838\n",
       "Golden                               42    2.673\n",
       "Sable                                 7    0.446\n",
       "Merle (Blue)                          5    0.318\n",
       "Merle (Red)                           4    0.255\n",
       "Harlequin                             1    0.064"
      ]
     },
     "execution_count": 21,
     "metadata": {},
     "output_type": "execute_result"
    }
   ],
   "source": [
    "get_cnts_pcts(data['colors.primary'])"
   ]
  },
  {
   "cell_type": "code",
   "execution_count": 22,
   "metadata": {},
   "outputs": [
    {
     "data": {
      "text/html": [
       "<div>\n",
       "<style scoped>\n",
       "    .dataframe tbody tr th:only-of-type {\n",
       "        vertical-align: middle;\n",
       "    }\n",
       "\n",
       "    .dataframe tbody tr th {\n",
       "        vertical-align: top;\n",
       "    }\n",
       "\n",
       "    .dataframe thead th {\n",
       "        text-align: right;\n",
       "    }\n",
       "</style>\n",
       "<table border=\"1\" class=\"dataframe\">\n",
       "  <thead>\n",
       "    <tr style=\"text-align: right;\">\n",
       "      <th></th>\n",
       "      <th>Count</th>\n",
       "      <th>Percent</th>\n",
       "    </tr>\n",
       "  </thead>\n",
       "  <tbody>\n",
       "    <tr>\n",
       "      <th>Adult</th>\n",
       "      <td>1025</td>\n",
       "      <td>42.762</td>\n",
       "    </tr>\n",
       "    <tr>\n",
       "      <th>Young</th>\n",
       "      <td>650</td>\n",
       "      <td>27.117</td>\n",
       "    </tr>\n",
       "    <tr>\n",
       "      <th>Baby</th>\n",
       "      <td>508</td>\n",
       "      <td>21.193</td>\n",
       "    </tr>\n",
       "    <tr>\n",
       "      <th>Senior</th>\n",
       "      <td>214</td>\n",
       "      <td>8.928</td>\n",
       "    </tr>\n",
       "  </tbody>\n",
       "</table>\n",
       "</div>"
      ],
      "text/plain": [
       "        Count  Percent\n",
       "Adult    1025   42.762\n",
       "Young     650   27.117\n",
       "Baby      508   21.193\n",
       "Senior    214    8.928"
      ]
     },
     "execution_count": 22,
     "metadata": {},
     "output_type": "execute_result"
    }
   ],
   "source": [
    "get_cnts_pcts(data['age'])"
   ]
  },
  {
   "cell_type": "code",
   "execution_count": 23,
   "metadata": {},
   "outputs": [
    {
     "data": {
      "text/html": [
       "<div>\n",
       "<style scoped>\n",
       "    .dataframe tbody tr th:only-of-type {\n",
       "        vertical-align: middle;\n",
       "    }\n",
       "\n",
       "    .dataframe tbody tr th {\n",
       "        vertical-align: top;\n",
       "    }\n",
       "\n",
       "    .dataframe thead th {\n",
       "        text-align: right;\n",
       "    }\n",
       "</style>\n",
       "<table border=\"1\" class=\"dataframe\">\n",
       "  <thead>\n",
       "    <tr style=\"text-align: right;\">\n",
       "      <th></th>\n",
       "      <th>Count</th>\n",
       "      <th>Percent</th>\n",
       "    </tr>\n",
       "  </thead>\n",
       "  <tbody>\n",
       "    <tr>\n",
       "      <th>0</th>\n",
       "      <td>1415</td>\n",
       "      <td>59.032</td>\n",
       "    </tr>\n",
       "    <tr>\n",
       "      <th>1</th>\n",
       "      <td>982</td>\n",
       "      <td>40.968</td>\n",
       "    </tr>\n",
       "  </tbody>\n",
       "</table>\n",
       "</div>"
      ],
      "text/plain": [
       "   Count  Percent\n",
       "0   1415   59.032\n",
       "1    982   40.968"
      ]
     },
     "execution_count": 23,
     "metadata": {},
     "output_type": "execute_result"
    }
   ],
   "source": [
    "get_cnts_pcts(data['attributes.house_trained'])"
   ]
  },
  {
   "cell_type": "code",
   "execution_count": 24,
   "metadata": {},
   "outputs": [
    {
     "data": {
      "text/html": [
       "<div>\n",
       "<style scoped>\n",
       "    .dataframe tbody tr th:only-of-type {\n",
       "        vertical-align: middle;\n",
       "    }\n",
       "\n",
       "    .dataframe tbody tr th {\n",
       "        vertical-align: top;\n",
       "    }\n",
       "\n",
       "    .dataframe thead th {\n",
       "        text-align: right;\n",
       "    }\n",
       "</style>\n",
       "<table border=\"1\" class=\"dataframe\">\n",
       "  <thead>\n",
       "    <tr style=\"text-align: right;\">\n",
       "      <th></th>\n",
       "      <th>Count</th>\n",
       "      <th>Percent</th>\n",
       "    </tr>\n",
       "  </thead>\n",
       "  <tbody>\n",
       "    <tr>\n",
       "      <th>1.0</th>\n",
       "      <td>1306</td>\n",
       "      <td>85.081</td>\n",
       "    </tr>\n",
       "    <tr>\n",
       "      <th>0.0</th>\n",
       "      <td>229</td>\n",
       "      <td>14.919</td>\n",
       "    </tr>\n",
       "  </tbody>\n",
       "</table>\n",
       "</div>"
      ],
      "text/plain": [
       "     Count  Percent\n",
       "1.0   1306   85.081\n",
       "0.0    229   14.919"
      ]
     },
     "execution_count": 24,
     "metadata": {},
     "output_type": "execute_result"
    }
   ],
   "source": [
    "get_cnts_pcts(data['environment.children'])\n",
    "get_cnts_pcts(data['attributes.house_trained'])\n",
    "get_cnts_pcts(data['environment.dogs'])"
   ]
  },
  {
   "cell_type": "code",
   "execution_count": 25,
   "metadata": {},
   "outputs": [
    {
     "data": {
      "text/html": [
       "<div>\n",
       "<style scoped>\n",
       "    .dataframe tbody tr th:only-of-type {\n",
       "        vertical-align: middle;\n",
       "    }\n",
       "\n",
       "    .dataframe tbody tr th {\n",
       "        vertical-align: top;\n",
       "    }\n",
       "\n",
       "    .dataframe thead th {\n",
       "        text-align: right;\n",
       "    }\n",
       "</style>\n",
       "<table border=\"1\" class=\"dataframe\">\n",
       "  <thead>\n",
       "    <tr style=\"text-align: right;\">\n",
       "      <th></th>\n",
       "      <th>Count</th>\n",
       "      <th>Percent</th>\n",
       "    </tr>\n",
       "  </thead>\n",
       "  <tbody>\n",
       "    <tr>\n",
       "      <th>1.0</th>\n",
       "      <td>1306</td>\n",
       "      <td>85.081</td>\n",
       "    </tr>\n",
       "    <tr>\n",
       "      <th>0.0</th>\n",
       "      <td>229</td>\n",
       "      <td>14.919</td>\n",
       "    </tr>\n",
       "  </tbody>\n",
       "</table>\n",
       "</div>"
      ],
      "text/plain": [
       "     Count  Percent\n",
       "1.0   1306   85.081\n",
       "0.0    229   14.919"
      ]
     },
     "execution_count": 25,
     "metadata": {},
     "output_type": "execute_result"
    }
   ],
   "source": [
    "get_cnts_pcts(data['environment.dogs'])"
   ]
  },
  {
   "cell_type": "code",
   "execution_count": null,
   "metadata": {},
   "outputs": [],
   "source": []
  },
  {
   "cell_type": "code",
   "execution_count": 26,
   "metadata": {},
   "outputs": [
    {
     "data": {
      "text/html": [
       "<div>\n",
       "<style scoped>\n",
       "    .dataframe tbody tr th:only-of-type {\n",
       "        vertical-align: middle;\n",
       "    }\n",
       "\n",
       "    .dataframe tbody tr th {\n",
       "        vertical-align: top;\n",
       "    }\n",
       "\n",
       "    .dataframe thead th {\n",
       "        text-align: right;\n",
       "    }\n",
       "</style>\n",
       "<table border=\"1\" class=\"dataframe\">\n",
       "  <thead>\n",
       "    <tr style=\"text-align: right;\">\n",
       "      <th></th>\n",
       "      <th>Count</th>\n",
       "      <th>Percent</th>\n",
       "    </tr>\n",
       "  </thead>\n",
       "  <tbody>\n",
       "    <tr>\n",
       "      <th>Rescue Dogs Rock NYC</th>\n",
       "      <td>202</td>\n",
       "      <td>9.279</td>\n",
       "    </tr>\n",
       "    <tr>\n",
       "      <th>Second Chance Rescue</th>\n",
       "      <td>115</td>\n",
       "      <td>5.282</td>\n",
       "    </tr>\n",
       "    <tr>\n",
       "      <th>Ruff House Rescue</th>\n",
       "      <td>96</td>\n",
       "      <td>4.410</td>\n",
       "    </tr>\n",
       "    <tr>\n",
       "      <th>North Shore Animal League America</th>\n",
       "      <td>68</td>\n",
       "      <td>3.124</td>\n",
       "    </tr>\n",
       "    <tr>\n",
       "      <th>Town of Hempstead Animal Shelter</th>\n",
       "      <td>60</td>\n",
       "      <td>2.756</td>\n",
       "    </tr>\n",
       "    <tr>\n",
       "      <th>...</th>\n",
       "      <td>...</td>\n",
       "      <td>...</td>\n",
       "    </tr>\n",
       "    <tr>\n",
       "      <th>Near and Far Animal Foundation</th>\n",
       "      <td>1</td>\n",
       "      <td>0.046</td>\n",
       "    </tr>\n",
       "    <tr>\n",
       "      <th>Northeast Boston Terrier Rescue Inc.</th>\n",
       "      <td>1</td>\n",
       "      <td>0.046</td>\n",
       "    </tr>\n",
       "    <tr>\n",
       "      <th>Hopeful Tails Registered Rescue (at Dapper Dog)</th>\n",
       "      <td>1</td>\n",
       "      <td>0.046</td>\n",
       "    </tr>\n",
       "    <tr>\n",
       "      <th>Bloomfield Animal Shelter  - John A. Bukowski Shelter for Animals</th>\n",
       "      <td>1</td>\n",
       "      <td>0.046</td>\n",
       "    </tr>\n",
       "    <tr>\n",
       "      <th>Rescuzilla</th>\n",
       "      <td>1</td>\n",
       "      <td>0.046</td>\n",
       "    </tr>\n",
       "  </tbody>\n",
       "</table>\n",
       "<p>136 rows × 2 columns</p>\n",
       "</div>"
      ],
      "text/plain": [
       "                                                                   Count  \\\n",
       "Rescue Dogs Rock NYC                                                 202   \n",
       "Second Chance Rescue                                                 115   \n",
       "Ruff House Rescue                                                     96   \n",
       "North Shore Animal League America                                     68   \n",
       "Town of Hempstead Animal Shelter                                      60   \n",
       "...                                                                  ...   \n",
       "Near and Far Animal Foundation                                         1   \n",
       "Northeast Boston Terrier Rescue Inc.                                   1   \n",
       "Hopeful Tails Registered Rescue (at Dapper Dog)                        1   \n",
       "Bloomfield Animal Shelter  - John A. Bukowski Shelter for Animals      1   \n",
       "Rescuzilla                                                             1   \n",
       "\n",
       "                                                                   Percent  \n",
       "Rescue Dogs Rock NYC                                                 9.279  \n",
       "Second Chance Rescue                                                 5.282  \n",
       "Ruff House Rescue                                                    4.410  \n",
       "North Shore Animal League America                                    3.124  \n",
       "Town of Hempstead Animal Shelter                                     2.756  \n",
       "...                                                                    ...  \n",
       "Near and Far Animal Foundation                                       0.046  \n",
       "Northeast Boston Terrier Rescue Inc.                                 0.046  \n",
       "Hopeful Tails Registered Rescue (at Dapper Dog)                      0.046  \n",
       "Bloomfield Animal Shelter  - John A. Bukowski Shelter for Animals    0.046  \n",
       "Rescuzilla                                                           0.046  \n",
       "\n",
       "[136 rows x 2 columns]"
      ]
     },
     "execution_count": 26,
     "metadata": {},
     "output_type": "execute_result"
    }
   ],
   "source": [
    "org_value_counts = get_cnts_pcts(data['org_name'])\n",
    "org_value_counts"
   ]
  },
  {
   "cell_type": "code",
   "execution_count": 27,
   "metadata": {},
   "outputs": [
    {
     "data": {
      "text/plain": [
       "59"
      ]
     },
     "execution_count": 27,
     "metadata": {},
     "output_type": "execute_result"
    }
   ],
   "source": [
    "# # of shelter with more than 10 dogs \n",
    "org_value_counts[org_value_counts['Count'] >= 10].shape[0]"
   ]
  },
  {
   "cell_type": "code",
   "execution_count": 28,
   "metadata": {},
   "outputs": [
    {
     "data": {
      "text/plain": [
       "<AxesSubplot:>"
      ]
     },
     "execution_count": 28,
     "metadata": {},
     "output_type": "execute_result"
    },
    {
     "data": {
      "image/png": "[encoded data removed]",
      "text/plain": [
       "<Figure size 432x288 with 1 Axes>"
      ]
     },
     "metadata": {
      "needs_background": "light"
     },
     "output_type": "display_data"
    }
   ],
   "source": [
    "org_value_counts['Count'].hist()"
   ]
  },
  {
   "cell_type": "code",
   "execution_count": 29,
   "metadata": {
    "scrolled": true
   },
   "outputs": [
    {
     "data": {
      "text/plain": [
       "id                                                                                                                                                                                                                             53220915\n",
       "organization_id                                                                                                                                                                                                                  NY1545\n",
       "url                                                                                    https://www.petfinder.com/dog/melody-53220915/ny/floral-park/keep-me-warm-doghouses-inc-ny1545/?referrer_id=a0b0e7e5-a0ff-4872-86f9-c0328ab65a7c\n",
       "type                                                                                                                                                                                                                                Dog\n",
       "species                                                                                                                                                                                                                             Dog\n",
       "age                                                                                                                                                                                                                               Young\n",
       "gender                                                                                                                                                                                                                           Female\n",
       "size                                                                                                                                                                                                                              Small\n",
       "coat                                                                                                                                                                                                                             Medium\n",
       "tags                            0       [Friendly, Playful, Smart, Curious, Affectionate]\\n1       [Friendly, Affectionate, Loyal, Gentle, Playfu...\\n2                                                      []\\n3                  ...\n",
       "name                                                                                                                                                                                                                             Melody\n",
       "description                                                                                                                Melody is the sweetest dog! She playful and loves her humans and dog friend at her foster home. Melody is...\n",
       "organization_animal_id                                                                                                                                                                                                             None\n",
       "photos                          0       [{'small': 'https://dl5zpyw5k3jeb.cloudfront.n...\\n1       [{'small': 'https://dl5zpyw5k3jeb.cloudfront.n...\\n2       [{'small': 'https://dl5zpyw5k3jeb.cloudfront.n...\\n3       [{'small': ...\n",
       "videos                          0                                                      []\\n1                                                      []\\n2       [{'embed': '<iframe title=\"Video\" frameborder=...\\n3                  ...\n",
       "status                                                                                                                                                                                                                        adoptable\n",
       "status_changed_at                                                                                                                                                                                             2021-11-07 03:57:14+00:00\n",
       "published_at                                                                                                                                                                                                  2021-11-07 03:57:14+00:00\n",
       "distance                                                                                                                                                                                                                        12.1493\n",
       "breeds.primary                                                                                                                                                                                                                    Corgi\n",
       "breeds.secondary                                                                                                                                                                                                                  Jindo\n",
       "breeds.mixed                                                                                                                                                                                                                          1\n",
       "breeds.unknown                                                                                                                                                                                                                        0\n",
       "colors.primary                                                                                                                                                                                                            White / Cream\n",
       "colors.secondary                                                                                                                                                                                                                   None\n",
       "colors.tertiary                                                                                                                                                                                                                    None\n",
       "attributes.spayed_neutered                                                                                                                                                                                                            1\n",
       "attributes.house_trained                                                                                                                                                                                                              1\n",
       "attributes.declawed                                                                                                                                                                                                                None\n",
       "attributes.special_needs                                                                                                                                                                                                              0\n",
       "attributes.shots_current                                                                                                                                                                                                              1\n",
       "environment.children                                                                                                                                                                                                                  1\n",
       "environment.dogs                                                                                                                                                                                                                      1\n",
       "environment.cats                                                                                                                                                                                                                    NaN\n",
       "primary_photo_cropped.small                                                                                                                      https://dl5zpyw5k3jeb.cloudfront.net/photos/pets/53220915/1/?bust=1636257431&width=300\n",
       "primary_photo_cropped.medium                                                                                                                     https://dl5zpyw5k3jeb.cloudfront.net/photos/pets/53220915/1/?bust=1636257431&width=450\n",
       "primary_photo_cropped.large                                                                                                                      https://dl5zpyw5k3jeb.cloudfront.net/photos/pets/53220915/1/?bust=1636257431&width=600\n",
       "primary_photo_cropped.full                                                                                                                                 https://dl5zpyw5k3jeb.cloudfront.net/photos/pets/53220915/1/?bust=1636257431\n",
       "contact.email                                                                                                                                                                                                suekmwdadoptions@gmail.com\n",
       "contact.phone                                                                                                                                                                                                                      None\n",
       "contact.address.address1                                                                                                                                                                                                           None\n",
       "contact.address.address2                                                                                                                                                                                                           None\n",
       "contact.address.city                                                                                                                                                                                                        Floral Park\n",
       "contact.address.state                                                                                                                                                                                                                NY\n",
       "contact.address.postcode                                                                                                                                                                                                          11001\n",
       "contact.address.country                                                                                                                                                                                                              US\n",
       "animal_id                                                                                                                                                                                                                      53220915\n",
       "animal_type                                                                                                                                                                                                                         dog\n",
       "primary_photo_cropped                                                                                                                                                                                                              None\n",
       "date_saved                                                                                                                                                                                                    2021-11-07 00:00:00+00:00\n",
       "org_name                                                                                                                                                                                                    Keep Me Warm Doghouses, Inc\n",
       "Name: 16768, dtype: object"
      ]
     },
     "execution_count": 29,
     "metadata": {},
     "output_type": "execute_result"
    }
   ],
   "source": [
    "data.iloc[1]"
   ]
  },
  {
   "cell_type": "code",
   "execution_count": null,
   "metadata": {},
   "outputs": [],
   "source": []
  },
  {
   "cell_type": "markdown",
   "metadata": {},
   "source": [
    "## Dog Status Change"
   ]
  },
  {
   "cell_type": "code",
   "execution_count": 30,
   "metadata": {},
   "outputs": [],
   "source": [
    "def dog_days_gb_func(df, adopt_date=(datetime.datetime.now() - datetime.timedelta(days=1)).date()):\n",
    "    \n",
    "    df = df.sort_values('date_saved')\n",
    "    \n",
    "    out = {}\n",
    "    out['Days in DB (yourdb)'] = (df['date_saved'].max() - df['date_saved'].min()).days\n",
    "    out['Count'] = df.shape[0]\n",
    "    out['Days ad posted'] = (df['date_saved'].max() - df['published_at'].min()).days\n",
    "    adoptable_days = df[df['status'] == 'adoptable']\n",
    "    out['Days adoptable'] = adoptable_days.shape[0]\n",
    "    out['Last Adoptable Day'] = adoptable_days['date_saved'].max()\n",
    "    \n",
    "    out['Adopted (last status)'] = (df.iloc[-1].status != 'adoptable')\n",
    "    out['Adopted (last date)'] = df.iloc[-1]['date_saved'] >= adopt_date \n",
    "    \n",
    "    out_series = pd.Series(out)\n",
    "    last_record = df.iloc[0]\n",
    "    out_all = pd.concat([out_series, last_record]) \n",
    "    return(out_all)\n",
    "    "
   ]
  },
  {
   "cell_type": "code",
   "execution_count": 31,
   "metadata": {
    "scrolled": true
   },
   "outputs": [
    {
     "name": "stdout",
     "output_type": "stream",
     "text": [
      "Shape:  (2853, 58)\n"
     ]
    },
    {
     "data": {
      "text/html": [
       "<div>\n",
       "<style scoped>\n",
       "    .dataframe tbody tr th:only-of-type {\n",
       "        vertical-align: middle;\n",
       "    }\n",
       "\n",
       "    .dataframe tbody tr th {\n",
       "        vertical-align: top;\n",
       "    }\n",
       "\n",
       "    .dataframe thead th {\n",
       "        text-align: right;\n",
       "    }\n",
       "</style>\n",
       "<table border=\"1\" class=\"dataframe\">\n",
       "  <thead>\n",
       "    <tr style=\"text-align: right;\">\n",
       "      <th></th>\n",
       "      <th>Days in DB (yourdb)</th>\n",
       "      <th>Count</th>\n",
       "      <th>Days ad posted</th>\n",
       "      <th>Days adoptable</th>\n",
       "      <th>Last Adoptable Day</th>\n",
       "      <th>Adopted (last status)</th>\n",
       "      <th>Adopted (last date)</th>\n",
       "      <th>id</th>\n",
       "      <th>organization_id</th>\n",
       "      <th>url</th>\n",
       "      <th>type</th>\n",
       "      <th>species</th>\n",
       "      <th>age</th>\n",
       "      <th>gender</th>\n",
       "      <th>size</th>\n",
       "      <th>coat</th>\n",
       "      <th>tags</th>\n",
       "      <th>name</th>\n",
       "      <th>description</th>\n",
       "      <th>organization_animal_id</th>\n",
       "      <th>photos</th>\n",
       "      <th>videos</th>\n",
       "      <th>status</th>\n",
       "      <th>status_changed_at</th>\n",
       "      <th>published_at</th>\n",
       "      <th>distance</th>\n",
       "      <th>breeds.primary</th>\n",
       "      <th>breeds.secondary</th>\n",
       "      <th>breeds.mixed</th>\n",
       "      <th>breeds.unknown</th>\n",
       "      <th>colors.primary</th>\n",
       "      <th>colors.secondary</th>\n",
       "      <th>colors.tertiary</th>\n",
       "      <th>attributes.spayed_neutered</th>\n",
       "      <th>attributes.house_trained</th>\n",
       "      <th>attributes.declawed</th>\n",
       "      <th>attributes.special_needs</th>\n",
       "      <th>attributes.shots_current</th>\n",
       "      <th>environment.children</th>\n",
       "      <th>environment.dogs</th>\n",
       "      <th>environment.cats</th>\n",
       "      <th>primary_photo_cropped.small</th>\n",
       "      <th>primary_photo_cropped.medium</th>\n",
       "      <th>primary_photo_cropped.large</th>\n",
       "      <th>primary_photo_cropped.full</th>\n",
       "      <th>contact.email</th>\n",
       "      <th>contact.phone</th>\n",
       "      <th>contact.address.address1</th>\n",
       "      <th>contact.address.address2</th>\n",
       "      <th>contact.address.city</th>\n",
       "      <th>contact.address.state</th>\n",
       "      <th>contact.address.postcode</th>\n",
       "      <th>contact.address.country</th>\n",
       "      <th>animal_id</th>\n",
       "      <th>animal_type</th>\n",
       "      <th>primary_photo_cropped</th>\n",
       "      <th>date_saved</th>\n",
       "      <th>org_name</th>\n",
       "    </tr>\n",
       "    <tr>\n",
       "      <th>id</th>\n",
       "      <th></th>\n",
       "      <th></th>\n",
       "      <th></th>\n",
       "      <th></th>\n",
       "      <th></th>\n",
       "      <th></th>\n",
       "      <th></th>\n",
       "      <th></th>\n",
       "      <th></th>\n",
       "      <th></th>\n",
       "      <th></th>\n",
       "      <th></th>\n",
       "      <th></th>\n",
       "      <th></th>\n",
       "      <th></th>\n",
       "      <th></th>\n",
       "      <th></th>\n",
       "      <th></th>\n",
       "      <th></th>\n",
       "      <th></th>\n",
       "      <th></th>\n",
       "      <th></th>\n",
       "      <th></th>\n",
       "      <th></th>\n",
       "      <th></th>\n",
       "      <th></th>\n",
       "      <th></th>\n",
       "      <th></th>\n",
       "      <th></th>\n",
       "      <th></th>\n",
       "      <th></th>\n",
       "      <th></th>\n",
       "      <th></th>\n",
       "      <th></th>\n",
       "      <th></th>\n",
       "      <th></th>\n",
       "      <th></th>\n",
       "      <th></th>\n",
       "      <th></th>\n",
       "      <th></th>\n",
       "      <th></th>\n",
       "      <th></th>\n",
       "      <th></th>\n",
       "      <th></th>\n",
       "      <th></th>\n",
       "      <th></th>\n",
       "      <th></th>\n",
       "      <th></th>\n",
       "      <th></th>\n",
       "      <th></th>\n",
       "      <th></th>\n",
       "      <th></th>\n",
       "      <th></th>\n",
       "      <th></th>\n",
       "      <th></th>\n",
       "      <th></th>\n",
       "      <th></th>\n",
       "      <th></th>\n",
       "    </tr>\n",
       "  </thead>\n",
       "  <tbody>\n",
       "    <tr>\n",
       "      <th>15546918</th>\n",
       "      <td>7</td>\n",
       "      <td>8</td>\n",
       "      <td>4312</td>\n",
       "      <td>8</td>\n",
       "      <td>2021-11-07 00:00:00+00:00</td>\n",
       "      <td>False</td>\n",
       "      <td>True</td>\n",
       "      <td>15546918</td>\n",
       "      <td>NY769</td>\n",
       "      <td>https://www.petfinder.com/dog/buddy-15546918/ny/glen-head/shepherds-hope-rescue-ny769/?referrer_id=a0b0e7e5-a0ff-4872-86f9-c0328ab65a7c</td>\n",
       "      <td>Dog</td>\n",
       "      <td>Dog</td>\n",
       "      <td>Young</td>\n",
       "      <td>Male</td>\n",
       "      <td>Medium</td>\n",
       "      <td>None</td>\n",
       "      <td>0                                                      []\\n1                                                      []\\n2       [Friendly, Affectionate, Loyal, Gentle, Playfu...\\n3       [Friendly, ...</td>\n",
       "      <td>Buddy</td>\n",
       "      <td>Here&amp;#039;s Buddy, an adorable 8 year old Shepherd mix.  He was adopted from one of the city shelters to an...</td>\n",
       "      <td>825418</td>\n",
       "      <td>0       [{'small': 'https://dl5zpyw5k3jeb.cloudfront.n...\\n1       [{'small': 'https://dl5zpyw5k3jeb.cloudfront.n...\\n2       [{'small': 'https://dl5zpyw5k3jeb.cloudfront.n...\\n3       [{'small': ...</td>\n",
       "      <td>0                                                      []\\n1       [{'embed': '&lt;iframe title=\"Video\" frameborder=...\\n2       [{'embed': '&lt;iframe title=\"Video\" frameborder=...\\n3                  ...</td>\n",
       "      <td>adoptable</td>\n",
       "      <td>2010-01-17 20:48:17+00:00</td>\n",
       "      <td>2010-01-17 00:00:00+00:00</td>\n",
       "      <td>10.9750</td>\n",
       "      <td>Shepherd</td>\n",
       "      <td>None</td>\n",
       "      <td>1</td>\n",
       "      <td>0</td>\n",
       "      <td>None</td>\n",
       "      <td>None</td>\n",
       "      <td>None</td>\n",
       "      <td>1</td>\n",
       "      <td>1</td>\n",
       "      <td>None</td>\n",
       "      <td>0</td>\n",
       "      <td>1</td>\n",
       "      <td>0.0</td>\n",
       "      <td>0.0</td>\n",
       "      <td>0.0</td>\n",
       "      <td>https://dl5zpyw5k3jeb.cloudfront.net/photos/pets/15546918/3/?bust=1452873122&amp;width=300</td>\n",
       "      <td>https://dl5zpyw5k3jeb.cloudfront.net/photos/pets/15546918/3/?bust=1452873122&amp;width=450</td>\n",
       "      <td>https://dl5zpyw5k3jeb.cloudfront.net/photos/pets/15546918/3/?bust=1452873122&amp;width=600</td>\n",
       "      <td>https://dl5zpyw5k3jeb.cloudfront.net/photos/pets/15546918/3/?bust=1452873122</td>\n",
       "      <td>toomanyshepherds@aol.com</td>\n",
       "      <td>None</td>\n",
       "      <td>None</td>\n",
       "      <td>None</td>\n",
       "      <td>Glen Head</td>\n",
       "      <td>NY</td>\n",
       "      <td>11545</td>\n",
       "      <td>US</td>\n",
       "      <td>15546918</td>\n",
       "      <td>dog</td>\n",
       "      <td>None</td>\n",
       "      <td>2021-10-31 00:00:00+00:00</td>\n",
       "      <td>None</td>\n",
       "    </tr>\n",
       "    <tr>\n",
       "      <th>25009612</th>\n",
       "      <td>7</td>\n",
       "      <td>8</td>\n",
       "      <td>3231</td>\n",
       "      <td>8</td>\n",
       "      <td>2021-11-07 00:00:00+00:00</td>\n",
       "      <td>False</td>\n",
       "      <td>True</td>\n",
       "      <td>25009612</td>\n",
       "      <td>NY955</td>\n",
       "      <td>https://www.petfinder.com/dog/franklin-25009612/ny/glen-cove/project-pet-inc-ny955/?referrer_id=a0b0e7e5-a0ff-4872-86f9-c0328ab65a7c</td>\n",
       "      <td>Dog</td>\n",
       "      <td>Dog</td>\n",
       "      <td>Senior</td>\n",
       "      <td>Male</td>\n",
       "      <td>Medium</td>\n",
       "      <td>Short</td>\n",
       "      <td>0                                                      []\\n1                                                      []\\n2       [Friendly, Affectionate, Loyal, Gentle, Playfu...\\n3       [Friendly, ...</td>\n",
       "      <td>Franklin</td>\n",
       "      <td>PLEASE EMAIL: mbwambwa@icloud.com\\nDIRECTLY TO FIND OUT HOW TO MEET THIS CUTIE!\\n\\nThis 8 year-old love muffin is summed up...</td>\n",
       "      <td>None</td>\n",
       "      <td>0       [{'small': 'https://dl5zpyw5k3jeb.cloudfront.n...\\n1       [{'small': 'https://dl5zpyw5k3jeb.cloudfront.n...\\n2       [{'small': 'https://dl5zpyw5k3jeb.cloudfront.n...\\n3       [{'small': ...</td>\n",
       "      <td>0                                                      []\\n1       [{'embed': '&lt;iframe title=\"Video\" frameborder=...\\n2       [{'embed': '&lt;iframe title=\"Video\" frameborder=...\\n3                  ...</td>\n",
       "      <td>adoptable</td>\n",
       "      <td>2014-09-29 20:37:01+00:00</td>\n",
       "      <td>2013-01-01 16:05:32+00:00</td>\n",
       "      <td>10.6483</td>\n",
       "      <td>Terrier</td>\n",
       "      <td>None</td>\n",
       "      <td>1</td>\n",
       "      <td>0</td>\n",
       "      <td>Yellow / Tan / Blond / Fawn</td>\n",
       "      <td>White / Cream</td>\n",
       "      <td>None</td>\n",
       "      <td>1</td>\n",
       "      <td>1</td>\n",
       "      <td>None</td>\n",
       "      <td>0</td>\n",
       "      <td>1</td>\n",
       "      <td>NaN</td>\n",
       "      <td>1.0</td>\n",
       "      <td>NaN</td>\n",
       "      <td>https://dl5zpyw5k3jeb.cloudfront.net/photos/pets/25009612/4/?bust=1533002011&amp;width=300</td>\n",
       "      <td>https://dl5zpyw5k3jeb.cloudfront.net/photos/pets/25009612/4/?bust=1533002011&amp;width=450</td>\n",
       "      <td>https://dl5zpyw5k3jeb.cloudfront.net/photos/pets/25009612/4/?bust=1533002011&amp;width=600</td>\n",
       "      <td>https://dl5zpyw5k3jeb.cloudfront.net/photos/pets/25009612/4/?bust=1533002011</td>\n",
       "      <td>friends@projectpetinc.org</td>\n",
       "      <td>None</td>\n",
       "      <td>None</td>\n",
       "      <td>None</td>\n",
       "      <td>Glen Cove</td>\n",
       "      <td>NY</td>\n",
       "      <td>11542</td>\n",
       "      <td>US</td>\n",
       "      <td>25009612</td>\n",
       "      <td>dog</td>\n",
       "      <td>None</td>\n",
       "      <td>2021-10-31 00:00:00+00:00</td>\n",
       "      <td>None</td>\n",
       "    </tr>\n",
       "    <tr>\n",
       "      <th>25777517</th>\n",
       "      <td>7</td>\n",
       "      <td>8</td>\n",
       "      <td>3138</td>\n",
       "      <td>8</td>\n",
       "      <td>2021-11-07 00:00:00+00:00</td>\n",
       "      <td>False</td>\n",
       "      <td>True</td>\n",
       "      <td>25777517</td>\n",
       "      <td>NY977</td>\n",
       "      <td>https://www.petfinder.com/dog/italian-greyhound-place-25777517/ny/croton-on-hudson/italian-greyhound-place-ny977/?referrer_id=a0b0e7e5-a0ff-4872-86f9-c0328ab65a7c</td>\n",
       "      <td>Dog</td>\n",
       "      <td>Dog</td>\n",
       "      <td>Adult</td>\n",
       "      <td>Male</td>\n",
       "      <td>Small</td>\n",
       "      <td>None</td>\n",
       "      <td>0                                                      []\\n1                                                      []\\n2       [Friendly, Affectionate, Loyal, Gentle, Playfu...\\n3       [Friendly, ...</td>\n",
       "      <td>Italian Greyhound Place</td>\n",
       "      <td>If you are interested in adopting (or fostering) an Italian Greyhound, please contact Italian Greyhound Place!\\n\\nPlease note: Photographs with...</td>\n",
       "      <td>None</td>\n",
       "      <td>0       [{'small': 'https://dl5zpyw5k3jeb.cloudfront.n...\\n1       [{'small': 'https://dl5zpyw5k3jeb.cloudfront.n...\\n2       [{'small': 'https://dl5zpyw5k3jeb.cloudfront.n...\\n3       [{'small': ...</td>\n",
       "      <td>0                                                      []\\n1       [{'embed': '&lt;iframe title=\"Video\" frameborder=...\\n2       [{'embed': '&lt;iframe title=\"Video\" frameborder=...\\n3                  ...</td>\n",
       "      <td>adoptable</td>\n",
       "      <td>2013-04-04 13:23:29+00:00</td>\n",
       "      <td>2013-04-04 13:23:29+00:00</td>\n",
       "      <td>23.4174</td>\n",
       "      <td>Italian Greyhound</td>\n",
       "      <td>None</td>\n",
       "      <td>0</td>\n",
       "      <td>0</td>\n",
       "      <td>None</td>\n",
       "      <td>None</td>\n",
       "      <td>None</td>\n",
       "      <td>0</td>\n",
       "      <td>0</td>\n",
       "      <td>None</td>\n",
       "      <td>0</td>\n",
       "      <td>0</td>\n",
       "      <td>NaN</td>\n",
       "      <td>NaN</td>\n",
       "      <td>NaN</td>\n",
       "      <td>https://dl5zpyw5k3jeb.cloudfront.net/photos/pets/25777517/1/?bust=1420716236&amp;width=300</td>\n",
       "      <td>https://dl5zpyw5k3jeb.cloudfront.net/photos/pets/25777517/1/?bust=1420716236&amp;width=450</td>\n",
       "      <td>https://dl5zpyw5k3jeb.cloudfront.net/photos/pets/25777517/1/?bust=1420716236&amp;width=600</td>\n",
       "      <td>https://dl5zpyw5k3jeb.cloudfront.net/photos/pets/25777517/1/?bust=1420716236</td>\n",
       "      <td>ig@italiangreyhoundplace.com</td>\n",
       "      <td>None</td>\n",
       "      <td>None</td>\n",
       "      <td>None</td>\n",
       "      <td>Croton on Hudson</td>\n",
       "      <td>NY</td>\n",
       "      <td>10520</td>\n",
       "      <td>US</td>\n",
       "      <td>25777517</td>\n",
       "      <td>dog</td>\n",
       "      <td>None</td>\n",
       "      <td>2021-10-31 00:00:00+00:00</td>\n",
       "      <td>None</td>\n",
       "    </tr>\n",
       "    <tr>\n",
       "      <th>25874439</th>\n",
       "      <td>7</td>\n",
       "      <td>8</td>\n",
       "      <td>3126</td>\n",
       "      <td>8</td>\n",
       "      <td>2021-11-07 00:00:00+00:00</td>\n",
       "      <td>False</td>\n",
       "      <td>True</td>\n",
       "      <td>25874439</td>\n",
       "      <td>NY892</td>\n",
       "      <td>https://www.petfinder.com/dog/ibizan-hounds-nationally-located-25874439/ny/new-york/ibizan-hound-club-of-the-united-states-rescue-ny892/?referrer_id=a0b0e7e5-a0ff-4872-86f9-c0328ab65a7c</td>\n",
       "      <td>Dog</td>\n",
       "      <td>Dog</td>\n",
       "      <td>Adult</td>\n",
       "      <td>Male</td>\n",
       "      <td>Large</td>\n",
       "      <td>Short</td>\n",
       "      <td>0                                                      []\\n1                                                      []\\n2       [Friendly, Affectionate, Loyal, Gentle, Playfu...\\n3       [Friendly, ...</td>\n",
       "      <td>Ibizan Hounds (Nationally Located)</td>\n",
       "      <td>IHCUS Rescue is the only national rescue group solely dedicated to Ibizan Hounds. All of our rescues are fostered in...</td>\n",
       "      <td>None</td>\n",
       "      <td>0       [{'small': 'https://dl5zpyw5k3jeb.cloudfront.n...\\n1       [{'small': 'https://dl5zpyw5k3jeb.cloudfront.n...\\n2       [{'small': 'https://dl5zpyw5k3jeb.cloudfront.n...\\n3       [{'small': ...</td>\n",
       "      <td>0                                                      []\\n1       [{'embed': '&lt;iframe title=\"Video\" frameborder=...\\n2       [{'embed': '&lt;iframe title=\"Video\" frameborder=...\\n3                  ...</td>\n",
       "      <td>adoptable</td>\n",
       "      <td>2013-04-16 13:38:09+00:00</td>\n",
       "      <td>2013-04-16 13:38:09+00:00</td>\n",
       "      <td>6.4998</td>\n",
       "      <td>Ibizan Hound</td>\n",
       "      <td>None</td>\n",
       "      <td>0</td>\n",
       "      <td>0</td>\n",
       "      <td>Red / Chestnut / Orange</td>\n",
       "      <td>White / Cream</td>\n",
       "      <td>None</td>\n",
       "      <td>1</td>\n",
       "      <td>1</td>\n",
       "      <td>None</td>\n",
       "      <td>0</td>\n",
       "      <td>1</td>\n",
       "      <td>NaN</td>\n",
       "      <td>NaN</td>\n",
       "      <td>NaN</td>\n",
       "      <td>https://dl5zpyw5k3jeb.cloudfront.net/photos/pets/25874439/3/?bust=1493734240&amp;width=300</td>\n",
       "      <td>https://dl5zpyw5k3jeb.cloudfront.net/photos/pets/25874439/3/?bust=1493734240&amp;width=450</td>\n",
       "      <td>https://dl5zpyw5k3jeb.cloudfront.net/photos/pets/25874439/3/?bust=1493734240&amp;width=600</td>\n",
       "      <td>https://dl5zpyw5k3jeb.cloudfront.net/photos/pets/25874439/3/?bust=1493734240</td>\n",
       "      <td>rescue@ihcus.org</td>\n",
       "      <td>None</td>\n",
       "      <td>None</td>\n",
       "      <td>None</td>\n",
       "      <td>New York</td>\n",
       "      <td>NY</td>\n",
       "      <td>10032</td>\n",
       "      <td>US</td>\n",
       "      <td>25874439</td>\n",
       "      <td>dog</td>\n",
       "      <td>None</td>\n",
       "      <td>2021-10-31 00:00:00+00:00</td>\n",
       "      <td>None</td>\n",
       "    </tr>\n",
       "    <tr>\n",
       "      <th>27249421</th>\n",
       "      <td>7</td>\n",
       "      <td>8</td>\n",
       "      <td>2977</td>\n",
       "      <td>8</td>\n",
       "      <td>2021-11-07 00:00:00+00:00</td>\n",
       "      <td>False</td>\n",
       "      <td>True</td>\n",
       "      <td>27249421</td>\n",
       "      <td>NY102</td>\n",
       "      <td>https://www.petfinder.com/dog/luke-27249421/ny/bayside/for-our-friends-inc-ny102/?referrer_id=a0b0e7e5-a0ff-4872-86f9-c0328ab65a7c</td>\n",
       "      <td>Dog</td>\n",
       "      <td>Dog</td>\n",
       "      <td>Senior</td>\n",
       "      <td>Male</td>\n",
       "      <td>Medium</td>\n",
       "      <td>Short</td>\n",
       "      <td>0                                                      []\\n1                                                      []\\n2       [Friendly, Affectionate, Loyal, Gentle, Playfu...\\n3       [Friendly, ...</td>\n",
       "      <td>Luke</td>\n",
       "      <td>My name is Luke and I am a very handsome and loving 10 year-old Bull Terrier Mix.  I was found...</td>\n",
       "      <td>997</td>\n",
       "      <td>0       [{'small': 'https://dl5zpyw5k3jeb.cloudfront.n...\\n1       [{'small': 'https://dl5zpyw5k3jeb.cloudfront.n...\\n2       [{'small': 'https://dl5zpyw5k3jeb.cloudfront.n...\\n3       [{'small': ...</td>\n",
       "      <td>0                                                      []\\n1       [{'embed': '&lt;iframe title=\"Video\" frameborder=...\\n2       [{'embed': '&lt;iframe title=\"Video\" frameborder=...\\n3                  ...</td>\n",
       "      <td>adoptable</td>\n",
       "      <td>2021-08-09 04:14:35+00:00</td>\n",
       "      <td>2013-09-12 00:04:47+00:00</td>\n",
       "      <td>7.0267</td>\n",
       "      <td>Bull Terrier</td>\n",
       "      <td>Great Dane</td>\n",
       "      <td>1</td>\n",
       "      <td>0</td>\n",
       "      <td>White / Cream</td>\n",
       "      <td>Apricot / Beige</td>\n",
       "      <td>None</td>\n",
       "      <td>1</td>\n",
       "      <td>1</td>\n",
       "      <td>None</td>\n",
       "      <td>0</td>\n",
       "      <td>1</td>\n",
       "      <td>0.0</td>\n",
       "      <td>0.0</td>\n",
       "      <td>0.0</td>\n",
       "      <td>https://dl5zpyw5k3jeb.cloudfront.net/photos/pets/27249421/4/?bust=1498679095&amp;width=300</td>\n",
       "      <td>https://dl5zpyw5k3jeb.cloudfront.net/photos/pets/27249421/4/?bust=1498679095&amp;width=450</td>\n",
       "      <td>https://dl5zpyw5k3jeb.cloudfront.net/photos/pets/27249421/4/?bust=1498679095&amp;width=600</td>\n",
       "      <td>https://dl5zpyw5k3jeb.cloudfront.net/photos/pets/27249421/4/?bust=1498679095</td>\n",
       "      <td>fofdogrescue@yahoo.com</td>\n",
       "      <td>718-595-2161</td>\n",
       "      <td>P.O. Box 203</td>\n",
       "      <td>None</td>\n",
       "      <td>Bayside</td>\n",
       "      <td>NY</td>\n",
       "      <td>11364</td>\n",
       "      <td>US</td>\n",
       "      <td>27249421</td>\n",
       "      <td>dog</td>\n",
       "      <td>None</td>\n",
       "      <td>2021-10-31 00:00:00+00:00</td>\n",
       "      <td>None</td>\n",
       "    </tr>\n",
       "    <tr>\n",
       "      <th>...</th>\n",
       "      <td>...</td>\n",
       "      <td>...</td>\n",
       "      <td>...</td>\n",
       "      <td>...</td>\n",
       "      <td>...</td>\n",
       "      <td>...</td>\n",
       "      <td>...</td>\n",
       "      <td>...</td>\n",
       "      <td>...</td>\n",
       "      <td>...</td>\n",
       "      <td>...</td>\n",
       "      <td>...</td>\n",
       "      <td>...</td>\n",
       "      <td>...</td>\n",
       "      <td>...</td>\n",
       "      <td>...</td>\n",
       "      <td>...</td>\n",
       "      <td>...</td>\n",
       "      <td>...</td>\n",
       "      <td>...</td>\n",
       "      <td>...</td>\n",
       "      <td>...</td>\n",
       "      <td>...</td>\n",
       "      <td>...</td>\n",
       "      <td>...</td>\n",
       "      <td>...</td>\n",
       "      <td>...</td>\n",
       "      <td>...</td>\n",
       "      <td>...</td>\n",
       "      <td>...</td>\n",
       "      <td>...</td>\n",
       "      <td>...</td>\n",
       "      <td>...</td>\n",
       "      <td>...</td>\n",
       "      <td>...</td>\n",
       "      <td>...</td>\n",
       "      <td>...</td>\n",
       "      <td>...</td>\n",
       "      <td>...</td>\n",
       "      <td>...</td>\n",
       "      <td>...</td>\n",
       "      <td>...</td>\n",
       "      <td>...</td>\n",
       "      <td>...</td>\n",
       "      <td>...</td>\n",
       "      <td>...</td>\n",
       "      <td>...</td>\n",
       "      <td>...</td>\n",
       "      <td>...</td>\n",
       "      <td>...</td>\n",
       "      <td>...</td>\n",
       "      <td>...</td>\n",
       "      <td>...</td>\n",
       "      <td>...</td>\n",
       "      <td>...</td>\n",
       "      <td>...</td>\n",
       "      <td>...</td>\n",
       "      <td>...</td>\n",
       "    </tr>\n",
       "    <tr>\n",
       "      <th>53491907</th>\n",
       "      <td>0</td>\n",
       "      <td>1</td>\n",
       "      <td>-1</td>\n",
       "      <td>1</td>\n",
       "      <td>2021-11-07 00:00:00+00:00</td>\n",
       "      <td>False</td>\n",
       "      <td>True</td>\n",
       "      <td>53491907</td>\n",
       "      <td>GA960</td>\n",
       "      <td>https://www.petfinder.com/dog/josie-53491907/nj/wallington/2-hands-saving-4-paws-ga960/?referrer_id=a0b0e7e5-a0ff-4872-86f9-c0328ab65a7c</td>\n",
       "      <td>Dog</td>\n",
       "      <td>Dog</td>\n",
       "      <td>Young</td>\n",
       "      <td>Female</td>\n",
       "      <td>Medium</td>\n",
       "      <td>Short</td>\n",
       "      <td>0       [Friendly, Playful, Smart, Curious, Affectionate]\\n1       [Friendly, Affectionate, Loyal, Gentle, Playfu...\\n2                                                      []\\n3                  ...</td>\n",
       "      <td>Josie</td>\n",
       "      <td>Rescues seeking their forever homes. Available November 6, 2021 at Pet Supplies Plus - Wallington, NJ\\nFun, loving, playful, dog...</td>\n",
       "      <td>None</td>\n",
       "      <td>0       [{'small': 'https://dl5zpyw5k3jeb.cloudfront.n...\\n1       [{'small': 'https://dl5zpyw5k3jeb.cloudfront.n...\\n2       [{'small': 'https://dl5zpyw5k3jeb.cloudfront.n...\\n3       [{'small': ...</td>\n",
       "      <td>0                                                      []\\n1                                                      []\\n2       [{'embed': '&lt;iframe title=\"Video\" frameborder=...\\n3                  ...</td>\n",
       "      <td>adoptable</td>\n",
       "      <td>2021-11-07 00:59:18+00:00</td>\n",
       "      <td>2021-11-07 00:59:18+00:00</td>\n",
       "      <td>14.4649</td>\n",
       "      <td>Boxer</td>\n",
       "      <td>Mixed Breed</td>\n",
       "      <td>1</td>\n",
       "      <td>0</td>\n",
       "      <td>Brown / Chocolate</td>\n",
       "      <td>None</td>\n",
       "      <td>None</td>\n",
       "      <td>1</td>\n",
       "      <td>0</td>\n",
       "      <td>None</td>\n",
       "      <td>0</td>\n",
       "      <td>1</td>\n",
       "      <td>1.0</td>\n",
       "      <td>1.0</td>\n",
       "      <td>NaN</td>\n",
       "      <td>https://dl5zpyw5k3jeb.cloudfront.net/photos/pets/53491907/1/?bust=1636246756&amp;width=300</td>\n",
       "      <td>https://dl5zpyw5k3jeb.cloudfront.net/photos/pets/53491907/1/?bust=1636246756&amp;width=450</td>\n",
       "      <td>https://dl5zpyw5k3jeb.cloudfront.net/photos/pets/53491907/1/?bust=1636246756&amp;width=600</td>\n",
       "      <td>https://dl5zpyw5k3jeb.cloudfront.net/photos/pets/53491907/1/?bust=1636246756</td>\n",
       "      <td>2handssaving4pawshumanesociety@gmail.com</td>\n",
       "      <td>None</td>\n",
       "      <td>None</td>\n",
       "      <td>None</td>\n",
       "      <td>Wallington</td>\n",
       "      <td>NJ</td>\n",
       "      <td>07057</td>\n",
       "      <td>US</td>\n",
       "      <td>53491907</td>\n",
       "      <td>dog</td>\n",
       "      <td>None</td>\n",
       "      <td>2021-11-07 00:00:00+00:00</td>\n",
       "      <td>2 Hands Saving 4 Paws</td>\n",
       "    </tr>\n",
       "    <tr>\n",
       "      <th>53492168</th>\n",
       "      <td>0</td>\n",
       "      <td>1</td>\n",
       "      <td>-1</td>\n",
       "      <td>1</td>\n",
       "      <td>2021-11-07 00:00:00+00:00</td>\n",
       "      <td>False</td>\n",
       "      <td>True</td>\n",
       "      <td>53492168</td>\n",
       "      <td>NJ279</td>\n",
       "      <td>https://www.petfinder.com/dog/ace-53492168/nj/closter/claws-nj279/?referrer_id=a0b0e7e5-a0ff-4872-86f9-c0328ab65a7c</td>\n",
       "      <td>Dog</td>\n",
       "      <td>Dog</td>\n",
       "      <td>Baby</td>\n",
       "      <td>Male</td>\n",
       "      <td>Medium</td>\n",
       "      <td>Short</td>\n",
       "      <td>0       [Friendly, Playful, Smart, Curious, Affectionate]\\n1       [Friendly, Affectionate, Loyal, Gentle, Playfu...\\n2                                                      []\\n3                  ...</td>\n",
       "      <td>Ace</td>\n",
       "      <td>Meet Ace! This handsome and cool dude is under a year old and around 45 pounds. He will be neutered...</td>\n",
       "      <td>Leanna</td>\n",
       "      <td>0       [{'small': 'https://dl5zpyw5k3jeb.cloudfront.n...\\n1       [{'small': 'https://dl5zpyw5k3jeb.cloudfront.n...\\n2       [{'small': 'https://dl5zpyw5k3jeb.cloudfront.n...\\n3       [{'small': ...</td>\n",
       "      <td>0                                                      []\\n1                                                      []\\n2       [{'embed': '&lt;iframe title=\"Video\" frameborder=...\\n3                  ...</td>\n",
       "      <td>adoptable</td>\n",
       "      <td>2021-11-07 02:06:05+00:00</td>\n",
       "      <td>2021-11-07 02:06:05+00:00</td>\n",
       "      <td>9.8347</td>\n",
       "      <td>American Staffordshire Terrier</td>\n",
       "      <td>None</td>\n",
       "      <td>0</td>\n",
       "      <td>0</td>\n",
       "      <td>Red / Chestnut / Orange</td>\n",
       "      <td>None</td>\n",
       "      <td>None</td>\n",
       "      <td>0</td>\n",
       "      <td>1</td>\n",
       "      <td>None</td>\n",
       "      <td>0</td>\n",
       "      <td>0</td>\n",
       "      <td>1.0</td>\n",
       "      <td>NaN</td>\n",
       "      <td>0.0</td>\n",
       "      <td>https://dl5zpyw5k3jeb.cloudfront.net/photos/pets/53492168/1/?bust=1636250761&amp;width=300</td>\n",
       "      <td>https://dl5zpyw5k3jeb.cloudfront.net/photos/pets/53492168/1/?bust=1636250761&amp;width=450</td>\n",
       "      <td>https://dl5zpyw5k3jeb.cloudfront.net/photos/pets/53492168/1/?bust=1636250761&amp;width=600</td>\n",
       "      <td>https://dl5zpyw5k3jeb.cloudfront.net/photos/pets/53492168/1/?bust=1636250761</td>\n",
       "      <td>clawsadopt@yahoo.com</td>\n",
       "      <td>(201) 768-0200</td>\n",
       "      <td>None</td>\n",
       "      <td>None</td>\n",
       "      <td>Closter</td>\n",
       "      <td>NJ</td>\n",
       "      <td>07624</td>\n",
       "      <td>US</td>\n",
       "      <td>53492168</td>\n",
       "      <td>dog</td>\n",
       "      <td>None</td>\n",
       "      <td>2021-11-07 00:00:00+00:00</td>\n",
       "      <td>CLAWS</td>\n",
       "    </tr>\n",
       "    <tr>\n",
       "      <th>53492314</th>\n",
       "      <td>0</td>\n",
       "      <td>1</td>\n",
       "      <td>-1</td>\n",
       "      <td>1</td>\n",
       "      <td>2021-11-07 00:00:00+00:00</td>\n",
       "      <td>False</td>\n",
       "      <td>True</td>\n",
       "      <td>53492314</td>\n",
       "      <td>NY611</td>\n",
       "      <td>https://www.petfinder.com/dog/buddy-53492314/ny/bedford/community-cats-inc-ny611/?referrer_id=a0b0e7e5-a0ff-4872-86f9-c0328ab65a7c</td>\n",
       "      <td>Dog</td>\n",
       "      <td>Dog</td>\n",
       "      <td>Baby</td>\n",
       "      <td>Male</td>\n",
       "      <td>Medium</td>\n",
       "      <td>Short</td>\n",
       "      <td>0       [Friendly, Playful, Smart, Curious, Affectionate]\\n1       [Friendly, Affectionate, Loyal, Gentle, Playfu...\\n2                                                      []\\n3                  ...</td>\n",
       "      <td>Buddy</td>\n",
       "      <td>Buddy is aptly named because he makes the perfect one!  This 11 month old from Tennessee is as sweet as...</td>\n",
       "      <td>None</td>\n",
       "      <td>0       [{'small': 'https://dl5zpyw5k3jeb.cloudfront.n...\\n1       [{'small': 'https://dl5zpyw5k3jeb.cloudfront.n...\\n2       [{'small': 'https://dl5zpyw5k3jeb.cloudfront.n...\\n3       [{'small': ...</td>\n",
       "      <td>0                                                      []\\n1                                                      []\\n2       [{'embed': '&lt;iframe title=\"Video\" frameborder=...\\n3                  ...</td>\n",
       "      <td>adoptable</td>\n",
       "      <td>2021-11-07 02:47:34+00:00</td>\n",
       "      <td>2021-11-07 02:47:34+00:00</td>\n",
       "      <td>23.9204</td>\n",
       "      <td>Pit Bull Terrier</td>\n",
       "      <td>None</td>\n",
       "      <td>0</td>\n",
       "      <td>0</td>\n",
       "      <td>Merle (Red)</td>\n",
       "      <td>None</td>\n",
       "      <td>None</td>\n",
       "      <td>1</td>\n",
       "      <td>1</td>\n",
       "      <td>None</td>\n",
       "      <td>0</td>\n",
       "      <td>1</td>\n",
       "      <td>1.0</td>\n",
       "      <td>1.0</td>\n",
       "      <td>NaN</td>\n",
       "      <td>https://dl5zpyw5k3jeb.cloudfront.net/photos/pets/53492314/1/?bust=1636253249&amp;width=300</td>\n",
       "      <td>https://dl5zpyw5k3jeb.cloudfront.net/photos/pets/53492314/1/?bust=1636253249&amp;width=450</td>\n",
       "      <td>https://dl5zpyw5k3jeb.cloudfront.net/photos/pets/53492314/1/?bust=1636253249&amp;width=600</td>\n",
       "      <td>https://dl5zpyw5k3jeb.cloudfront.net/photos/pets/53492314/1/?bust=1636253249</td>\n",
       "      <td>communitycats@yahoo.com</td>\n",
       "      <td>914-234-3771</td>\n",
       "      <td>402 Old Post Road</td>\n",
       "      <td>None</td>\n",
       "      <td>Bedford</td>\n",
       "      <td>NY</td>\n",
       "      <td>10506</td>\n",
       "      <td>US</td>\n",
       "      <td>53492314</td>\n",
       "      <td>dog</td>\n",
       "      <td>None</td>\n",
       "      <td>2021-11-07 00:00:00+00:00</td>\n",
       "      <td>Community Cats Inc.</td>\n",
       "    </tr>\n",
       "    <tr>\n",
       "      <th>53492320</th>\n",
       "      <td>0</td>\n",
       "      <td>1</td>\n",
       "      <td>-1</td>\n",
       "      <td>1</td>\n",
       "      <td>2021-11-07 00:00:00+00:00</td>\n",
       "      <td>False</td>\n",
       "      <td>True</td>\n",
       "      <td>53492320</td>\n",
       "      <td>NY245</td>\n",
       "      <td>https://www.petfinder.com/dog/manchita-53492320/ny/new-york/stray-from-the-heart-ny245/?referrer_id=a0b0e7e5-a0ff-4872-86f9-c0328ab65a7c</td>\n",
       "      <td>Dog</td>\n",
       "      <td>Dog</td>\n",
       "      <td>Adult</td>\n",
       "      <td>Female</td>\n",
       "      <td>Medium</td>\n",
       "      <td>None</td>\n",
       "      <td>0       [Friendly, Playful, Smart, Curious, Affectionate]\\n1       [Friendly, Affectionate, Loyal, Gentle, Playfu...\\n2                                                      []\\n3                  ...</td>\n",
       "      <td>Manchita</td>\n",
       "      <td>Manchita is a beautiful girl who was rescued off the street with her two babies.  Her babies got adopted but...</td>\n",
       "      <td>None</td>\n",
       "      <td>0       [{'small': 'https://dl5zpyw5k3jeb.cloudfront.n...\\n1       [{'small': 'https://dl5zpyw5k3jeb.cloudfront.n...\\n2       [{'small': 'https://dl5zpyw5k3jeb.cloudfront.n...\\n3       [{'small': ...</td>\n",
       "      <td>0                                                      []\\n1                                                      []\\n2       [{'embed': '&lt;iframe title=\"Video\" frameborder=...\\n3                  ...</td>\n",
       "      <td>adoptable</td>\n",
       "      <td>2021-11-07 02:52:19+00:00</td>\n",
       "      <td>2021-11-07 02:52:19+00:00</td>\n",
       "      <td>10.4905</td>\n",
       "      <td>Border Collie</td>\n",
       "      <td>Mixed Breed</td>\n",
       "      <td>1</td>\n",
       "      <td>0</td>\n",
       "      <td>None</td>\n",
       "      <td>None</td>\n",
       "      <td>None</td>\n",
       "      <td>0</td>\n",
       "      <td>0</td>\n",
       "      <td>None</td>\n",
       "      <td>0</td>\n",
       "      <td>0</td>\n",
       "      <td>NaN</td>\n",
       "      <td>NaN</td>\n",
       "      <td>NaN</td>\n",
       "      <td>https://dl5zpyw5k3jeb.cloudfront.net/photos/pets/53492320/1/?bust=1636253535&amp;width=300</td>\n",
       "      <td>https://dl5zpyw5k3jeb.cloudfront.net/photos/pets/53492320/1/?bust=1636253535&amp;width=450</td>\n",
       "      <td>https://dl5zpyw5k3jeb.cloudfront.net/photos/pets/53492320/1/?bust=1636253535&amp;width=600</td>\n",
       "      <td>https://dl5zpyw5k3jeb.cloudfront.net/photos/pets/53492320/1/?bust=1636253535</td>\n",
       "      <td>patricia.strayfromtheheart@gmail.com</td>\n",
       "      <td>None</td>\n",
       "      <td>P.O. Box 11</td>\n",
       "      <td>None</td>\n",
       "      <td>New York</td>\n",
       "      <td>NY</td>\n",
       "      <td>10023</td>\n",
       "      <td>US</td>\n",
       "      <td>53492320</td>\n",
       "      <td>dog</td>\n",
       "      <td>None</td>\n",
       "      <td>2021-11-07 00:00:00+00:00</td>\n",
       "      <td>Stray From The Heart</td>\n",
       "    </tr>\n",
       "    <tr>\n",
       "      <th>53492780</th>\n",
       "      <td>0</td>\n",
       "      <td>1</td>\n",
       "      <td>-1</td>\n",
       "      <td>1</td>\n",
       "      <td>2021-11-07 00:00:00+00:00</td>\n",
       "      <td>False</td>\n",
       "      <td>True</td>\n",
       "      <td>53492780</td>\n",
       "      <td>NY1537</td>\n",
       "      <td>https://www.petfinder.com/dog/raja-53492780/ny/brooklyn/small-bites-rescue-inc-ny1537/?referrer_id=a0b0e7e5-a0ff-4872-86f9-c0328ab65a7c</td>\n",
       "      <td>Dog</td>\n",
       "      <td>Dog</td>\n",
       "      <td>Baby</td>\n",
       "      <td>Male</td>\n",
       "      <td>Large</td>\n",
       "      <td>Short</td>\n",
       "      <td>0       [Friendly, Playful, Smart, Curious, Affectionate]\\n1       [Friendly, Affectionate, Loyal, Gentle, Playfu...\\n2                                                      []\\n3                  ...</td>\n",
       "      <td>Raja</td>\n",
       "      <td>None</td>\n",
       "      <td>None</td>\n",
       "      <td>0       [{'small': 'https://dl5zpyw5k3jeb.cloudfront.n...\\n1       [{'small': 'https://dl5zpyw5k3jeb.cloudfront.n...\\n2       [{'small': 'https://dl5zpyw5k3jeb.cloudfront.n...\\n3       [{'small': ...</td>\n",
       "      <td>0                                                      []\\n1                                                      []\\n2       [{'embed': '&lt;iframe title=\"Video\" frameborder=...\\n3                  ...</td>\n",
       "      <td>adoptable</td>\n",
       "      <td>2021-11-07 05:03:43+00:00</td>\n",
       "      <td>2021-11-07 05:03:43+00:00</td>\n",
       "      <td>13.6441</td>\n",
       "      <td>Pit Bull Terrier</td>\n",
       "      <td>None</td>\n",
       "      <td>0</td>\n",
       "      <td>0</td>\n",
       "      <td>Red / Chestnut / Orange</td>\n",
       "      <td>None</td>\n",
       "      <td>None</td>\n",
       "      <td>0</td>\n",
       "      <td>0</td>\n",
       "      <td>None</td>\n",
       "      <td>0</td>\n",
       "      <td>1</td>\n",
       "      <td>1.0</td>\n",
       "      <td>1.0</td>\n",
       "      <td>NaN</td>\n",
       "      <td>https://dl5zpyw5k3jeb.cloudfront.net/photos/pets/53492780/1/?bust=1636261421&amp;width=300</td>\n",
       "      <td>https://dl5zpyw5k3jeb.cloudfront.net/photos/pets/53492780/1/?bust=1636261421&amp;width=450</td>\n",
       "      <td>https://dl5zpyw5k3jeb.cloudfront.net/photos/pets/53492780/1/?bust=1636261421&amp;width=600</td>\n",
       "      <td>https://dl5zpyw5k3jeb.cloudfront.net/photos/pets/53492780/1/?bust=1636261421</td>\n",
       "      <td>smallbitesrescueinc@gmail.com</td>\n",
       "      <td>None</td>\n",
       "      <td>None</td>\n",
       "      <td>None</td>\n",
       "      <td>Brooklyn</td>\n",
       "      <td>NY</td>\n",
       "      <td>11221</td>\n",
       "      <td>US</td>\n",
       "      <td>53492780</td>\n",
       "      <td>dog</td>\n",
       "      <td>None</td>\n",
       "      <td>2021-11-07 00:00:00+00:00</td>\n",
       "      <td>Small Bites Rescue Inc</td>\n",
       "    </tr>\n",
       "  </tbody>\n",
       "</table>\n",
       "<p>2853 rows × 58 columns</p>\n",
       "</div>"
      ],
      "text/plain": [
       "          Days in DB (yourdb)  Count  Days ad posted  Days adoptable  \\\n",
       "id                                                                     \n",
       "15546918                    7      8            4312               8   \n",
       "25009612                    7      8            3231               8   \n",
       "25777517                    7      8            3138               8   \n",
       "25874439                    7      8            3126               8   \n",
       "27249421                    7      8            2977               8   \n",
       "...                       ...    ...             ...             ...   \n",
       "53491907                    0      1              -1               1   \n",
       "53492168                    0      1              -1               1   \n",
       "53492314                    0      1              -1               1   \n",
       "53492320                    0      1              -1               1   \n",
       "53492780                    0      1              -1               1   \n",
       "\n",
       "                Last Adoptable Day  Adopted (last status)  \\\n",
       "id                                                          \n",
       "15546918 2021-11-07 00:00:00+00:00                  False   \n",
       "25009612 2021-11-07 00:00:00+00:00                  False   \n",
       "25777517 2021-11-07 00:00:00+00:00                  False   \n",
       "25874439 2021-11-07 00:00:00+00:00                  False   \n",
       "27249421 2021-11-07 00:00:00+00:00                  False   \n",
       "...                            ...                    ...   \n",
       "53491907 2021-11-07 00:00:00+00:00                  False   \n",
       "53492168 2021-11-07 00:00:00+00:00                  False   \n",
       "53492314 2021-11-07 00:00:00+00:00                  False   \n",
       "53492320 2021-11-07 00:00:00+00:00                  False   \n",
       "53492780 2021-11-07 00:00:00+00:00                  False   \n",
       "\n",
       "          Adopted (last date)        id organization_id  \\\n",
       "id                                                        \n",
       "15546918                 True  15546918           NY769   \n",
       "25009612                 True  25009612           NY955   \n",
       "25777517                 True  25777517           NY977   \n",
       "25874439                 True  25874439           NY892   \n",
       "27249421                 True  27249421           NY102   \n",
       "...                       ...       ...             ...   \n",
       "53491907                 True  53491907           GA960   \n",
       "53492168                 True  53492168           NJ279   \n",
       "53492314                 True  53492314           NY611   \n",
       "53492320                 True  53492320           NY245   \n",
       "53492780                 True  53492780          NY1537   \n",
       "\n",
       "                                                                                                                                                                                                url  \\\n",
       "id                                                                                                                                                                                                    \n",
       "15546918                                                    https://www.petfinder.com/dog/buddy-15546918/ny/glen-head/shepherds-hope-rescue-ny769/?referrer_id=a0b0e7e5-a0ff-4872-86f9-c0328ab65a7c   \n",
       "25009612                                                       https://www.petfinder.com/dog/franklin-25009612/ny/glen-cove/project-pet-inc-ny955/?referrer_id=a0b0e7e5-a0ff-4872-86f9-c0328ab65a7c   \n",
       "25777517                         https://www.petfinder.com/dog/italian-greyhound-place-25777517/ny/croton-on-hudson/italian-greyhound-place-ny977/?referrer_id=a0b0e7e5-a0ff-4872-86f9-c0328ab65a7c   \n",
       "25874439  https://www.petfinder.com/dog/ibizan-hounds-nationally-located-25874439/ny/new-york/ibizan-hound-club-of-the-united-states-rescue-ny892/?referrer_id=a0b0e7e5-a0ff-4872-86f9-c0328ab65a7c   \n",
       "27249421                                                         https://www.petfinder.com/dog/luke-27249421/ny/bayside/for-our-friends-inc-ny102/?referrer_id=a0b0e7e5-a0ff-4872-86f9-c0328ab65a7c   \n",
       "...                                                                                                                                                                                             ...   \n",
       "53491907                                                   https://www.petfinder.com/dog/josie-53491907/nj/wallington/2-hands-saving-4-paws-ga960/?referrer_id=a0b0e7e5-a0ff-4872-86f9-c0328ab65a7c   \n",
       "53492168                                                                        https://www.petfinder.com/dog/ace-53492168/nj/closter/claws-nj279/?referrer_id=a0b0e7e5-a0ff-4872-86f9-c0328ab65a7c   \n",
       "53492314                                                         https://www.petfinder.com/dog/buddy-53492314/ny/bedford/community-cats-inc-ny611/?referrer_id=a0b0e7e5-a0ff-4872-86f9-c0328ab65a7c   \n",
       "53492320                                                   https://www.petfinder.com/dog/manchita-53492320/ny/new-york/stray-from-the-heart-ny245/?referrer_id=a0b0e7e5-a0ff-4872-86f9-c0328ab65a7c   \n",
       "53492780                                                    https://www.petfinder.com/dog/raja-53492780/ny/brooklyn/small-bites-rescue-inc-ny1537/?referrer_id=a0b0e7e5-a0ff-4872-86f9-c0328ab65a7c   \n",
       "\n",
       "         type species     age  gender    size   coat  \\\n",
       "id                                                     \n",
       "15546918  Dog     Dog   Young    Male  Medium   None   \n",
       "25009612  Dog     Dog  Senior    Male  Medium  Short   \n",
       "25777517  Dog     Dog   Adult    Male   Small   None   \n",
       "25874439  Dog     Dog   Adult    Male   Large  Short   \n",
       "27249421  Dog     Dog  Senior    Male  Medium  Short   \n",
       "...       ...     ...     ...     ...     ...    ...   \n",
       "53491907  Dog     Dog   Young  Female  Medium  Short   \n",
       "53492168  Dog     Dog    Baby    Male  Medium  Short   \n",
       "53492314  Dog     Dog    Baby    Male  Medium  Short   \n",
       "53492320  Dog     Dog   Adult  Female  Medium   None   \n",
       "53492780  Dog     Dog    Baby    Male   Large  Short   \n",
       "\n",
       "                                                                                                                                                                                                             tags  \\\n",
       "id                                                                                                                                                                                                                  \n",
       "15546918  0                                                      []\\n1                                                      []\\n2       [Friendly, Affectionate, Loyal, Gentle, Playfu...\\n3       [Friendly, ...   \n",
       "25009612  0                                                      []\\n1                                                      []\\n2       [Friendly, Affectionate, Loyal, Gentle, Playfu...\\n3       [Friendly, ...   \n",
       "25777517  0                                                      []\\n1                                                      []\\n2       [Friendly, Affectionate, Loyal, Gentle, Playfu...\\n3       [Friendly, ...   \n",
       "25874439  0                                                      []\\n1                                                      []\\n2       [Friendly, Affectionate, Loyal, Gentle, Playfu...\\n3       [Friendly, ...   \n",
       "27249421  0                                                      []\\n1                                                      []\\n2       [Friendly, Affectionate, Loyal, Gentle, Playfu...\\n3       [Friendly, ...   \n",
       "...                                                                                                                                                                                                           ...   \n",
       "53491907  0       [Friendly, Playful, Smart, Curious, Affectionate]\\n1       [Friendly, Affectionate, Loyal, Gentle, Playfu...\\n2                                                      []\\n3                  ...   \n",
       "53492168  0       [Friendly, Playful, Smart, Curious, Affectionate]\\n1       [Friendly, Affectionate, Loyal, Gentle, Playfu...\\n2                                                      []\\n3                  ...   \n",
       "53492314  0       [Friendly, Playful, Smart, Curious, Affectionate]\\n1       [Friendly, Affectionate, Loyal, Gentle, Playfu...\\n2                                                      []\\n3                  ...   \n",
       "53492320  0       [Friendly, Playful, Smart, Curious, Affectionate]\\n1       [Friendly, Affectionate, Loyal, Gentle, Playfu...\\n2                                                      []\\n3                  ...   \n",
       "53492780  0       [Friendly, Playful, Smart, Curious, Affectionate]\\n1       [Friendly, Affectionate, Loyal, Gentle, Playfu...\\n2                                                      []\\n3                  ...   \n",
       "\n",
       "                                        name  \\\n",
       "id                                             \n",
       "15546918                               Buddy   \n",
       "25009612                            Franklin   \n",
       "25777517             Italian Greyhound Place   \n",
       "25874439  Ibizan Hounds (Nationally Located)   \n",
       "27249421                                Luke   \n",
       "...                                      ...   \n",
       "53491907                               Josie   \n",
       "53492168                                 Ace   \n",
       "53492314                               Buddy   \n",
       "53492320                            Manchita   \n",
       "53492780                                Raja   \n",
       "\n",
       "                                                                                                                                                 description  \\\n",
       "id                                                                                                                                                             \n",
       "15546918                                      Here&#039;s Buddy, an adorable 8 year old Shepherd mix.  He was adopted from one of the city shelters to an...   \n",
       "25009612                      PLEASE EMAIL: mbwambwa@icloud.com\\nDIRECTLY TO FIND OUT HOW TO MEET THIS CUTIE!\\n\\nThis 8 year-old love muffin is summed up...   \n",
       "25777517  If you are interested in adopting (or fostering) an Italian Greyhound, please contact Italian Greyhound Place!\\n\\nPlease note: Photographs with...   \n",
       "25874439                             IHCUS Rescue is the only national rescue group solely dedicated to Ibizan Hounds. All of our rescues are fostered in...   \n",
       "27249421                                                   My name is Luke and I am a very handsome and loving 10 year-old Bull Terrier Mix.  I was found...   \n",
       "...                                                                                                                                                      ...   \n",
       "53491907                 Rescues seeking their forever homes. Available November 6, 2021 at Pet Supplies Plus - Wallington, NJ\\nFun, loving, playful, dog...   \n",
       "53492168                                              Meet Ace! This handsome and cool dude is under a year old and around 45 pounds. He will be neutered...   \n",
       "53492314                                          Buddy is aptly named because he makes the perfect one!  This 11 month old from Tennessee is as sweet as...   \n",
       "53492320                                     Manchita is a beautiful girl who was rescued off the street with her two babies.  Her babies got adopted but...   \n",
       "53492780                                                                                                                                                None   \n",
       "\n",
       "         organization_animal_id  \\\n",
       "id                                \n",
       "15546918                 825418   \n",
       "25009612                   None   \n",
       "25777517                   None   \n",
       "25874439                   None   \n",
       "27249421                    997   \n",
       "...                         ...   \n",
       "53491907                   None   \n",
       "53492168                 Leanna   \n",
       "53492314                   None   \n",
       "53492320                   None   \n",
       "53492780                   None   \n",
       "\n",
       "                                                                                                                                                                                                           photos  \\\n",
       "id                                                                                                                                                                                                                  \n",
       "15546918  0       [{'small': 'https://dl5zpyw5k3jeb.cloudfront.n...\\n1       [{'small': 'https://dl5zpyw5k3jeb.cloudfront.n...\\n2       [{'small': 'https://dl5zpyw5k3jeb.cloudfront.n...\\n3       [{'small': ...   \n",
       "25009612  0       [{'small': 'https://dl5zpyw5k3jeb.cloudfront.n...\\n1       [{'small': 'https://dl5zpyw5k3jeb.cloudfront.n...\\n2       [{'small': 'https://dl5zpyw5k3jeb.cloudfront.n...\\n3       [{'small': ...   \n",
       "25777517  0       [{'small': 'https://dl5zpyw5k3jeb.cloudfront.n...\\n1       [{'small': 'https://dl5zpyw5k3jeb.cloudfront.n...\\n2       [{'small': 'https://dl5zpyw5k3jeb.cloudfront.n...\\n3       [{'small': ...   \n",
       "25874439  0       [{'small': 'https://dl5zpyw5k3jeb.cloudfront.n...\\n1       [{'small': 'https://dl5zpyw5k3jeb.cloudfront.n...\\n2       [{'small': 'https://dl5zpyw5k3jeb.cloudfront.n...\\n3       [{'small': ...   \n",
       "27249421  0       [{'small': 'https://dl5zpyw5k3jeb.cloudfront.n...\\n1       [{'small': 'https://dl5zpyw5k3jeb.cloudfront.n...\\n2       [{'small': 'https://dl5zpyw5k3jeb.cloudfront.n...\\n3       [{'small': ...   \n",
       "...                                                                                                                                                                                                           ...   \n",
       "53491907  0       [{'small': 'https://dl5zpyw5k3jeb.cloudfront.n...\\n1       [{'small': 'https://dl5zpyw5k3jeb.cloudfront.n...\\n2       [{'small': 'https://dl5zpyw5k3jeb.cloudfront.n...\\n3       [{'small': ...   \n",
       "53492168  0       [{'small': 'https://dl5zpyw5k3jeb.cloudfront.n...\\n1       [{'small': 'https://dl5zpyw5k3jeb.cloudfront.n...\\n2       [{'small': 'https://dl5zpyw5k3jeb.cloudfront.n...\\n3       [{'small': ...   \n",
       "53492314  0       [{'small': 'https://dl5zpyw5k3jeb.cloudfront.n...\\n1       [{'small': 'https://dl5zpyw5k3jeb.cloudfront.n...\\n2       [{'small': 'https://dl5zpyw5k3jeb.cloudfront.n...\\n3       [{'small': ...   \n",
       "53492320  0       [{'small': 'https://dl5zpyw5k3jeb.cloudfront.n...\\n1       [{'small': 'https://dl5zpyw5k3jeb.cloudfront.n...\\n2       [{'small': 'https://dl5zpyw5k3jeb.cloudfront.n...\\n3       [{'small': ...   \n",
       "53492780  0       [{'small': 'https://dl5zpyw5k3jeb.cloudfront.n...\\n1       [{'small': 'https://dl5zpyw5k3jeb.cloudfront.n...\\n2       [{'small': 'https://dl5zpyw5k3jeb.cloudfront.n...\\n3       [{'small': ...   \n",
       "\n",
       "                                                                                                                                                                                                           videos  \\\n",
       "id                                                                                                                                                                                                                  \n",
       "15546918  0                                                      []\\n1       [{'embed': '<iframe title=\"Video\" frameborder=...\\n2       [{'embed': '<iframe title=\"Video\" frameborder=...\\n3                  ...   \n",
       "25009612  0                                                      []\\n1       [{'embed': '<iframe title=\"Video\" frameborder=...\\n2       [{'embed': '<iframe title=\"Video\" frameborder=...\\n3                  ...   \n",
       "25777517  0                                                      []\\n1       [{'embed': '<iframe title=\"Video\" frameborder=...\\n2       [{'embed': '<iframe title=\"Video\" frameborder=...\\n3                  ...   \n",
       "25874439  0                                                      []\\n1       [{'embed': '<iframe title=\"Video\" frameborder=...\\n2       [{'embed': '<iframe title=\"Video\" frameborder=...\\n3                  ...   \n",
       "27249421  0                                                      []\\n1       [{'embed': '<iframe title=\"Video\" frameborder=...\\n2       [{'embed': '<iframe title=\"Video\" frameborder=...\\n3                  ...   \n",
       "...                                                                                                                                                                                                           ...   \n",
       "53491907  0                                                      []\\n1                                                      []\\n2       [{'embed': '<iframe title=\"Video\" frameborder=...\\n3                  ...   \n",
       "53492168  0                                                      []\\n1                                                      []\\n2       [{'embed': '<iframe title=\"Video\" frameborder=...\\n3                  ...   \n",
       "53492314  0                                                      []\\n1                                                      []\\n2       [{'embed': '<iframe title=\"Video\" frameborder=...\\n3                  ...   \n",
       "53492320  0                                                      []\\n1                                                      []\\n2       [{'embed': '<iframe title=\"Video\" frameborder=...\\n3                  ...   \n",
       "53492780  0                                                      []\\n1                                                      []\\n2       [{'embed': '<iframe title=\"Video\" frameborder=...\\n3                  ...   \n",
       "\n",
       "             status         status_changed_at              published_at  \\\n",
       "id                                                                        \n",
       "15546918  adoptable 2010-01-17 20:48:17+00:00 2010-01-17 00:00:00+00:00   \n",
       "25009612  adoptable 2014-09-29 20:37:01+00:00 2013-01-01 16:05:32+00:00   \n",
       "25777517  adoptable 2013-04-04 13:23:29+00:00 2013-04-04 13:23:29+00:00   \n",
       "25874439  adoptable 2013-04-16 13:38:09+00:00 2013-04-16 13:38:09+00:00   \n",
       "27249421  adoptable 2021-08-09 04:14:35+00:00 2013-09-12 00:04:47+00:00   \n",
       "...             ...                       ...                       ...   \n",
       "53491907  adoptable 2021-11-07 00:59:18+00:00 2021-11-07 00:59:18+00:00   \n",
       "53492168  adoptable 2021-11-07 02:06:05+00:00 2021-11-07 02:06:05+00:00   \n",
       "53492314  adoptable 2021-11-07 02:47:34+00:00 2021-11-07 02:47:34+00:00   \n",
       "53492320  adoptable 2021-11-07 02:52:19+00:00 2021-11-07 02:52:19+00:00   \n",
       "53492780  adoptable 2021-11-07 05:03:43+00:00 2021-11-07 05:03:43+00:00   \n",
       "\n",
       "          distance                  breeds.primary breeds.secondary  \\\n",
       "id                                                                    \n",
       "15546918   10.9750                        Shepherd             None   \n",
       "25009612   10.6483                         Terrier             None   \n",
       "25777517   23.4174               Italian Greyhound             None   \n",
       "25874439    6.4998                    Ibizan Hound             None   \n",
       "27249421    7.0267                    Bull Terrier       Great Dane   \n",
       "...            ...                             ...              ...   \n",
       "53491907   14.4649                           Boxer      Mixed Breed   \n",
       "53492168    9.8347  American Staffordshire Terrier             None   \n",
       "53492314   23.9204                Pit Bull Terrier             None   \n",
       "53492320   10.4905                   Border Collie      Mixed Breed   \n",
       "53492780   13.6441                Pit Bull Terrier             None   \n",
       "\n",
       "          breeds.mixed  breeds.unknown               colors.primary  \\\n",
       "id                                                                    \n",
       "15546918             1               0                         None   \n",
       "25009612             1               0  Yellow / Tan / Blond / Fawn   \n",
       "25777517             0               0                         None   \n",
       "25874439             0               0      Red / Chestnut / Orange   \n",
       "27249421             1               0                White / Cream   \n",
       "...                ...             ...                          ...   \n",
       "53491907             1               0            Brown / Chocolate   \n",
       "53492168             0               0      Red / Chestnut / Orange   \n",
       "53492314             0               0                  Merle (Red)   \n",
       "53492320             1               0                         None   \n",
       "53492780             0               0      Red / Chestnut / Orange   \n",
       "\n",
       "         colors.secondary colors.tertiary  attributes.spayed_neutered  \\\n",
       "id                                                                      \n",
       "15546918             None            None                           1   \n",
       "25009612    White / Cream            None                           1   \n",
       "25777517             None            None                           0   \n",
       "25874439    White / Cream            None                           1   \n",
       "27249421  Apricot / Beige            None                           1   \n",
       "...                   ...             ...                         ...   \n",
       "53491907             None            None                           1   \n",
       "53492168             None            None                           0   \n",
       "53492314             None            None                           1   \n",
       "53492320             None            None                           0   \n",
       "53492780             None            None                           0   \n",
       "\n",
       "          attributes.house_trained attributes.declawed  \\\n",
       "id                                                       \n",
       "15546918                         1                None   \n",
       "25009612                         1                None   \n",
       "25777517                         0                None   \n",
       "25874439                         1                None   \n",
       "27249421                         1                None   \n",
       "...                            ...                 ...   \n",
       "53491907                         0                None   \n",
       "53492168                         1                None   \n",
       "53492314                         1                None   \n",
       "53492320                         0                None   \n",
       "53492780                         0                None   \n",
       "\n",
       "          attributes.special_needs  attributes.shots_current  \\\n",
       "id                                                             \n",
       "15546918                         0                         1   \n",
       "25009612                         0                         1   \n",
       "25777517                         0                         0   \n",
       "25874439                         0                         1   \n",
       "27249421                         0                         1   \n",
       "...                            ...                       ...   \n",
       "53491907                         0                         1   \n",
       "53492168                         0                         0   \n",
       "53492314                         0                         1   \n",
       "53492320                         0                         0   \n",
       "53492780                         0                         1   \n",
       "\n",
       "          environment.children  environment.dogs  environment.cats  \\\n",
       "id                                                                   \n",
       "15546918                   0.0               0.0               0.0   \n",
       "25009612                   NaN               1.0               NaN   \n",
       "25777517                   NaN               NaN               NaN   \n",
       "25874439                   NaN               NaN               NaN   \n",
       "27249421                   0.0               0.0               0.0   \n",
       "...                        ...               ...               ...   \n",
       "53491907                   1.0               1.0               NaN   \n",
       "53492168                   1.0               NaN               0.0   \n",
       "53492314                   1.0               1.0               NaN   \n",
       "53492320                   NaN               NaN               NaN   \n",
       "53492780                   1.0               1.0               NaN   \n",
       "\n",
       "                                                                     primary_photo_cropped.small  \\\n",
       "id                                                                                                 \n",
       "15546918  https://dl5zpyw5k3jeb.cloudfront.net/photos/pets/15546918/3/?bust=1452873122&width=300   \n",
       "25009612  https://dl5zpyw5k3jeb.cloudfront.net/photos/pets/25009612/4/?bust=1533002011&width=300   \n",
       "25777517  https://dl5zpyw5k3jeb.cloudfront.net/photos/pets/25777517/1/?bust=1420716236&width=300   \n",
       "25874439  https://dl5zpyw5k3jeb.cloudfront.net/photos/pets/25874439/3/?bust=1493734240&width=300   \n",
       "27249421  https://dl5zpyw5k3jeb.cloudfront.net/photos/pets/27249421/4/?bust=1498679095&width=300   \n",
       "...                                                                                          ...   \n",
       "53491907  https://dl5zpyw5k3jeb.cloudfront.net/photos/pets/53491907/1/?bust=1636246756&width=300   \n",
       "53492168  https://dl5zpyw5k3jeb.cloudfront.net/photos/pets/53492168/1/?bust=1636250761&width=300   \n",
       "53492314  https://dl5zpyw5k3jeb.cloudfront.net/photos/pets/53492314/1/?bust=1636253249&width=300   \n",
       "53492320  https://dl5zpyw5k3jeb.cloudfront.net/photos/pets/53492320/1/?bust=1636253535&width=300   \n",
       "53492780  https://dl5zpyw5k3jeb.cloudfront.net/photos/pets/53492780/1/?bust=1636261421&width=300   \n",
       "\n",
       "                                                                    primary_photo_cropped.medium  \\\n",
       "id                                                                                                 \n",
       "15546918  https://dl5zpyw5k3jeb.cloudfront.net/photos/pets/15546918/3/?bust=1452873122&width=450   \n",
       "25009612  https://dl5zpyw5k3jeb.cloudfront.net/photos/pets/25009612/4/?bust=1533002011&width=450   \n",
       "25777517  https://dl5zpyw5k3jeb.cloudfront.net/photos/pets/25777517/1/?bust=1420716236&width=450   \n",
       "25874439  https://dl5zpyw5k3jeb.cloudfront.net/photos/pets/25874439/3/?bust=1493734240&width=450   \n",
       "27249421  https://dl5zpyw5k3jeb.cloudfront.net/photos/pets/27249421/4/?bust=1498679095&width=450   \n",
       "...                                                                                          ...   \n",
       "53491907  https://dl5zpyw5k3jeb.cloudfront.net/photos/pets/53491907/1/?bust=1636246756&width=450   \n",
       "53492168  https://dl5zpyw5k3jeb.cloudfront.net/photos/pets/53492168/1/?bust=1636250761&width=450   \n",
       "53492314  https://dl5zpyw5k3jeb.cloudfront.net/photos/pets/53492314/1/?bust=1636253249&width=450   \n",
       "53492320  https://dl5zpyw5k3jeb.cloudfront.net/photos/pets/53492320/1/?bust=1636253535&width=450   \n",
       "53492780  https://dl5zpyw5k3jeb.cloudfront.net/photos/pets/53492780/1/?bust=1636261421&width=450   \n",
       "\n",
       "                                                                     primary_photo_cropped.large  \\\n",
       "id                                                                                                 \n",
       "15546918  https://dl5zpyw5k3jeb.cloudfront.net/photos/pets/15546918/3/?bust=1452873122&width=600   \n",
       "25009612  https://dl5zpyw5k3jeb.cloudfront.net/photos/pets/25009612/4/?bust=1533002011&width=600   \n",
       "25777517  https://dl5zpyw5k3jeb.cloudfront.net/photos/pets/25777517/1/?bust=1420716236&width=600   \n",
       "25874439  https://dl5zpyw5k3jeb.cloudfront.net/photos/pets/25874439/3/?bust=1493734240&width=600   \n",
       "27249421  https://dl5zpyw5k3jeb.cloudfront.net/photos/pets/27249421/4/?bust=1498679095&width=600   \n",
       "...                                                                                          ...   \n",
       "53491907  https://dl5zpyw5k3jeb.cloudfront.net/photos/pets/53491907/1/?bust=1636246756&width=600   \n",
       "53492168  https://dl5zpyw5k3jeb.cloudfront.net/photos/pets/53492168/1/?bust=1636250761&width=600   \n",
       "53492314  https://dl5zpyw5k3jeb.cloudfront.net/photos/pets/53492314/1/?bust=1636253249&width=600   \n",
       "53492320  https://dl5zpyw5k3jeb.cloudfront.net/photos/pets/53492320/1/?bust=1636253535&width=600   \n",
       "53492780  https://dl5zpyw5k3jeb.cloudfront.net/photos/pets/53492780/1/?bust=1636261421&width=600   \n",
       "\n",
       "                                                            primary_photo_cropped.full  \\\n",
       "id                                                                                       \n",
       "15546918  https://dl5zpyw5k3jeb.cloudfront.net/photos/pets/15546918/3/?bust=1452873122   \n",
       "25009612  https://dl5zpyw5k3jeb.cloudfront.net/photos/pets/25009612/4/?bust=1533002011   \n",
       "25777517  https://dl5zpyw5k3jeb.cloudfront.net/photos/pets/25777517/1/?bust=1420716236   \n",
       "25874439  https://dl5zpyw5k3jeb.cloudfront.net/photos/pets/25874439/3/?bust=1493734240   \n",
       "27249421  https://dl5zpyw5k3jeb.cloudfront.net/photos/pets/27249421/4/?bust=1498679095   \n",
       "...                                                                                ...   \n",
       "53491907  https://dl5zpyw5k3jeb.cloudfront.net/photos/pets/53491907/1/?bust=1636246756   \n",
       "53492168  https://dl5zpyw5k3jeb.cloudfront.net/photos/pets/53492168/1/?bust=1636250761   \n",
       "53492314  https://dl5zpyw5k3jeb.cloudfront.net/photos/pets/53492314/1/?bust=1636253249   \n",
       "53492320  https://dl5zpyw5k3jeb.cloudfront.net/photos/pets/53492320/1/?bust=1636253535   \n",
       "53492780  https://dl5zpyw5k3jeb.cloudfront.net/photos/pets/53492780/1/?bust=1636261421   \n",
       "\n",
       "                                     contact.email   contact.phone  \\\n",
       "id                                                                   \n",
       "15546918                  toomanyshepherds@aol.com            None   \n",
       "25009612                 friends@projectpetinc.org            None   \n",
       "25777517              ig@italiangreyhoundplace.com            None   \n",
       "25874439                          rescue@ihcus.org            None   \n",
       "27249421                    fofdogrescue@yahoo.com    718-595-2161   \n",
       "...                                            ...             ...   \n",
       "53491907  2handssaving4pawshumanesociety@gmail.com            None   \n",
       "53492168                      clawsadopt@yahoo.com  (201) 768-0200   \n",
       "53492314                   communitycats@yahoo.com    914-234-3771   \n",
       "53492320      patricia.strayfromtheheart@gmail.com            None   \n",
       "53492780             smallbitesrescueinc@gmail.com            None   \n",
       "\n",
       "         contact.address.address1 contact.address.address2  \\\n",
       "id                                                           \n",
       "15546918                     None                     None   \n",
       "25009612                     None                     None   \n",
       "25777517                     None                     None   \n",
       "25874439                     None                     None   \n",
       "27249421             P.O. Box 203                     None   \n",
       "...                           ...                      ...   \n",
       "53491907                     None                     None   \n",
       "53492168                     None                     None   \n",
       "53492314        402 Old Post Road                     None   \n",
       "53492320              P.O. Box 11                     None   \n",
       "53492780                     None                     None   \n",
       "\n",
       "         contact.address.city contact.address.state contact.address.postcode  \\\n",
       "id                                                                             \n",
       "15546918            Glen Head                    NY                    11545   \n",
       "25009612            Glen Cove                    NY                    11542   \n",
       "25777517     Croton on Hudson                    NY                    10520   \n",
       "25874439             New York                    NY                    10032   \n",
       "27249421              Bayside                    NY                    11364   \n",
       "...                       ...                   ...                      ...   \n",
       "53491907           Wallington                    NJ                    07057   \n",
       "53492168              Closter                    NJ                    07624   \n",
       "53492314              Bedford                    NY                    10506   \n",
       "53492320             New York                    NY                    10023   \n",
       "53492780             Brooklyn                    NY                    11221   \n",
       "\n",
       "         contact.address.country animal_id animal_type primary_photo_cropped  \\\n",
       "id                                                                             \n",
       "15546918                      US  15546918         dog                  None   \n",
       "25009612                      US  25009612         dog                  None   \n",
       "25777517                      US  25777517         dog                  None   \n",
       "25874439                      US  25874439         dog                  None   \n",
       "27249421                      US  27249421         dog                  None   \n",
       "...                          ...       ...         ...                   ...   \n",
       "53491907                      US  53491907         dog                  None   \n",
       "53492168                      US  53492168         dog                  None   \n",
       "53492314                      US  53492314         dog                  None   \n",
       "53492320                      US  53492320         dog                  None   \n",
       "53492780                      US  53492780         dog                  None   \n",
       "\n",
       "                        date_saved                org_name  \n",
       "id                                                          \n",
       "15546918 2021-10-31 00:00:00+00:00                    None  \n",
       "25009612 2021-10-31 00:00:00+00:00                    None  \n",
       "25777517 2021-10-31 00:00:00+00:00                    None  \n",
       "25874439 2021-10-31 00:00:00+00:00                    None  \n",
       "27249421 2021-10-31 00:00:00+00:00                    None  \n",
       "...                            ...                     ...  \n",
       "53491907 2021-11-07 00:00:00+00:00   2 Hands Saving 4 Paws  \n",
       "53492168 2021-11-07 00:00:00+00:00                   CLAWS  \n",
       "53492314 2021-11-07 00:00:00+00:00     Community Cats Inc.  \n",
       "53492320 2021-11-07 00:00:00+00:00    Stray From The Heart  \n",
       "53492780 2021-11-07 00:00:00+00:00  Small Bites Rescue Inc  \n",
       "\n",
       "[2853 rows x 58 columns]"
      ]
     },
     "execution_count": 31,
     "metadata": {},
     "output_type": "execute_result"
    }
   ],
   "source": [
    "dog_gb = data_raw.groupby('id').apply(dog_days_gb_func)\n",
    "print(\"Shape: \", dog_gb.shape)\n",
    "dog_gb"
   ]
  },
  {
   "cell_type": "code",
   "execution_count": 32,
   "metadata": {},
   "outputs": [
    {
     "data": {
      "text/plain": [
       "count    2853.000000\n",
       "mean        5.719593\n",
       "std         2.222832\n",
       "min         0.000000\n",
       "25%         5.000000\n",
       "50%         7.000000\n",
       "75%         7.000000\n",
       "max         7.000000\n",
       "Name: Days in DB (yourdb), dtype: float64"
      ]
     },
     "execution_count": 32,
     "metadata": {},
     "output_type": "execute_result"
    }
   ],
   "source": [
    "dog_gb['Days in DB (yourdb)'].describe()"
   ]
  },
  {
   "cell_type": "code",
   "execution_count": 33,
   "metadata": {},
   "outputs": [
    {
     "data": {
      "text/plain": [
       "count    2853.000000\n",
       "mean      169.446898\n",
       "std       373.633049\n",
       "min        -1.000000\n",
       "25%        10.000000\n",
       "50%        41.000000\n",
       "75%       142.000000\n",
       "max      4312.000000\n",
       "Name: Days ad posted, dtype: float64"
      ]
     },
     "execution_count": 33,
     "metadata": {},
     "output_type": "execute_result"
    }
   ],
   "source": [
    "dog_gb['Days ad posted'].describe()"
   ]
  },
  {
   "cell_type": "code",
   "execution_count": 34,
   "metadata": {},
   "outputs": [
    {
     "data": {
      "text/plain": [
       "(597, 58)"
      ]
     },
     "execution_count": 34,
     "metadata": {},
     "output_type": "execute_result"
    }
   ],
   "source": [
    "long_ad_posted_dogs = dog_gb[dog_gb['Days ad posted'] >= 180]\n",
    "long_ad_posted_dogs.shape"
   ]
  },
  {
   "cell_type": "code",
   "execution_count": 35,
   "metadata": {},
   "outputs": [
    {
     "data": {
      "text/plain": [
       "Adult     375\n",
       "Young     132\n",
       "Senior     73\n",
       "Baby       17\n",
       "Name: age, dtype: int64"
      ]
     },
     "execution_count": 35,
     "metadata": {},
     "output_type": "execute_result"
    }
   ],
   "source": [
    "long_ad_posted_dogs['age'].value_counts()"
   ]
  },
  {
   "cell_type": "code",
   "execution_count": 38,
   "metadata": {},
   "outputs": [
    {
     "data": {
      "text/html": [
       "<div>\n",
       "<style scoped>\n",
       "    .dataframe tbody tr th:only-of-type {\n",
       "        vertical-align: middle;\n",
       "    }\n",
       "\n",
       "    .dataframe tbody tr th {\n",
       "        vertical-align: top;\n",
       "    }\n",
       "\n",
       "    .dataframe thead th {\n",
       "        text-align: right;\n",
       "    }\n",
       "</style>\n",
       "<table border=\"1\" class=\"dataframe\">\n",
       "  <thead>\n",
       "    <tr style=\"text-align: right;\">\n",
       "      <th></th>\n",
       "      <th>Count</th>\n",
       "      <th>Percent</th>\n",
       "    </tr>\n",
       "  </thead>\n",
       "  <tbody>\n",
       "    <tr>\n",
       "      <th>Adult</th>\n",
       "      <td>1165</td>\n",
       "      <td>40.834</td>\n",
       "    </tr>\n",
       "    <tr>\n",
       "      <th>Young</th>\n",
       "      <td>768</td>\n",
       "      <td>26.919</td>\n",
       "    </tr>\n",
       "    <tr>\n",
       "      <th>Baby</th>\n",
       "      <td>676</td>\n",
       "      <td>23.694</td>\n",
       "    </tr>\n",
       "    <tr>\n",
       "      <th>Senior</th>\n",
       "      <td>244</td>\n",
       "      <td>8.552</td>\n",
       "    </tr>\n",
       "  </tbody>\n",
       "</table>\n",
       "</div>"
      ],
      "text/plain": [
       "        Count  Percent\n",
       "Adult    1165   40.834\n",
       "Young     768   26.919\n",
       "Baby      676   23.694\n",
       "Senior    244    8.552"
      ]
     },
     "execution_count": 38,
     "metadata": {},
     "output_type": "execute_result"
    }
   ],
   "source": [
    "age_cnts = get_cnts_pcts(dog_gb['age'])\n",
    "age_cnts"
   ]
  },
  {
   "cell_type": "code",
   "execution_count": 39,
   "metadata": {},
   "outputs": [
    {
     "data": {
      "text/html": [
       "<div>\n",
       "<style scoped>\n",
       "    .dataframe tbody tr th:only-of-type {\n",
       "        vertical-align: middle;\n",
       "    }\n",
       "\n",
       "    .dataframe tbody tr th {\n",
       "        vertical-align: top;\n",
       "    }\n",
       "\n",
       "    .dataframe thead th {\n",
       "        text-align: right;\n",
       "    }\n",
       "</style>\n",
       "<table border=\"1\" class=\"dataframe\">\n",
       "  <thead>\n",
       "    <tr style=\"text-align: right;\">\n",
       "      <th></th>\n",
       "      <th>Count</th>\n",
       "      <th>Percent</th>\n",
       "      <th>Sample Ratio</th>\n",
       "    </tr>\n",
       "  </thead>\n",
       "  <tbody>\n",
       "    <tr>\n",
       "      <th>Adult</th>\n",
       "      <td>375</td>\n",
       "      <td>62.814</td>\n",
       "      <td>1.538277</td>\n",
       "    </tr>\n",
       "    <tr>\n",
       "      <th>Young</th>\n",
       "      <td>132</td>\n",
       "      <td>22.111</td>\n",
       "      <td>0.821390</td>\n",
       "    </tr>\n",
       "    <tr>\n",
       "      <th>Senior</th>\n",
       "      <td>73</td>\n",
       "      <td>12.228</td>\n",
       "      <td>1.429841</td>\n",
       "    </tr>\n",
       "    <tr>\n",
       "      <th>Baby</th>\n",
       "      <td>17</td>\n",
       "      <td>2.848</td>\n",
       "      <td>0.120199</td>\n",
       "    </tr>\n",
       "  </tbody>\n",
       "</table>\n",
       "</div>"
      ],
      "text/plain": [
       "        Count  Percent  Sample Ratio\n",
       "Adult     375   62.814      1.538277\n",
       "Young     132   22.111      0.821390\n",
       "Senior     73   12.228      1.429841\n",
       "Baby       17    2.848      0.120199"
      ]
     },
     "execution_count": 39,
     "metadata": {},
     "output_type": "execute_result"
    }
   ],
   "source": [
    "long_ad_posted_age_cnts = get_cnts_pcts(long_ad_posted_dogs['age'])\n",
    "long_ad_posted_age_cnts['Sample Ratio'] = long_ad_posted_age_cnts['Percent']/age_cnts['Percent']\n",
    "long_ad_posted_age_cnts"
   ]
  },
  {
   "cell_type": "code",
   "execution_count": null,
   "metadata": {},
   "outputs": [],
   "source": []
  },
  {
   "cell_type": "markdown",
   "metadata": {},
   "source": [
    "## Top Places over time\n"
   ]
  },
  {
   "cell_type": "code",
   "execution_count": 40,
   "metadata": {},
   "outputs": [],
   "source": [
    "import plotly.express as px\n",
    "import numpy as np"
   ]
  },
  {
   "cell_type": "code",
   "execution_count": 41,
   "metadata": {},
   "outputs": [
    {
     "data": {
      "text/plain": [
       "(19164, 51)"
      ]
     },
     "execution_count": 41,
     "metadata": {},
     "output_type": "execute_result"
    }
   ],
   "source": [
    "data_raw.shape"
   ]
  },
  {
   "cell_type": "code",
   "execution_count": 53,
   "metadata": {},
   "outputs": [
    {
     "data": {
      "text/html": [
       "<div>\n",
       "<style scoped>\n",
       "    .dataframe tbody tr th:only-of-type {\n",
       "        vertical-align: middle;\n",
       "    }\n",
       "\n",
       "    .dataframe tbody tr th {\n",
       "        vertical-align: top;\n",
       "    }\n",
       "\n",
       "    .dataframe thead th {\n",
       "        text-align: right;\n",
       "    }\n",
       "</style>\n",
       "<table border=\"1\" class=\"dataframe\">\n",
       "  <thead>\n",
       "    <tr style=\"text-align: right;\">\n",
       "      <th></th>\n",
       "      <th>Count</th>\n",
       "      <th>Percent</th>\n",
       "    </tr>\n",
       "  </thead>\n",
       "  <tbody>\n",
       "    <tr>\n",
       "      <th>Rescue Dogs Rock NYC</th>\n",
       "      <td>202</td>\n",
       "      <td>9.279</td>\n",
       "    </tr>\n",
       "    <tr>\n",
       "      <th>Second Chance Rescue</th>\n",
       "      <td>115</td>\n",
       "      <td>5.282</td>\n",
       "    </tr>\n",
       "    <tr>\n",
       "      <th>Ruff House Rescue</th>\n",
       "      <td>96</td>\n",
       "      <td>4.410</td>\n",
       "    </tr>\n",
       "    <tr>\n",
       "      <th>North Shore Animal League America</th>\n",
       "      <td>68</td>\n",
       "      <td>3.124</td>\n",
       "    </tr>\n",
       "    <tr>\n",
       "      <th>Town of Hempstead Animal Shelter</th>\n",
       "      <td>60</td>\n",
       "      <td>2.756</td>\n",
       "    </tr>\n",
       "  </tbody>\n",
       "</table>\n",
       "</div>"
      ],
      "text/plain": [
       "                                   Count  Percent\n",
       "Rescue Dogs Rock NYC                 202    9.279\n",
       "Second Chance Rescue                 115    5.282\n",
       "Ruff House Rescue                     96    4.410\n",
       "North Shore Animal League America     68    3.124\n",
       "Town of Hempstead Animal Shelter      60    2.756"
      ]
     },
     "execution_count": 53,
     "metadata": {},
     "output_type": "execute_result"
    }
   ],
   "source": [
    "org_value_counts.sort_values('Count', ascending=False).iloc[:4]"
   ]
  },
  {
   "cell_type": "code",
   "execution_count": 59,
   "metadata": {},
   "outputs": [
    {
     "data": {
      "text/plain": [
       "['Rescue Dogs Rock NYC',\n",
       " 'Second Chance Rescue',\n",
       " 'Ruff House Rescue',\n",
       " 'North Shore Animal League America']"
      ]
     },
     "execution_count": 59,
     "metadata": {},
     "output_type": "execute_result"
    }
   ],
   "source": [
    "top_n_dog_orgs = org_value_counts.sort_values('Count', ascending=False).iloc[:4].index.tolist()\n",
    "top_n_dog_orgs\n",
    "# str(top_n_dog_orgs)[1:-1]"
   ]
  },
  {
   "cell_type": "code",
   "execution_count": null,
   "metadata": {},
   "outputs": [],
   "source": []
  },
  {
   "cell_type": "code",
   "execution_count": 60,
   "metadata": {},
   "outputs": [
    {
     "name": "stdout",
     "output_type": "stream",
     "text": [
      "Shape:  (3782, 51)\n"
     ]
    },
    {
     "data": {
      "text/html": [
       "<div>\n",
       "<style scoped>\n",
       "    .dataframe tbody tr th:only-of-type {\n",
       "        vertical-align: middle;\n",
       "    }\n",
       "\n",
       "    .dataframe tbody tr th {\n",
       "        vertical-align: top;\n",
       "    }\n",
       "\n",
       "    .dataframe thead th {\n",
       "        text-align: right;\n",
       "    }\n",
       "</style>\n",
       "<table border=\"1\" class=\"dataframe\">\n",
       "  <thead>\n",
       "    <tr style=\"text-align: right;\">\n",
       "      <th></th>\n",
       "      <th>id</th>\n",
       "      <th>organization_id</th>\n",
       "      <th>url</th>\n",
       "      <th>type</th>\n",
       "      <th>species</th>\n",
       "      <th>age</th>\n",
       "      <th>gender</th>\n",
       "      <th>size</th>\n",
       "      <th>coat</th>\n",
       "      <th>tags</th>\n",
       "      <th>name</th>\n",
       "      <th>description</th>\n",
       "      <th>organization_animal_id</th>\n",
       "      <th>photos</th>\n",
       "      <th>videos</th>\n",
       "      <th>status</th>\n",
       "      <th>status_changed_at</th>\n",
       "      <th>published_at</th>\n",
       "      <th>distance</th>\n",
       "      <th>breeds.primary</th>\n",
       "      <th>breeds.secondary</th>\n",
       "      <th>breeds.mixed</th>\n",
       "      <th>breeds.unknown</th>\n",
       "      <th>colors.primary</th>\n",
       "      <th>colors.secondary</th>\n",
       "      <th>colors.tertiary</th>\n",
       "      <th>attributes.spayed_neutered</th>\n",
       "      <th>attributes.house_trained</th>\n",
       "      <th>attributes.declawed</th>\n",
       "      <th>attributes.special_needs</th>\n",
       "      <th>attributes.shots_current</th>\n",
       "      <th>environment.children</th>\n",
       "      <th>environment.dogs</th>\n",
       "      <th>environment.cats</th>\n",
       "      <th>primary_photo_cropped.small</th>\n",
       "      <th>primary_photo_cropped.medium</th>\n",
       "      <th>primary_photo_cropped.large</th>\n",
       "      <th>primary_photo_cropped.full</th>\n",
       "      <th>contact.email</th>\n",
       "      <th>contact.phone</th>\n",
       "      <th>contact.address.address1</th>\n",
       "      <th>contact.address.address2</th>\n",
       "      <th>contact.address.city</th>\n",
       "      <th>contact.address.state</th>\n",
       "      <th>contact.address.postcode</th>\n",
       "      <th>contact.address.country</th>\n",
       "      <th>animal_id</th>\n",
       "      <th>animal_type</th>\n",
       "      <th>primary_photo_cropped</th>\n",
       "      <th>date_saved</th>\n",
       "      <th>org_name</th>\n",
       "    </tr>\n",
       "  </thead>\n",
       "  <tbody>\n",
       "    <tr>\n",
       "      <th>1589</th>\n",
       "      <td>52275190</td>\n",
       "      <td>NY1274</td>\n",
       "      <td>https://www.petfinder.com/dog/bennie-tx-52275190/ny/new-york/rescue-dogs-rock-nyc-ny1274/?referrer_id=a0b0e7e5-a0ff-4872-86f9-c0328ab65a7c</td>\n",
       "      <td>Dog</td>\n",
       "      <td>Dog</td>\n",
       "      <td>Baby</td>\n",
       "      <td>Male</td>\n",
       "      <td>Medium</td>\n",
       "      <td>None</td>\n",
       "      <td>0                                                      []\\n1                                                      []\\n2       [Friendly, Affectionate, Loyal, Gentle, Playfu...\\n3       [Friendly, ...</td>\n",
       "      <td>Bennie (TX)</td>\n",
       "      <td>You can fill out an adoption application online on our official website.Bennie (TX) is a male mixed breed pup rescued...</td>\n",
       "      <td>16987258-7909</td>\n",
       "      <td>0       [{'small': 'https://dl5zpyw5k3jeb.cloudfront.n...\\n1       [{'small': 'https://dl5zpyw5k3jeb.cloudfront.n...\\n2       [{'small': 'https://dl5zpyw5k3jeb.cloudfront.n...\\n3       [{'small': ...</td>\n",
       "      <td>0                                                      []\\n1       [{'embed': '&lt;iframe title=\"Video\" frameborder=...\\n2       [{'embed': '&lt;iframe title=\"Video\" frameborder=...\\n3                  ...</td>\n",
       "      <td>adoptable</td>\n",
       "      <td>2021-07-08 00:46:25+00:00</td>\n",
       "      <td>2021-07-08 00:46:25+00:00</td>\n",
       "      <td>9.6228</td>\n",
       "      <td>Mixed Breed</td>\n",
       "      <td>None</td>\n",
       "      <td>1</td>\n",
       "      <td>0</td>\n",
       "      <td>None</td>\n",
       "      <td>None</td>\n",
       "      <td>None</td>\n",
       "      <td>0</td>\n",
       "      <td>0</td>\n",
       "      <td>None</td>\n",
       "      <td>0</td>\n",
       "      <td>1</td>\n",
       "      <td>1.0</td>\n",
       "      <td>1.0</td>\n",
       "      <td>NaN</td>\n",
       "      <td>https://dl5zpyw5k3jeb.cloudfront.net/photos/pets/52275190/1/?bust=1635618574&amp;width=300</td>\n",
       "      <td>https://dl5zpyw5k3jeb.cloudfront.net/photos/pets/52275190/1/?bust=1635618574&amp;width=450</td>\n",
       "      <td>https://dl5zpyw5k3jeb.cloudfront.net/photos/pets/52275190/1/?bust=1635618574&amp;width=600</td>\n",
       "      <td>https://dl5zpyw5k3jeb.cloudfront.net/photos/pets/52275190/1/?bust=1635618574</td>\n",
       "      <td>info@rescuedogsrocknyc.org</td>\n",
       "      <td>None</td>\n",
       "      <td>None</td>\n",
       "      <td>None</td>\n",
       "      <td>New York</td>\n",
       "      <td>NY</td>\n",
       "      <td>10075</td>\n",
       "      <td>US</td>\n",
       "      <td>52275190</td>\n",
       "      <td>dog</td>\n",
       "      <td>None</td>\n",
       "      <td>2021-10-31 00:00:00+00:00</td>\n",
       "      <td>Rescue Dogs Rock NYC</td>\n",
       "    </tr>\n",
       "    <tr>\n",
       "      <th>1590</th>\n",
       "      <td>52274868</td>\n",
       "      <td>NY1274</td>\n",
       "      <td>https://www.petfinder.com/dog/fast-freddie-tx-52274868/ny/new-york/rescue-dogs-rock-nyc-ny1274/?referrer_id=a0b0e7e5-a0ff-4872-86f9-c0328ab65a7c</td>\n",
       "      <td>Dog</td>\n",
       "      <td>Dog</td>\n",
       "      <td>Baby</td>\n",
       "      <td>Male</td>\n",
       "      <td>Large</td>\n",
       "      <td>None</td>\n",
       "      <td>0                                                      []\\n1                                                      []\\n2       [Friendly, Affectionate, Loyal, Gentle, Playfu...\\n3       [Friendly, ...</td>\n",
       "      <td>Fast Freddie (TX)</td>\n",
       "      <td>You can fill out an adoption application online on our official website.\\nFast Freddie (TX) is a male Hound mix...</td>\n",
       "      <td>16987041-7904</td>\n",
       "      <td>0       [{'small': 'https://dl5zpyw5k3jeb.cloudfront.n...\\n1       [{'small': 'https://dl5zpyw5k3jeb.cloudfront.n...\\n2       [{'small': 'https://dl5zpyw5k3jeb.cloudfront.n...\\n3       [{'small': ...</td>\n",
       "      <td>0                                                      []\\n1       [{'embed': '&lt;iframe title=\"Video\" frameborder=...\\n2       [{'embed': '&lt;iframe title=\"Video\" frameborder=...\\n3                  ...</td>\n",
       "      <td>adoptable</td>\n",
       "      <td>2021-07-08 00:17:34+00:00</td>\n",
       "      <td>2021-07-08 00:17:34+00:00</td>\n",
       "      <td>9.6228</td>\n",
       "      <td>Hound</td>\n",
       "      <td>None</td>\n",
       "      <td>1</td>\n",
       "      <td>0</td>\n",
       "      <td>None</td>\n",
       "      <td>None</td>\n",
       "      <td>None</td>\n",
       "      <td>0</td>\n",
       "      <td>0</td>\n",
       "      <td>None</td>\n",
       "      <td>0</td>\n",
       "      <td>1</td>\n",
       "      <td>1.0</td>\n",
       "      <td>1.0</td>\n",
       "      <td>NaN</td>\n",
       "      <td>https://dl5zpyw5k3jeb.cloudfront.net/photos/pets/52274868/1/?bust=1635618746&amp;width=300</td>\n",
       "      <td>https://dl5zpyw5k3jeb.cloudfront.net/photos/pets/52274868/1/?bust=1635618746&amp;width=450</td>\n",
       "      <td>https://dl5zpyw5k3jeb.cloudfront.net/photos/pets/52274868/1/?bust=1635618746&amp;width=600</td>\n",
       "      <td>https://dl5zpyw5k3jeb.cloudfront.net/photos/pets/52274868/1/?bust=1635618746</td>\n",
       "      <td>info@rescuedogsrocknyc.org</td>\n",
       "      <td>None</td>\n",
       "      <td>None</td>\n",
       "      <td>None</td>\n",
       "      <td>New York</td>\n",
       "      <td>NY</td>\n",
       "      <td>10075</td>\n",
       "      <td>US</td>\n",
       "      <td>52274868</td>\n",
       "      <td>dog</td>\n",
       "      <td>None</td>\n",
       "      <td>2021-10-31 00:00:00+00:00</td>\n",
       "      <td>Rescue Dogs Rock NYC</td>\n",
       "    </tr>\n",
       "    <tr>\n",
       "      <th>1591</th>\n",
       "      <td>52274723</td>\n",
       "      <td>NY949</td>\n",
       "      <td>https://www.petfinder.com/dog/dallas-52274723/ny/flushing/second-chance-rescue-ny949/?referrer_id=a0b0e7e5-a0ff-4872-86f9-c0328ab65a7c</td>\n",
       "      <td>Dog</td>\n",
       "      <td>Dog</td>\n",
       "      <td>Young</td>\n",
       "      <td>Female</td>\n",
       "      <td>Medium</td>\n",
       "      <td>None</td>\n",
       "      <td>0                                                      []\\n1                                                      []\\n2       [Friendly, Affectionate, Loyal, Gentle, Playfu...\\n3       [Friendly, ...</td>\n",
       "      <td>Dallas</td>\n",
       "      <td>Dallas is a sweet, energetic, gentle girl who loves to learn and play. She loves to investigate everything when out...</td>\n",
       "      <td>ps_44087404</td>\n",
       "      <td>0       [{'small': 'https://dl5zpyw5k3jeb.cloudfront.n...\\n1       [{'small': 'https://dl5zpyw5k3jeb.cloudfront.n...\\n2       [{'small': 'https://dl5zpyw5k3jeb.cloudfront.n...\\n3       [{'small': ...</td>\n",
       "      <td>0                                                      []\\n1       [{'embed': '&lt;iframe title=\"Video\" frameborder=...\\n2       [{'embed': '&lt;iframe title=\"Video\" frameborder=...\\n3                  ...</td>\n",
       "      <td>adoptable</td>\n",
       "      <td>2021-07-08 00:04:47+00:00</td>\n",
       "      <td>2021-07-08 00:04:47+00:00</td>\n",
       "      <td>7.1166</td>\n",
       "      <td>Shepherd</td>\n",
       "      <td>None</td>\n",
       "      <td>1</td>\n",
       "      <td>0</td>\n",
       "      <td>None</td>\n",
       "      <td>None</td>\n",
       "      <td>None</td>\n",
       "      <td>1</td>\n",
       "      <td>1</td>\n",
       "      <td>None</td>\n",
       "      <td>0</td>\n",
       "      <td>1</td>\n",
       "      <td>NaN</td>\n",
       "      <td>1.0</td>\n",
       "      <td>NaN</td>\n",
       "      <td>https://dl5zpyw5k3jeb.cloudfront.net/photos/pets/52274723/1/?bust=1635601319&amp;width=300</td>\n",
       "      <td>https://dl5zpyw5k3jeb.cloudfront.net/photos/pets/52274723/1/?bust=1635601319&amp;width=450</td>\n",
       "      <td>https://dl5zpyw5k3jeb.cloudfront.net/photos/pets/52274723/1/?bust=1635601319&amp;width=600</td>\n",
       "      <td>https://dl5zpyw5k3jeb.cloudfront.net/photos/pets/52274723/1/?bust=1635601319</td>\n",
       "      <td>scradoptables@gmail.com</td>\n",
       "      <td>None</td>\n",
       "      <td>None</td>\n",
       "      <td>None</td>\n",
       "      <td>Flushing</td>\n",
       "      <td>NY</td>\n",
       "      <td>11354</td>\n",
       "      <td>US</td>\n",
       "      <td>52274723</td>\n",
       "      <td>dog</td>\n",
       "      <td>None</td>\n",
       "      <td>2021-10-31 00:00:00+00:00</td>\n",
       "      <td>Second Chance Rescue</td>\n",
       "    </tr>\n",
       "    <tr>\n",
       "      <th>1592</th>\n",
       "      <td>52274660</td>\n",
       "      <td>NY1274</td>\n",
       "      <td>https://www.petfinder.com/dog/johnny-tx-52274660/ny/new-york/rescue-dogs-rock-nyc-ny1274/?referrer_id=a0b0e7e5-a0ff-4872-86f9-c0328ab65a7c</td>\n",
       "      <td>Dog</td>\n",
       "      <td>Dog</td>\n",
       "      <td>Baby</td>\n",
       "      <td>Male</td>\n",
       "      <td>Large</td>\n",
       "      <td>None</td>\n",
       "      <td>0                                                      []\\n1                                                      []\\n2       [Friendly, Affectionate, Loyal, Gentle, Playfu...\\n3       [Friendly, ...</td>\n",
       "      <td>Johnny (TX)</td>\n",
       "      <td>You can fill out an adoption application online on our official website.\\nJohnny (TX) is a male Terrier mix rescued...</td>\n",
       "      <td>16987019-7903</td>\n",
       "      <td>0       [{'small': 'https://dl5zpyw5k3jeb.cloudfront.n...\\n1       [{'small': 'https://dl5zpyw5k3jeb.cloudfront.n...\\n2       [{'small': 'https://dl5zpyw5k3jeb.cloudfront.n...\\n3       [{'small': ...</td>\n",
       "      <td>0                                                      []\\n1       [{'embed': '&lt;iframe title=\"Video\" frameborder=...\\n2       [{'embed': '&lt;iframe title=\"Video\" frameborder=...\\n3                  ...</td>\n",
       "      <td>adoptable</td>\n",
       "      <td>2021-07-08 00:01:18+00:00</td>\n",
       "      <td>2021-07-08 00:01:18+00:00</td>\n",
       "      <td>9.6228</td>\n",
       "      <td>Mixed Breed</td>\n",
       "      <td>None</td>\n",
       "      <td>1</td>\n",
       "      <td>0</td>\n",
       "      <td>None</td>\n",
       "      <td>None</td>\n",
       "      <td>None</td>\n",
       "      <td>0</td>\n",
       "      <td>0</td>\n",
       "      <td>None</td>\n",
       "      <td>0</td>\n",
       "      <td>1</td>\n",
       "      <td>1.0</td>\n",
       "      <td>1.0</td>\n",
       "      <td>NaN</td>\n",
       "      <td>https://dl5zpyw5k3jeb.cloudfront.net/photos/pets/52274660/1/?bust=1635618364&amp;width=300</td>\n",
       "      <td>https://dl5zpyw5k3jeb.cloudfront.net/photos/pets/52274660/1/?bust=1635618364&amp;width=450</td>\n",
       "      <td>https://dl5zpyw5k3jeb.cloudfront.net/photos/pets/52274660/1/?bust=1635618364&amp;width=600</td>\n",
       "      <td>https://dl5zpyw5k3jeb.cloudfront.net/photos/pets/52274660/1/?bust=1635618364</td>\n",
       "      <td>info@rescuedogsrocknyc.org</td>\n",
       "      <td>None</td>\n",
       "      <td>None</td>\n",
       "      <td>None</td>\n",
       "      <td>New York</td>\n",
       "      <td>NY</td>\n",
       "      <td>10075</td>\n",
       "      <td>US</td>\n",
       "      <td>52274660</td>\n",
       "      <td>dog</td>\n",
       "      <td>None</td>\n",
       "      <td>2021-10-31 00:00:00+00:00</td>\n",
       "      <td>Rescue Dogs Rock NYC</td>\n",
       "    </tr>\n",
       "    <tr>\n",
       "      <th>1598</th>\n",
       "      <td>52255336</td>\n",
       "      <td>NY949</td>\n",
       "      <td>https://www.petfinder.com/dog/pippin-52255336/ny/flushing/second-chance-rescue-ny949/?referrer_id=a0b0e7e5-a0ff-4872-86f9-c0328ab65a7c</td>\n",
       "      <td>Dog</td>\n",
       "      <td>Dog</td>\n",
       "      <td>Adult</td>\n",
       "      <td>Female</td>\n",
       "      <td>Large</td>\n",
       "      <td>None</td>\n",
       "      <td>0                                                      []\\n1                                                      []\\n2       [Friendly, Affectionate, Loyal, Gentle, Playfu...\\n3       [Friendly, ...</td>\n",
       "      <td>Pippin</td>\n",
       "      <td>Nothing can slow this girl down! Pippin is a Shepard mix who loves to run around and play and has...</td>\n",
       "      <td>ps_44128348</td>\n",
       "      <td>0       [{'small': 'https://dl5zpyw5k3jeb.cloudfront.n...\\n1       [{'small': 'https://dl5zpyw5k3jeb.cloudfront.n...\\n2       [{'small': 'https://dl5zpyw5k3jeb.cloudfront.n...\\n3       [{'small': ...</td>\n",
       "      <td>0                                                      []\\n1       [{'embed': '&lt;iframe title=\"Video\" frameborder=...\\n2       [{'embed': '&lt;iframe title=\"Video\" frameborder=...\\n3                  ...</td>\n",
       "      <td>adoptable</td>\n",
       "      <td>2021-08-13 18:39:30+00:00</td>\n",
       "      <td>2021-07-07 00:04:48+00:00</td>\n",
       "      <td>7.1166</td>\n",
       "      <td>German Shepherd Dog</td>\n",
       "      <td>None</td>\n",
       "      <td>1</td>\n",
       "      <td>0</td>\n",
       "      <td>None</td>\n",
       "      <td>None</td>\n",
       "      <td>None</td>\n",
       "      <td>1</td>\n",
       "      <td>0</td>\n",
       "      <td>None</td>\n",
       "      <td>0</td>\n",
       "      <td>1</td>\n",
       "      <td>NaN</td>\n",
       "      <td>1.0</td>\n",
       "      <td>1.0</td>\n",
       "      <td>https://dl5zpyw5k3jeb.cloudfront.net/photos/pets/52255336/1/?bust=1635601051&amp;width=300</td>\n",
       "      <td>https://dl5zpyw5k3jeb.cloudfront.net/photos/pets/52255336/1/?bust=1635601051&amp;width=450</td>\n",
       "      <td>https://dl5zpyw5k3jeb.cloudfront.net/photos/pets/52255336/1/?bust=1635601051&amp;width=600</td>\n",
       "      <td>https://dl5zpyw5k3jeb.cloudfront.net/photos/pets/52255336/1/?bust=1635601051</td>\n",
       "      <td>scradoptables@gmail.com</td>\n",
       "      <td>None</td>\n",
       "      <td>None</td>\n",
       "      <td>None</td>\n",
       "      <td>Flushing</td>\n",
       "      <td>NY</td>\n",
       "      <td>11354</td>\n",
       "      <td>US</td>\n",
       "      <td>52255336</td>\n",
       "      <td>dog</td>\n",
       "      <td>None</td>\n",
       "      <td>2021-10-31 00:00:00+00:00</td>\n",
       "      <td>Second Chance Rescue</td>\n",
       "    </tr>\n",
       "  </tbody>\n",
       "</table>\n",
       "</div>"
      ],
      "text/plain": [
       "            id organization_id  \\\n",
       "1589  52275190          NY1274   \n",
       "1590  52274868          NY1274   \n",
       "1591  52274723           NY949   \n",
       "1592  52274660          NY1274   \n",
       "1598  52255336           NY949   \n",
       "\n",
       "                                                                                                                                                   url  \\\n",
       "1589        https://www.petfinder.com/dog/bennie-tx-52275190/ny/new-york/rescue-dogs-rock-nyc-ny1274/?referrer_id=a0b0e7e5-a0ff-4872-86f9-c0328ab65a7c   \n",
       "1590  https://www.petfinder.com/dog/fast-freddie-tx-52274868/ny/new-york/rescue-dogs-rock-nyc-ny1274/?referrer_id=a0b0e7e5-a0ff-4872-86f9-c0328ab65a7c   \n",
       "1591            https://www.petfinder.com/dog/dallas-52274723/ny/flushing/second-chance-rescue-ny949/?referrer_id=a0b0e7e5-a0ff-4872-86f9-c0328ab65a7c   \n",
       "1592        https://www.petfinder.com/dog/johnny-tx-52274660/ny/new-york/rescue-dogs-rock-nyc-ny1274/?referrer_id=a0b0e7e5-a0ff-4872-86f9-c0328ab65a7c   \n",
       "1598            https://www.petfinder.com/dog/pippin-52255336/ny/flushing/second-chance-rescue-ny949/?referrer_id=a0b0e7e5-a0ff-4872-86f9-c0328ab65a7c   \n",
       "\n",
       "     type species    age  gender    size  coat  \\\n",
       "1589  Dog     Dog   Baby    Male  Medium  None   \n",
       "1590  Dog     Dog   Baby    Male   Large  None   \n",
       "1591  Dog     Dog  Young  Female  Medium  None   \n",
       "1592  Dog     Dog   Baby    Male   Large  None   \n",
       "1598  Dog     Dog  Adult  Female   Large  None   \n",
       "\n",
       "                                                                                                                                                                                                         tags  \\\n",
       "1589  0                                                      []\\n1                                                      []\\n2       [Friendly, Affectionate, Loyal, Gentle, Playfu...\\n3       [Friendly, ...   \n",
       "1590  0                                                      []\\n1                                                      []\\n2       [Friendly, Affectionate, Loyal, Gentle, Playfu...\\n3       [Friendly, ...   \n",
       "1591  0                                                      []\\n1                                                      []\\n2       [Friendly, Affectionate, Loyal, Gentle, Playfu...\\n3       [Friendly, ...   \n",
       "1592  0                                                      []\\n1                                                      []\\n2       [Friendly, Affectionate, Loyal, Gentle, Playfu...\\n3       [Friendly, ...   \n",
       "1598  0                                                      []\\n1                                                      []\\n2       [Friendly, Affectionate, Loyal, Gentle, Playfu...\\n3       [Friendly, ...   \n",
       "\n",
       "                   name  \\\n",
       "1589        Bennie (TX)   \n",
       "1590  Fast Freddie (TX)   \n",
       "1591             Dallas   \n",
       "1592        Johnny (TX)   \n",
       "1598             Pippin   \n",
       "\n",
       "                                                                                                                   description  \\\n",
       "1589  You can fill out an adoption application online on our official website.Bennie (TX) is a male mixed breed pup rescued...   \n",
       "1590        You can fill out an adoption application online on our official website.\\nFast Freddie (TX) is a male Hound mix...   \n",
       "1591    Dallas is a sweet, energetic, gentle girl who loves to learn and play. She loves to investigate everything when out...   \n",
       "1592    You can fill out an adoption application online on our official website.\\nJohnny (TX) is a male Terrier mix rescued...   \n",
       "1598                      Nothing can slow this girl down! Pippin is a Shepard mix who loves to run around and play and has...   \n",
       "\n",
       "     organization_animal_id  \\\n",
       "1589          16987258-7909   \n",
       "1590          16987041-7904   \n",
       "1591            ps_44087404   \n",
       "1592          16987019-7903   \n",
       "1598            ps_44128348   \n",
       "\n",
       "                                                                                                                                                                                                       photos  \\\n",
       "1589  0       [{'small': 'https://dl5zpyw5k3jeb.cloudfront.n...\\n1       [{'small': 'https://dl5zpyw5k3jeb.cloudfront.n...\\n2       [{'small': 'https://dl5zpyw5k3jeb.cloudfront.n...\\n3       [{'small': ...   \n",
       "1590  0       [{'small': 'https://dl5zpyw5k3jeb.cloudfront.n...\\n1       [{'small': 'https://dl5zpyw5k3jeb.cloudfront.n...\\n2       [{'small': 'https://dl5zpyw5k3jeb.cloudfront.n...\\n3       [{'small': ...   \n",
       "1591  0       [{'small': 'https://dl5zpyw5k3jeb.cloudfront.n...\\n1       [{'small': 'https://dl5zpyw5k3jeb.cloudfront.n...\\n2       [{'small': 'https://dl5zpyw5k3jeb.cloudfront.n...\\n3       [{'small': ...   \n",
       "1592  0       [{'small': 'https://dl5zpyw5k3jeb.cloudfront.n...\\n1       [{'small': 'https://dl5zpyw5k3jeb.cloudfront.n...\\n2       [{'small': 'https://dl5zpyw5k3jeb.cloudfront.n...\\n3       [{'small': ...   \n",
       "1598  0       [{'small': 'https://dl5zpyw5k3jeb.cloudfront.n...\\n1       [{'small': 'https://dl5zpyw5k3jeb.cloudfront.n...\\n2       [{'small': 'https://dl5zpyw5k3jeb.cloudfront.n...\\n3       [{'small': ...   \n",
       "\n",
       "                                                                                                                                                                                                       videos  \\\n",
       "1589  0                                                      []\\n1       [{'embed': '<iframe title=\"Video\" frameborder=...\\n2       [{'embed': '<iframe title=\"Video\" frameborder=...\\n3                  ...   \n",
       "1590  0                                                      []\\n1       [{'embed': '<iframe title=\"Video\" frameborder=...\\n2       [{'embed': '<iframe title=\"Video\" frameborder=...\\n3                  ...   \n",
       "1591  0                                                      []\\n1       [{'embed': '<iframe title=\"Video\" frameborder=...\\n2       [{'embed': '<iframe title=\"Video\" frameborder=...\\n3                  ...   \n",
       "1592  0                                                      []\\n1       [{'embed': '<iframe title=\"Video\" frameborder=...\\n2       [{'embed': '<iframe title=\"Video\" frameborder=...\\n3                  ...   \n",
       "1598  0                                                      []\\n1       [{'embed': '<iframe title=\"Video\" frameborder=...\\n2       [{'embed': '<iframe title=\"Video\" frameborder=...\\n3                  ...   \n",
       "\n",
       "         status         status_changed_at              published_at  distance  \\\n",
       "1589  adoptable 2021-07-08 00:46:25+00:00 2021-07-08 00:46:25+00:00    9.6228   \n",
       "1590  adoptable 2021-07-08 00:17:34+00:00 2021-07-08 00:17:34+00:00    9.6228   \n",
       "1591  adoptable 2021-07-08 00:04:47+00:00 2021-07-08 00:04:47+00:00    7.1166   \n",
       "1592  adoptable 2021-07-08 00:01:18+00:00 2021-07-08 00:01:18+00:00    9.6228   \n",
       "1598  adoptable 2021-08-13 18:39:30+00:00 2021-07-07 00:04:48+00:00    7.1166   \n",
       "\n",
       "           breeds.primary breeds.secondary  breeds.mixed  breeds.unknown  \\\n",
       "1589          Mixed Breed             None             1               0   \n",
       "1590                Hound             None             1               0   \n",
       "1591             Shepherd             None             1               0   \n",
       "1592          Mixed Breed             None             1               0   \n",
       "1598  German Shepherd Dog             None             1               0   \n",
       "\n",
       "     colors.primary colors.secondary colors.tertiary  \\\n",
       "1589           None             None            None   \n",
       "1590           None             None            None   \n",
       "1591           None             None            None   \n",
       "1592           None             None            None   \n",
       "1598           None             None            None   \n",
       "\n",
       "      attributes.spayed_neutered  attributes.house_trained  \\\n",
       "1589                           0                         0   \n",
       "1590                           0                         0   \n",
       "1591                           1                         1   \n",
       "1592                           0                         0   \n",
       "1598                           1                         0   \n",
       "\n",
       "     attributes.declawed  attributes.special_needs  attributes.shots_current  \\\n",
       "1589                None                         0                         1   \n",
       "1590                None                         0                         1   \n",
       "1591                None                         0                         1   \n",
       "1592                None                         0                         1   \n",
       "1598                None                         0                         1   \n",
       "\n",
       "      environment.children  environment.dogs  environment.cats  \\\n",
       "1589                   1.0               1.0               NaN   \n",
       "1590                   1.0               1.0               NaN   \n",
       "1591                   NaN               1.0               NaN   \n",
       "1592                   1.0               1.0               NaN   \n",
       "1598                   NaN               1.0               1.0   \n",
       "\n",
       "                                                                 primary_photo_cropped.small  \\\n",
       "1589  https://dl5zpyw5k3jeb.cloudfront.net/photos/pets/52275190/1/?bust=1635618574&width=300   \n",
       "1590  https://dl5zpyw5k3jeb.cloudfront.net/photos/pets/52274868/1/?bust=1635618746&width=300   \n",
       "1591  https://dl5zpyw5k3jeb.cloudfront.net/photos/pets/52274723/1/?bust=1635601319&width=300   \n",
       "1592  https://dl5zpyw5k3jeb.cloudfront.net/photos/pets/52274660/1/?bust=1635618364&width=300   \n",
       "1598  https://dl5zpyw5k3jeb.cloudfront.net/photos/pets/52255336/1/?bust=1635601051&width=300   \n",
       "\n",
       "                                                                primary_photo_cropped.medium  \\\n",
       "1589  https://dl5zpyw5k3jeb.cloudfront.net/photos/pets/52275190/1/?bust=1635618574&width=450   \n",
       "1590  https://dl5zpyw5k3jeb.cloudfront.net/photos/pets/52274868/1/?bust=1635618746&width=450   \n",
       "1591  https://dl5zpyw5k3jeb.cloudfront.net/photos/pets/52274723/1/?bust=1635601319&width=450   \n",
       "1592  https://dl5zpyw5k3jeb.cloudfront.net/photos/pets/52274660/1/?bust=1635618364&width=450   \n",
       "1598  https://dl5zpyw5k3jeb.cloudfront.net/photos/pets/52255336/1/?bust=1635601051&width=450   \n",
       "\n",
       "                                                                 primary_photo_cropped.large  \\\n",
       "1589  https://dl5zpyw5k3jeb.cloudfront.net/photos/pets/52275190/1/?bust=1635618574&width=600   \n",
       "1590  https://dl5zpyw5k3jeb.cloudfront.net/photos/pets/52274868/1/?bust=1635618746&width=600   \n",
       "1591  https://dl5zpyw5k3jeb.cloudfront.net/photos/pets/52274723/1/?bust=1635601319&width=600   \n",
       "1592  https://dl5zpyw5k3jeb.cloudfront.net/photos/pets/52274660/1/?bust=1635618364&width=600   \n",
       "1598  https://dl5zpyw5k3jeb.cloudfront.net/photos/pets/52255336/1/?bust=1635601051&width=600   \n",
       "\n",
       "                                                        primary_photo_cropped.full  \\\n",
       "1589  https://dl5zpyw5k3jeb.cloudfront.net/photos/pets/52275190/1/?bust=1635618574   \n",
       "1590  https://dl5zpyw5k3jeb.cloudfront.net/photos/pets/52274868/1/?bust=1635618746   \n",
       "1591  https://dl5zpyw5k3jeb.cloudfront.net/photos/pets/52274723/1/?bust=1635601319   \n",
       "1592  https://dl5zpyw5k3jeb.cloudfront.net/photos/pets/52274660/1/?bust=1635618364   \n",
       "1598  https://dl5zpyw5k3jeb.cloudfront.net/photos/pets/52255336/1/?bust=1635601051   \n",
       "\n",
       "                   contact.email contact.phone contact.address.address1  \\\n",
       "1589  info@rescuedogsrocknyc.org          None                     None   \n",
       "1590  info@rescuedogsrocknyc.org          None                     None   \n",
       "1591     scradoptables@gmail.com          None                     None   \n",
       "1592  info@rescuedogsrocknyc.org          None                     None   \n",
       "1598     scradoptables@gmail.com          None                     None   \n",
       "\n",
       "     contact.address.address2 contact.address.city contact.address.state  \\\n",
       "1589                     None             New York                    NY   \n",
       "1590                     None             New York                    NY   \n",
       "1591                     None             Flushing                    NY   \n",
       "1592                     None             New York                    NY   \n",
       "1598                     None             Flushing                    NY   \n",
       "\n",
       "     contact.address.postcode contact.address.country animal_id animal_type  \\\n",
       "1589                    10075                      US  52275190         dog   \n",
       "1590                    10075                      US  52274868         dog   \n",
       "1591                    11354                      US  52274723         dog   \n",
       "1592                    10075                      US  52274660         dog   \n",
       "1598                    11354                      US  52255336         dog   \n",
       "\n",
       "     primary_photo_cropped                date_saved              org_name  \n",
       "1589                  None 2021-10-31 00:00:00+00:00  Rescue Dogs Rock NYC  \n",
       "1590                  None 2021-10-31 00:00:00+00:00  Rescue Dogs Rock NYC  \n",
       "1591                  None 2021-10-31 00:00:00+00:00  Second Chance Rescue  \n",
       "1592                  None 2021-10-31 00:00:00+00:00  Rescue Dogs Rock NYC  \n",
       "1598                  None 2021-10-31 00:00:00+00:00  Second Chance Rescue  "
      ]
     },
     "execution_count": 60,
     "metadata": {},
     "output_type": "execute_result"
    }
   ],
   "source": [
    "ns_raw = data_raw[data_raw['org_name'].isin(top_n_dog_orgs)]\n",
    "print(\"Shape: \", ns_raw.shape)\n",
    "ns_raw.head()"
   ]
  },
  {
   "cell_type": "code",
   "execution_count": 61,
   "metadata": {},
   "outputs": [
    {
     "data": {
      "text/plain": [
       "Index(['id', 'organization_id', 'url', 'type', 'species', 'age', 'gender',\n",
       "       'size', 'coat', 'tags', 'name', 'description', 'organization_animal_id',\n",
       "       'photos', 'videos', 'status', 'status_changed_at', 'published_at',\n",
       "       'distance', 'breeds.primary', 'breeds.secondary', 'breeds.mixed',\n",
       "       'breeds.unknown', 'colors.primary', 'colors.secondary',\n",
       "       'colors.tertiary', 'attributes.spayed_neutered',\n",
       "       'attributes.house_trained', 'attributes.declawed',\n",
       "       'attributes.special_needs', 'attributes.shots_current',\n",
       "       'environment.children', 'environment.dogs', 'environment.cats',\n",
       "       'primary_photo_cropped.small', 'primary_photo_cropped.medium',\n",
       "       'primary_photo_cropped.large', 'primary_photo_cropped.full',\n",
       "       'contact.email', 'contact.phone', 'contact.address.address1',\n",
       "       'contact.address.address2', 'contact.address.city',\n",
       "       'contact.address.state', 'contact.address.postcode',\n",
       "       'contact.address.country', 'animal_id', 'animal_type',\n",
       "       'primary_photo_cropped', 'date_saved', 'org_name'],\n",
       "      dtype='object')"
      ]
     },
     "execution_count": 61,
     "metadata": {},
     "output_type": "execute_result"
    }
   ],
   "source": [
    "ns_raw.columns"
   ]
  },
  {
   "cell_type": "code",
   "execution_count": 62,
   "metadata": {
    "scrolled": true
   },
   "outputs": [
    {
     "name": "stderr",
     "output_type": "stream",
     "text": [
      "/home/malcolm/main/lib/python3.6/site-packages/ipykernel_launcher.py:1: SettingWithCopyWarning:\n",
      "\n",
      "\n",
      "A value is trying to be set on a copy of a slice from a DataFrame.\n",
      "Try using .loc[row_indexer,col_indexer] = value instead\n",
      "\n",
      "See the caveats in the documentation: https://pandas.pydata.org/pandas-docs/stable/user_guide/indexing.html#returning-a-view-versus-a-copy\n",
      "\n",
      "/home/malcolm/main/lib/python3.6/site-packages/ipykernel_launcher.py:2: SettingWithCopyWarning:\n",
      "\n",
      "\n",
      "A value is trying to be set on a copy of a slice from a DataFrame.\n",
      "Try using .loc[row_indexer,col_indexer] = value instead\n",
      "\n",
      "See the caveats in the documentation: https://pandas.pydata.org/pandas-docs/stable/user_guide/indexing.html#returning-a-view-versus-a-copy\n",
      "\n",
      "/home/malcolm/main/lib/python3.6/site-packages/ipykernel_launcher.py:3: SettingWithCopyWarning:\n",
      "\n",
      "\n",
      "A value is trying to be set on a copy of a slice from a DataFrame.\n",
      "Try using .loc[row_indexer,col_indexer] = value instead\n",
      "\n",
      "See the caveats in the documentation: https://pandas.pydata.org/pandas-docs/stable/user_guide/indexing.html#returning-a-view-versus-a-copy\n",
      "\n"
     ]
    }
   ],
   "source": [
    "ns_raw['Days bw saved and published'] = (ns_raw['date_saved'] - ns_raw['published_at']).dt.days\n",
    "ns_raw['Added in last week'] = ns_raw['Days bw saved and published'] <= 7\n",
    "ns_raw['Added in <4 weeks']  = ns_raw['Days bw saved and published'] >= 28\n",
    "\n"
   ]
  },
  {
   "cell_type": "code",
   "execution_count": 63,
   "metadata": {},
   "outputs": [],
   "source": [
    "def gb_func(df):\n",
    "    out = {}\n",
    "    out['Count'] = df.shape[0]\n",
    "    out['Unique dogs'] = df['id'].nunique()\n",
    "    \n",
    "    out['Avg Days bw saved published'] = df['Days bw saved and published'].mean().round(1)\n",
    "    out['Lower 20% days bw saved published'] = np.quantile(df['Days bw saved and published'], 0.2)\n",
    "    out['Upper 20% days bw saved published'] = np.quantile(df['Days bw saved and published'], 0.8)\n",
    "\n",
    "    out['Added last week sum'] = df['Added in last week'].sum()\n",
    "    out['Added last week pct'] = np.round(100* out['Added last week sum']/out['Count'], 2)\n",
    "    \n",
    "    out['Added in <4 weeks sum'] = df['Added in <4 weeks'].sum()\n",
    "    out['Added in <4 weeks pct'] = np.round(100* out['Added in <4 weeks sum']/out['Count'], 2)\n",
    "    \n",
    "    \n",
    "\n",
    "    \n",
    "    out_series = pd.Series(out)\n",
    "    return(out_series)"
   ]
  },
  {
   "cell_type": "code",
   "execution_count": 64,
   "metadata": {
    "scrolled": true
   },
   "outputs": [
    {
     "data": {
      "text/html": [
       "<div>\n",
       "<style scoped>\n",
       "    .dataframe tbody tr th:only-of-type {\n",
       "        vertical-align: middle;\n",
       "    }\n",
       "\n",
       "    .dataframe tbody tr th {\n",
       "        vertical-align: top;\n",
       "    }\n",
       "\n",
       "    .dataframe thead th {\n",
       "        text-align: right;\n",
       "    }\n",
       "</style>\n",
       "<table border=\"1\" class=\"dataframe\">\n",
       "  <thead>\n",
       "    <tr style=\"text-align: right;\">\n",
       "      <th></th>\n",
       "      <th></th>\n",
       "      <th>Count</th>\n",
       "      <th>Unique dogs</th>\n",
       "      <th>Avg Days bw saved published</th>\n",
       "      <th>Lower 20% days bw saved published</th>\n",
       "      <th>Upper 20% days bw saved published</th>\n",
       "      <th>Added last week sum</th>\n",
       "      <th>Added last week pct</th>\n",
       "      <th>Added in &lt;4 weeks sum</th>\n",
       "      <th>Added in &lt;4 weeks pct</th>\n",
       "    </tr>\n",
       "    <tr>\n",
       "      <th>date_saved</th>\n",
       "      <th>org_name</th>\n",
       "      <th></th>\n",
       "      <th></th>\n",
       "      <th></th>\n",
       "      <th></th>\n",
       "      <th></th>\n",
       "      <th></th>\n",
       "      <th></th>\n",
       "      <th></th>\n",
       "      <th></th>\n",
       "    </tr>\n",
       "  </thead>\n",
       "  <tbody>\n",
       "    <tr>\n",
       "      <th rowspan=\"4\" valign=\"top\">2021-10-31 00:00:00+00:00</th>\n",
       "      <th>North Shore Animal League America</th>\n",
       "      <td>54.0</td>\n",
       "      <td>54.0</td>\n",
       "      <td>102.8</td>\n",
       "      <td>2.6</td>\n",
       "      <td>144.2</td>\n",
       "      <td>15.0</td>\n",
       "      <td>27.78</td>\n",
       "      <td>30.0</td>\n",
       "      <td>55.56</td>\n",
       "    </tr>\n",
       "    <tr>\n",
       "      <th>Rescue Dogs Rock NYC</th>\n",
       "      <td>197.0</td>\n",
       "      <td>197.0</td>\n",
       "      <td>295.7</td>\n",
       "      <td>18.0</td>\n",
       "      <td>480.4</td>\n",
       "      <td>25.0</td>\n",
       "      <td>12.69</td>\n",
       "      <td>146.0</td>\n",
       "      <td>74.11</td>\n",
       "    </tr>\n",
       "    <tr>\n",
       "      <th>Ruff House Rescue</th>\n",
       "      <td>109.0</td>\n",
       "      <td>109.0</td>\n",
       "      <td>90.4</td>\n",
       "      <td>1.0</td>\n",
       "      <td>151.2</td>\n",
       "      <td>35.0</td>\n",
       "      <td>32.11</td>\n",
       "      <td>55.0</td>\n",
       "      <td>50.46</td>\n",
       "    </tr>\n",
       "    <tr>\n",
       "      <th>Second Chance Rescue</th>\n",
       "      <td>109.0</td>\n",
       "      <td>109.0</td>\n",
       "      <td>200.6</td>\n",
       "      <td>11.0</td>\n",
       "      <td>284.4</td>\n",
       "      <td>19.0</td>\n",
       "      <td>17.43</td>\n",
       "      <td>69.0</td>\n",
       "      <td>63.30</td>\n",
       "    </tr>\n",
       "    <tr>\n",
       "      <th rowspan=\"4\" valign=\"top\">2021-11-01 00:00:00+00:00</th>\n",
       "      <th>North Shore Animal League America</th>\n",
       "      <td>53.0</td>\n",
       "      <td>53.0</td>\n",
       "      <td>105.7</td>\n",
       "      <td>4.0</td>\n",
       "      <td>146.8</td>\n",
       "      <td>14.0</td>\n",
       "      <td>26.42</td>\n",
       "      <td>30.0</td>\n",
       "      <td>56.60</td>\n",
       "    </tr>\n",
       "    <tr>\n",
       "      <th>Rescue Dogs Rock NYC</th>\n",
       "      <td>201.0</td>\n",
       "      <td>201.0</td>\n",
       "      <td>290.7</td>\n",
       "      <td>17.0</td>\n",
       "      <td>479.0</td>\n",
       "      <td>20.0</td>\n",
       "      <td>9.95</td>\n",
       "      <td>146.0</td>\n",
       "      <td>72.64</td>\n",
       "    </tr>\n",
       "    <tr>\n",
       "      <th>Ruff House Rescue</th>\n",
       "      <td>103.0</td>\n",
       "      <td>103.0</td>\n",
       "      <td>86.8</td>\n",
       "      <td>2.0</td>\n",
       "      <td>143.4</td>\n",
       "      <td>33.0</td>\n",
       "      <td>32.04</td>\n",
       "      <td>51.0</td>\n",
       "      <td>49.51</td>\n",
       "    </tr>\n",
       "    <tr>\n",
       "      <th>Second Chance Rescue</th>\n",
       "      <td>108.0</td>\n",
       "      <td>108.0</td>\n",
       "      <td>203.2</td>\n",
       "      <td>12.0</td>\n",
       "      <td>286.6</td>\n",
       "      <td>15.0</td>\n",
       "      <td>13.89</td>\n",
       "      <td>70.0</td>\n",
       "      <td>64.81</td>\n",
       "    </tr>\n",
       "    <tr>\n",
       "      <th rowspan=\"4\" valign=\"top\">2021-11-02 00:00:00+00:00</th>\n",
       "      <th>North Shore Animal League America</th>\n",
       "      <td>53.0</td>\n",
       "      <td>53.0</td>\n",
       "      <td>106.7</td>\n",
       "      <td>5.0</td>\n",
       "      <td>147.8</td>\n",
       "      <td>14.0</td>\n",
       "      <td>26.42</td>\n",
       "      <td>30.0</td>\n",
       "      <td>56.60</td>\n",
       "    </tr>\n",
       "    <tr>\n",
       "      <th>Rescue Dogs Rock NYC</th>\n",
       "      <td>202.0</td>\n",
       "      <td>202.0</td>\n",
       "      <td>290.2</td>\n",
       "      <td>18.0</td>\n",
       "      <td>478.0</td>\n",
       "      <td>13.0</td>\n",
       "      <td>6.44</td>\n",
       "      <td>146.0</td>\n",
       "      <td>72.28</td>\n",
       "    </tr>\n",
       "    <tr>\n",
       "      <th>Ruff House Rescue</th>\n",
       "      <td>102.0</td>\n",
       "      <td>102.0</td>\n",
       "      <td>88.6</td>\n",
       "      <td>3.0</td>\n",
       "      <td>145.2</td>\n",
       "      <td>32.0</td>\n",
       "      <td>31.37</td>\n",
       "      <td>51.0</td>\n",
       "      <td>50.00</td>\n",
       "    </tr>\n",
       "    <tr>\n",
       "      <th>Second Chance Rescue</th>\n",
       "      <td>113.0</td>\n",
       "      <td>113.0</td>\n",
       "      <td>189.0</td>\n",
       "      <td>9.0</td>\n",
       "      <td>231.8</td>\n",
       "      <td>21.0</td>\n",
       "      <td>18.58</td>\n",
       "      <td>70.0</td>\n",
       "      <td>61.95</td>\n",
       "    </tr>\n",
       "    <tr>\n",
       "      <th rowspan=\"4\" valign=\"top\">2021-11-03 00:00:00+00:00</th>\n",
       "      <th>North Shore Animal League America</th>\n",
       "      <td>53.0</td>\n",
       "      <td>53.0</td>\n",
       "      <td>107.7</td>\n",
       "      <td>6.0</td>\n",
       "      <td>148.8</td>\n",
       "      <td>14.0</td>\n",
       "      <td>26.42</td>\n",
       "      <td>30.0</td>\n",
       "      <td>56.60</td>\n",
       "    </tr>\n",
       "    <tr>\n",
       "      <th>Rescue Dogs Rock NYC</th>\n",
       "      <td>206.0</td>\n",
       "      <td>206.0</td>\n",
       "      <td>285.1</td>\n",
       "      <td>15.0</td>\n",
       "      <td>471.0</td>\n",
       "      <td>18.0</td>\n",
       "      <td>8.74</td>\n",
       "      <td>145.0</td>\n",
       "      <td>70.39</td>\n",
       "    </tr>\n",
       "    <tr>\n",
       "      <th>Ruff House Rescue</th>\n",
       "      <td>102.0</td>\n",
       "      <td>99.0</td>\n",
       "      <td>89.6</td>\n",
       "      <td>4.0</td>\n",
       "      <td>146.2</td>\n",
       "      <td>32.0</td>\n",
       "      <td>31.37</td>\n",
       "      <td>51.0</td>\n",
       "      <td>50.00</td>\n",
       "    </tr>\n",
       "    <tr>\n",
       "      <th>Second Chance Rescue</th>\n",
       "      <td>114.0</td>\n",
       "      <td>114.0</td>\n",
       "      <td>187.9</td>\n",
       "      <td>9.2</td>\n",
       "      <td>227.2</td>\n",
       "      <td>15.0</td>\n",
       "      <td>13.16</td>\n",
       "      <td>69.0</td>\n",
       "      <td>60.53</td>\n",
       "    </tr>\n",
       "    <tr>\n",
       "      <th rowspan=\"4\" valign=\"top\">2021-11-04 00:00:00+00:00</th>\n",
       "      <th>North Shore Animal League America</th>\n",
       "      <td>51.0</td>\n",
       "      <td>51.0</td>\n",
       "      <td>112.7</td>\n",
       "      <td>7.0</td>\n",
       "      <td>153.0</td>\n",
       "      <td>12.0</td>\n",
       "      <td>23.53</td>\n",
       "      <td>32.0</td>\n",
       "      <td>62.75</td>\n",
       "    </tr>\n",
       "    <tr>\n",
       "      <th>Rescue Dogs Rock NYC</th>\n",
       "      <td>205.0</td>\n",
       "      <td>205.0</td>\n",
       "      <td>287.4</td>\n",
       "      <td>16.0</td>\n",
       "      <td>474.0</td>\n",
       "      <td>18.0</td>\n",
       "      <td>8.78</td>\n",
       "      <td>145.0</td>\n",
       "      <td>70.73</td>\n",
       "    </tr>\n",
       "    <tr>\n",
       "      <th>Ruff House Rescue</th>\n",
       "      <td>100.0</td>\n",
       "      <td>100.0</td>\n",
       "      <td>92.2</td>\n",
       "      <td>5.0</td>\n",
       "      <td>149.8</td>\n",
       "      <td>31.0</td>\n",
       "      <td>31.00</td>\n",
       "      <td>51.0</td>\n",
       "      <td>51.00</td>\n",
       "    </tr>\n",
       "    <tr>\n",
       "      <th>Second Chance Rescue</th>\n",
       "      <td>111.0</td>\n",
       "      <td>111.0</td>\n",
       "      <td>193.7</td>\n",
       "      <td>11.0</td>\n",
       "      <td>245.0</td>\n",
       "      <td>11.0</td>\n",
       "      <td>9.91</td>\n",
       "      <td>70.0</td>\n",
       "      <td>63.06</td>\n",
       "    </tr>\n",
       "    <tr>\n",
       "      <th rowspan=\"4\" valign=\"top\">2021-11-05 00:00:00+00:00</th>\n",
       "      <th>North Shore Animal League America</th>\n",
       "      <td>60.0</td>\n",
       "      <td>60.0</td>\n",
       "      <td>96.2</td>\n",
       "      <td>6.8</td>\n",
       "      <td>134.8</td>\n",
       "      <td>18.0</td>\n",
       "      <td>30.00</td>\n",
       "      <td>32.0</td>\n",
       "      <td>53.33</td>\n",
       "    </tr>\n",
       "    <tr>\n",
       "      <th>Rescue Dogs Rock NYC</th>\n",
       "      <td>203.0</td>\n",
       "      <td>203.0</td>\n",
       "      <td>290.8</td>\n",
       "      <td>17.0</td>\n",
       "      <td>479.0</td>\n",
       "      <td>18.0</td>\n",
       "      <td>8.87</td>\n",
       "      <td>144.0</td>\n",
       "      <td>70.94</td>\n",
       "    </tr>\n",
       "    <tr>\n",
       "      <th>Ruff House Rescue</th>\n",
       "      <td>100.0</td>\n",
       "      <td>99.0</td>\n",
       "      <td>93.2</td>\n",
       "      <td>6.0</td>\n",
       "      <td>150.8</td>\n",
       "      <td>31.0</td>\n",
       "      <td>31.00</td>\n",
       "      <td>51.0</td>\n",
       "      <td>51.00</td>\n",
       "    </tr>\n",
       "    <tr>\n",
       "      <th>Second Chance Rescue</th>\n",
       "      <td>114.0</td>\n",
       "      <td>114.0</td>\n",
       "      <td>189.3</td>\n",
       "      <td>10.0</td>\n",
       "      <td>229.2</td>\n",
       "      <td>15.0</td>\n",
       "      <td>13.16</td>\n",
       "      <td>70.0</td>\n",
       "      <td>61.40</td>\n",
       "    </tr>\n",
       "    <tr>\n",
       "      <th rowspan=\"4\" valign=\"top\">2021-11-06 00:00:00+00:00</th>\n",
       "      <th>North Shore Animal League America</th>\n",
       "      <td>60.0</td>\n",
       "      <td>60.0</td>\n",
       "      <td>97.2</td>\n",
       "      <td>7.8</td>\n",
       "      <td>135.8</td>\n",
       "      <td>12.0</td>\n",
       "      <td>20.00</td>\n",
       "      <td>33.0</td>\n",
       "      <td>55.00</td>\n",
       "    </tr>\n",
       "    <tr>\n",
       "      <th>Rescue Dogs Rock NYC</th>\n",
       "      <td>203.0</td>\n",
       "      <td>203.0</td>\n",
       "      <td>284.0</td>\n",
       "      <td>18.0</td>\n",
       "      <td>473.2</td>\n",
       "      <td>18.0</td>\n",
       "      <td>8.87</td>\n",
       "      <td>150.0</td>\n",
       "      <td>73.89</td>\n",
       "    </tr>\n",
       "    <tr>\n",
       "      <th>Ruff House Rescue</th>\n",
       "      <td>100.0</td>\n",
       "      <td>98.0</td>\n",
       "      <td>94.2</td>\n",
       "      <td>7.0</td>\n",
       "      <td>151.8</td>\n",
       "      <td>31.0</td>\n",
       "      <td>31.00</td>\n",
       "      <td>52.0</td>\n",
       "      <td>52.00</td>\n",
       "    </tr>\n",
       "    <tr>\n",
       "      <th>Second Chance Rescue</th>\n",
       "      <td>115.0</td>\n",
       "      <td>115.0</td>\n",
       "      <td>188.5</td>\n",
       "      <td>11.0</td>\n",
       "      <td>224.6</td>\n",
       "      <td>12.0</td>\n",
       "      <td>10.43</td>\n",
       "      <td>70.0</td>\n",
       "      <td>60.87</td>\n",
       "    </tr>\n",
       "    <tr>\n",
       "      <th rowspan=\"4\" valign=\"top\">2021-11-07 00:00:00+00:00</th>\n",
       "      <th>North Shore Animal League America</th>\n",
       "      <td>68.0</td>\n",
       "      <td>68.0</td>\n",
       "      <td>86.6</td>\n",
       "      <td>1.0</td>\n",
       "      <td>112.8</td>\n",
       "      <td>18.0</td>\n",
       "      <td>26.47</td>\n",
       "      <td>33.0</td>\n",
       "      <td>48.53</td>\n",
       "    </tr>\n",
       "    <tr>\n",
       "      <th>Rescue Dogs Rock NYC</th>\n",
       "      <td>202.0</td>\n",
       "      <td>202.0</td>\n",
       "      <td>285.8</td>\n",
       "      <td>19.0</td>\n",
       "      <td>474.6</td>\n",
       "      <td>17.0</td>\n",
       "      <td>8.42</td>\n",
       "      <td>149.0</td>\n",
       "      <td>73.76</td>\n",
       "    </tr>\n",
       "    <tr>\n",
       "      <th>Ruff House Rescue</th>\n",
       "      <td>96.0</td>\n",
       "      <td>96.0</td>\n",
       "      <td>97.2</td>\n",
       "      <td>8.0</td>\n",
       "      <td>160.0</td>\n",
       "      <td>0.0</td>\n",
       "      <td>0.00</td>\n",
       "      <td>51.0</td>\n",
       "      <td>53.12</td>\n",
       "    </tr>\n",
       "    <tr>\n",
       "      <th>Second Chance Rescue</th>\n",
       "      <td>115.0</td>\n",
       "      <td>115.0</td>\n",
       "      <td>189.5</td>\n",
       "      <td>12.0</td>\n",
       "      <td>225.6</td>\n",
       "      <td>12.0</td>\n",
       "      <td>10.43</td>\n",
       "      <td>76.0</td>\n",
       "      <td>66.09</td>\n",
       "    </tr>\n",
       "  </tbody>\n",
       "</table>\n",
       "</div>"
      ],
      "text/plain": [
       "                                                             Count  \\\n",
       "date_saved                org_name                                   \n",
       "2021-10-31 00:00:00+00:00 North Shore Animal League America   54.0   \n",
       "                          Rescue Dogs Rock NYC               197.0   \n",
       "                          Ruff House Rescue                  109.0   \n",
       "                          Second Chance Rescue               109.0   \n",
       "2021-11-01 00:00:00+00:00 North Shore Animal League America   53.0   \n",
       "                          Rescue Dogs Rock NYC               201.0   \n",
       "                          Ruff House Rescue                  103.0   \n",
       "                          Second Chance Rescue               108.0   \n",
       "2021-11-02 00:00:00+00:00 North Shore Animal League America   53.0   \n",
       "                          Rescue Dogs Rock NYC               202.0   \n",
       "                          Ruff House Rescue                  102.0   \n",
       "                          Second Chance Rescue               113.0   \n",
       "2021-11-03 00:00:00+00:00 North Shore Animal League America   53.0   \n",
       "                          Rescue Dogs Rock NYC               206.0   \n",
       "                          Ruff House Rescue                  102.0   \n",
       "                          Second Chance Rescue               114.0   \n",
       "2021-11-04 00:00:00+00:00 North Shore Animal League America   51.0   \n",
       "                          Rescue Dogs Rock NYC               205.0   \n",
       "                          Ruff House Rescue                  100.0   \n",
       "                          Second Chance Rescue               111.0   \n",
       "2021-11-05 00:00:00+00:00 North Shore Animal League America   60.0   \n",
       "                          Rescue Dogs Rock NYC               203.0   \n",
       "                          Ruff House Rescue                  100.0   \n",
       "                          Second Chance Rescue               114.0   \n",
       "2021-11-06 00:00:00+00:00 North Shore Animal League America   60.0   \n",
       "                          Rescue Dogs Rock NYC               203.0   \n",
       "                          Ruff House Rescue                  100.0   \n",
       "                          Second Chance Rescue               115.0   \n",
       "2021-11-07 00:00:00+00:00 North Shore Animal League America   68.0   \n",
       "                          Rescue Dogs Rock NYC               202.0   \n",
       "                          Ruff House Rescue                   96.0   \n",
       "                          Second Chance Rescue               115.0   \n",
       "\n",
       "                                                             Unique dogs  \\\n",
       "date_saved                org_name                                         \n",
       "2021-10-31 00:00:00+00:00 North Shore Animal League America         54.0   \n",
       "                          Rescue Dogs Rock NYC                     197.0   \n",
       "                          Ruff House Rescue                        109.0   \n",
       "                          Second Chance Rescue                     109.0   \n",
       "2021-11-01 00:00:00+00:00 North Shore Animal League America         53.0   \n",
       "                          Rescue Dogs Rock NYC                     201.0   \n",
       "                          Ruff House Rescue                        103.0   \n",
       "                          Second Chance Rescue                     108.0   \n",
       "2021-11-02 00:00:00+00:00 North Shore Animal League America         53.0   \n",
       "                          Rescue Dogs Rock NYC                     202.0   \n",
       "                          Ruff House Rescue                        102.0   \n",
       "                          Second Chance Rescue                     113.0   \n",
       "2021-11-03 00:00:00+00:00 North Shore Animal League America         53.0   \n",
       "                          Rescue Dogs Rock NYC                     206.0   \n",
       "                          Ruff House Rescue                         99.0   \n",
       "                          Second Chance Rescue                     114.0   \n",
       "2021-11-04 00:00:00+00:00 North Shore Animal League America         51.0   \n",
       "                          Rescue Dogs Rock NYC                     205.0   \n",
       "                          Ruff House Rescue                        100.0   \n",
       "                          Second Chance Rescue                     111.0   \n",
       "2021-11-05 00:00:00+00:00 North Shore Animal League America         60.0   \n",
       "                          Rescue Dogs Rock NYC                     203.0   \n",
       "                          Ruff House Rescue                         99.0   \n",
       "                          Second Chance Rescue                     114.0   \n",
       "2021-11-06 00:00:00+00:00 North Shore Animal League America         60.0   \n",
       "                          Rescue Dogs Rock NYC                     203.0   \n",
       "                          Ruff House Rescue                         98.0   \n",
       "                          Second Chance Rescue                     115.0   \n",
       "2021-11-07 00:00:00+00:00 North Shore Animal League America         68.0   \n",
       "                          Rescue Dogs Rock NYC                     202.0   \n",
       "                          Ruff House Rescue                         96.0   \n",
       "                          Second Chance Rescue                     115.0   \n",
       "\n",
       "                                                             Avg Days bw saved published  \\\n",
       "date_saved                org_name                                                         \n",
       "2021-10-31 00:00:00+00:00 North Shore Animal League America                        102.8   \n",
       "                          Rescue Dogs Rock NYC                                     295.7   \n",
       "                          Ruff House Rescue                                         90.4   \n",
       "                          Second Chance Rescue                                     200.6   \n",
       "2021-11-01 00:00:00+00:00 North Shore Animal League America                        105.7   \n",
       "                          Rescue Dogs Rock NYC                                     290.7   \n",
       "                          Ruff House Rescue                                         86.8   \n",
       "                          Second Chance Rescue                                     203.2   \n",
       "2021-11-02 00:00:00+00:00 North Shore Animal League America                        106.7   \n",
       "                          Rescue Dogs Rock NYC                                     290.2   \n",
       "                          Ruff House Rescue                                         88.6   \n",
       "                          Second Chance Rescue                                     189.0   \n",
       "2021-11-03 00:00:00+00:00 North Shore Animal League America                        107.7   \n",
       "                          Rescue Dogs Rock NYC                                     285.1   \n",
       "                          Ruff House Rescue                                         89.6   \n",
       "                          Second Chance Rescue                                     187.9   \n",
       "2021-11-04 00:00:00+00:00 North Shore Animal League America                        112.7   \n",
       "                          Rescue Dogs Rock NYC                                     287.4   \n",
       "                          Ruff House Rescue                                         92.2   \n",
       "                          Second Chance Rescue                                     193.7   \n",
       "2021-11-05 00:00:00+00:00 North Shore Animal League America                         96.2   \n",
       "                          Rescue Dogs Rock NYC                                     290.8   \n",
       "                          Ruff House Rescue                                         93.2   \n",
       "                          Second Chance Rescue                                     189.3   \n",
       "2021-11-06 00:00:00+00:00 North Shore Animal League America                         97.2   \n",
       "                          Rescue Dogs Rock NYC                                     284.0   \n",
       "                          Ruff House Rescue                                         94.2   \n",
       "                          Second Chance Rescue                                     188.5   \n",
       "2021-11-07 00:00:00+00:00 North Shore Animal League America                         86.6   \n",
       "                          Rescue Dogs Rock NYC                                     285.8   \n",
       "                          Ruff House Rescue                                         97.2   \n",
       "                          Second Chance Rescue                                     189.5   \n",
       "\n",
       "                                                             Lower 20% days bw saved published  \\\n",
       "date_saved                org_name                                                               \n",
       "2021-10-31 00:00:00+00:00 North Shore Animal League America                                2.6   \n",
       "                          Rescue Dogs Rock NYC                                            18.0   \n",
       "                          Ruff House Rescue                                                1.0   \n",
       "                          Second Chance Rescue                                            11.0   \n",
       "2021-11-01 00:00:00+00:00 North Shore Animal League America                                4.0   \n",
       "                          Rescue Dogs Rock NYC                                            17.0   \n",
       "                          Ruff House Rescue                                                2.0   \n",
       "                          Second Chance Rescue                                            12.0   \n",
       "2021-11-02 00:00:00+00:00 North Shore Animal League America                                5.0   \n",
       "                          Rescue Dogs Rock NYC                                            18.0   \n",
       "                          Ruff House Rescue                                                3.0   \n",
       "                          Second Chance Rescue                                             9.0   \n",
       "2021-11-03 00:00:00+00:00 North Shore Animal League America                                6.0   \n",
       "                          Rescue Dogs Rock NYC                                            15.0   \n",
       "                          Ruff House Rescue                                                4.0   \n",
       "                          Second Chance Rescue                                             9.2   \n",
       "2021-11-04 00:00:00+00:00 North Shore Animal League America                                7.0   \n",
       "                          Rescue Dogs Rock NYC                                            16.0   \n",
       "                          Ruff House Rescue                                                5.0   \n",
       "                          Second Chance Rescue                                            11.0   \n",
       "2021-11-05 00:00:00+00:00 North Shore Animal League America                                6.8   \n",
       "                          Rescue Dogs Rock NYC                                            17.0   \n",
       "                          Ruff House Rescue                                                6.0   \n",
       "                          Second Chance Rescue                                            10.0   \n",
       "2021-11-06 00:00:00+00:00 North Shore Animal League America                                7.8   \n",
       "                          Rescue Dogs Rock NYC                                            18.0   \n",
       "                          Ruff House Rescue                                                7.0   \n",
       "                          Second Chance Rescue                                            11.0   \n",
       "2021-11-07 00:00:00+00:00 North Shore Animal League America                                1.0   \n",
       "                          Rescue Dogs Rock NYC                                            19.0   \n",
       "                          Ruff House Rescue                                                8.0   \n",
       "                          Second Chance Rescue                                            12.0   \n",
       "\n",
       "                                                             Upper 20% days bw saved published  \\\n",
       "date_saved                org_name                                                               \n",
       "2021-10-31 00:00:00+00:00 North Shore Animal League America                              144.2   \n",
       "                          Rescue Dogs Rock NYC                                           480.4   \n",
       "                          Ruff House Rescue                                              151.2   \n",
       "                          Second Chance Rescue                                           284.4   \n",
       "2021-11-01 00:00:00+00:00 North Shore Animal League America                              146.8   \n",
       "                          Rescue Dogs Rock NYC                                           479.0   \n",
       "                          Ruff House Rescue                                              143.4   \n",
       "                          Second Chance Rescue                                           286.6   \n",
       "2021-11-02 00:00:00+00:00 North Shore Animal League America                              147.8   \n",
       "                          Rescue Dogs Rock NYC                                           478.0   \n",
       "                          Ruff House Rescue                                              145.2   \n",
       "                          Second Chance Rescue                                           231.8   \n",
       "2021-11-03 00:00:00+00:00 North Shore Animal League America                              148.8   \n",
       "                          Rescue Dogs Rock NYC                                           471.0   \n",
       "                          Ruff House Rescue                                              146.2   \n",
       "                          Second Chance Rescue                                           227.2   \n",
       "2021-11-04 00:00:00+00:00 North Shore Animal League America                              153.0   \n",
       "                          Rescue Dogs Rock NYC                                           474.0   \n",
       "                          Ruff House Rescue                                              149.8   \n",
       "                          Second Chance Rescue                                           245.0   \n",
       "2021-11-05 00:00:00+00:00 North Shore Animal League America                              134.8   \n",
       "                          Rescue Dogs Rock NYC                                           479.0   \n",
       "                          Ruff House Rescue                                              150.8   \n",
       "                          Second Chance Rescue                                           229.2   \n",
       "2021-11-06 00:00:00+00:00 North Shore Animal League America                              135.8   \n",
       "                          Rescue Dogs Rock NYC                                           473.2   \n",
       "                          Ruff House Rescue                                              151.8   \n",
       "                          Second Chance Rescue                                           224.6   \n",
       "2021-11-07 00:00:00+00:00 North Shore Animal League America                              112.8   \n",
       "                          Rescue Dogs Rock NYC                                           474.6   \n",
       "                          Ruff House Rescue                                              160.0   \n",
       "                          Second Chance Rescue                                           225.6   \n",
       "\n",
       "                                                             Added last week sum  \\\n",
       "date_saved                org_name                                                 \n",
       "2021-10-31 00:00:00+00:00 North Shore Animal League America                 15.0   \n",
       "                          Rescue Dogs Rock NYC                              25.0   \n",
       "                          Ruff House Rescue                                 35.0   \n",
       "                          Second Chance Rescue                              19.0   \n",
       "2021-11-01 00:00:00+00:00 North Shore Animal League America                 14.0   \n",
       "                          Rescue Dogs Rock NYC                              20.0   \n",
       "                          Ruff House Rescue                                 33.0   \n",
       "                          Second Chance Rescue                              15.0   \n",
       "2021-11-02 00:00:00+00:00 North Shore Animal League America                 14.0   \n",
       "                          Rescue Dogs Rock NYC                              13.0   \n",
       "                          Ruff House Rescue                                 32.0   \n",
       "                          Second Chance Rescue                              21.0   \n",
       "2021-11-03 00:00:00+00:00 North Shore Animal League America                 14.0   \n",
       "                          Rescue Dogs Rock NYC                              18.0   \n",
       "                          Ruff House Rescue                                 32.0   \n",
       "                          Second Chance Rescue                              15.0   \n",
       "2021-11-04 00:00:00+00:00 North Shore Animal League America                 12.0   \n",
       "                          Rescue Dogs Rock NYC                              18.0   \n",
       "                          Ruff House Rescue                                 31.0   \n",
       "                          Second Chance Rescue                              11.0   \n",
       "2021-11-05 00:00:00+00:00 North Shore Animal League America                 18.0   \n",
       "                          Rescue Dogs Rock NYC                              18.0   \n",
       "                          Ruff House Rescue                                 31.0   \n",
       "                          Second Chance Rescue                              15.0   \n",
       "2021-11-06 00:00:00+00:00 North Shore Animal League America                 12.0   \n",
       "                          Rescue Dogs Rock NYC                              18.0   \n",
       "                          Ruff House Rescue                                 31.0   \n",
       "                          Second Chance Rescue                              12.0   \n",
       "2021-11-07 00:00:00+00:00 North Shore Animal League America                 18.0   \n",
       "                          Rescue Dogs Rock NYC                              17.0   \n",
       "                          Ruff House Rescue                                  0.0   \n",
       "                          Second Chance Rescue                              12.0   \n",
       "\n",
       "                                                             Added last week pct  \\\n",
       "date_saved                org_name                                                 \n",
       "2021-10-31 00:00:00+00:00 North Shore Animal League America                27.78   \n",
       "                          Rescue Dogs Rock NYC                             12.69   \n",
       "                          Ruff House Rescue                                32.11   \n",
       "                          Second Chance Rescue                             17.43   \n",
       "2021-11-01 00:00:00+00:00 North Shore Animal League America                26.42   \n",
       "                          Rescue Dogs Rock NYC                              9.95   \n",
       "                          Ruff House Rescue                                32.04   \n",
       "                          Second Chance Rescue                             13.89   \n",
       "2021-11-02 00:00:00+00:00 North Shore Animal League America                26.42   \n",
       "                          Rescue Dogs Rock NYC                              6.44   \n",
       "                          Ruff House Rescue                                31.37   \n",
       "                          Second Chance Rescue                             18.58   \n",
       "2021-11-03 00:00:00+00:00 North Shore Animal League America                26.42   \n",
       "                          Rescue Dogs Rock NYC                              8.74   \n",
       "                          Ruff House Rescue                                31.37   \n",
       "                          Second Chance Rescue                             13.16   \n",
       "2021-11-04 00:00:00+00:00 North Shore Animal League America                23.53   \n",
       "                          Rescue Dogs Rock NYC                              8.78   \n",
       "                          Ruff House Rescue                                31.00   \n",
       "                          Second Chance Rescue                              9.91   \n",
       "2021-11-05 00:00:00+00:00 North Shore Animal League America                30.00   \n",
       "                          Rescue Dogs Rock NYC                              8.87   \n",
       "                          Ruff House Rescue                                31.00   \n",
       "                          Second Chance Rescue                             13.16   \n",
       "2021-11-06 00:00:00+00:00 North Shore Animal League America                20.00   \n",
       "                          Rescue Dogs Rock NYC                              8.87   \n",
       "                          Ruff House Rescue                                31.00   \n",
       "                          Second Chance Rescue                             10.43   \n",
       "2021-11-07 00:00:00+00:00 North Shore Animal League America                26.47   \n",
       "                          Rescue Dogs Rock NYC                              8.42   \n",
       "                          Ruff House Rescue                                 0.00   \n",
       "                          Second Chance Rescue                             10.43   \n",
       "\n",
       "                                                             Added in <4 weeks sum  \\\n",
       "date_saved                org_name                                                   \n",
       "2021-10-31 00:00:00+00:00 North Shore Animal League America                   30.0   \n",
       "                          Rescue Dogs Rock NYC                               146.0   \n",
       "                          Ruff House Rescue                                   55.0   \n",
       "                          Second Chance Rescue                                69.0   \n",
       "2021-11-01 00:00:00+00:00 North Shore Animal League America                   30.0   \n",
       "                          Rescue Dogs Rock NYC                               146.0   \n",
       "                          Ruff House Rescue                                   51.0   \n",
       "                          Second Chance Rescue                                70.0   \n",
       "2021-11-02 00:00:00+00:00 North Shore Animal League America                   30.0   \n",
       "                          Rescue Dogs Rock NYC                               146.0   \n",
       "                          Ruff House Rescue                                   51.0   \n",
       "                          Second Chance Rescue                                70.0   \n",
       "2021-11-03 00:00:00+00:00 North Shore Animal League America                   30.0   \n",
       "                          Rescue Dogs Rock NYC                               145.0   \n",
       "                          Ruff House Rescue                                   51.0   \n",
       "                          Second Chance Rescue                                69.0   \n",
       "2021-11-04 00:00:00+00:00 North Shore Animal League America                   32.0   \n",
       "                          Rescue Dogs Rock NYC                               145.0   \n",
       "                          Ruff House Rescue                                   51.0   \n",
       "                          Second Chance Rescue                                70.0   \n",
       "2021-11-05 00:00:00+00:00 North Shore Animal League America                   32.0   \n",
       "                          Rescue Dogs Rock NYC                               144.0   \n",
       "                          Ruff House Rescue                                   51.0   \n",
       "                          Second Chance Rescue                                70.0   \n",
       "2021-11-06 00:00:00+00:00 North Shore Animal League America                   33.0   \n",
       "                          Rescue Dogs Rock NYC                               150.0   \n",
       "                          Ruff House Rescue                                   52.0   \n",
       "                          Second Chance Rescue                                70.0   \n",
       "2021-11-07 00:00:00+00:00 North Shore Animal League America                   33.0   \n",
       "                          Rescue Dogs Rock NYC                               149.0   \n",
       "                          Ruff House Rescue                                   51.0   \n",
       "                          Second Chance Rescue                                76.0   \n",
       "\n",
       "                                                             Added in <4 weeks pct  \n",
       "date_saved                org_name                                                  \n",
       "2021-10-31 00:00:00+00:00 North Shore Animal League America                  55.56  \n",
       "                          Rescue Dogs Rock NYC                               74.11  \n",
       "                          Ruff House Rescue                                  50.46  \n",
       "                          Second Chance Rescue                               63.30  \n",
       "2021-11-01 00:00:00+00:00 North Shore Animal League America                  56.60  \n",
       "                          Rescue Dogs Rock NYC                               72.64  \n",
       "                          Ruff House Rescue                                  49.51  \n",
       "                          Second Chance Rescue                               64.81  \n",
       "2021-11-02 00:00:00+00:00 North Shore Animal League America                  56.60  \n",
       "                          Rescue Dogs Rock NYC                               72.28  \n",
       "                          Ruff House Rescue                                  50.00  \n",
       "                          Second Chance Rescue                               61.95  \n",
       "2021-11-03 00:00:00+00:00 North Shore Animal League America                  56.60  \n",
       "                          Rescue Dogs Rock NYC                               70.39  \n",
       "                          Ruff House Rescue                                  50.00  \n",
       "                          Second Chance Rescue                               60.53  \n",
       "2021-11-04 00:00:00+00:00 North Shore Animal League America                  62.75  \n",
       "                          Rescue Dogs Rock NYC                               70.73  \n",
       "                          Ruff House Rescue                                  51.00  \n",
       "                          Second Chance Rescue                               63.06  \n",
       "2021-11-05 00:00:00+00:00 North Shore Animal League America                  53.33  \n",
       "                          Rescue Dogs Rock NYC                               70.94  \n",
       "                          Ruff House Rescue                                  51.00  \n",
       "                          Second Chance Rescue                               61.40  \n",
       "2021-11-06 00:00:00+00:00 North Shore Animal League America                  55.00  \n",
       "                          Rescue Dogs Rock NYC                               73.89  \n",
       "                          Ruff House Rescue                                  52.00  \n",
       "                          Second Chance Rescue                               60.87  \n",
       "2021-11-07 00:00:00+00:00 North Shore Animal League America                  48.53  \n",
       "                          Rescue Dogs Rock NYC                               73.76  \n",
       "                          Ruff House Rescue                                  53.12  \n",
       "                          Second Chance Rescue                               66.09  "
      ]
     },
     "execution_count": 64,
     "metadata": {},
     "output_type": "execute_result"
    }
   ],
   "source": [
    "ns_gb = ns_raw.groupby(['date_saved', 'org_name']).apply(gb_func)\n",
    "ns_gb"
   ]
  },
  {
   "cell_type": "code",
   "execution_count": 65,
   "metadata": {},
   "outputs": [
    {
     "data": {
      "text/html": [
       "<div>\n",
       "<style scoped>\n",
       "    .dataframe tbody tr th:only-of-type {\n",
       "        vertical-align: middle;\n",
       "    }\n",
       "\n",
       "    .dataframe tbody tr th {\n",
       "        vertical-align: top;\n",
       "    }\n",
       "\n",
       "    .dataframe thead th {\n",
       "        text-align: right;\n",
       "    }\n",
       "</style>\n",
       "<table border=\"1\" class=\"dataframe\">\n",
       "  <thead>\n",
       "    <tr style=\"text-align: right;\">\n",
       "      <th></th>\n",
       "      <th>Days Measure</th>\n",
       "      <th>date_saved</th>\n",
       "      <th>org_name</th>\n",
       "      <th># of Days</th>\n",
       "    </tr>\n",
       "  </thead>\n",
       "  <tbody>\n",
       "    <tr>\n",
       "      <th>0</th>\n",
       "      <td>Avg Days bw saved published</td>\n",
       "      <td>2021-10-31 00:00:00+00:00</td>\n",
       "      <td>North Shore Animal League America</td>\n",
       "      <td>102.8</td>\n",
       "    </tr>\n",
       "    <tr>\n",
       "      <th>1</th>\n",
       "      <td>Avg Days bw saved published</td>\n",
       "      <td>2021-10-31 00:00:00+00:00</td>\n",
       "      <td>Rescue Dogs Rock NYC</td>\n",
       "      <td>295.7</td>\n",
       "    </tr>\n",
       "    <tr>\n",
       "      <th>2</th>\n",
       "      <td>Avg Days bw saved published</td>\n",
       "      <td>2021-10-31 00:00:00+00:00</td>\n",
       "      <td>Ruff House Rescue</td>\n",
       "      <td>90.4</td>\n",
       "    </tr>\n",
       "    <tr>\n",
       "      <th>3</th>\n",
       "      <td>Avg Days bw saved published</td>\n",
       "      <td>2021-10-31 00:00:00+00:00</td>\n",
       "      <td>Second Chance Rescue</td>\n",
       "      <td>200.6</td>\n",
       "    </tr>\n",
       "    <tr>\n",
       "      <th>4</th>\n",
       "      <td>Avg Days bw saved published</td>\n",
       "      <td>2021-11-01 00:00:00+00:00</td>\n",
       "      <td>North Shore Animal League America</td>\n",
       "      <td>105.7</td>\n",
       "    </tr>\n",
       "  </tbody>\n",
       "</table>\n",
       "</div>"
      ],
      "text/plain": [
       "                  Days Measure                date_saved  \\\n",
       "0  Avg Days bw saved published 2021-10-31 00:00:00+00:00   \n",
       "1  Avg Days bw saved published 2021-10-31 00:00:00+00:00   \n",
       "2  Avg Days bw saved published 2021-10-31 00:00:00+00:00   \n",
       "3  Avg Days bw saved published 2021-10-31 00:00:00+00:00   \n",
       "4  Avg Days bw saved published 2021-11-01 00:00:00+00:00   \n",
       "\n",
       "                            org_name  # of Days  \n",
       "0  North Shore Animal League America      102.8  \n",
       "1               Rescue Dogs Rock NYC      295.7  \n",
       "2                  Ruff House Rescue       90.4  \n",
       "3               Second Chance Rescue      200.6  \n",
       "4  North Shore Animal League America      105.7  "
      ]
     },
     "execution_count": 65,
     "metadata": {},
     "output_type": "execute_result"
    }
   ],
   "source": [
    "cols = ['Avg Days bw saved published', 'Upper 20% days bw saved published']\n",
    "days_in_regroup = pd.concat({x:ns_gb[x] for x in cols})\\\n",
    "    .reset_index()\\\n",
    "    .rename({'level_0':'Days Measure', \n",
    "            0 : \"# of Days\"}, axis=1)\n",
    "days_in_regroup.head()"
   ]
  },
  {
   "cell_type": "code",
   "execution_count": 66,
   "metadata": {},
   "outputs": [
    {
     "data": {
      "application/vnd.plotly.v1+json": {
       "config": {
        "plotlyServerURL": "https://plot.ly"
       },
       "data": [
        {
         "hovertemplate": "org_name=North Shore Animal League America<br>Days Measure=Avg Days bw saved published<br>date_saved=%{x}<br># of Days=%{y}<extra></extra>",
         "legendgroup": "North Shore Animal League America, Avg Days bw saved published",
         "line": {
          "color": "#636efa",
          "dash": "solid"
         },
         "mode": "lines",
         "name": "North Shore Animal League America, Avg Days bw saved published",
         "orientation": "v",
         "showlegend": true,
         "type": "scatter",
         "x": [
          "2021-10-31T00:00:00+00:00",
          "2021-11-01T00:00:00+00:00",
          "2021-11-02T00:00:00+00:00",
          "2021-11-03T00:00:00+00:00",
          "2021-11-04T00:00:00+00:00",
          "2021-11-05T00:00:00+00:00",
          "2021-11-06T00:00:00+00:00",
          "2021-11-07T00:00:00+00:00"
         ],
         "xaxis": "x",
         "y": [
          102.8,
          105.7,
          106.7,
          107.7,
          112.7,
          96.2,
          97.2,
          86.6
         ],
         "yaxis": "y"
        },
        {
         "hovertemplate": "org_name=North Shore Animal League America<br>Days Measure=Upper 20% days bw saved published<br>date_saved=%{x}<br># of Days=%{y}<extra></extra>",
         "legendgroup": "North Shore Animal League America, Upper 20% days bw saved published",
         "line": {
          "color": "#636efa",
          "dash": "dot"
         },
         "mode": "lines",
         "name": "North Shore Animal League America, Upper 20% days bw saved published",
         "orientation": "v",
         "showlegend": true,
         "type": "scatter",
         "x": [
          "2021-10-31T00:00:00+00:00",
          "2021-11-01T00:00:00+00:00",
          "2021-11-02T00:00:00+00:00",
          "2021-11-03T00:00:00+00:00",
          "2021-11-04T00:00:00+00:00",
          "2021-11-05T00:00:00+00:00",
          "2021-11-06T00:00:00+00:00",
          "2021-11-07T00:00:00+00:00"
         ],
         "xaxis": "x",
         "y": [
          144.20000000000005,
          146.8,
          147.8,
          148.8,
          153,
          134.80000000000004,
          135.80000000000004,
          112.80000000000003
         ],
         "yaxis": "y"
        },
        {
         "hovertemplate": "org_name=Rescue Dogs Rock NYC<br>Days Measure=Avg Days bw saved published<br>date_saved=%{x}<br># of Days=%{y}<extra></extra>",
         "legendgroup": "Rescue Dogs Rock NYC, Avg Days bw saved published",
         "line": {
          "color": "#EF553B",
          "dash": "solid"
         },
         "mode": "lines",
         "name": "Rescue Dogs Rock NYC, Avg Days bw saved published",
         "orientation": "v",
         "showlegend": true,
         "type": "scatter",
         "x": [
          "2021-10-31T00:00:00+00:00",
          "2021-11-01T00:00:00+00:00",
          "2021-11-02T00:00:00+00:00",
          "2021-11-03T00:00:00+00:00",
          "2021-11-04T00:00:00+00:00",
          "2021-11-05T00:00:00+00:00",
          "2021-11-06T00:00:00+00:00",
          "2021-11-07T00:00:00+00:00"
         ],
         "xaxis": "x",
         "y": [
          295.7,
          290.7,
          290.2,
          285.1,
          287.4,
          290.8,
          284,
          285.8
         ],
         "yaxis": "y"
        },
        {
         "hovertemplate": "org_name=Rescue Dogs Rock NYC<br>Days Measure=Upper 20% days bw saved published<br>date_saved=%{x}<br># of Days=%{y}<extra></extra>",
         "legendgroup": "Rescue Dogs Rock NYC, Upper 20% days bw saved published",
         "line": {
          "color": "#EF553B",
          "dash": "dot"
         },
         "mode": "lines",
         "name": "Rescue Dogs Rock NYC, Upper 20% days bw saved published",
         "orientation": "v",
         "showlegend": true,
         "type": "scatter",
         "x": [
          "2021-10-31T00:00:00+00:00",
          "2021-11-01T00:00:00+00:00",
          "2021-11-02T00:00:00+00:00",
          "2021-11-03T00:00:00+00:00",
          "2021-11-04T00:00:00+00:00",
          "2021-11-05T00:00:00+00:00",
          "2021-11-06T00:00:00+00:00",
          "2021-11-07T00:00:00+00:00"
         ],
         "xaxis": "x",
         "y": [
          480.40000000000003,
          479,
          478.0000000000001,
          471,
          474.00000000000017,
          479.0000000000002,
          473.20000000000005,
          474.6
         ],
         "yaxis": "y"
        },
        {
         "hovertemplate": "org_name=Ruff House Rescue<br>Days Measure=Avg Days bw saved published<br>date_saved=%{x}<br># of Days=%{y}<extra></extra>",
         "legendgroup": "Ruff House Rescue, Avg Days bw saved published",
         "line": {
          "color": "#00cc96",
          "dash": "solid"
         },
         "mode": "lines",
         "name": "Ruff House Rescue, Avg Days bw saved published",
         "orientation": "v",
         "showlegend": true,
         "type": "scatter",
         "x": [
          "2021-10-31T00:00:00+00:00",
          "2021-11-01T00:00:00+00:00",
          "2021-11-02T00:00:00+00:00",
          "2021-11-03T00:00:00+00:00",
          "2021-11-04T00:00:00+00:00",
          "2021-11-05T00:00:00+00:00",
          "2021-11-06T00:00:00+00:00",
          "2021-11-07T00:00:00+00:00"
         ],
         "xaxis": "x",
         "y": [
          90.4,
          86.8,
          88.6,
          89.6,
          92.2,
          93.2,
          94.2,
          97.2
         ],
         "yaxis": "y"
        },
        {
         "hovertemplate": "org_name=Ruff House Rescue<br>Days Measure=Upper 20% days bw saved published<br>date_saved=%{x}<br># of Days=%{y}<extra></extra>",
         "legendgroup": "Ruff House Rescue, Upper 20% days bw saved published",
         "line": {
          "color": "#00cc96",
          "dash": "dot"
         },
         "mode": "lines",
         "name": "Ruff House Rescue, Upper 20% days bw saved published",
         "orientation": "v",
         "showlegend": true,
         "type": "scatter",
         "x": [
          "2021-10-31T00:00:00+00:00",
          "2021-11-01T00:00:00+00:00",
          "2021-11-02T00:00:00+00:00",
          "2021-11-03T00:00:00+00:00",
          "2021-11-04T00:00:00+00:00",
          "2021-11-05T00:00:00+00:00",
          "2021-11-06T00:00:00+00:00",
          "2021-11-07T00:00:00+00:00"
         ],
         "xaxis": "x",
         "y": [
          151.20000000000002,
          143.40000000000003,
          145.20000000000005,
          146.20000000000005,
          149.8,
          150.8,
          151.8,
          160
         ],
         "yaxis": "y"
        },
        {
         "hovertemplate": "org_name=Second Chance Rescue<br>Days Measure=Avg Days bw saved published<br>date_saved=%{x}<br># of Days=%{y}<extra></extra>",
         "legendgroup": "Second Chance Rescue, Avg Days bw saved published",
         "line": {
          "color": "#ab63fa",
          "dash": "solid"
         },
         "mode": "lines",
         "name": "Second Chance Rescue, Avg Days bw saved published",
         "orientation": "v",
         "showlegend": true,
         "type": "scatter",
         "x": [
          "2021-10-31T00:00:00+00:00",
          "2021-11-01T00:00:00+00:00",
          "2021-11-02T00:00:00+00:00",
          "2021-11-03T00:00:00+00:00",
          "2021-11-04T00:00:00+00:00",
          "2021-11-05T00:00:00+00:00",
          "2021-11-06T00:00:00+00:00",
          "2021-11-07T00:00:00+00:00"
         ],
         "xaxis": "x",
         "y": [
          200.6,
          203.2,
          189,
          187.9,
          193.7,
          189.3,
          188.5,
          189.5
         ],
         "yaxis": "y"
        },
        {
         "hovertemplate": "org_name=Second Chance Rescue<br>Days Measure=Upper 20% days bw saved published<br>date_saved=%{x}<br># of Days=%{y}<extra></extra>",
         "legendgroup": "Second Chance Rescue, Upper 20% days bw saved published",
         "line": {
          "color": "#ab63fa",
          "dash": "dot"
         },
         "mode": "lines",
         "name": "Second Chance Rescue, Upper 20% days bw saved published",
         "orientation": "v",
         "showlegend": true,
         "type": "scatter",
         "x": [
          "2021-10-31T00:00:00+00:00",
          "2021-11-01T00:00:00+00:00",
          "2021-11-02T00:00:00+00:00",
          "2021-11-03T00:00:00+00:00",
          "2021-11-04T00:00:00+00:00",
          "2021-11-05T00:00:00+00:00",
          "2021-11-06T00:00:00+00:00",
          "2021-11-07T00:00:00+00:00"
         ],
         "xaxis": "x",
         "y": [
          284.40000000000003,
          286.6000000000001,
          231.80000000000024,
          227.20000000000016,
          245,
          229.20000000000016,
          224.60000000000008,
          225.60000000000008
         ],
         "yaxis": "y"
        }
       ],
       "layout": {
        "legend": {
         "title": {
          "text": "org_name, Days Measure"
         },
         "tracegroupgap": 0
        },
        "margin": {
         "t": 60
        },
        "template": {
         "data": {
          "bar": [
           {
            "error_x": {
             "color": "#2a3f5f"
            },
            "error_y": {
             "color": "#2a3f5f"
            },
            "marker": {
             "line": {
              "color": "#E5ECF6",
              "width": 0.5
             }
            },
            "type": "bar"
           }
          ],
          "barpolar": [
           {
            "marker": {
             "line": {
              "color": "#E5ECF6",
              "width": 0.5
             }
            },
            "type": "barpolar"
           }
          ],
          "carpet": [
           {
            "aaxis": {
             "endlinecolor": "#2a3f5f",
             "gridcolor": "white",
             "linecolor": "white",
             "minorgridcolor": "white",
             "startlinecolor": "#2a3f5f"
            },
            "baxis": {
             "endlinecolor": "#2a3f5f",
             "gridcolor": "white",
             "linecolor": "white",
             "minorgridcolor": "white",
             "startlinecolor": "#2a3f5f"
            },
            "type": "carpet"
           }
          ],
          "choropleth": [
           {
            "colorbar": {
             "outlinewidth": 0,
             "ticks": ""
            },
            "type": "choropleth"
           }
          ],
          "contour": [
           {
            "colorbar": {
             "outlinewidth": 0,
             "ticks": ""
            },
            "colorscale": [
             [
              0,
              "#0d0887"
             ],
             [
              0.1111111111111111,
              "#46039f"
             ],
             [
              0.2222222222222222,
              "#7201a8"
             ],
             [
              0.3333333333333333,
              "#9c179e"
             ],
             [
              0.4444444444444444,
              "#bd3786"
             ],
             [
              0.5555555555555556,
              "#d8576b"
             ],
             [
              0.6666666666666666,
              "#ed7953"
             ],
             [
              0.7777777777777778,
              "#fb9f3a"
             ],
             [
              0.8888888888888888,
              "#fdca26"
             ],
             [
              1,
              "#f0f921"
             ]
            ],
            "type": "contour"
           }
          ],
          "contourcarpet": [
           {
            "colorbar": {
             "outlinewidth": 0,
             "ticks": ""
            },
            "type": "contourcarpet"
           }
          ],
          "heatmap": [
           {
            "colorbar": {
             "outlinewidth": 0,
             "ticks": ""
            },
            "colorscale": [
             [
              0,
              "#0d0887"
             ],
             [
              0.1111111111111111,
              "#46039f"
             ],
             [
              0.2222222222222222,
              "#7201a8"
             ],
             [
              0.3333333333333333,
              "#9c179e"
             ],
             [
              0.4444444444444444,
              "#bd3786"
             ],
             [
              0.5555555555555556,
              "#d8576b"
             ],
             [
              0.6666666666666666,
              "#ed7953"
             ],
             [
              0.7777777777777778,
              "#fb9f3a"
             ],
             [
              0.8888888888888888,
              "#fdca26"
             ],
             [
              1,
              "#f0f921"
             ]
            ],
            "type": "heatmap"
           }
          ],
          "heatmapgl": [
           {
            "colorbar": {
             "outlinewidth": 0,
             "ticks": ""
            },
            "colorscale": [
             [
              0,
              "#0d0887"
             ],
             [
              0.1111111111111111,
              "#46039f"
             ],
             [
              0.2222222222222222,
              "#7201a8"
             ],
             [
              0.3333333333333333,
              "#9c179e"
             ],
             [
              0.4444444444444444,
              "#bd3786"
             ],
             [
              0.5555555555555556,
              "#d8576b"
             ],
             [
              0.6666666666666666,
              "#ed7953"
             ],
             [
              0.7777777777777778,
              "#fb9f3a"
             ],
             [
              0.8888888888888888,
              "#fdca26"
             ],
             [
              1,
              "#f0f921"
             ]
            ],
            "type": "heatmapgl"
           }
          ],
          "histogram": [
           {
            "marker": {
             "colorbar": {
              "outlinewidth": 0,
              "ticks": ""
             }
            },
            "type": "histogram"
           }
          ],
          "histogram2d": [
           {
            "colorbar": {
             "outlinewidth": 0,
             "ticks": ""
            },
            "colorscale": [
             [
              0,
              "#0d0887"
             ],
             [
              0.1111111111111111,
              "#46039f"
             ],
             [
              0.2222222222222222,
              "#7201a8"
             ],
             [
              0.3333333333333333,
              "#9c179e"
             ],
             [
              0.4444444444444444,
              "#bd3786"
             ],
             [
              0.5555555555555556,
              "#d8576b"
             ],
             [
              0.6666666666666666,
              "#ed7953"
             ],
             [
              0.7777777777777778,
              "#fb9f3a"
             ],
             [
              0.8888888888888888,
              "#fdca26"
             ],
             [
              1,
              "#f0f921"
             ]
            ],
            "type": "histogram2d"
           }
          ],
          "histogram2dcontour": [
           {
            "colorbar": {
             "outlinewidth": 0,
             "ticks": ""
            },
            "colorscale": [
             [
              0,
              "#0d0887"
             ],
             [
              0.1111111111111111,
              "#46039f"
             ],
             [
              0.2222222222222222,
              "#7201a8"
             ],
             [
              0.3333333333333333,
              "#9c179e"
             ],
             [
              0.4444444444444444,
              "#bd3786"
             ],
             [
              0.5555555555555556,
              "#d8576b"
             ],
             [
              0.6666666666666666,
              "#ed7953"
             ],
             [
              0.7777777777777778,
              "#fb9f3a"
             ],
             [
              0.8888888888888888,
              "#fdca26"
             ],
             [
              1,
              "#f0f921"
             ]
            ],
            "type": "histogram2dcontour"
           }
          ],
          "mesh3d": [
           {
            "colorbar": {
             "outlinewidth": 0,
             "ticks": ""
            },
            "type": "mesh3d"
           }
          ],
          "parcoords": [
           {
            "line": {
             "colorbar": {
              "outlinewidth": 0,
              "ticks": ""
             }
            },
            "type": "parcoords"
           }
          ],
          "pie": [
           {
            "automargin": true,
            "type": "pie"
           }
          ],
          "scatter": [
           {
            "marker": {
             "colorbar": {
              "outlinewidth": 0,
              "ticks": ""
             }
            },
            "type": "scatter"
           }
          ],
          "scatter3d": [
           {
            "line": {
             "colorbar": {
              "outlinewidth": 0,
              "ticks": ""
             }
            },
            "marker": {
             "colorbar": {
              "outlinewidth": 0,
              "ticks": ""
             }
            },
            "type": "scatter3d"
           }
          ],
          "scattercarpet": [
           {
            "marker": {
             "colorbar": {
              "outlinewidth": 0,
              "ticks": ""
             }
            },
            "type": "scattercarpet"
           }
          ],
          "scattergeo": [
           {
            "marker": {
             "colorbar": {
              "outlinewidth": 0,
              "ticks": ""
             }
            },
            "type": "scattergeo"
           }
          ],
          "scattergl": [
           {
            "marker": {
             "colorbar": {
              "outlinewidth": 0,
              "ticks": ""
             }
            },
            "type": "scattergl"
           }
          ],
          "scattermapbox": [
           {
            "marker": {
             "colorbar": {
              "outlinewidth": 0,
              "ticks": ""
             }
            },
            "type": "scattermapbox"
           }
          ],
          "scatterpolar": [
           {
            "marker": {
             "colorbar": {
              "outlinewidth": 0,
              "ticks": ""
             }
            },
            "type": "scatterpolar"
           }
          ],
          "scatterpolargl": [
           {
            "marker": {
             "colorbar": {
              "outlinewidth": 0,
              "ticks": ""
             }
            },
            "type": "scatterpolargl"
           }
          ],
          "scatterternary": [
           {
            "marker": {
             "colorbar": {
              "outlinewidth": 0,
              "ticks": ""
             }
            },
            "type": "scatterternary"
           }
          ],
          "surface": [
           {
            "colorbar": {
             "outlinewidth": 0,
             "ticks": ""
            },
            "colorscale": [
             [
              0,
              "#0d0887"
             ],
             [
              0.1111111111111111,
              "#46039f"
             ],
             [
              0.2222222222222222,
              "#7201a8"
             ],
             [
              0.3333333333333333,
              "#9c179e"
             ],
             [
              0.4444444444444444,
              "#bd3786"
             ],
             [
              0.5555555555555556,
              "#d8576b"
             ],
             [
              0.6666666666666666,
              "#ed7953"
             ],
             [
              0.7777777777777778,
              "#fb9f3a"
             ],
             [
              0.8888888888888888,
              "#fdca26"
             ],
             [
              1,
              "#f0f921"
             ]
            ],
            "type": "surface"
           }
          ],
          "table": [
           {
            "cells": {
             "fill": {
              "color": "#EBF0F8"
             },
             "line": {
              "color": "white"
             }
            },
            "header": {
             "fill": {
              "color": "#C8D4E3"
             },
             "line": {
              "color": "white"
             }
            },
            "type": "table"
           }
          ]
         },
         "layout": {
          "annotationdefaults": {
           "arrowcolor": "#2a3f5f",
           "arrowhead": 0,
           "arrowwidth": 1
          },
          "coloraxis": {
           "colorbar": {
            "outlinewidth": 0,
            "ticks": ""
           }
          },
          "colorscale": {
           "diverging": [
            [
             0,
             "#8e0152"
            ],
            [
             0.1,
             "#c51b7d"
            ],
            [
             0.2,
             "#de77ae"
            ],
            [
             0.3,
             "#f1b6da"
            ],
            [
             0.4,
             "#fde0ef"
            ],
            [
             0.5,
             "#f7f7f7"
            ],
            [
             0.6,
             "#e6f5d0"
            ],
            [
             0.7,
             "#b8e186"
            ],
            [
             0.8,
             "#7fbc41"
            ],
            [
             0.9,
             "#4d9221"
            ],
            [
             1,
             "#276419"
            ]
           ],
           "sequential": [
            [
             0,
             "#0d0887"
            ],
            [
             0.1111111111111111,
             "#46039f"
            ],
            [
             0.2222222222222222,
             "#7201a8"
            ],
            [
             0.3333333333333333,
             "#9c179e"
            ],
            [
             0.4444444444444444,
             "#bd3786"
            ],
            [
             0.5555555555555556,
             "#d8576b"
            ],
            [
             0.6666666666666666,
             "#ed7953"
            ],
            [
             0.7777777777777778,
             "#fb9f3a"
            ],
            [
             0.8888888888888888,
             "#fdca26"
            ],
            [
             1,
             "#f0f921"
            ]
           ],
           "sequentialminus": [
            [
             0,
             "#0d0887"
            ],
            [
             0.1111111111111111,
             "#46039f"
            ],
            [
             0.2222222222222222,
             "#7201a8"
            ],
            [
             0.3333333333333333,
             "#9c179e"
            ],
            [
             0.4444444444444444,
             "#bd3786"
            ],
            [
             0.5555555555555556,
             "#d8576b"
            ],
            [
             0.6666666666666666,
             "#ed7953"
            ],
            [
             0.7777777777777778,
             "#fb9f3a"
            ],
            [
             0.8888888888888888,
             "#fdca26"
            ],
            [
             1,
             "#f0f921"
            ]
           ]
          },
          "colorway": [
           "#636efa",
           "#EF553B",
           "#00cc96",
           "#ab63fa",
           "#FFA15A",
           "#19d3f3",
           "#FF6692",
           "#B6E880",
           "#FF97FF",
           "#FECB52"
          ],
          "font": {
           "color": "#2a3f5f"
          },
          "geo": {
           "bgcolor": "white",
           "lakecolor": "white",
           "landcolor": "#E5ECF6",
           "showlakes": true,
           "showland": true,
           "subunitcolor": "white"
          },
          "hoverlabel": {
           "align": "left"
          },
          "hovermode": "closest",
          "mapbox": {
           "style": "light"
          },
          "paper_bgcolor": "white",
          "plot_bgcolor": "#E5ECF6",
          "polar": {
           "angularaxis": {
            "gridcolor": "white",
            "linecolor": "white",
            "ticks": ""
           },
           "bgcolor": "#E5ECF6",
           "radialaxis": {
            "gridcolor": "white",
            "linecolor": "white",
            "ticks": ""
           }
          },
          "scene": {
           "xaxis": {
            "backgroundcolor": "#E5ECF6",
            "gridcolor": "white",
            "gridwidth": 2,
            "linecolor": "white",
            "showbackground": true,
            "ticks": "",
            "zerolinecolor": "white"
           },
           "yaxis": {
            "backgroundcolor": "#E5ECF6",
            "gridcolor": "white",
            "gridwidth": 2,
            "linecolor": "white",
            "showbackground": true,
            "ticks": "",
            "zerolinecolor": "white"
           },
           "zaxis": {
            "backgroundcolor": "#E5ECF6",
            "gridcolor": "white",
            "gridwidth": 2,
            "linecolor": "white",
            "showbackground": true,
            "ticks": "",
            "zerolinecolor": "white"
           }
          },
          "shapedefaults": {
           "line": {
            "color": "#2a3f5f"
           }
          },
          "ternary": {
           "aaxis": {
            "gridcolor": "white",
            "linecolor": "white",
            "ticks": ""
           },
           "baxis": {
            "gridcolor": "white",
            "linecolor": "white",
            "ticks": ""
           },
           "bgcolor": "#E5ECF6",
           "caxis": {
            "gridcolor": "white",
            "linecolor": "white",
            "ticks": ""
           }
          },
          "title": {
           "x": 0.05
          },
          "xaxis": {
           "automargin": true,
           "gridcolor": "white",
           "linecolor": "white",
           "ticks": "",
           "title": {
            "standoff": 15
           },
           "zerolinecolor": "white",
           "zerolinewidth": 2
          },
          "yaxis": {
           "automargin": true,
           "gridcolor": "white",
           "linecolor": "white",
           "ticks": "",
           "title": {
            "standoff": 15
           },
           "zerolinecolor": "white",
           "zerolinewidth": 2
          }
         }
        },
        "xaxis": {
         "anchor": "y",
         "domain": [
          0,
          1
         ],
         "title": {
          "text": "date_saved"
         }
        },
        "yaxis": {
         "anchor": "x",
         "domain": [
          0,
          1
         ],
         "title": {
          "text": "# of Days"
         }
        }
       }
      },
      "text/html": [
       "<div>                            <div id=\"52d0e8ef-eed2-4b39-9b1a-87dbab828d32\" class=\"plotly-graph-div\" style=\"height:525px; width:100%;\"></div>            <script type=\"text/javascript\">                require([\"plotly\"], function(Plotly) {                    window.PLOTLYENV=window.PLOTLYENV || {};                                    if (document.getElementById(\"52d0e8ef-eed2-4b39-9b1a-87dbab828d32\")) {                    Plotly.newPlot(                        \"52d0e8ef-eed2-4b39-9b1a-87dbab828d32\",                        [{\"hovertemplate\": \"org_name=North Shore Animal League America<br>Days Measure=Avg Days bw saved published<br>date_saved=%{x}<br># of Days=%{y}<extra></extra>\", \"legendgroup\": \"North Shore Animal League America, Avg Days bw saved published\", \"line\": {\"color\": \"#636efa\", \"dash\": \"solid\"}, \"mode\": \"lines\", \"name\": \"North Shore Animal League America, Avg Days bw saved published\", \"orientation\": \"v\", \"showlegend\": true, \"type\": \"scatter\", \"x\": [\"2021-10-31T00:00:00+00:00\", \"2021-11-01T00:00:00+00:00\", \"2021-11-02T00:00:00+00:00\", \"2021-11-03T00:00:00+00:00\", \"2021-11-04T00:00:00+00:00\", \"2021-11-05T00:00:00+00:00\", \"2021-11-06T00:00:00+00:00\", \"2021-11-07T00:00:00+00:00\"], \"xaxis\": \"x\", \"y\": [102.8, 105.7, 106.7, 107.7, 112.7, 96.2, 97.2, 86.6], \"yaxis\": \"y\"}, {\"hovertemplate\": \"org_name=North Shore Animal League America<br>Days Measure=Upper 20% days bw saved published<br>date_saved=%{x}<br># of Days=%{y}<extra></extra>\", \"legendgroup\": \"North Shore Animal League America, Upper 20% days bw saved published\", \"line\": {\"color\": \"#636efa\", \"dash\": \"dot\"}, \"mode\": \"lines\", \"name\": \"North Shore Animal League America, Upper 20% days bw saved published\", \"orientation\": \"v\", \"showlegend\": true, \"type\": \"scatter\", \"x\": [\"2021-10-31T00:00:00+00:00\", \"2021-11-01T00:00:00+00:00\", \"2021-11-02T00:00:00+00:00\", \"2021-11-03T00:00:00+00:00\", \"2021-11-04T00:00:00+00:00\", \"2021-11-05T00:00:00+00:00\", \"2021-11-06T00:00:00+00:00\", \"2021-11-07T00:00:00+00:00\"], \"xaxis\": \"x\", \"y\": [144.20000000000005, 146.8, 147.8, 148.8, 153.0, 134.80000000000004, 135.80000000000004, 112.80000000000003], \"yaxis\": \"y\"}, {\"hovertemplate\": \"org_name=Rescue Dogs Rock NYC<br>Days Measure=Avg Days bw saved published<br>date_saved=%{x}<br># of Days=%{y}<extra></extra>\", \"legendgroup\": \"Rescue Dogs Rock NYC, Avg Days bw saved published\", \"line\": {\"color\": \"#EF553B\", \"dash\": \"solid\"}, \"mode\": \"lines\", \"name\": \"Rescue Dogs Rock NYC, Avg Days bw saved published\", \"orientation\": \"v\", \"showlegend\": true, \"type\": \"scatter\", \"x\": [\"2021-10-31T00:00:00+00:00\", \"2021-11-01T00:00:00+00:00\", \"2021-11-02T00:00:00+00:00\", \"2021-11-03T00:00:00+00:00\", \"2021-11-04T00:00:00+00:00\", \"2021-11-05T00:00:00+00:00\", \"2021-11-06T00:00:00+00:00\", \"2021-11-07T00:00:00+00:00\"], \"xaxis\": \"x\", \"y\": [295.7, 290.7, 290.2, 285.1, 287.4, 290.8, 284.0, 285.8], \"yaxis\": \"y\"}, {\"hovertemplate\": \"org_name=Rescue Dogs Rock NYC<br>Days Measure=Upper 20% days bw saved published<br>date_saved=%{x}<br># of Days=%{y}<extra></extra>\", \"legendgroup\": \"Rescue Dogs Rock NYC, Upper 20% days bw saved published\", \"line\": {\"color\": \"#EF553B\", \"dash\": \"dot\"}, \"mode\": \"lines\", \"name\": \"Rescue Dogs Rock NYC, Upper 20% days bw saved published\", \"orientation\": \"v\", \"showlegend\": true, \"type\": \"scatter\", \"x\": [\"2021-10-31T00:00:00+00:00\", \"2021-11-01T00:00:00+00:00\", \"2021-11-02T00:00:00+00:00\", \"2021-11-03T00:00:00+00:00\", \"2021-11-04T00:00:00+00:00\", \"2021-11-05T00:00:00+00:00\", \"2021-11-06T00:00:00+00:00\", \"2021-11-07T00:00:00+00:00\"], \"xaxis\": \"x\", \"y\": [480.40000000000003, 479.0, 478.0000000000001, 471.0, 474.00000000000017, 479.0000000000002, 473.20000000000005, 474.6], \"yaxis\": \"y\"}, {\"hovertemplate\": \"org_name=Ruff House Rescue<br>Days Measure=Avg Days bw saved published<br>date_saved=%{x}<br># of Days=%{y}<extra></extra>\", \"legendgroup\": \"Ruff House Rescue, Avg Days bw saved published\", \"line\": {\"color\": \"#00cc96\", \"dash\": \"solid\"}, \"mode\": \"lines\", \"name\": \"Ruff House Rescue, Avg Days bw saved published\", \"orientation\": \"v\", \"showlegend\": true, \"type\": \"scatter\", \"x\": [\"2021-10-31T00:00:00+00:00\", \"2021-11-01T00:00:00+00:00\", \"2021-11-02T00:00:00+00:00\", \"2021-11-03T00:00:00+00:00\", \"2021-11-04T00:00:00+00:00\", \"2021-11-05T00:00:00+00:00\", \"2021-11-06T00:00:00+00:00\", \"2021-11-07T00:00:00+00:00\"], \"xaxis\": \"x\", \"y\": [90.4, 86.8, 88.6, 89.6, 92.2, 93.2, 94.2, 97.2], \"yaxis\": \"y\"}, {\"hovertemplate\": \"org_name=Ruff House Rescue<br>Days Measure=Upper 20% days bw saved published<br>date_saved=%{x}<br># of Days=%{y}<extra></extra>\", \"legendgroup\": \"Ruff House Rescue, Upper 20% days bw saved published\", \"line\": {\"color\": \"#00cc96\", \"dash\": \"dot\"}, \"mode\": \"lines\", \"name\": \"Ruff House Rescue, Upper 20% days bw saved published\", \"orientation\": \"v\", \"showlegend\": true, \"type\": \"scatter\", \"x\": [\"2021-10-31T00:00:00+00:00\", \"2021-11-01T00:00:00+00:00\", \"2021-11-02T00:00:00+00:00\", \"2021-11-03T00:00:00+00:00\", \"2021-11-04T00:00:00+00:00\", \"2021-11-05T00:00:00+00:00\", \"2021-11-06T00:00:00+00:00\", \"2021-11-07T00:00:00+00:00\"], \"xaxis\": \"x\", \"y\": [151.20000000000002, 143.40000000000003, 145.20000000000005, 146.20000000000005, 149.8, 150.8, 151.8, 160.0], \"yaxis\": \"y\"}, {\"hovertemplate\": \"org_name=Second Chance Rescue<br>Days Measure=Avg Days bw saved published<br>date_saved=%{x}<br># of Days=%{y}<extra></extra>\", \"legendgroup\": \"Second Chance Rescue, Avg Days bw saved published\", \"line\": {\"color\": \"#ab63fa\", \"dash\": \"solid\"}, \"mode\": \"lines\", \"name\": \"Second Chance Rescue, Avg Days bw saved published\", \"orientation\": \"v\", \"showlegend\": true, \"type\": \"scatter\", \"x\": [\"2021-10-31T00:00:00+00:00\", \"2021-11-01T00:00:00+00:00\", \"2021-11-02T00:00:00+00:00\", \"2021-11-03T00:00:00+00:00\", \"2021-11-04T00:00:00+00:00\", \"2021-11-05T00:00:00+00:00\", \"2021-11-06T00:00:00+00:00\", \"2021-11-07T00:00:00+00:00\"], \"xaxis\": \"x\", \"y\": [200.6, 203.2, 189.0, 187.9, 193.7, 189.3, 188.5, 189.5], \"yaxis\": \"y\"}, {\"hovertemplate\": \"org_name=Second Chance Rescue<br>Days Measure=Upper 20% days bw saved published<br>date_saved=%{x}<br># of Days=%{y}<extra></extra>\", \"legendgroup\": \"Second Chance Rescue, Upper 20% days bw saved published\", \"line\": {\"color\": \"#ab63fa\", \"dash\": \"dot\"}, \"mode\": \"lines\", \"name\": \"Second Chance Rescue, Upper 20% days bw saved published\", \"orientation\": \"v\", \"showlegend\": true, \"type\": \"scatter\", \"x\": [\"2021-10-31T00:00:00+00:00\", \"2021-11-01T00:00:00+00:00\", \"2021-11-02T00:00:00+00:00\", \"2021-11-03T00:00:00+00:00\", \"2021-11-04T00:00:00+00:00\", \"2021-11-05T00:00:00+00:00\", \"2021-11-06T00:00:00+00:00\", \"2021-11-07T00:00:00+00:00\"], \"xaxis\": \"x\", \"y\": [284.40000000000003, 286.6000000000001, 231.80000000000024, 227.20000000000016, 245.0, 229.20000000000016, 224.60000000000008, 225.60000000000008], \"yaxis\": \"y\"}],                        {\"legend\": {\"title\": {\"text\": \"org_name, Days Measure\"}, \"tracegroupgap\": 0}, \"margin\": {\"t\": 60}, \"template\": {\"data\": {\"bar\": [{\"error_x\": {\"color\": \"#2a3f5f\"}, \"error_y\": {\"color\": \"#2a3f5f\"}, \"marker\": {\"line\": {\"color\": \"#E5ECF6\", \"width\": 0.5}}, \"type\": \"bar\"}], \"barpolar\": [{\"marker\": {\"line\": {\"color\": \"#E5ECF6\", \"width\": 0.5}}, \"type\": \"barpolar\"}], \"carpet\": [{\"aaxis\": {\"endlinecolor\": \"#2a3f5f\", \"gridcolor\": \"white\", \"linecolor\": \"white\", \"minorgridcolor\": \"white\", \"startlinecolor\": \"#2a3f5f\"}, \"baxis\": {\"endlinecolor\": \"#2a3f5f\", \"gridcolor\": \"white\", \"linecolor\": \"white\", \"minorgridcolor\": \"white\", \"startlinecolor\": \"#2a3f5f\"}, \"type\": \"carpet\"}], \"choropleth\": [{\"colorbar\": {\"outlinewidth\": 0, \"ticks\": \"\"}, \"type\": \"choropleth\"}], \"contour\": [{\"colorbar\": {\"outlinewidth\": 0, \"ticks\": \"\"}, \"colorscale\": [[0.0, \"#0d0887\"], [0.1111111111111111, \"#46039f\"], [0.2222222222222222, \"#7201a8\"], [0.3333333333333333, \"#9c179e\"], [0.4444444444444444, \"#bd3786\"], [0.5555555555555556, \"#d8576b\"], [0.6666666666666666, \"#ed7953\"], [0.7777777777777778, \"#fb9f3a\"], [0.8888888888888888, \"#fdca26\"], [1.0, \"#f0f921\"]], \"type\": \"contour\"}], \"contourcarpet\": [{\"colorbar\": {\"outlinewidth\": 0, \"ticks\": \"\"}, \"type\": \"contourcarpet\"}], \"heatmap\": [{\"colorbar\": {\"outlinewidth\": 0, \"ticks\": \"\"}, \"colorscale\": [[0.0, \"#0d0887\"], [0.1111111111111111, \"#46039f\"], [0.2222222222222222, \"#7201a8\"], [0.3333333333333333, \"#9c179e\"], [0.4444444444444444, \"#bd3786\"], [0.5555555555555556, \"#d8576b\"], [0.6666666666666666, \"#ed7953\"], [0.7777777777777778, \"#fb9f3a\"], [0.8888888888888888, \"#fdca26\"], [1.0, \"#f0f921\"]], \"type\": \"heatmap\"}], \"heatmapgl\": [{\"colorbar\": {\"outlinewidth\": 0, \"ticks\": \"\"}, \"colorscale\": [[0.0, \"#0d0887\"], [0.1111111111111111, \"#46039f\"], [0.2222222222222222, \"#7201a8\"], [0.3333333333333333, \"#9c179e\"], [0.4444444444444444, \"#bd3786\"], [0.5555555555555556, \"#d8576b\"], [0.6666666666666666, \"#ed7953\"], [0.7777777777777778, \"#fb9f3a\"], [0.8888888888888888, \"#fdca26\"], [1.0, \"#f0f921\"]], \"type\": \"heatmapgl\"}], \"histogram\": [{\"marker\": {\"colorbar\": {\"outlinewidth\": 0, \"ticks\": \"\"}}, \"type\": \"histogram\"}], \"histogram2d\": [{\"colorbar\": {\"outlinewidth\": 0, \"ticks\": \"\"}, \"colorscale\": [[0.0, \"#0d0887\"], [0.1111111111111111, \"#46039f\"], [0.2222222222222222, \"#7201a8\"], [0.3333333333333333, \"#9c179e\"], [0.4444444444444444, \"#bd3786\"], [0.5555555555555556, \"#d8576b\"], [0.6666666666666666, \"#ed7953\"], [0.7777777777777778, \"#fb9f3a\"], [0.8888888888888888, \"#fdca26\"], [1.0, \"#f0f921\"]], \"type\": \"histogram2d\"}], \"histogram2dcontour\": [{\"colorbar\": {\"outlinewidth\": 0, \"ticks\": \"\"}, \"colorscale\": [[0.0, \"#0d0887\"], [0.1111111111111111, \"#46039f\"], [0.2222222222222222, \"#7201a8\"], [0.3333333333333333, \"#9c179e\"], [0.4444444444444444, \"#bd3786\"], [0.5555555555555556, \"#d8576b\"], [0.6666666666666666, \"#ed7953\"], [0.7777777777777778, \"#fb9f3a\"], [0.8888888888888888, \"#fdca26\"], [1.0, \"#f0f921\"]], \"type\": \"histogram2dcontour\"}], \"mesh3d\": [{\"colorbar\": {\"outlinewidth\": 0, \"ticks\": \"\"}, \"type\": \"mesh3d\"}], \"parcoords\": [{\"line\": {\"colorbar\": {\"outlinewidth\": 0, \"ticks\": \"\"}}, \"type\": \"parcoords\"}], \"pie\": [{\"automargin\": true, \"type\": \"pie\"}], \"scatter\": [{\"marker\": {\"colorbar\": {\"outlinewidth\": 0, \"ticks\": \"\"}}, \"type\": \"scatter\"}], \"scatter3d\": [{\"line\": {\"colorbar\": {\"outlinewidth\": 0, \"ticks\": \"\"}}, \"marker\": {\"colorbar\": {\"outlinewidth\": 0, \"ticks\": \"\"}}, \"type\": \"scatter3d\"}], \"scattercarpet\": [{\"marker\": {\"colorbar\": {\"outlinewidth\": 0, \"ticks\": \"\"}}, \"type\": \"scattercarpet\"}], \"scattergeo\": [{\"marker\": {\"colorbar\": {\"outlinewidth\": 0, \"ticks\": \"\"}}, \"type\": \"scattergeo\"}], \"scattergl\": [{\"marker\": {\"colorbar\": {\"outlinewidth\": 0, \"ticks\": \"\"}}, \"type\": \"scattergl\"}], \"scattermapbox\": [{\"marker\": {\"colorbar\": {\"outlinewidth\": 0, \"ticks\": \"\"}}, \"type\": \"scattermapbox\"}], \"scatterpolar\": [{\"marker\": {\"colorbar\": {\"outlinewidth\": 0, \"ticks\": \"\"}}, \"type\": \"scatterpolar\"}], \"scatterpolargl\": [{\"marker\": {\"colorbar\": {\"outlinewidth\": 0, \"ticks\": \"\"}}, \"type\": \"scatterpolargl\"}], \"scatterternary\": [{\"marker\": {\"colorbar\": {\"outlinewidth\": 0, \"ticks\": \"\"}}, \"type\": \"scatterternary\"}], \"surface\": [{\"colorbar\": {\"outlinewidth\": 0, \"ticks\": \"\"}, \"colorscale\": [[0.0, \"#0d0887\"], [0.1111111111111111, \"#46039f\"], [0.2222222222222222, \"#7201a8\"], [0.3333333333333333, \"#9c179e\"], [0.4444444444444444, \"#bd3786\"], [0.5555555555555556, \"#d8576b\"], [0.6666666666666666, \"#ed7953\"], [0.7777777777777778, \"#fb9f3a\"], [0.8888888888888888, \"#fdca26\"], [1.0, \"#f0f921\"]], \"type\": \"surface\"}], \"table\": [{\"cells\": {\"fill\": {\"color\": \"#EBF0F8\"}, \"line\": {\"color\": \"white\"}}, \"header\": {\"fill\": {\"color\": \"#C8D4E3\"}, \"line\": {\"color\": \"white\"}}, \"type\": \"table\"}]}, \"layout\": {\"annotationdefaults\": {\"arrowcolor\": \"#2a3f5f\", \"arrowhead\": 0, \"arrowwidth\": 1}, \"coloraxis\": {\"colorbar\": {\"outlinewidth\": 0, \"ticks\": \"\"}}, \"colorscale\": {\"diverging\": [[0, \"#8e0152\"], [0.1, \"#c51b7d\"], [0.2, \"#de77ae\"], [0.3, \"#f1b6da\"], [0.4, \"#fde0ef\"], [0.5, \"#f7f7f7\"], [0.6, \"#e6f5d0\"], [0.7, \"#b8e186\"], [0.8, \"#7fbc41\"], [0.9, \"#4d9221\"], [1, \"#276419\"]], \"sequential\": [[0.0, \"#0d0887\"], [0.1111111111111111, \"#46039f\"], [0.2222222222222222, \"#7201a8\"], [0.3333333333333333, \"#9c179e\"], [0.4444444444444444, \"#bd3786\"], [0.5555555555555556, \"#d8576b\"], [0.6666666666666666, \"#ed7953\"], [0.7777777777777778, \"#fb9f3a\"], [0.8888888888888888, \"#fdca26\"], [1.0, \"#f0f921\"]], \"sequentialminus\": [[0.0, \"#0d0887\"], [0.1111111111111111, \"#46039f\"], [0.2222222222222222, \"#7201a8\"], [0.3333333333333333, \"#9c179e\"], [0.4444444444444444, \"#bd3786\"], [0.5555555555555556, \"#d8576b\"], [0.6666666666666666, \"#ed7953\"], [0.7777777777777778, \"#fb9f3a\"], [0.8888888888888888, \"#fdca26\"], [1.0, \"#f0f921\"]]}, \"colorway\": [\"#636efa\", \"#EF553B\", \"#00cc96\", \"#ab63fa\", \"#FFA15A\", \"#19d3f3\", \"#FF6692\", \"#B6E880\", \"#FF97FF\", \"#FECB52\"], \"font\": {\"color\": \"#2a3f5f\"}, \"geo\": {\"bgcolor\": \"white\", \"lakecolor\": \"white\", \"landcolor\": \"#E5ECF6\", \"showlakes\": true, \"showland\": true, \"subunitcolor\": \"white\"}, \"hoverlabel\": {\"align\": \"left\"}, \"hovermode\": \"closest\", \"mapbox\": {\"style\": \"light\"}, \"paper_bgcolor\": \"white\", \"plot_bgcolor\": \"#E5ECF6\", \"polar\": {\"angularaxis\": {\"gridcolor\": \"white\", \"linecolor\": \"white\", \"ticks\": \"\"}, \"bgcolor\": \"#E5ECF6\", \"radialaxis\": {\"gridcolor\": \"white\", \"linecolor\": \"white\", \"ticks\": \"\"}}, \"scene\": {\"xaxis\": {\"backgroundcolor\": \"#E5ECF6\", \"gridcolor\": \"white\", \"gridwidth\": 2, \"linecolor\": \"white\", \"showbackground\": true, \"ticks\": \"\", \"zerolinecolor\": \"white\"}, \"yaxis\": {\"backgroundcolor\": \"#E5ECF6\", \"gridcolor\": \"white\", \"gridwidth\": 2, \"linecolor\": \"white\", \"showbackground\": true, \"ticks\": \"\", \"zerolinecolor\": \"white\"}, \"zaxis\": {\"backgroundcolor\": \"#E5ECF6\", \"gridcolor\": \"white\", \"gridwidth\": 2, \"linecolor\": \"white\", \"showbackground\": true, \"ticks\": \"\", \"zerolinecolor\": \"white\"}}, \"shapedefaults\": {\"line\": {\"color\": \"#2a3f5f\"}}, \"ternary\": {\"aaxis\": {\"gridcolor\": \"white\", \"linecolor\": \"white\", \"ticks\": \"\"}, \"baxis\": {\"gridcolor\": \"white\", \"linecolor\": \"white\", \"ticks\": \"\"}, \"bgcolor\": \"#E5ECF6\", \"caxis\": {\"gridcolor\": \"white\", \"linecolor\": \"white\", \"ticks\": \"\"}}, \"title\": {\"x\": 0.05}, \"xaxis\": {\"automargin\": true, \"gridcolor\": \"white\", \"linecolor\": \"white\", \"ticks\": \"\", \"title\": {\"standoff\": 15}, \"zerolinecolor\": \"white\", \"zerolinewidth\": 2}, \"yaxis\": {\"automargin\": true, \"gridcolor\": \"white\", \"linecolor\": \"white\", \"ticks\": \"\", \"title\": {\"standoff\": 15}, \"zerolinecolor\": \"white\", \"zerolinewidth\": 2}}}, \"xaxis\": {\"anchor\": \"y\", \"domain\": [0.0, 1.0], \"title\": {\"text\": \"date_saved\"}}, \"yaxis\": {\"anchor\": \"x\", \"domain\": [0.0, 1.0], \"title\": {\"text\": \"# of Days\"}}},                        {\"responsive\": true}                    ).then(function(){\n",
       "                            \n",
       "var gd = document.getElementById('52d0e8ef-eed2-4b39-9b1a-87dbab828d32');\n",
       "var x = new MutationObserver(function (mutations, observer) {{\n",
       "        var display = window.getComputedStyle(gd).display;\n",
       "        if (!display || display === 'none') {{\n",
       "            console.log([gd, 'removed!']);\n",
       "            Plotly.purge(gd);\n",
       "            observer.disconnect();\n",
       "        }}\n",
       "}});\n",
       "\n",
       "// Listen for the removal of the full notebook cells\n",
       "var notebookContainer = gd.closest('#notebook-container');\n",
       "if (notebookContainer) {{\n",
       "    x.observe(notebookContainer, {childList: true});\n",
       "}}\n",
       "\n",
       "// Listen for the clearing of the current output cell\n",
       "var outputEl = gd.closest('.output');\n",
       "if (outputEl) {{\n",
       "    x.observe(outputEl, {childList: true});\n",
       "}}\n",
       "\n",
       "                        })                };                });            </script>        </div>"
      ]
     },
     "metadata": {},
     "output_type": "display_data"
    }
   ],
   "source": [
    "px.line(days_in_regroup, 'date_saved', '# of Days'\n",
    "        , color='org_name'\n",
    "        , line_dash='Days Measure'\n",
    "        , )"
   ]
  },
  {
   "cell_type": "code",
   "execution_count": 58,
   "metadata": {},
   "outputs": [
    {
     "data": {
      "application/vnd.plotly.v1+json": {
       "config": {
        "plotlyServerURL": "https://plot.ly"
       },
       "data": [
        {
         "hovertemplate": "org_name=North Shore Animal League America<br>date_saved=%{x}<br>Unique dogs=%{y}<extra></extra>",
         "legendgroup": "North Shore Animal League America",
         "line": {
          "color": "#636efa",
          "dash": "solid"
         },
         "mode": "lines",
         "name": "North Shore Animal League America",
         "orientation": "v",
         "showlegend": true,
         "type": "scatter",
         "x": [
          "2021-10-31T00:00:00+00:00",
          "2021-11-01T00:00:00+00:00",
          "2021-11-02T00:00:00+00:00",
          "2021-11-03T00:00:00+00:00",
          "2021-11-04T00:00:00+00:00",
          "2021-11-05T00:00:00+00:00",
          "2021-11-06T00:00:00+00:00",
          "2021-11-07T00:00:00+00:00"
         ],
         "xaxis": "x",
         "y": [
          54,
          53,
          53,
          53,
          51,
          60,
          60,
          68
         ],
         "yaxis": "y"
        },
        {
         "hovertemplate": "org_name=Rescue Dogs Rock NYC<br>date_saved=%{x}<br>Unique dogs=%{y}<extra></extra>",
         "legendgroup": "Rescue Dogs Rock NYC",
         "line": {
          "color": "#EF553B",
          "dash": "solid"
         },
         "mode": "lines",
         "name": "Rescue Dogs Rock NYC",
         "orientation": "v",
         "showlegend": true,
         "type": "scatter",
         "x": [
          "2021-10-31T00:00:00+00:00",
          "2021-11-01T00:00:00+00:00",
          "2021-11-02T00:00:00+00:00",
          "2021-11-03T00:00:00+00:00",
          "2021-11-04T00:00:00+00:00",
          "2021-11-05T00:00:00+00:00",
          "2021-11-06T00:00:00+00:00",
          "2021-11-07T00:00:00+00:00"
         ],
         "xaxis": "x",
         "y": [
          197,
          201,
          202,
          206,
          205,
          203,
          203,
          202
         ],
         "yaxis": "y"
        },
        {
         "hovertemplate": "org_name=Ruff House Rescue<br>date_saved=%{x}<br>Unique dogs=%{y}<extra></extra>",
         "legendgroup": "Ruff House Rescue",
         "line": {
          "color": "#00cc96",
          "dash": "solid"
         },
         "mode": "lines",
         "name": "Ruff House Rescue",
         "orientation": "v",
         "showlegend": true,
         "type": "scatter",
         "x": [
          "2021-10-31T00:00:00+00:00",
          "2021-11-01T00:00:00+00:00",
          "2021-11-02T00:00:00+00:00",
          "2021-11-03T00:00:00+00:00",
          "2021-11-04T00:00:00+00:00",
          "2021-11-05T00:00:00+00:00",
          "2021-11-06T00:00:00+00:00",
          "2021-11-07T00:00:00+00:00"
         ],
         "xaxis": "x",
         "y": [
          109,
          103,
          102,
          99,
          100,
          99,
          98,
          96
         ],
         "yaxis": "y"
        },
        {
         "hovertemplate": "org_name=Second Chance Rescue<br>date_saved=%{x}<br>Unique dogs=%{y}<extra></extra>",
         "legendgroup": "Second Chance Rescue",
         "line": {
          "color": "#ab63fa",
          "dash": "solid"
         },
         "mode": "lines",
         "name": "Second Chance Rescue",
         "orientation": "v",
         "showlegend": true,
         "type": "scatter",
         "x": [
          "2021-10-31T00:00:00+00:00",
          "2021-11-01T00:00:00+00:00",
          "2021-11-02T00:00:00+00:00",
          "2021-11-03T00:00:00+00:00",
          "2021-11-04T00:00:00+00:00",
          "2021-11-05T00:00:00+00:00",
          "2021-11-06T00:00:00+00:00",
          "2021-11-07T00:00:00+00:00"
         ],
         "xaxis": "x",
         "y": [
          109,
          108,
          113,
          114,
          111,
          114,
          115,
          115
         ],
         "yaxis": "y"
        },
        {
         "hovertemplate": "org_name=Town of Hempstead Animal Shelter<br>date_saved=%{x}<br>Unique dogs=%{y}<extra></extra>",
         "legendgroup": "Town of Hempstead Animal Shelter",
         "line": {
          "color": "#FFA15A",
          "dash": "solid"
         },
         "mode": "lines",
         "name": "Town of Hempstead Animal Shelter",
         "orientation": "v",
         "showlegend": true,
         "type": "scatter",
         "x": [
          "2021-10-31T00:00:00+00:00",
          "2021-11-01T00:00:00+00:00",
          "2021-11-02T00:00:00+00:00",
          "2021-11-03T00:00:00+00:00",
          "2021-11-04T00:00:00+00:00",
          "2021-11-05T00:00:00+00:00",
          "2021-11-06T00:00:00+00:00",
          "2021-11-07T00:00:00+00:00"
         ],
         "xaxis": "x",
         "y": [
          55,
          54,
          54,
          54,
          57,
          57,
          57,
          60
         ],
         "yaxis": "y"
        }
       ],
       "layout": {
        "legend": {
         "title": {
          "text": "org_name"
         },
         "tracegroupgap": 0
        },
        "template": {
         "data": {
          "bar": [
           {
            "error_x": {
             "color": "#2a3f5f"
            },
            "error_y": {
             "color": "#2a3f5f"
            },
            "marker": {
             "line": {
              "color": "#E5ECF6",
              "width": 0.5
             }
            },
            "type": "bar"
           }
          ],
          "barpolar": [
           {
            "marker": {
             "line": {
              "color": "#E5ECF6",
              "width": 0.5
             }
            },
            "type": "barpolar"
           }
          ],
          "carpet": [
           {
            "aaxis": {
             "endlinecolor": "#2a3f5f",
             "gridcolor": "white",
             "linecolor": "white",
             "minorgridcolor": "white",
             "startlinecolor": "#2a3f5f"
            },
            "baxis": {
             "endlinecolor": "#2a3f5f",
             "gridcolor": "white",
             "linecolor": "white",
             "minorgridcolor": "white",
             "startlinecolor": "#2a3f5f"
            },
            "type": "carpet"
           }
          ],
          "choropleth": [
           {
            "colorbar": {
             "outlinewidth": 0,
             "ticks": ""
            },
            "type": "choropleth"
           }
          ],
          "contour": [
           {
            "colorbar": {
             "outlinewidth": 0,
             "ticks": ""
            },
            "colorscale": [
             [
              0,
              "#0d0887"
             ],
             [
              0.1111111111111111,
              "#46039f"
             ],
             [
              0.2222222222222222,
              "#7201a8"
             ],
             [
              0.3333333333333333,
              "#9c179e"
             ],
             [
              0.4444444444444444,
              "#bd3786"
             ],
             [
              0.5555555555555556,
              "#d8576b"
             ],
             [
              0.6666666666666666,
              "#ed7953"
             ],
             [
              0.7777777777777778,
              "#fb9f3a"
             ],
             [
              0.8888888888888888,
              "#fdca26"
             ],
             [
              1,
              "#f0f921"
             ]
            ],
            "type": "contour"
           }
          ],
          "contourcarpet": [
           {
            "colorbar": {
             "outlinewidth": 0,
             "ticks": ""
            },
            "type": "contourcarpet"
           }
          ],
          "heatmap": [
           {
            "colorbar": {
             "outlinewidth": 0,
             "ticks": ""
            },
            "colorscale": [
             [
              0,
              "#0d0887"
             ],
             [
              0.1111111111111111,
              "#46039f"
             ],
             [
              0.2222222222222222,
              "#7201a8"
             ],
             [
              0.3333333333333333,
              "#9c179e"
             ],
             [
              0.4444444444444444,
              "#bd3786"
             ],
             [
              0.5555555555555556,
              "#d8576b"
             ],
             [
              0.6666666666666666,
              "#ed7953"
             ],
             [
              0.7777777777777778,
              "#fb9f3a"
             ],
             [
              0.8888888888888888,
              "#fdca26"
             ],
             [
              1,
              "#f0f921"
             ]
            ],
            "type": "heatmap"
           }
          ],
          "heatmapgl": [
           {
            "colorbar": {
             "outlinewidth": 0,
             "ticks": ""
            },
            "colorscale": [
             [
              0,
              "#0d0887"
             ],
             [
              0.1111111111111111,
              "#46039f"
             ],
             [
              0.2222222222222222,
              "#7201a8"
             ],
             [
              0.3333333333333333,
              "#9c179e"
             ],
             [
              0.4444444444444444,
              "#bd3786"
             ],
             [
              0.5555555555555556,
              "#d8576b"
             ],
             [
              0.6666666666666666,
              "#ed7953"
             ],
             [
              0.7777777777777778,
              "#fb9f3a"
             ],
             [
              0.8888888888888888,
              "#fdca26"
             ],
             [
              1,
              "#f0f921"
             ]
            ],
            "type": "heatmapgl"
           }
          ],
          "histogram": [
           {
            "marker": {
             "colorbar": {
              "outlinewidth": 0,
              "ticks": ""
             }
            },
            "type": "histogram"
           }
          ],
          "histogram2d": [
           {
            "colorbar": {
             "outlinewidth": 0,
             "ticks": ""
            },
            "colorscale": [
             [
              0,
              "#0d0887"
             ],
             [
              0.1111111111111111,
              "#46039f"
             ],
             [
              0.2222222222222222,
              "#7201a8"
             ],
             [
              0.3333333333333333,
              "#9c179e"
             ],
             [
              0.4444444444444444,
              "#bd3786"
             ],
             [
              0.5555555555555556,
              "#d8576b"
             ],
             [
              0.6666666666666666,
              "#ed7953"
             ],
             [
              0.7777777777777778,
              "#fb9f3a"
             ],
             [
              0.8888888888888888,
              "#fdca26"
             ],
             [
              1,
              "#f0f921"
             ]
            ],
            "type": "histogram2d"
           }
          ],
          "histogram2dcontour": [
           {
            "colorbar": {
             "outlinewidth": 0,
             "ticks": ""
            },
            "colorscale": [
             [
              0,
              "#0d0887"
             ],
             [
              0.1111111111111111,
              "#46039f"
             ],
             [
              0.2222222222222222,
              "#7201a8"
             ],
             [
              0.3333333333333333,
              "#9c179e"
             ],
             [
              0.4444444444444444,
              "#bd3786"
             ],
             [
              0.5555555555555556,
              "#d8576b"
             ],
             [
              0.6666666666666666,
              "#ed7953"
             ],
             [
              0.7777777777777778,
              "#fb9f3a"
             ],
             [
              0.8888888888888888,
              "#fdca26"
             ],
             [
              1,
              "#f0f921"
             ]
            ],
            "type": "histogram2dcontour"
           }
          ],
          "mesh3d": [
           {
            "colorbar": {
             "outlinewidth": 0,
             "ticks": ""
            },
            "type": "mesh3d"
           }
          ],
          "parcoords": [
           {
            "line": {
             "colorbar": {
              "outlinewidth": 0,
              "ticks": ""
             }
            },
            "type": "parcoords"
           }
          ],
          "pie": [
           {
            "automargin": true,
            "type": "pie"
           }
          ],
          "scatter": [
           {
            "marker": {
             "colorbar": {
              "outlinewidth": 0,
              "ticks": ""
             }
            },
            "type": "scatter"
           }
          ],
          "scatter3d": [
           {
            "line": {
             "colorbar": {
              "outlinewidth": 0,
              "ticks": ""
             }
            },
            "marker": {
             "colorbar": {
              "outlinewidth": 0,
              "ticks": ""
             }
            },
            "type": "scatter3d"
           }
          ],
          "scattercarpet": [
           {
            "marker": {
             "colorbar": {
              "outlinewidth": 0,
              "ticks": ""
             }
            },
            "type": "scattercarpet"
           }
          ],
          "scattergeo": [
           {
            "marker": {
             "colorbar": {
              "outlinewidth": 0,
              "ticks": ""
             }
            },
            "type": "scattergeo"
           }
          ],
          "scattergl": [
           {
            "marker": {
             "colorbar": {
              "outlinewidth": 0,
              "ticks": ""
             }
            },
            "type": "scattergl"
           }
          ],
          "scattermapbox": [
           {
            "marker": {
             "colorbar": {
              "outlinewidth": 0,
              "ticks": ""
             }
            },
            "type": "scattermapbox"
           }
          ],
          "scatterpolar": [
           {
            "marker": {
             "colorbar": {
              "outlinewidth": 0,
              "ticks": ""
             }
            },
            "type": "scatterpolar"
           }
          ],
          "scatterpolargl": [
           {
            "marker": {
             "colorbar": {
              "outlinewidth": 0,
              "ticks": ""
             }
            },
            "type": "scatterpolargl"
           }
          ],
          "scatterternary": [
           {
            "marker": {
             "colorbar": {
              "outlinewidth": 0,
              "ticks": ""
             }
            },
            "type": "scatterternary"
           }
          ],
          "surface": [
           {
            "colorbar": {
             "outlinewidth": 0,
             "ticks": ""
            },
            "colorscale": [
             [
              0,
              "#0d0887"
             ],
             [
              0.1111111111111111,
              "#46039f"
             ],
             [
              0.2222222222222222,
              "#7201a8"
             ],
             [
              0.3333333333333333,
              "#9c179e"
             ],
             [
              0.4444444444444444,
              "#bd3786"
             ],
             [
              0.5555555555555556,
              "#d8576b"
             ],
             [
              0.6666666666666666,
              "#ed7953"
             ],
             [
              0.7777777777777778,
              "#fb9f3a"
             ],
             [
              0.8888888888888888,
              "#fdca26"
             ],
             [
              1,
              "#f0f921"
             ]
            ],
            "type": "surface"
           }
          ],
          "table": [
           {
            "cells": {
             "fill": {
              "color": "#EBF0F8"
             },
             "line": {
              "color": "white"
             }
            },
            "header": {
             "fill": {
              "color": "#C8D4E3"
             },
             "line": {
              "color": "white"
             }
            },
            "type": "table"
           }
          ]
         },
         "layout": {
          "annotationdefaults": {
           "arrowcolor": "#2a3f5f",
           "arrowhead": 0,
           "arrowwidth": 1
          },
          "coloraxis": {
           "colorbar": {
            "outlinewidth": 0,
            "ticks": ""
           }
          },
          "colorscale": {
           "diverging": [
            [
             0,
             "#8e0152"
            ],
            [
             0.1,
             "#c51b7d"
            ],
            [
             0.2,
             "#de77ae"
            ],
            [
             0.3,
             "#f1b6da"
            ],
            [
             0.4,
             "#fde0ef"
            ],
            [
             0.5,
             "#f7f7f7"
            ],
            [
             0.6,
             "#e6f5d0"
            ],
            [
             0.7,
             "#b8e186"
            ],
            [
             0.8,
             "#7fbc41"
            ],
            [
             0.9,
             "#4d9221"
            ],
            [
             1,
             "#276419"
            ]
           ],
           "sequential": [
            [
             0,
             "#0d0887"
            ],
            [
             0.1111111111111111,
             "#46039f"
            ],
            [
             0.2222222222222222,
             "#7201a8"
            ],
            [
             0.3333333333333333,
             "#9c179e"
            ],
            [
             0.4444444444444444,
             "#bd3786"
            ],
            [
             0.5555555555555556,
             "#d8576b"
            ],
            [
             0.6666666666666666,
             "#ed7953"
            ],
            [
             0.7777777777777778,
             "#fb9f3a"
            ],
            [
             0.8888888888888888,
             "#fdca26"
            ],
            [
             1,
             "#f0f921"
            ]
           ],
           "sequentialminus": [
            [
             0,
             "#0d0887"
            ],
            [
             0.1111111111111111,
             "#46039f"
            ],
            [
             0.2222222222222222,
             "#7201a8"
            ],
            [
             0.3333333333333333,
             "#9c179e"
            ],
            [
             0.4444444444444444,
             "#bd3786"
            ],
            [
             0.5555555555555556,
             "#d8576b"
            ],
            [
             0.6666666666666666,
             "#ed7953"
            ],
            [
             0.7777777777777778,
             "#fb9f3a"
            ],
            [
             0.8888888888888888,
             "#fdca26"
            ],
            [
             1,
             "#f0f921"
            ]
           ]
          },
          "colorway": [
           "#636efa",
           "#EF553B",
           "#00cc96",
           "#ab63fa",
           "#FFA15A",
           "#19d3f3",
           "#FF6692",
           "#B6E880",
           "#FF97FF",
           "#FECB52"
          ],
          "font": {
           "color": "#2a3f5f"
          },
          "geo": {
           "bgcolor": "white",
           "lakecolor": "white",
           "landcolor": "#E5ECF6",
           "showlakes": true,
           "showland": true,
           "subunitcolor": "white"
          },
          "hoverlabel": {
           "align": "left"
          },
          "hovermode": "closest",
          "mapbox": {
           "style": "light"
          },
          "paper_bgcolor": "white",
          "plot_bgcolor": "#E5ECF6",
          "polar": {
           "angularaxis": {
            "gridcolor": "white",
            "linecolor": "white",
            "ticks": ""
           },
           "bgcolor": "#E5ECF6",
           "radialaxis": {
            "gridcolor": "white",
            "linecolor": "white",
            "ticks": ""
           }
          },
          "scene": {
           "xaxis": {
            "backgroundcolor": "#E5ECF6",
            "gridcolor": "white",
            "gridwidth": 2,
            "linecolor": "white",
            "showbackground": true,
            "ticks": "",
            "zerolinecolor": "white"
           },
           "yaxis": {
            "backgroundcolor": "#E5ECF6",
            "gridcolor": "white",
            "gridwidth": 2,
            "linecolor": "white",
            "showbackground": true,
            "ticks": "",
            "zerolinecolor": "white"
           },
           "zaxis": {
            "backgroundcolor": "#E5ECF6",
            "gridcolor": "white",
            "gridwidth": 2,
            "linecolor": "white",
            "showbackground": true,
            "ticks": "",
            "zerolinecolor": "white"
           }
          },
          "shapedefaults": {
           "line": {
            "color": "#2a3f5f"
           }
          },
          "ternary": {
           "aaxis": {
            "gridcolor": "white",
            "linecolor": "white",
            "ticks": ""
           },
           "baxis": {
            "gridcolor": "white",
            "linecolor": "white",
            "ticks": ""
           },
           "bgcolor": "#E5ECF6",
           "caxis": {
            "gridcolor": "white",
            "linecolor": "white",
            "ticks": ""
           }
          },
          "title": {
           "x": 0.05
          },
          "xaxis": {
           "automargin": true,
           "gridcolor": "white",
           "linecolor": "white",
           "ticks": "",
           "title": {
            "standoff": 15
           },
           "zerolinecolor": "white",
           "zerolinewidth": 2
          },
          "yaxis": {
           "automargin": true,
           "gridcolor": "white",
           "linecolor": "white",
           "ticks": "",
           "title": {
            "standoff": 15
           },
           "zerolinecolor": "white",
           "zerolinewidth": 2
          }
         }
        },
        "title": {
         "text": "Number of Dogs in Shelter"
        },
        "xaxis": {
         "anchor": "y",
         "domain": [
          0,
          1
         ],
         "title": {
          "text": "date_saved"
         }
        },
        "yaxis": {
         "anchor": "x",
         "domain": [
          0,
          1
         ],
         "title": {
          "text": "Unique dogs"
         }
        }
       }
      },
      "text/html": [
       "<div>                            <div id=\"0f2dd42f-d4af-47f0-a6f0-d3af8fc1aea6\" class=\"plotly-graph-div\" style=\"height:525px; width:100%;\"></div>            <script type=\"text/javascript\">                require([\"plotly\"], function(Plotly) {                    window.PLOTLYENV=window.PLOTLYENV || {};                                    if (document.getElementById(\"0f2dd42f-d4af-47f0-a6f0-d3af8fc1aea6\")) {                    Plotly.newPlot(                        \"0f2dd42f-d4af-47f0-a6f0-d3af8fc1aea6\",                        [{\"hovertemplate\": \"org_name=North Shore Animal League America<br>date_saved=%{x}<br>Unique dogs=%{y}<extra></extra>\", \"legendgroup\": \"North Shore Animal League America\", \"line\": {\"color\": \"#636efa\", \"dash\": \"solid\"}, \"mode\": \"lines\", \"name\": \"North Shore Animal League America\", \"orientation\": \"v\", \"showlegend\": true, \"type\": \"scatter\", \"x\": [\"2021-10-31T00:00:00+00:00\", \"2021-11-01T00:00:00+00:00\", \"2021-11-02T00:00:00+00:00\", \"2021-11-03T00:00:00+00:00\", \"2021-11-04T00:00:00+00:00\", \"2021-11-05T00:00:00+00:00\", \"2021-11-06T00:00:00+00:00\", \"2021-11-07T00:00:00+00:00\"], \"xaxis\": \"x\", \"y\": [54.0, 53.0, 53.0, 53.0, 51.0, 60.0, 60.0, 68.0], \"yaxis\": \"y\"}, {\"hovertemplate\": \"org_name=Rescue Dogs Rock NYC<br>date_saved=%{x}<br>Unique dogs=%{y}<extra></extra>\", \"legendgroup\": \"Rescue Dogs Rock NYC\", \"line\": {\"color\": \"#EF553B\", \"dash\": \"solid\"}, \"mode\": \"lines\", \"name\": \"Rescue Dogs Rock NYC\", \"orientation\": \"v\", \"showlegend\": true, \"type\": \"scatter\", \"x\": [\"2021-10-31T00:00:00+00:00\", \"2021-11-01T00:00:00+00:00\", \"2021-11-02T00:00:00+00:00\", \"2021-11-03T00:00:00+00:00\", \"2021-11-04T00:00:00+00:00\", \"2021-11-05T00:00:00+00:00\", \"2021-11-06T00:00:00+00:00\", \"2021-11-07T00:00:00+00:00\"], \"xaxis\": \"x\", \"y\": [197.0, 201.0, 202.0, 206.0, 205.0, 203.0, 203.0, 202.0], \"yaxis\": \"y\"}, {\"hovertemplate\": \"org_name=Ruff House Rescue<br>date_saved=%{x}<br>Unique dogs=%{y}<extra></extra>\", \"legendgroup\": \"Ruff House Rescue\", \"line\": {\"color\": \"#00cc96\", \"dash\": \"solid\"}, \"mode\": \"lines\", \"name\": \"Ruff House Rescue\", \"orientation\": \"v\", \"showlegend\": true, \"type\": \"scatter\", \"x\": [\"2021-10-31T00:00:00+00:00\", \"2021-11-01T00:00:00+00:00\", \"2021-11-02T00:00:00+00:00\", \"2021-11-03T00:00:00+00:00\", \"2021-11-04T00:00:00+00:00\", \"2021-11-05T00:00:00+00:00\", \"2021-11-06T00:00:00+00:00\", \"2021-11-07T00:00:00+00:00\"], \"xaxis\": \"x\", \"y\": [109.0, 103.0, 102.0, 99.0, 100.0, 99.0, 98.0, 96.0], \"yaxis\": \"y\"}, {\"hovertemplate\": \"org_name=Second Chance Rescue<br>date_saved=%{x}<br>Unique dogs=%{y}<extra></extra>\", \"legendgroup\": \"Second Chance Rescue\", \"line\": {\"color\": \"#ab63fa\", \"dash\": \"solid\"}, \"mode\": \"lines\", \"name\": \"Second Chance Rescue\", \"orientation\": \"v\", \"showlegend\": true, \"type\": \"scatter\", \"x\": [\"2021-10-31T00:00:00+00:00\", \"2021-11-01T00:00:00+00:00\", \"2021-11-02T00:00:00+00:00\", \"2021-11-03T00:00:00+00:00\", \"2021-11-04T00:00:00+00:00\", \"2021-11-05T00:00:00+00:00\", \"2021-11-06T00:00:00+00:00\", \"2021-11-07T00:00:00+00:00\"], \"xaxis\": \"x\", \"y\": [109.0, 108.0, 113.0, 114.0, 111.0, 114.0, 115.0, 115.0], \"yaxis\": \"y\"}, {\"hovertemplate\": \"org_name=Town of Hempstead Animal Shelter<br>date_saved=%{x}<br>Unique dogs=%{y}<extra></extra>\", \"legendgroup\": \"Town of Hempstead Animal Shelter\", \"line\": {\"color\": \"#FFA15A\", \"dash\": \"solid\"}, \"mode\": \"lines\", \"name\": \"Town of Hempstead Animal Shelter\", \"orientation\": \"v\", \"showlegend\": true, \"type\": \"scatter\", \"x\": [\"2021-10-31T00:00:00+00:00\", \"2021-11-01T00:00:00+00:00\", \"2021-11-02T00:00:00+00:00\", \"2021-11-03T00:00:00+00:00\", \"2021-11-04T00:00:00+00:00\", \"2021-11-05T00:00:00+00:00\", \"2021-11-06T00:00:00+00:00\", \"2021-11-07T00:00:00+00:00\"], \"xaxis\": \"x\", \"y\": [55.0, 54.0, 54.0, 54.0, 57.0, 57.0, 57.0, 60.0], \"yaxis\": \"y\"}],                        {\"legend\": {\"title\": {\"text\": \"org_name\"}, \"tracegroupgap\": 0}, \"template\": {\"data\": {\"bar\": [{\"error_x\": {\"color\": \"#2a3f5f\"}, \"error_y\": {\"color\": \"#2a3f5f\"}, \"marker\": {\"line\": {\"color\": \"#E5ECF6\", \"width\": 0.5}}, \"type\": \"bar\"}], \"barpolar\": [{\"marker\": {\"line\": {\"color\": \"#E5ECF6\", \"width\": 0.5}}, \"type\": \"barpolar\"}], \"carpet\": [{\"aaxis\": {\"endlinecolor\": \"#2a3f5f\", \"gridcolor\": \"white\", \"linecolor\": \"white\", \"minorgridcolor\": \"white\", \"startlinecolor\": \"#2a3f5f\"}, \"baxis\": {\"endlinecolor\": \"#2a3f5f\", \"gridcolor\": \"white\", \"linecolor\": \"white\", \"minorgridcolor\": \"white\", \"startlinecolor\": \"#2a3f5f\"}, \"type\": \"carpet\"}], \"choropleth\": [{\"colorbar\": {\"outlinewidth\": 0, \"ticks\": \"\"}, \"type\": \"choropleth\"}], \"contour\": [{\"colorbar\": {\"outlinewidth\": 0, \"ticks\": \"\"}, \"colorscale\": [[0.0, \"#0d0887\"], [0.1111111111111111, \"#46039f\"], [0.2222222222222222, \"#7201a8\"], [0.3333333333333333, \"#9c179e\"], [0.4444444444444444, \"#bd3786\"], [0.5555555555555556, \"#d8576b\"], [0.6666666666666666, \"#ed7953\"], [0.7777777777777778, \"#fb9f3a\"], [0.8888888888888888, \"#fdca26\"], [1.0, \"#f0f921\"]], \"type\": \"contour\"}], \"contourcarpet\": [{\"colorbar\": {\"outlinewidth\": 0, \"ticks\": \"\"}, \"type\": \"contourcarpet\"}], \"heatmap\": [{\"colorbar\": {\"outlinewidth\": 0, \"ticks\": \"\"}, \"colorscale\": [[0.0, \"#0d0887\"], [0.1111111111111111, \"#46039f\"], [0.2222222222222222, \"#7201a8\"], [0.3333333333333333, \"#9c179e\"], [0.4444444444444444, \"#bd3786\"], [0.5555555555555556, \"#d8576b\"], [0.6666666666666666, \"#ed7953\"], [0.7777777777777778, \"#fb9f3a\"], [0.8888888888888888, \"#fdca26\"], [1.0, \"#f0f921\"]], \"type\": \"heatmap\"}], \"heatmapgl\": [{\"colorbar\": {\"outlinewidth\": 0, \"ticks\": \"\"}, \"colorscale\": [[0.0, \"#0d0887\"], [0.1111111111111111, \"#46039f\"], [0.2222222222222222, \"#7201a8\"], [0.3333333333333333, \"#9c179e\"], [0.4444444444444444, \"#bd3786\"], [0.5555555555555556, \"#d8576b\"], [0.6666666666666666, \"#ed7953\"], [0.7777777777777778, \"#fb9f3a\"], [0.8888888888888888, \"#fdca26\"], [1.0, \"#f0f921\"]], \"type\": \"heatmapgl\"}], \"histogram\": [{\"marker\": {\"colorbar\": {\"outlinewidth\": 0, \"ticks\": \"\"}}, \"type\": \"histogram\"}], \"histogram2d\": [{\"colorbar\": {\"outlinewidth\": 0, \"ticks\": \"\"}, \"colorscale\": [[0.0, \"#0d0887\"], [0.1111111111111111, \"#46039f\"], [0.2222222222222222, \"#7201a8\"], [0.3333333333333333, \"#9c179e\"], [0.4444444444444444, \"#bd3786\"], [0.5555555555555556, \"#d8576b\"], [0.6666666666666666, \"#ed7953\"], [0.7777777777777778, \"#fb9f3a\"], [0.8888888888888888, \"#fdca26\"], [1.0, \"#f0f921\"]], \"type\": \"histogram2d\"}], \"histogram2dcontour\": [{\"colorbar\": {\"outlinewidth\": 0, \"ticks\": \"\"}, \"colorscale\": [[0.0, \"#0d0887\"], [0.1111111111111111, \"#46039f\"], [0.2222222222222222, \"#7201a8\"], [0.3333333333333333, \"#9c179e\"], [0.4444444444444444, \"#bd3786\"], [0.5555555555555556, \"#d8576b\"], [0.6666666666666666, \"#ed7953\"], [0.7777777777777778, \"#fb9f3a\"], [0.8888888888888888, \"#fdca26\"], [1.0, \"#f0f921\"]], \"type\": \"histogram2dcontour\"}], \"mesh3d\": [{\"colorbar\": {\"outlinewidth\": 0, \"ticks\": \"\"}, \"type\": \"mesh3d\"}], \"parcoords\": [{\"line\": {\"colorbar\": {\"outlinewidth\": 0, \"ticks\": \"\"}}, \"type\": \"parcoords\"}], \"pie\": [{\"automargin\": true, \"type\": \"pie\"}], \"scatter\": [{\"marker\": {\"colorbar\": {\"outlinewidth\": 0, \"ticks\": \"\"}}, \"type\": \"scatter\"}], \"scatter3d\": [{\"line\": {\"colorbar\": {\"outlinewidth\": 0, \"ticks\": \"\"}}, \"marker\": {\"colorbar\": {\"outlinewidth\": 0, \"ticks\": \"\"}}, \"type\": \"scatter3d\"}], \"scattercarpet\": [{\"marker\": {\"colorbar\": {\"outlinewidth\": 0, \"ticks\": \"\"}}, \"type\": \"scattercarpet\"}], \"scattergeo\": [{\"marker\": {\"colorbar\": {\"outlinewidth\": 0, \"ticks\": \"\"}}, \"type\": \"scattergeo\"}], \"scattergl\": [{\"marker\": {\"colorbar\": {\"outlinewidth\": 0, \"ticks\": \"\"}}, \"type\": \"scattergl\"}], \"scattermapbox\": [{\"marker\": {\"colorbar\": {\"outlinewidth\": 0, \"ticks\": \"\"}}, \"type\": \"scattermapbox\"}], \"scatterpolar\": [{\"marker\": {\"colorbar\": {\"outlinewidth\": 0, \"ticks\": \"\"}}, \"type\": \"scatterpolar\"}], \"scatterpolargl\": [{\"marker\": {\"colorbar\": {\"outlinewidth\": 0, \"ticks\": \"\"}}, \"type\": \"scatterpolargl\"}], \"scatterternary\": [{\"marker\": {\"colorbar\": {\"outlinewidth\": 0, \"ticks\": \"\"}}, \"type\": \"scatterternary\"}], \"surface\": [{\"colorbar\": {\"outlinewidth\": 0, \"ticks\": \"\"}, \"colorscale\": [[0.0, \"#0d0887\"], [0.1111111111111111, \"#46039f\"], [0.2222222222222222, \"#7201a8\"], [0.3333333333333333, \"#9c179e\"], [0.4444444444444444, \"#bd3786\"], [0.5555555555555556, \"#d8576b\"], [0.6666666666666666, \"#ed7953\"], [0.7777777777777778, \"#fb9f3a\"], [0.8888888888888888, \"#fdca26\"], [1.0, \"#f0f921\"]], \"type\": \"surface\"}], \"table\": [{\"cells\": {\"fill\": {\"color\": \"#EBF0F8\"}, \"line\": {\"color\": \"white\"}}, \"header\": {\"fill\": {\"color\": \"#C8D4E3\"}, \"line\": {\"color\": \"white\"}}, \"type\": \"table\"}]}, \"layout\": {\"annotationdefaults\": {\"arrowcolor\": \"#2a3f5f\", \"arrowhead\": 0, \"arrowwidth\": 1}, \"coloraxis\": {\"colorbar\": {\"outlinewidth\": 0, \"ticks\": \"\"}}, \"colorscale\": {\"diverging\": [[0, \"#8e0152\"], [0.1, \"#c51b7d\"], [0.2, \"#de77ae\"], [0.3, \"#f1b6da\"], [0.4, \"#fde0ef\"], [0.5, \"#f7f7f7\"], [0.6, \"#e6f5d0\"], [0.7, \"#b8e186\"], [0.8, \"#7fbc41\"], [0.9, \"#4d9221\"], [1, \"#276419\"]], \"sequential\": [[0.0, \"#0d0887\"], [0.1111111111111111, \"#46039f\"], [0.2222222222222222, \"#7201a8\"], [0.3333333333333333, \"#9c179e\"], [0.4444444444444444, \"#bd3786\"], [0.5555555555555556, \"#d8576b\"], [0.6666666666666666, \"#ed7953\"], [0.7777777777777778, \"#fb9f3a\"], [0.8888888888888888, \"#fdca26\"], [1.0, \"#f0f921\"]], \"sequentialminus\": [[0.0, \"#0d0887\"], [0.1111111111111111, \"#46039f\"], [0.2222222222222222, \"#7201a8\"], [0.3333333333333333, \"#9c179e\"], [0.4444444444444444, \"#bd3786\"], [0.5555555555555556, \"#d8576b\"], [0.6666666666666666, \"#ed7953\"], [0.7777777777777778, \"#fb9f3a\"], [0.8888888888888888, \"#fdca26\"], [1.0, \"#f0f921\"]]}, \"colorway\": [\"#636efa\", \"#EF553B\", \"#00cc96\", \"#ab63fa\", \"#FFA15A\", \"#19d3f3\", \"#FF6692\", \"#B6E880\", \"#FF97FF\", \"#FECB52\"], \"font\": {\"color\": \"#2a3f5f\"}, \"geo\": {\"bgcolor\": \"white\", \"lakecolor\": \"white\", \"landcolor\": \"#E5ECF6\", \"showlakes\": true, \"showland\": true, \"subunitcolor\": \"white\"}, \"hoverlabel\": {\"align\": \"left\"}, \"hovermode\": \"closest\", \"mapbox\": {\"style\": \"light\"}, \"paper_bgcolor\": \"white\", \"plot_bgcolor\": \"#E5ECF6\", \"polar\": {\"angularaxis\": {\"gridcolor\": \"white\", \"linecolor\": \"white\", \"ticks\": \"\"}, \"bgcolor\": \"#E5ECF6\", \"radialaxis\": {\"gridcolor\": \"white\", \"linecolor\": \"white\", \"ticks\": \"\"}}, \"scene\": {\"xaxis\": {\"backgroundcolor\": \"#E5ECF6\", \"gridcolor\": \"white\", \"gridwidth\": 2, \"linecolor\": \"white\", \"showbackground\": true, \"ticks\": \"\", \"zerolinecolor\": \"white\"}, \"yaxis\": {\"backgroundcolor\": \"#E5ECF6\", \"gridcolor\": \"white\", \"gridwidth\": 2, \"linecolor\": \"white\", \"showbackground\": true, \"ticks\": \"\", \"zerolinecolor\": \"white\"}, \"zaxis\": {\"backgroundcolor\": \"#E5ECF6\", \"gridcolor\": \"white\", \"gridwidth\": 2, \"linecolor\": \"white\", \"showbackground\": true, \"ticks\": \"\", \"zerolinecolor\": \"white\"}}, \"shapedefaults\": {\"line\": {\"color\": \"#2a3f5f\"}}, \"ternary\": {\"aaxis\": {\"gridcolor\": \"white\", \"linecolor\": \"white\", \"ticks\": \"\"}, \"baxis\": {\"gridcolor\": \"white\", \"linecolor\": \"white\", \"ticks\": \"\"}, \"bgcolor\": \"#E5ECF6\", \"caxis\": {\"gridcolor\": \"white\", \"linecolor\": \"white\", \"ticks\": \"\"}}, \"title\": {\"x\": 0.05}, \"xaxis\": {\"automargin\": true, \"gridcolor\": \"white\", \"linecolor\": \"white\", \"ticks\": \"\", \"title\": {\"standoff\": 15}, \"zerolinecolor\": \"white\", \"zerolinewidth\": 2}, \"yaxis\": {\"automargin\": true, \"gridcolor\": \"white\", \"linecolor\": \"white\", \"ticks\": \"\", \"title\": {\"standoff\": 15}, \"zerolinecolor\": \"white\", \"zerolinewidth\": 2}}}, \"title\": {\"text\": \"Number of Dogs in Shelter\"}, \"xaxis\": {\"anchor\": \"y\", \"domain\": [0.0, 1.0], \"title\": {\"text\": \"date_saved\"}}, \"yaxis\": {\"anchor\": \"x\", \"domain\": [0.0, 1.0], \"title\": {\"text\": \"Unique dogs\"}}},                        {\"responsive\": true}                    ).then(function(){\n",
       "                            \n",
       "var gd = document.getElementById('0f2dd42f-d4af-47f0-a6f0-d3af8fc1aea6');\n",
       "var x = new MutationObserver(function (mutations, observer) {{\n",
       "        var display = window.getComputedStyle(gd).display;\n",
       "        if (!display || display === 'none') {{\n",
       "            console.log([gd, 'removed!']);\n",
       "            Plotly.purge(gd);\n",
       "            observer.disconnect();\n",
       "        }}\n",
       "}});\n",
       "\n",
       "// Listen for the removal of the full notebook cells\n",
       "var notebookContainer = gd.closest('#notebook-container');\n",
       "if (notebookContainer) {{\n",
       "    x.observe(notebookContainer, {childList: true});\n",
       "}}\n",
       "\n",
       "// Listen for the clearing of the current output cell\n",
       "var outputEl = gd.closest('.output');\n",
       "if (outputEl) {{\n",
       "    x.observe(outputEl, {childList: true});\n",
       "}}\n",
       "\n",
       "                        })                };                });            </script>        </div>"
      ]
     },
     "metadata": {},
     "output_type": "display_data"
    }
   ],
   "source": [
    "px.line(ns_gb.reset_index(), 'date_saved', 'Unique dogs'\n",
    "       , color = 'org_name'\n",
    "       , title= 'Number of Dogs in Shelter')"
   ]
  },
  {
   "cell_type": "code",
   "execution_count": 51,
   "metadata": {},
   "outputs": [
    {
     "data": {
      "application/vnd.plotly.v1+json": {
       "config": {
        "plotlyServerURL": "https://plot.ly"
       },
       "data": [
        {
         "hovertemplate": "org_name=North Shore Animal League America<br>date_saved=%{x}<br>Added last week pct=%{y}<extra></extra>",
         "legendgroup": "North Shore Animal League America",
         "line": {
          "color": "#636efa",
          "dash": "solid"
         },
         "mode": "lines",
         "name": "North Shore Animal League America",
         "orientation": "v",
         "showlegend": true,
         "type": "scatter",
         "x": [
          "2021-10-31T00:00:00+00:00",
          "2021-11-01T00:00:00+00:00",
          "2021-11-02T00:00:00+00:00",
          "2021-11-03T00:00:00+00:00",
          "2021-11-04T00:00:00+00:00",
          "2021-11-05T00:00:00+00:00",
          "2021-11-06T00:00:00+00:00",
          "2021-11-07T00:00:00+00:00"
         ],
         "xaxis": "x",
         "y": [
          27.78,
          26.42,
          26.42,
          26.42,
          23.53,
          30,
          20,
          26.47
         ],
         "yaxis": "y"
        },
        {
         "hovertemplate": "org_name=Rescue Dogs Rock NYC<br>date_saved=%{x}<br>Added last week pct=%{y}<extra></extra>",
         "legendgroup": "Rescue Dogs Rock NYC",
         "line": {
          "color": "#EF553B",
          "dash": "solid"
         },
         "mode": "lines",
         "name": "Rescue Dogs Rock NYC",
         "orientation": "v",
         "showlegend": true,
         "type": "scatter",
         "x": [
          "2021-10-31T00:00:00+00:00",
          "2021-11-01T00:00:00+00:00",
          "2021-11-02T00:00:00+00:00",
          "2021-11-03T00:00:00+00:00",
          "2021-11-04T00:00:00+00:00",
          "2021-11-05T00:00:00+00:00",
          "2021-11-06T00:00:00+00:00",
          "2021-11-07T00:00:00+00:00"
         ],
         "xaxis": "x",
         "y": [
          12.69,
          9.95,
          6.44,
          8.74,
          8.78,
          8.87,
          8.87,
          8.42
         ],
         "yaxis": "y"
        },
        {
         "hovertemplate": "org_name=Ruff House Rescue<br>date_saved=%{x}<br>Added last week pct=%{y}<extra></extra>",
         "legendgroup": "Ruff House Rescue",
         "line": {
          "color": "#00cc96",
          "dash": "solid"
         },
         "mode": "lines",
         "name": "Ruff House Rescue",
         "orientation": "v",
         "showlegend": true,
         "type": "scatter",
         "x": [
          "2021-10-31T00:00:00+00:00",
          "2021-11-01T00:00:00+00:00",
          "2021-11-02T00:00:00+00:00",
          "2021-11-03T00:00:00+00:00",
          "2021-11-04T00:00:00+00:00",
          "2021-11-05T00:00:00+00:00",
          "2021-11-06T00:00:00+00:00",
          "2021-11-07T00:00:00+00:00"
         ],
         "xaxis": "x",
         "y": [
          32.11,
          32.04,
          31.37,
          31.37,
          31,
          31,
          31,
          0
         ],
         "yaxis": "y"
        },
        {
         "hovertemplate": "org_name=Second Chance Rescue<br>date_saved=%{x}<br>Added last week pct=%{y}<extra></extra>",
         "legendgroup": "Second Chance Rescue",
         "line": {
          "color": "#ab63fa",
          "dash": "solid"
         },
         "mode": "lines",
         "name": "Second Chance Rescue",
         "orientation": "v",
         "showlegend": true,
         "type": "scatter",
         "x": [
          "2021-10-31T00:00:00+00:00",
          "2021-11-01T00:00:00+00:00",
          "2021-11-02T00:00:00+00:00",
          "2021-11-03T00:00:00+00:00",
          "2021-11-04T00:00:00+00:00",
          "2021-11-05T00:00:00+00:00",
          "2021-11-06T00:00:00+00:00",
          "2021-11-07T00:00:00+00:00"
         ],
         "xaxis": "x",
         "y": [
          17.43,
          13.89,
          18.58,
          13.16,
          9.91,
          13.16,
          10.43,
          10.43
         ],
         "yaxis": "y"
        },
        {
         "hovertemplate": "org_name=Town of Hempstead Animal Shelter<br>date_saved=%{x}<br>Added last week pct=%{y}<extra></extra>",
         "legendgroup": "Town of Hempstead Animal Shelter",
         "line": {
          "color": "#FFA15A",
          "dash": "solid"
         },
         "mode": "lines",
         "name": "Town of Hempstead Animal Shelter",
         "orientation": "v",
         "showlegend": true,
         "type": "scatter",
         "x": [
          "2021-10-31T00:00:00+00:00",
          "2021-11-01T00:00:00+00:00",
          "2021-11-02T00:00:00+00:00",
          "2021-11-03T00:00:00+00:00",
          "2021-11-04T00:00:00+00:00",
          "2021-11-05T00:00:00+00:00",
          "2021-11-06T00:00:00+00:00",
          "2021-11-07T00:00:00+00:00"
         ],
         "xaxis": "x",
         "y": [
          5.45,
          3.7,
          3.7,
          3.7,
          8.77,
          11.86,
          6.9,
          10
         ],
         "yaxis": "y"
        }
       ],
       "layout": {
        "legend": {
         "title": {
          "text": "org_name"
         },
         "tracegroupgap": 0
        },
        "margin": {
         "t": 60
        },
        "template": {
         "data": {
          "bar": [
           {
            "error_x": {
             "color": "#2a3f5f"
            },
            "error_y": {
             "color": "#2a3f5f"
            },
            "marker": {
             "line": {
              "color": "#E5ECF6",
              "width": 0.5
             }
            },
            "type": "bar"
           }
          ],
          "barpolar": [
           {
            "marker": {
             "line": {
              "color": "#E5ECF6",
              "width": 0.5
             }
            },
            "type": "barpolar"
           }
          ],
          "carpet": [
           {
            "aaxis": {
             "endlinecolor": "#2a3f5f",
             "gridcolor": "white",
             "linecolor": "white",
             "minorgridcolor": "white",
             "startlinecolor": "#2a3f5f"
            },
            "baxis": {
             "endlinecolor": "#2a3f5f",
             "gridcolor": "white",
             "linecolor": "white",
             "minorgridcolor": "white",
             "startlinecolor": "#2a3f5f"
            },
            "type": "carpet"
           }
          ],
          "choropleth": [
           {
            "colorbar": {
             "outlinewidth": 0,
             "ticks": ""
            },
            "type": "choropleth"
           }
          ],
          "contour": [
           {
            "colorbar": {
             "outlinewidth": 0,
             "ticks": ""
            },
            "colorscale": [
             [
              0,
              "#0d0887"
             ],
             [
              0.1111111111111111,
              "#46039f"
             ],
             [
              0.2222222222222222,
              "#7201a8"
             ],
             [
              0.3333333333333333,
              "#9c179e"
             ],
             [
              0.4444444444444444,
              "#bd3786"
             ],
             [
              0.5555555555555556,
              "#d8576b"
             ],
             [
              0.6666666666666666,
              "#ed7953"
             ],
             [
              0.7777777777777778,
              "#fb9f3a"
             ],
             [
              0.8888888888888888,
              "#fdca26"
             ],
             [
              1,
              "#f0f921"
             ]
            ],
            "type": "contour"
           }
          ],
          "contourcarpet": [
           {
            "colorbar": {
             "outlinewidth": 0,
             "ticks": ""
            },
            "type": "contourcarpet"
           }
          ],
          "heatmap": [
           {
            "colorbar": {
             "outlinewidth": 0,
             "ticks": ""
            },
            "colorscale": [
             [
              0,
              "#0d0887"
             ],
             [
              0.1111111111111111,
              "#46039f"
             ],
             [
              0.2222222222222222,
              "#7201a8"
             ],
             [
              0.3333333333333333,
              "#9c179e"
             ],
             [
              0.4444444444444444,
              "#bd3786"
             ],
             [
              0.5555555555555556,
              "#d8576b"
             ],
             [
              0.6666666666666666,
              "#ed7953"
             ],
             [
              0.7777777777777778,
              "#fb9f3a"
             ],
             [
              0.8888888888888888,
              "#fdca26"
             ],
             [
              1,
              "#f0f921"
             ]
            ],
            "type": "heatmap"
           }
          ],
          "heatmapgl": [
           {
            "colorbar": {
             "outlinewidth": 0,
             "ticks": ""
            },
            "colorscale": [
             [
              0,
              "#0d0887"
             ],
             [
              0.1111111111111111,
              "#46039f"
             ],
             [
              0.2222222222222222,
              "#7201a8"
             ],
             [
              0.3333333333333333,
              "#9c179e"
             ],
             [
              0.4444444444444444,
              "#bd3786"
             ],
             [
              0.5555555555555556,
              "#d8576b"
             ],
             [
              0.6666666666666666,
              "#ed7953"
             ],
             [
              0.7777777777777778,
              "#fb9f3a"
             ],
             [
              0.8888888888888888,
              "#fdca26"
             ],
             [
              1,
              "#f0f921"
             ]
            ],
            "type": "heatmapgl"
           }
          ],
          "histogram": [
           {
            "marker": {
             "colorbar": {
              "outlinewidth": 0,
              "ticks": ""
             }
            },
            "type": "histogram"
           }
          ],
          "histogram2d": [
           {
            "colorbar": {
             "outlinewidth": 0,
             "ticks": ""
            },
            "colorscale": [
             [
              0,
              "#0d0887"
             ],
             [
              0.1111111111111111,
              "#46039f"
             ],
             [
              0.2222222222222222,
              "#7201a8"
             ],
             [
              0.3333333333333333,
              "#9c179e"
             ],
             [
              0.4444444444444444,
              "#bd3786"
             ],
             [
              0.5555555555555556,
              "#d8576b"
             ],
             [
              0.6666666666666666,
              "#ed7953"
             ],
             [
              0.7777777777777778,
              "#fb9f3a"
             ],
             [
              0.8888888888888888,
              "#fdca26"
             ],
             [
              1,
              "#f0f921"
             ]
            ],
            "type": "histogram2d"
           }
          ],
          "histogram2dcontour": [
           {
            "colorbar": {
             "outlinewidth": 0,
             "ticks": ""
            },
            "colorscale": [
             [
              0,
              "#0d0887"
             ],
             [
              0.1111111111111111,
              "#46039f"
             ],
             [
              0.2222222222222222,
              "#7201a8"
             ],
             [
              0.3333333333333333,
              "#9c179e"
             ],
             [
              0.4444444444444444,
              "#bd3786"
             ],
             [
              0.5555555555555556,
              "#d8576b"
             ],
             [
              0.6666666666666666,
              "#ed7953"
             ],
             [
              0.7777777777777778,
              "#fb9f3a"
             ],
             [
              0.8888888888888888,
              "#fdca26"
             ],
             [
              1,
              "#f0f921"
             ]
            ],
            "type": "histogram2dcontour"
           }
          ],
          "mesh3d": [
           {
            "colorbar": {
             "outlinewidth": 0,
             "ticks": ""
            },
            "type": "mesh3d"
           }
          ],
          "parcoords": [
           {
            "line": {
             "colorbar": {
              "outlinewidth": 0,
              "ticks": ""
             }
            },
            "type": "parcoords"
           }
          ],
          "pie": [
           {
            "automargin": true,
            "type": "pie"
           }
          ],
          "scatter": [
           {
            "marker": {
             "colorbar": {
              "outlinewidth": 0,
              "ticks": ""
             }
            },
            "type": "scatter"
           }
          ],
          "scatter3d": [
           {
            "line": {
             "colorbar": {
              "outlinewidth": 0,
              "ticks": ""
             }
            },
            "marker": {
             "colorbar": {
              "outlinewidth": 0,
              "ticks": ""
             }
            },
            "type": "scatter3d"
           }
          ],
          "scattercarpet": [
           {
            "marker": {
             "colorbar": {
              "outlinewidth": 0,
              "ticks": ""
             }
            },
            "type": "scattercarpet"
           }
          ],
          "scattergeo": [
           {
            "marker": {
             "colorbar": {
              "outlinewidth": 0,
              "ticks": ""
             }
            },
            "type": "scattergeo"
           }
          ],
          "scattergl": [
           {
            "marker": {
             "colorbar": {
              "outlinewidth": 0,
              "ticks": ""
             }
            },
            "type": "scattergl"
           }
          ],
          "scattermapbox": [
           {
            "marker": {
             "colorbar": {
              "outlinewidth": 0,
              "ticks": ""
             }
            },
            "type": "scattermapbox"
           }
          ],
          "scatterpolar": [
           {
            "marker": {
             "colorbar": {
              "outlinewidth": 0,
              "ticks": ""
             }
            },
            "type": "scatterpolar"
           }
          ],
          "scatterpolargl": [
           {
            "marker": {
             "colorbar": {
              "outlinewidth": 0,
              "ticks": ""
             }
            },
            "type": "scatterpolargl"
           }
          ],
          "scatterternary": [
           {
            "marker": {
             "colorbar": {
              "outlinewidth": 0,
              "ticks": ""
             }
            },
            "type": "scatterternary"
           }
          ],
          "surface": [
           {
            "colorbar": {
             "outlinewidth": 0,
             "ticks": ""
            },
            "colorscale": [
             [
              0,
              "#0d0887"
             ],
             [
              0.1111111111111111,
              "#46039f"
             ],
             [
              0.2222222222222222,
              "#7201a8"
             ],
             [
              0.3333333333333333,
              "#9c179e"
             ],
             [
              0.4444444444444444,
              "#bd3786"
             ],
             [
              0.5555555555555556,
              "#d8576b"
             ],
             [
              0.6666666666666666,
              "#ed7953"
             ],
             [
              0.7777777777777778,
              "#fb9f3a"
             ],
             [
              0.8888888888888888,
              "#fdca26"
             ],
             [
              1,
              "#f0f921"
             ]
            ],
            "type": "surface"
           }
          ],
          "table": [
           {
            "cells": {
             "fill": {
              "color": "#EBF0F8"
             },
             "line": {
              "color": "white"
             }
            },
            "header": {
             "fill": {
              "color": "#C8D4E3"
             },
             "line": {
              "color": "white"
             }
            },
            "type": "table"
           }
          ]
         },
         "layout": {
          "annotationdefaults": {
           "arrowcolor": "#2a3f5f",
           "arrowhead": 0,
           "arrowwidth": 1
          },
          "coloraxis": {
           "colorbar": {
            "outlinewidth": 0,
            "ticks": ""
           }
          },
          "colorscale": {
           "diverging": [
            [
             0,
             "#8e0152"
            ],
            [
             0.1,
             "#c51b7d"
            ],
            [
             0.2,
             "#de77ae"
            ],
            [
             0.3,
             "#f1b6da"
            ],
            [
             0.4,
             "#fde0ef"
            ],
            [
             0.5,
             "#f7f7f7"
            ],
            [
             0.6,
             "#e6f5d0"
            ],
            [
             0.7,
             "#b8e186"
            ],
            [
             0.8,
             "#7fbc41"
            ],
            [
             0.9,
             "#4d9221"
            ],
            [
             1,
             "#276419"
            ]
           ],
           "sequential": [
            [
             0,
             "#0d0887"
            ],
            [
             0.1111111111111111,
             "#46039f"
            ],
            [
             0.2222222222222222,
             "#7201a8"
            ],
            [
             0.3333333333333333,
             "#9c179e"
            ],
            [
             0.4444444444444444,
             "#bd3786"
            ],
            [
             0.5555555555555556,
             "#d8576b"
            ],
            [
             0.6666666666666666,
             "#ed7953"
            ],
            [
             0.7777777777777778,
             "#fb9f3a"
            ],
            [
             0.8888888888888888,
             "#fdca26"
            ],
            [
             1,
             "#f0f921"
            ]
           ],
           "sequentialminus": [
            [
             0,
             "#0d0887"
            ],
            [
             0.1111111111111111,
             "#46039f"
            ],
            [
             0.2222222222222222,
             "#7201a8"
            ],
            [
             0.3333333333333333,
             "#9c179e"
            ],
            [
             0.4444444444444444,
             "#bd3786"
            ],
            [
             0.5555555555555556,
             "#d8576b"
            ],
            [
             0.6666666666666666,
             "#ed7953"
            ],
            [
             0.7777777777777778,
             "#fb9f3a"
            ],
            [
             0.8888888888888888,
             "#fdca26"
            ],
            [
             1,
             "#f0f921"
            ]
           ]
          },
          "colorway": [
           "#636efa",
           "#EF553B",
           "#00cc96",
           "#ab63fa",
           "#FFA15A",
           "#19d3f3",
           "#FF6692",
           "#B6E880",
           "#FF97FF",
           "#FECB52"
          ],
          "font": {
           "color": "#2a3f5f"
          },
          "geo": {
           "bgcolor": "white",
           "lakecolor": "white",
           "landcolor": "#E5ECF6",
           "showlakes": true,
           "showland": true,
           "subunitcolor": "white"
          },
          "hoverlabel": {
           "align": "left"
          },
          "hovermode": "closest",
          "mapbox": {
           "style": "light"
          },
          "paper_bgcolor": "white",
          "plot_bgcolor": "#E5ECF6",
          "polar": {
           "angularaxis": {
            "gridcolor": "white",
            "linecolor": "white",
            "ticks": ""
           },
           "bgcolor": "#E5ECF6",
           "radialaxis": {
            "gridcolor": "white",
            "linecolor": "white",
            "ticks": ""
           }
          },
          "scene": {
           "xaxis": {
            "backgroundcolor": "#E5ECF6",
            "gridcolor": "white",
            "gridwidth": 2,
            "linecolor": "white",
            "showbackground": true,
            "ticks": "",
            "zerolinecolor": "white"
           },
           "yaxis": {
            "backgroundcolor": "#E5ECF6",
            "gridcolor": "white",
            "gridwidth": 2,
            "linecolor": "white",
            "showbackground": true,
            "ticks": "",
            "zerolinecolor": "white"
           },
           "zaxis": {
            "backgroundcolor": "#E5ECF6",
            "gridcolor": "white",
            "gridwidth": 2,
            "linecolor": "white",
            "showbackground": true,
            "ticks": "",
            "zerolinecolor": "white"
           }
          },
          "shapedefaults": {
           "line": {
            "color": "#2a3f5f"
           }
          },
          "ternary": {
           "aaxis": {
            "gridcolor": "white",
            "linecolor": "white",
            "ticks": ""
           },
           "baxis": {
            "gridcolor": "white",
            "linecolor": "white",
            "ticks": ""
           },
           "bgcolor": "#E5ECF6",
           "caxis": {
            "gridcolor": "white",
            "linecolor": "white",
            "ticks": ""
           }
          },
          "title": {
           "x": 0.05
          },
          "xaxis": {
           "automargin": true,
           "gridcolor": "white",
           "linecolor": "white",
           "ticks": "",
           "title": {
            "standoff": 15
           },
           "zerolinecolor": "white",
           "zerolinewidth": 2
          },
          "yaxis": {
           "automargin": true,
           "gridcolor": "white",
           "linecolor": "white",
           "ticks": "",
           "title": {
            "standoff": 15
           },
           "zerolinecolor": "white",
           "zerolinewidth": 2
          }
         }
        },
        "xaxis": {
         "anchor": "y",
         "domain": [
          0,
          1
         ],
         "title": {
          "text": "date_saved"
         }
        },
        "yaxis": {
         "anchor": "x",
         "domain": [
          0,
          1
         ],
         "title": {
          "text": "Added last week pct"
         }
        }
       }
      },
      "text/html": [
       "<div>                            <div id=\"6617a0af-5f00-436b-981d-941ef5014840\" class=\"plotly-graph-div\" style=\"height:525px; width:100%;\"></div>            <script type=\"text/javascript\">                require([\"plotly\"], function(Plotly) {                    window.PLOTLYENV=window.PLOTLYENV || {};                                    if (document.getElementById(\"6617a0af-5f00-436b-981d-941ef5014840\")) {                    Plotly.newPlot(                        \"6617a0af-5f00-436b-981d-941ef5014840\",                        [{\"hovertemplate\": \"org_name=North Shore Animal League America<br>date_saved=%{x}<br>Added last week pct=%{y}<extra></extra>\", \"legendgroup\": \"North Shore Animal League America\", \"line\": {\"color\": \"#636efa\", \"dash\": \"solid\"}, \"mode\": \"lines\", \"name\": \"North Shore Animal League America\", \"orientation\": \"v\", \"showlegend\": true, \"type\": \"scatter\", \"x\": [\"2021-10-31T00:00:00+00:00\", \"2021-11-01T00:00:00+00:00\", \"2021-11-02T00:00:00+00:00\", \"2021-11-03T00:00:00+00:00\", \"2021-11-04T00:00:00+00:00\", \"2021-11-05T00:00:00+00:00\", \"2021-11-06T00:00:00+00:00\", \"2021-11-07T00:00:00+00:00\"], \"xaxis\": \"x\", \"y\": [27.78, 26.42, 26.42, 26.42, 23.53, 30.0, 20.0, 26.47], \"yaxis\": \"y\"}, {\"hovertemplate\": \"org_name=Rescue Dogs Rock NYC<br>date_saved=%{x}<br>Added last week pct=%{y}<extra></extra>\", \"legendgroup\": \"Rescue Dogs Rock NYC\", \"line\": {\"color\": \"#EF553B\", \"dash\": \"solid\"}, \"mode\": \"lines\", \"name\": \"Rescue Dogs Rock NYC\", \"orientation\": \"v\", \"showlegend\": true, \"type\": \"scatter\", \"x\": [\"2021-10-31T00:00:00+00:00\", \"2021-11-01T00:00:00+00:00\", \"2021-11-02T00:00:00+00:00\", \"2021-11-03T00:00:00+00:00\", \"2021-11-04T00:00:00+00:00\", \"2021-11-05T00:00:00+00:00\", \"2021-11-06T00:00:00+00:00\", \"2021-11-07T00:00:00+00:00\"], \"xaxis\": \"x\", \"y\": [12.69, 9.95, 6.44, 8.74, 8.78, 8.87, 8.87, 8.42], \"yaxis\": \"y\"}, {\"hovertemplate\": \"org_name=Ruff House Rescue<br>date_saved=%{x}<br>Added last week pct=%{y}<extra></extra>\", \"legendgroup\": \"Ruff House Rescue\", \"line\": {\"color\": \"#00cc96\", \"dash\": \"solid\"}, \"mode\": \"lines\", \"name\": \"Ruff House Rescue\", \"orientation\": \"v\", \"showlegend\": true, \"type\": \"scatter\", \"x\": [\"2021-10-31T00:00:00+00:00\", \"2021-11-01T00:00:00+00:00\", \"2021-11-02T00:00:00+00:00\", \"2021-11-03T00:00:00+00:00\", \"2021-11-04T00:00:00+00:00\", \"2021-11-05T00:00:00+00:00\", \"2021-11-06T00:00:00+00:00\", \"2021-11-07T00:00:00+00:00\"], \"xaxis\": \"x\", \"y\": [32.11, 32.04, 31.37, 31.37, 31.0, 31.0, 31.0, 0.0], \"yaxis\": \"y\"}, {\"hovertemplate\": \"org_name=Second Chance Rescue<br>date_saved=%{x}<br>Added last week pct=%{y}<extra></extra>\", \"legendgroup\": \"Second Chance Rescue\", \"line\": {\"color\": \"#ab63fa\", \"dash\": \"solid\"}, \"mode\": \"lines\", \"name\": \"Second Chance Rescue\", \"orientation\": \"v\", \"showlegend\": true, \"type\": \"scatter\", \"x\": [\"2021-10-31T00:00:00+00:00\", \"2021-11-01T00:00:00+00:00\", \"2021-11-02T00:00:00+00:00\", \"2021-11-03T00:00:00+00:00\", \"2021-11-04T00:00:00+00:00\", \"2021-11-05T00:00:00+00:00\", \"2021-11-06T00:00:00+00:00\", \"2021-11-07T00:00:00+00:00\"], \"xaxis\": \"x\", \"y\": [17.43, 13.89, 18.58, 13.16, 9.91, 13.16, 10.43, 10.43], \"yaxis\": \"y\"}, {\"hovertemplate\": \"org_name=Town of Hempstead Animal Shelter<br>date_saved=%{x}<br>Added last week pct=%{y}<extra></extra>\", \"legendgroup\": \"Town of Hempstead Animal Shelter\", \"line\": {\"color\": \"#FFA15A\", \"dash\": \"solid\"}, \"mode\": \"lines\", \"name\": \"Town of Hempstead Animal Shelter\", \"orientation\": \"v\", \"showlegend\": true, \"type\": \"scatter\", \"x\": [\"2021-10-31T00:00:00+00:00\", \"2021-11-01T00:00:00+00:00\", \"2021-11-02T00:00:00+00:00\", \"2021-11-03T00:00:00+00:00\", \"2021-11-04T00:00:00+00:00\", \"2021-11-05T00:00:00+00:00\", \"2021-11-06T00:00:00+00:00\", \"2021-11-07T00:00:00+00:00\"], \"xaxis\": \"x\", \"y\": [5.45, 3.7, 3.7, 3.7, 8.77, 11.86, 6.9, 10.0], \"yaxis\": \"y\"}],                        {\"legend\": {\"title\": {\"text\": \"org_name\"}, \"tracegroupgap\": 0}, \"margin\": {\"t\": 60}, \"template\": {\"data\": {\"bar\": [{\"error_x\": {\"color\": \"#2a3f5f\"}, \"error_y\": {\"color\": \"#2a3f5f\"}, \"marker\": {\"line\": {\"color\": \"#E5ECF6\", \"width\": 0.5}}, \"type\": \"bar\"}], \"barpolar\": [{\"marker\": {\"line\": {\"color\": \"#E5ECF6\", \"width\": 0.5}}, \"type\": \"barpolar\"}], \"carpet\": [{\"aaxis\": {\"endlinecolor\": \"#2a3f5f\", \"gridcolor\": \"white\", \"linecolor\": \"white\", \"minorgridcolor\": \"white\", \"startlinecolor\": \"#2a3f5f\"}, \"baxis\": {\"endlinecolor\": \"#2a3f5f\", \"gridcolor\": \"white\", \"linecolor\": \"white\", \"minorgridcolor\": \"white\", \"startlinecolor\": \"#2a3f5f\"}, \"type\": \"carpet\"}], \"choropleth\": [{\"colorbar\": {\"outlinewidth\": 0, \"ticks\": \"\"}, \"type\": \"choropleth\"}], \"contour\": [{\"colorbar\": {\"outlinewidth\": 0, \"ticks\": \"\"}, \"colorscale\": [[0.0, \"#0d0887\"], [0.1111111111111111, \"#46039f\"], [0.2222222222222222, \"#7201a8\"], [0.3333333333333333, \"#9c179e\"], [0.4444444444444444, \"#bd3786\"], [0.5555555555555556, \"#d8576b\"], [0.6666666666666666, \"#ed7953\"], [0.7777777777777778, \"#fb9f3a\"], [0.8888888888888888, \"#fdca26\"], [1.0, \"#f0f921\"]], \"type\": \"contour\"}], \"contourcarpet\": [{\"colorbar\": {\"outlinewidth\": 0, \"ticks\": \"\"}, \"type\": \"contourcarpet\"}], \"heatmap\": [{\"colorbar\": {\"outlinewidth\": 0, \"ticks\": \"\"}, \"colorscale\": [[0.0, \"#0d0887\"], [0.1111111111111111, \"#46039f\"], [0.2222222222222222, \"#7201a8\"], [0.3333333333333333, \"#9c179e\"], [0.4444444444444444, \"#bd3786\"], [0.5555555555555556, \"#d8576b\"], [0.6666666666666666, \"#ed7953\"], [0.7777777777777778, \"#fb9f3a\"], [0.8888888888888888, \"#fdca26\"], [1.0, \"#f0f921\"]], \"type\": \"heatmap\"}], \"heatmapgl\": [{\"colorbar\": {\"outlinewidth\": 0, \"ticks\": \"\"}, \"colorscale\": [[0.0, \"#0d0887\"], [0.1111111111111111, \"#46039f\"], [0.2222222222222222, \"#7201a8\"], [0.3333333333333333, \"#9c179e\"], [0.4444444444444444, \"#bd3786\"], [0.5555555555555556, \"#d8576b\"], [0.6666666666666666, \"#ed7953\"], [0.7777777777777778, \"#fb9f3a\"], [0.8888888888888888, \"#fdca26\"], [1.0, \"#f0f921\"]], \"type\": \"heatmapgl\"}], \"histogram\": [{\"marker\": {\"colorbar\": {\"outlinewidth\": 0, \"ticks\": \"\"}}, \"type\": \"histogram\"}], \"histogram2d\": [{\"colorbar\": {\"outlinewidth\": 0, \"ticks\": \"\"}, \"colorscale\": [[0.0, \"#0d0887\"], [0.1111111111111111, \"#46039f\"], [0.2222222222222222, \"#7201a8\"], [0.3333333333333333, \"#9c179e\"], [0.4444444444444444, \"#bd3786\"], [0.5555555555555556, \"#d8576b\"], [0.6666666666666666, \"#ed7953\"], [0.7777777777777778, \"#fb9f3a\"], [0.8888888888888888, \"#fdca26\"], [1.0, \"#f0f921\"]], \"type\": \"histogram2d\"}], \"histogram2dcontour\": [{\"colorbar\": {\"outlinewidth\": 0, \"ticks\": \"\"}, \"colorscale\": [[0.0, \"#0d0887\"], [0.1111111111111111, \"#46039f\"], [0.2222222222222222, \"#7201a8\"], [0.3333333333333333, \"#9c179e\"], [0.4444444444444444, \"#bd3786\"], [0.5555555555555556, \"#d8576b\"], [0.6666666666666666, \"#ed7953\"], [0.7777777777777778, \"#fb9f3a\"], [0.8888888888888888, \"#fdca26\"], [1.0, \"#f0f921\"]], \"type\": \"histogram2dcontour\"}], \"mesh3d\": [{\"colorbar\": {\"outlinewidth\": 0, \"ticks\": \"\"}, \"type\": \"mesh3d\"}], \"parcoords\": [{\"line\": {\"colorbar\": {\"outlinewidth\": 0, \"ticks\": \"\"}}, \"type\": \"parcoords\"}], \"pie\": [{\"automargin\": true, \"type\": \"pie\"}], \"scatter\": [{\"marker\": {\"colorbar\": {\"outlinewidth\": 0, \"ticks\": \"\"}}, \"type\": \"scatter\"}], \"scatter3d\": [{\"line\": {\"colorbar\": {\"outlinewidth\": 0, \"ticks\": \"\"}}, \"marker\": {\"colorbar\": {\"outlinewidth\": 0, \"ticks\": \"\"}}, \"type\": \"scatter3d\"}], \"scattercarpet\": [{\"marker\": {\"colorbar\": {\"outlinewidth\": 0, \"ticks\": \"\"}}, \"type\": \"scattercarpet\"}], \"scattergeo\": [{\"marker\": {\"colorbar\": {\"outlinewidth\": 0, \"ticks\": \"\"}}, \"type\": \"scattergeo\"}], \"scattergl\": [{\"marker\": {\"colorbar\": {\"outlinewidth\": 0, \"ticks\": \"\"}}, \"type\": \"scattergl\"}], \"scattermapbox\": [{\"marker\": {\"colorbar\": {\"outlinewidth\": 0, \"ticks\": \"\"}}, \"type\": \"scattermapbox\"}], \"scatterpolar\": [{\"marker\": {\"colorbar\": {\"outlinewidth\": 0, \"ticks\": \"\"}}, \"type\": \"scatterpolar\"}], \"scatterpolargl\": [{\"marker\": {\"colorbar\": {\"outlinewidth\": 0, \"ticks\": \"\"}}, \"type\": \"scatterpolargl\"}], \"scatterternary\": [{\"marker\": {\"colorbar\": {\"outlinewidth\": 0, \"ticks\": \"\"}}, \"type\": \"scatterternary\"}], \"surface\": [{\"colorbar\": {\"outlinewidth\": 0, \"ticks\": \"\"}, \"colorscale\": [[0.0, \"#0d0887\"], [0.1111111111111111, \"#46039f\"], [0.2222222222222222, \"#7201a8\"], [0.3333333333333333, \"#9c179e\"], [0.4444444444444444, \"#bd3786\"], [0.5555555555555556, \"#d8576b\"], [0.6666666666666666, \"#ed7953\"], [0.7777777777777778, \"#fb9f3a\"], [0.8888888888888888, \"#fdca26\"], [1.0, \"#f0f921\"]], \"type\": \"surface\"}], \"table\": [{\"cells\": {\"fill\": {\"color\": \"#EBF0F8\"}, \"line\": {\"color\": \"white\"}}, \"header\": {\"fill\": {\"color\": \"#C8D4E3\"}, \"line\": {\"color\": \"white\"}}, \"type\": \"table\"}]}, \"layout\": {\"annotationdefaults\": {\"arrowcolor\": \"#2a3f5f\", \"arrowhead\": 0, \"arrowwidth\": 1}, \"coloraxis\": {\"colorbar\": {\"outlinewidth\": 0, \"ticks\": \"\"}}, \"colorscale\": {\"diverging\": [[0, \"#8e0152\"], [0.1, \"#c51b7d\"], [0.2, \"#de77ae\"], [0.3, \"#f1b6da\"], [0.4, \"#fde0ef\"], [0.5, \"#f7f7f7\"], [0.6, \"#e6f5d0\"], [0.7, \"#b8e186\"], [0.8, \"#7fbc41\"], [0.9, \"#4d9221\"], [1, \"#276419\"]], \"sequential\": [[0.0, \"#0d0887\"], [0.1111111111111111, \"#46039f\"], [0.2222222222222222, \"#7201a8\"], [0.3333333333333333, \"#9c179e\"], [0.4444444444444444, \"#bd3786\"], [0.5555555555555556, \"#d8576b\"], [0.6666666666666666, \"#ed7953\"], [0.7777777777777778, \"#fb9f3a\"], [0.8888888888888888, \"#fdca26\"], [1.0, \"#f0f921\"]], \"sequentialminus\": [[0.0, \"#0d0887\"], [0.1111111111111111, \"#46039f\"], [0.2222222222222222, \"#7201a8\"], [0.3333333333333333, \"#9c179e\"], [0.4444444444444444, \"#bd3786\"], [0.5555555555555556, \"#d8576b\"], [0.6666666666666666, \"#ed7953\"], [0.7777777777777778, \"#fb9f3a\"], [0.8888888888888888, \"#fdca26\"], [1.0, \"#f0f921\"]]}, \"colorway\": [\"#636efa\", \"#EF553B\", \"#00cc96\", \"#ab63fa\", \"#FFA15A\", \"#19d3f3\", \"#FF6692\", \"#B6E880\", \"#FF97FF\", \"#FECB52\"], \"font\": {\"color\": \"#2a3f5f\"}, \"geo\": {\"bgcolor\": \"white\", \"lakecolor\": \"white\", \"landcolor\": \"#E5ECF6\", \"showlakes\": true, \"showland\": true, \"subunitcolor\": \"white\"}, \"hoverlabel\": {\"align\": \"left\"}, \"hovermode\": \"closest\", \"mapbox\": {\"style\": \"light\"}, \"paper_bgcolor\": \"white\", \"plot_bgcolor\": \"#E5ECF6\", \"polar\": {\"angularaxis\": {\"gridcolor\": \"white\", \"linecolor\": \"white\", \"ticks\": \"\"}, \"bgcolor\": \"#E5ECF6\", \"radialaxis\": {\"gridcolor\": \"white\", \"linecolor\": \"white\", \"ticks\": \"\"}}, \"scene\": {\"xaxis\": {\"backgroundcolor\": \"#E5ECF6\", \"gridcolor\": \"white\", \"gridwidth\": 2, \"linecolor\": \"white\", \"showbackground\": true, \"ticks\": \"\", \"zerolinecolor\": \"white\"}, \"yaxis\": {\"backgroundcolor\": \"#E5ECF6\", \"gridcolor\": \"white\", \"gridwidth\": 2, \"linecolor\": \"white\", \"showbackground\": true, \"ticks\": \"\", \"zerolinecolor\": \"white\"}, \"zaxis\": {\"backgroundcolor\": \"#E5ECF6\", \"gridcolor\": \"white\", \"gridwidth\": 2, \"linecolor\": \"white\", \"showbackground\": true, \"ticks\": \"\", \"zerolinecolor\": \"white\"}}, \"shapedefaults\": {\"line\": {\"color\": \"#2a3f5f\"}}, \"ternary\": {\"aaxis\": {\"gridcolor\": \"white\", \"linecolor\": \"white\", \"ticks\": \"\"}, \"baxis\": {\"gridcolor\": \"white\", \"linecolor\": \"white\", \"ticks\": \"\"}, \"bgcolor\": \"#E5ECF6\", \"caxis\": {\"gridcolor\": \"white\", \"linecolor\": \"white\", \"ticks\": \"\"}}, \"title\": {\"x\": 0.05}, \"xaxis\": {\"automargin\": true, \"gridcolor\": \"white\", \"linecolor\": \"white\", \"ticks\": \"\", \"title\": {\"standoff\": 15}, \"zerolinecolor\": \"white\", \"zerolinewidth\": 2}, \"yaxis\": {\"automargin\": true, \"gridcolor\": \"white\", \"linecolor\": \"white\", \"ticks\": \"\", \"title\": {\"standoff\": 15}, \"zerolinecolor\": \"white\", \"zerolinewidth\": 2}}}, \"xaxis\": {\"anchor\": \"y\", \"domain\": [0.0, 1.0], \"title\": {\"text\": \"date_saved\"}}, \"yaxis\": {\"anchor\": \"x\", \"domain\": [0.0, 1.0], \"title\": {\"text\": \"Added last week pct\"}}},                        {\"responsive\": true}                    ).then(function(){\n",
       "                            \n",
       "var gd = document.getElementById('6617a0af-5f00-436b-981d-941ef5014840');\n",
       "var x = new MutationObserver(function (mutations, observer) {{\n",
       "        var display = window.getComputedStyle(gd).display;\n",
       "        if (!display || display === 'none') {{\n",
       "            console.log([gd, 'removed!']);\n",
       "            Plotly.purge(gd);\n",
       "            observer.disconnect();\n",
       "        }}\n",
       "}});\n",
       "\n",
       "// Listen for the removal of the full notebook cells\n",
       "var notebookContainer = gd.closest('#notebook-container');\n",
       "if (notebookContainer) {{\n",
       "    x.observe(notebookContainer, {childList: true});\n",
       "}}\n",
       "\n",
       "// Listen for the clearing of the current output cell\n",
       "var outputEl = gd.closest('.output');\n",
       "if (outputEl) {{\n",
       "    x.observe(outputEl, {childList: true});\n",
       "}}\n",
       "\n",
       "                        })                };                });            </script>        </div>"
      ]
     },
     "metadata": {},
     "output_type": "display_data"
    }
   ],
   "source": [
    "px.line(ns_gb.reset_index(), 'date_saved', 'Added last week pct'\n",
    "       , color = 'org_name'\n",
    "#        , title= 'Number of Dogs in Shelter'\n",
    "       )"
   ]
  },
  {
   "cell_type": "code",
   "execution_count": 52,
   "metadata": {},
   "outputs": [
    {
     "data": {
      "application/vnd.plotly.v1+json": {
       "config": {
        "plotlyServerURL": "https://plot.ly"
       },
       "data": [
        {
         "hovertemplate": "org_name=North Shore Animal League America<br>date_saved=%{x}<br>Added in <4 weeks pct=%{y}<extra></extra>",
         "legendgroup": "North Shore Animal League America",
         "line": {
          "color": "#636efa",
          "dash": "solid"
         },
         "mode": "lines",
         "name": "North Shore Animal League America",
         "orientation": "v",
         "showlegend": true,
         "type": "scatter",
         "x": [
          "2021-10-31T00:00:00+00:00",
          "2021-11-01T00:00:00+00:00",
          "2021-11-02T00:00:00+00:00",
          "2021-11-03T00:00:00+00:00",
          "2021-11-04T00:00:00+00:00",
          "2021-11-05T00:00:00+00:00",
          "2021-11-06T00:00:00+00:00",
          "2021-11-07T00:00:00+00:00"
         ],
         "xaxis": "x",
         "y": [
          55.56,
          56.6,
          56.6,
          56.6,
          62.75,
          53.33,
          55,
          48.53
         ],
         "yaxis": "y"
        },
        {
         "hovertemplate": "org_name=Rescue Dogs Rock NYC<br>date_saved=%{x}<br>Added in <4 weeks pct=%{y}<extra></extra>",
         "legendgroup": "Rescue Dogs Rock NYC",
         "line": {
          "color": "#EF553B",
          "dash": "solid"
         },
         "mode": "lines",
         "name": "Rescue Dogs Rock NYC",
         "orientation": "v",
         "showlegend": true,
         "type": "scatter",
         "x": [
          "2021-10-31T00:00:00+00:00",
          "2021-11-01T00:00:00+00:00",
          "2021-11-02T00:00:00+00:00",
          "2021-11-03T00:00:00+00:00",
          "2021-11-04T00:00:00+00:00",
          "2021-11-05T00:00:00+00:00",
          "2021-11-06T00:00:00+00:00",
          "2021-11-07T00:00:00+00:00"
         ],
         "xaxis": "x",
         "y": [
          74.11,
          72.64,
          72.28,
          70.39,
          70.73,
          70.94,
          73.89,
          73.76
         ],
         "yaxis": "y"
        },
        {
         "hovertemplate": "org_name=Ruff House Rescue<br>date_saved=%{x}<br>Added in <4 weeks pct=%{y}<extra></extra>",
         "legendgroup": "Ruff House Rescue",
         "line": {
          "color": "#00cc96",
          "dash": "solid"
         },
         "mode": "lines",
         "name": "Ruff House Rescue",
         "orientation": "v",
         "showlegend": true,
         "type": "scatter",
         "x": [
          "2021-10-31T00:00:00+00:00",
          "2021-11-01T00:00:00+00:00",
          "2021-11-02T00:00:00+00:00",
          "2021-11-03T00:00:00+00:00",
          "2021-11-04T00:00:00+00:00",
          "2021-11-05T00:00:00+00:00",
          "2021-11-06T00:00:00+00:00",
          "2021-11-07T00:00:00+00:00"
         ],
         "xaxis": "x",
         "y": [
          50.46,
          49.51,
          50,
          50,
          51,
          51,
          52,
          53.12
         ],
         "yaxis": "y"
        },
        {
         "hovertemplate": "org_name=Second Chance Rescue<br>date_saved=%{x}<br>Added in <4 weeks pct=%{y}<extra></extra>",
         "legendgroup": "Second Chance Rescue",
         "line": {
          "color": "#ab63fa",
          "dash": "solid"
         },
         "mode": "lines",
         "name": "Second Chance Rescue",
         "orientation": "v",
         "showlegend": true,
         "type": "scatter",
         "x": [
          "2021-10-31T00:00:00+00:00",
          "2021-11-01T00:00:00+00:00",
          "2021-11-02T00:00:00+00:00",
          "2021-11-03T00:00:00+00:00",
          "2021-11-04T00:00:00+00:00",
          "2021-11-05T00:00:00+00:00",
          "2021-11-06T00:00:00+00:00",
          "2021-11-07T00:00:00+00:00"
         ],
         "xaxis": "x",
         "y": [
          63.3,
          64.81,
          61.95,
          60.53,
          63.06,
          61.4,
          60.87,
          66.09
         ],
         "yaxis": "y"
        },
        {
         "hovertemplate": "org_name=Town of Hempstead Animal Shelter<br>date_saved=%{x}<br>Added in <4 weeks pct=%{y}<extra></extra>",
         "legendgroup": "Town of Hempstead Animal Shelter",
         "line": {
          "color": "#FFA15A",
          "dash": "solid"
         },
         "mode": "lines",
         "name": "Town of Hempstead Animal Shelter",
         "orientation": "v",
         "showlegend": true,
         "type": "scatter",
         "x": [
          "2021-10-31T00:00:00+00:00",
          "2021-11-01T00:00:00+00:00",
          "2021-11-02T00:00:00+00:00",
          "2021-11-03T00:00:00+00:00",
          "2021-11-04T00:00:00+00:00",
          "2021-11-05T00:00:00+00:00",
          "2021-11-06T00:00:00+00:00",
          "2021-11-07T00:00:00+00:00"
         ],
         "xaxis": "x",
         "y": [
          78.18,
          79.63,
          79.63,
          79.63,
          75.44,
          74.58,
          77.59,
          75
         ],
         "yaxis": "y"
        }
       ],
       "layout": {
        "legend": {
         "title": {
          "text": "org_name"
         },
         "tracegroupgap": 0
        },
        "margin": {
         "t": 60
        },
        "template": {
         "data": {
          "bar": [
           {
            "error_x": {
             "color": "#2a3f5f"
            },
            "error_y": {
             "color": "#2a3f5f"
            },
            "marker": {
             "line": {
              "color": "#E5ECF6",
              "width": 0.5
             }
            },
            "type": "bar"
           }
          ],
          "barpolar": [
           {
            "marker": {
             "line": {
              "color": "#E5ECF6",
              "width": 0.5
             }
            },
            "type": "barpolar"
           }
          ],
          "carpet": [
           {
            "aaxis": {
             "endlinecolor": "#2a3f5f",
             "gridcolor": "white",
             "linecolor": "white",
             "minorgridcolor": "white",
             "startlinecolor": "#2a3f5f"
            },
            "baxis": {
             "endlinecolor": "#2a3f5f",
             "gridcolor": "white",
             "linecolor": "white",
             "minorgridcolor": "white",
             "startlinecolor": "#2a3f5f"
            },
            "type": "carpet"
           }
          ],
          "choropleth": [
           {
            "colorbar": {
             "outlinewidth": 0,
             "ticks": ""
            },
            "type": "choropleth"
           }
          ],
          "contour": [
           {
            "colorbar": {
             "outlinewidth": 0,
             "ticks": ""
            },
            "colorscale": [
             [
              0,
              "#0d0887"
             ],
             [
              0.1111111111111111,
              "#46039f"
             ],
             [
              0.2222222222222222,
              "#7201a8"
             ],
             [
              0.3333333333333333,
              "#9c179e"
             ],
             [
              0.4444444444444444,
              "#bd3786"
             ],
             [
              0.5555555555555556,
              "#d8576b"
             ],
             [
              0.6666666666666666,
              "#ed7953"
             ],
             [
              0.7777777777777778,
              "#fb9f3a"
             ],
             [
              0.8888888888888888,
              "#fdca26"
             ],
             [
              1,
              "#f0f921"
             ]
            ],
            "type": "contour"
           }
          ],
          "contourcarpet": [
           {
            "colorbar": {
             "outlinewidth": 0,
             "ticks": ""
            },
            "type": "contourcarpet"
           }
          ],
          "heatmap": [
           {
            "colorbar": {
             "outlinewidth": 0,
             "ticks": ""
            },
            "colorscale": [
             [
              0,
              "#0d0887"
             ],
             [
              0.1111111111111111,
              "#46039f"
             ],
             [
              0.2222222222222222,
              "#7201a8"
             ],
             [
              0.3333333333333333,
              "#9c179e"
             ],
             [
              0.4444444444444444,
              "#bd3786"
             ],
             [
              0.5555555555555556,
              "#d8576b"
             ],
             [
              0.6666666666666666,
              "#ed7953"
             ],
             [
              0.7777777777777778,
              "#fb9f3a"
             ],
             [
              0.8888888888888888,
              "#fdca26"
             ],
             [
              1,
              "#f0f921"
             ]
            ],
            "type": "heatmap"
           }
          ],
          "heatmapgl": [
           {
            "colorbar": {
             "outlinewidth": 0,
             "ticks": ""
            },
            "colorscale": [
             [
              0,
              "#0d0887"
             ],
             [
              0.1111111111111111,
              "#46039f"
             ],
             [
              0.2222222222222222,
              "#7201a8"
             ],
             [
              0.3333333333333333,
              "#9c179e"
             ],
             [
              0.4444444444444444,
              "#bd3786"
             ],
             [
              0.5555555555555556,
              "#d8576b"
             ],
             [
              0.6666666666666666,
              "#ed7953"
             ],
             [
              0.7777777777777778,
              "#fb9f3a"
             ],
             [
              0.8888888888888888,
              "#fdca26"
             ],
             [
              1,
              "#f0f921"
             ]
            ],
            "type": "heatmapgl"
           }
          ],
          "histogram": [
           {
            "marker": {
             "colorbar": {
              "outlinewidth": 0,
              "ticks": ""
             }
            },
            "type": "histogram"
           }
          ],
          "histogram2d": [
           {
            "colorbar": {
             "outlinewidth": 0,
             "ticks": ""
            },
            "colorscale": [
             [
              0,
              "#0d0887"
             ],
             [
              0.1111111111111111,
              "#46039f"
             ],
             [
              0.2222222222222222,
              "#7201a8"
             ],
             [
              0.3333333333333333,
              "#9c179e"
             ],
             [
              0.4444444444444444,
              "#bd3786"
             ],
             [
              0.5555555555555556,
              "#d8576b"
             ],
             [
              0.6666666666666666,
              "#ed7953"
             ],
             [
              0.7777777777777778,
              "#fb9f3a"
             ],
             [
              0.8888888888888888,
              "#fdca26"
             ],
             [
              1,
              "#f0f921"
             ]
            ],
            "type": "histogram2d"
           }
          ],
          "histogram2dcontour": [
           {
            "colorbar": {
             "outlinewidth": 0,
             "ticks": ""
            },
            "colorscale": [
             [
              0,
              "#0d0887"
             ],
             [
              0.1111111111111111,
              "#46039f"
             ],
             [
              0.2222222222222222,
              "#7201a8"
             ],
             [
              0.3333333333333333,
              "#9c179e"
             ],
             [
              0.4444444444444444,
              "#bd3786"
             ],
             [
              0.5555555555555556,
              "#d8576b"
             ],
             [
              0.6666666666666666,
              "#ed7953"
             ],
             [
              0.7777777777777778,
              "#fb9f3a"
             ],
             [
              0.8888888888888888,
              "#fdca26"
             ],
             [
              1,
              "#f0f921"
             ]
            ],
            "type": "histogram2dcontour"
           }
          ],
          "mesh3d": [
           {
            "colorbar": {
             "outlinewidth": 0,
             "ticks": ""
            },
            "type": "mesh3d"
           }
          ],
          "parcoords": [
           {
            "line": {
             "colorbar": {
              "outlinewidth": 0,
              "ticks": ""
             }
            },
            "type": "parcoords"
           }
          ],
          "pie": [
           {
            "automargin": true,
            "type": "pie"
           }
          ],
          "scatter": [
           {
            "marker": {
             "colorbar": {
              "outlinewidth": 0,
              "ticks": ""
             }
            },
            "type": "scatter"
           }
          ],
          "scatter3d": [
           {
            "line": {
             "colorbar": {
              "outlinewidth": 0,
              "ticks": ""
             }
            },
            "marker": {
             "colorbar": {
              "outlinewidth": 0,
              "ticks": ""
             }
            },
            "type": "scatter3d"
           }
          ],
          "scattercarpet": [
           {
            "marker": {
             "colorbar": {
              "outlinewidth": 0,
              "ticks": ""
             }
            },
            "type": "scattercarpet"
           }
          ],
          "scattergeo": [
           {
            "marker": {
             "colorbar": {
              "outlinewidth": 0,
              "ticks": ""
             }
            },
            "type": "scattergeo"
           }
          ],
          "scattergl": [
           {
            "marker": {
             "colorbar": {
              "outlinewidth": 0,
              "ticks": ""
             }
            },
            "type": "scattergl"
           }
          ],
          "scattermapbox": [
           {
            "marker": {
             "colorbar": {
              "outlinewidth": 0,
              "ticks": ""
             }
            },
            "type": "scattermapbox"
           }
          ],
          "scatterpolar": [
           {
            "marker": {
             "colorbar": {
              "outlinewidth": 0,
              "ticks": ""
             }
            },
            "type": "scatterpolar"
           }
          ],
          "scatterpolargl": [
           {
            "marker": {
             "colorbar": {
              "outlinewidth": 0,
              "ticks": ""
             }
            },
            "type": "scatterpolargl"
           }
          ],
          "scatterternary": [
           {
            "marker": {
             "colorbar": {
              "outlinewidth": 0,
              "ticks": ""
             }
            },
            "type": "scatterternary"
           }
          ],
          "surface": [
           {
            "colorbar": {
             "outlinewidth": 0,
             "ticks": ""
            },
            "colorscale": [
             [
              0,
              "#0d0887"
             ],
             [
              0.1111111111111111,
              "#46039f"
             ],
             [
              0.2222222222222222,
              "#7201a8"
             ],
             [
              0.3333333333333333,
              "#9c179e"
             ],
             [
              0.4444444444444444,
              "#bd3786"
             ],
             [
              0.5555555555555556,
              "#d8576b"
             ],
             [
              0.6666666666666666,
              "#ed7953"
             ],
             [
              0.7777777777777778,
              "#fb9f3a"
             ],
             [
              0.8888888888888888,
              "#fdca26"
             ],
             [
              1,
              "#f0f921"
             ]
            ],
            "type": "surface"
           }
          ],
          "table": [
           {
            "cells": {
             "fill": {
              "color": "#EBF0F8"
             },
             "line": {
              "color": "white"
             }
            },
            "header": {
             "fill": {
              "color": "#C8D4E3"
             },
             "line": {
              "color": "white"
             }
            },
            "type": "table"
           }
          ]
         },
         "layout": {
          "annotationdefaults": {
           "arrowcolor": "#2a3f5f",
           "arrowhead": 0,
           "arrowwidth": 1
          },
          "coloraxis": {
           "colorbar": {
            "outlinewidth": 0,
            "ticks": ""
           }
          },
          "colorscale": {
           "diverging": [
            [
             0,
             "#8e0152"
            ],
            [
             0.1,
             "#c51b7d"
            ],
            [
             0.2,
             "#de77ae"
            ],
            [
             0.3,
             "#f1b6da"
            ],
            [
             0.4,
             "#fde0ef"
            ],
            [
             0.5,
             "#f7f7f7"
            ],
            [
             0.6,
             "#e6f5d0"
            ],
            [
             0.7,
             "#b8e186"
            ],
            [
             0.8,
             "#7fbc41"
            ],
            [
             0.9,
             "#4d9221"
            ],
            [
             1,
             "#276419"
            ]
           ],
           "sequential": [
            [
             0,
             "#0d0887"
            ],
            [
             0.1111111111111111,
             "#46039f"
            ],
            [
             0.2222222222222222,
             "#7201a8"
            ],
            [
             0.3333333333333333,
             "#9c179e"
            ],
            [
             0.4444444444444444,
             "#bd3786"
            ],
            [
             0.5555555555555556,
             "#d8576b"
            ],
            [
             0.6666666666666666,
             "#ed7953"
            ],
            [
             0.7777777777777778,
             "#fb9f3a"
            ],
            [
             0.8888888888888888,
             "#fdca26"
            ],
            [
             1,
             "#f0f921"
            ]
           ],
           "sequentialminus": [
            [
             0,
             "#0d0887"
            ],
            [
             0.1111111111111111,
             "#46039f"
            ],
            [
             0.2222222222222222,
             "#7201a8"
            ],
            [
             0.3333333333333333,
             "#9c179e"
            ],
            [
             0.4444444444444444,
             "#bd3786"
            ],
            [
             0.5555555555555556,
             "#d8576b"
            ],
            [
             0.6666666666666666,
             "#ed7953"
            ],
            [
             0.7777777777777778,
             "#fb9f3a"
            ],
            [
             0.8888888888888888,
             "#fdca26"
            ],
            [
             1,
             "#f0f921"
            ]
           ]
          },
          "colorway": [
           "#636efa",
           "#EF553B",
           "#00cc96",
           "#ab63fa",
           "#FFA15A",
           "#19d3f3",
           "#FF6692",
           "#B6E880",
           "#FF97FF",
           "#FECB52"
          ],
          "font": {
           "color": "#2a3f5f"
          },
          "geo": {
           "bgcolor": "white",
           "lakecolor": "white",
           "landcolor": "#E5ECF6",
           "showlakes": true,
           "showland": true,
           "subunitcolor": "white"
          },
          "hoverlabel": {
           "align": "left"
          },
          "hovermode": "closest",
          "mapbox": {
           "style": "light"
          },
          "paper_bgcolor": "white",
          "plot_bgcolor": "#E5ECF6",
          "polar": {
           "angularaxis": {
            "gridcolor": "white",
            "linecolor": "white",
            "ticks": ""
           },
           "bgcolor": "#E5ECF6",
           "radialaxis": {
            "gridcolor": "white",
            "linecolor": "white",
            "ticks": ""
           }
          },
          "scene": {
           "xaxis": {
            "backgroundcolor": "#E5ECF6",
            "gridcolor": "white",
            "gridwidth": 2,
            "linecolor": "white",
            "showbackground": true,
            "ticks": "",
            "zerolinecolor": "white"
           },
           "yaxis": {
            "backgroundcolor": "#E5ECF6",
            "gridcolor": "white",
            "gridwidth": 2,
            "linecolor": "white",
            "showbackground": true,
            "ticks": "",
            "zerolinecolor": "white"
           },
           "zaxis": {
            "backgroundcolor": "#E5ECF6",
            "gridcolor": "white",
            "gridwidth": 2,
            "linecolor": "white",
            "showbackground": true,
            "ticks": "",
            "zerolinecolor": "white"
           }
          },
          "shapedefaults": {
           "line": {
            "color": "#2a3f5f"
           }
          },
          "ternary": {
           "aaxis": {
            "gridcolor": "white",
            "linecolor": "white",
            "ticks": ""
           },
           "baxis": {
            "gridcolor": "white",
            "linecolor": "white",
            "ticks": ""
           },
           "bgcolor": "#E5ECF6",
           "caxis": {
            "gridcolor": "white",
            "linecolor": "white",
            "ticks": ""
           }
          },
          "title": {
           "x": 0.05
          },
          "xaxis": {
           "automargin": true,
           "gridcolor": "white",
           "linecolor": "white",
           "ticks": "",
           "title": {
            "standoff": 15
           },
           "zerolinecolor": "white",
           "zerolinewidth": 2
          },
          "yaxis": {
           "automargin": true,
           "gridcolor": "white",
           "linecolor": "white",
           "ticks": "",
           "title": {
            "standoff": 15
           },
           "zerolinecolor": "white",
           "zerolinewidth": 2
          }
         }
        },
        "xaxis": {
         "anchor": "y",
         "domain": [
          0,
          1
         ],
         "title": {
          "text": "date_saved"
         }
        },
        "yaxis": {
         "anchor": "x",
         "domain": [
          0,
          1
         ],
         "title": {
          "text": "Added in <4 weeks pct"
         }
        }
       }
      },
      "text/html": [
       "<div>                            <div id=\"3b6b1038-0b66-4cc4-b126-c11078c27cde\" class=\"plotly-graph-div\" style=\"height:525px; width:100%;\"></div>            <script type=\"text/javascript\">                require([\"plotly\"], function(Plotly) {                    window.PLOTLYENV=window.PLOTLYENV || {};                                    if (document.getElementById(\"3b6b1038-0b66-4cc4-b126-c11078c27cde\")) {                    Plotly.newPlot(                        \"3b6b1038-0b66-4cc4-b126-c11078c27cde\",                        [{\"hovertemplate\": \"org_name=North Shore Animal League America<br>date_saved=%{x}<br>Added in <4 weeks pct=%{y}<extra></extra>\", \"legendgroup\": \"North Shore Animal League America\", \"line\": {\"color\": \"#636efa\", \"dash\": \"solid\"}, \"mode\": \"lines\", \"name\": \"North Shore Animal League America\", \"orientation\": \"v\", \"showlegend\": true, \"type\": \"scatter\", \"x\": [\"2021-10-31T00:00:00+00:00\", \"2021-11-01T00:00:00+00:00\", \"2021-11-02T00:00:00+00:00\", \"2021-11-03T00:00:00+00:00\", \"2021-11-04T00:00:00+00:00\", \"2021-11-05T00:00:00+00:00\", \"2021-11-06T00:00:00+00:00\", \"2021-11-07T00:00:00+00:00\"], \"xaxis\": \"x\", \"y\": [55.56, 56.6, 56.6, 56.6, 62.75, 53.33, 55.0, 48.53], \"yaxis\": \"y\"}, {\"hovertemplate\": \"org_name=Rescue Dogs Rock NYC<br>date_saved=%{x}<br>Added in <4 weeks pct=%{y}<extra></extra>\", \"legendgroup\": \"Rescue Dogs Rock NYC\", \"line\": {\"color\": \"#EF553B\", \"dash\": \"solid\"}, \"mode\": \"lines\", \"name\": \"Rescue Dogs Rock NYC\", \"orientation\": \"v\", \"showlegend\": true, \"type\": \"scatter\", \"x\": [\"2021-10-31T00:00:00+00:00\", \"2021-11-01T00:00:00+00:00\", \"2021-11-02T00:00:00+00:00\", \"2021-11-03T00:00:00+00:00\", \"2021-11-04T00:00:00+00:00\", \"2021-11-05T00:00:00+00:00\", \"2021-11-06T00:00:00+00:00\", \"2021-11-07T00:00:00+00:00\"], \"xaxis\": \"x\", \"y\": [74.11, 72.64, 72.28, 70.39, 70.73, 70.94, 73.89, 73.76], \"yaxis\": \"y\"}, {\"hovertemplate\": \"org_name=Ruff House Rescue<br>date_saved=%{x}<br>Added in <4 weeks pct=%{y}<extra></extra>\", \"legendgroup\": \"Ruff House Rescue\", \"line\": {\"color\": \"#00cc96\", \"dash\": \"solid\"}, \"mode\": \"lines\", \"name\": \"Ruff House Rescue\", \"orientation\": \"v\", \"showlegend\": true, \"type\": \"scatter\", \"x\": [\"2021-10-31T00:00:00+00:00\", \"2021-11-01T00:00:00+00:00\", \"2021-11-02T00:00:00+00:00\", \"2021-11-03T00:00:00+00:00\", \"2021-11-04T00:00:00+00:00\", \"2021-11-05T00:00:00+00:00\", \"2021-11-06T00:00:00+00:00\", \"2021-11-07T00:00:00+00:00\"], \"xaxis\": \"x\", \"y\": [50.46, 49.51, 50.0, 50.0, 51.0, 51.0, 52.0, 53.12], \"yaxis\": \"y\"}, {\"hovertemplate\": \"org_name=Second Chance Rescue<br>date_saved=%{x}<br>Added in <4 weeks pct=%{y}<extra></extra>\", \"legendgroup\": \"Second Chance Rescue\", \"line\": {\"color\": \"#ab63fa\", \"dash\": \"solid\"}, \"mode\": \"lines\", \"name\": \"Second Chance Rescue\", \"orientation\": \"v\", \"showlegend\": true, \"type\": \"scatter\", \"x\": [\"2021-10-31T00:00:00+00:00\", \"2021-11-01T00:00:00+00:00\", \"2021-11-02T00:00:00+00:00\", \"2021-11-03T00:00:00+00:00\", \"2021-11-04T00:00:00+00:00\", \"2021-11-05T00:00:00+00:00\", \"2021-11-06T00:00:00+00:00\", \"2021-11-07T00:00:00+00:00\"], \"xaxis\": \"x\", \"y\": [63.3, 64.81, 61.95, 60.53, 63.06, 61.4, 60.87, 66.09], \"yaxis\": \"y\"}, {\"hovertemplate\": \"org_name=Town of Hempstead Animal Shelter<br>date_saved=%{x}<br>Added in <4 weeks pct=%{y}<extra></extra>\", \"legendgroup\": \"Town of Hempstead Animal Shelter\", \"line\": {\"color\": \"#FFA15A\", \"dash\": \"solid\"}, \"mode\": \"lines\", \"name\": \"Town of Hempstead Animal Shelter\", \"orientation\": \"v\", \"showlegend\": true, \"type\": \"scatter\", \"x\": [\"2021-10-31T00:00:00+00:00\", \"2021-11-01T00:00:00+00:00\", \"2021-11-02T00:00:00+00:00\", \"2021-11-03T00:00:00+00:00\", \"2021-11-04T00:00:00+00:00\", \"2021-11-05T00:00:00+00:00\", \"2021-11-06T00:00:00+00:00\", \"2021-11-07T00:00:00+00:00\"], \"xaxis\": \"x\", \"y\": [78.18, 79.63, 79.63, 79.63, 75.44, 74.58, 77.59, 75.0], \"yaxis\": \"y\"}],                        {\"legend\": {\"title\": {\"text\": \"org_name\"}, \"tracegroupgap\": 0}, \"margin\": {\"t\": 60}, \"template\": {\"data\": {\"bar\": [{\"error_x\": {\"color\": \"#2a3f5f\"}, \"error_y\": {\"color\": \"#2a3f5f\"}, \"marker\": {\"line\": {\"color\": \"#E5ECF6\", \"width\": 0.5}}, \"type\": \"bar\"}], \"barpolar\": [{\"marker\": {\"line\": {\"color\": \"#E5ECF6\", \"width\": 0.5}}, \"type\": \"barpolar\"}], \"carpet\": [{\"aaxis\": {\"endlinecolor\": \"#2a3f5f\", \"gridcolor\": \"white\", \"linecolor\": \"white\", \"minorgridcolor\": \"white\", \"startlinecolor\": \"#2a3f5f\"}, \"baxis\": {\"endlinecolor\": \"#2a3f5f\", \"gridcolor\": \"white\", \"linecolor\": \"white\", \"minorgridcolor\": \"white\", \"startlinecolor\": \"#2a3f5f\"}, \"type\": \"carpet\"}], \"choropleth\": [{\"colorbar\": {\"outlinewidth\": 0, \"ticks\": \"\"}, \"type\": \"choropleth\"}], \"contour\": [{\"colorbar\": {\"outlinewidth\": 0, \"ticks\": \"\"}, \"colorscale\": [[0.0, \"#0d0887\"], [0.1111111111111111, \"#46039f\"], [0.2222222222222222, \"#7201a8\"], [0.3333333333333333, \"#9c179e\"], [0.4444444444444444, \"#bd3786\"], [0.5555555555555556, \"#d8576b\"], [0.6666666666666666, \"#ed7953\"], [0.7777777777777778, \"#fb9f3a\"], [0.8888888888888888, \"#fdca26\"], [1.0, \"#f0f921\"]], \"type\": \"contour\"}], \"contourcarpet\": [{\"colorbar\": {\"outlinewidth\": 0, \"ticks\": \"\"}, \"type\": \"contourcarpet\"}], \"heatmap\": [{\"colorbar\": {\"outlinewidth\": 0, \"ticks\": \"\"}, \"colorscale\": [[0.0, \"#0d0887\"], [0.1111111111111111, \"#46039f\"], [0.2222222222222222, \"#7201a8\"], [0.3333333333333333, \"#9c179e\"], [0.4444444444444444, \"#bd3786\"], [0.5555555555555556, \"#d8576b\"], [0.6666666666666666, \"#ed7953\"], [0.7777777777777778, \"#fb9f3a\"], [0.8888888888888888, \"#fdca26\"], [1.0, \"#f0f921\"]], \"type\": \"heatmap\"}], \"heatmapgl\": [{\"colorbar\": {\"outlinewidth\": 0, \"ticks\": \"\"}, \"colorscale\": [[0.0, \"#0d0887\"], [0.1111111111111111, \"#46039f\"], [0.2222222222222222, \"#7201a8\"], [0.3333333333333333, \"#9c179e\"], [0.4444444444444444, \"#bd3786\"], [0.5555555555555556, \"#d8576b\"], [0.6666666666666666, \"#ed7953\"], [0.7777777777777778, \"#fb9f3a\"], [0.8888888888888888, \"#fdca26\"], [1.0, \"#f0f921\"]], \"type\": \"heatmapgl\"}], \"histogram\": [{\"marker\": {\"colorbar\": {\"outlinewidth\": 0, \"ticks\": \"\"}}, \"type\": \"histogram\"}], \"histogram2d\": [{\"colorbar\": {\"outlinewidth\": 0, \"ticks\": \"\"}, \"colorscale\": [[0.0, \"#0d0887\"], [0.1111111111111111, \"#46039f\"], [0.2222222222222222, \"#7201a8\"], [0.3333333333333333, \"#9c179e\"], [0.4444444444444444, \"#bd3786\"], [0.5555555555555556, \"#d8576b\"], [0.6666666666666666, \"#ed7953\"], [0.7777777777777778, \"#fb9f3a\"], [0.8888888888888888, \"#fdca26\"], [1.0, \"#f0f921\"]], \"type\": \"histogram2d\"}], \"histogram2dcontour\": [{\"colorbar\": {\"outlinewidth\": 0, \"ticks\": \"\"}, \"colorscale\": [[0.0, \"#0d0887\"], [0.1111111111111111, \"#46039f\"], [0.2222222222222222, \"#7201a8\"], [0.3333333333333333, \"#9c179e\"], [0.4444444444444444, \"#bd3786\"], [0.5555555555555556, \"#d8576b\"], [0.6666666666666666, \"#ed7953\"], [0.7777777777777778, \"#fb9f3a\"], [0.8888888888888888, \"#fdca26\"], [1.0, \"#f0f921\"]], \"type\": \"histogram2dcontour\"}], \"mesh3d\": [{\"colorbar\": {\"outlinewidth\": 0, \"ticks\": \"\"}, \"type\": \"mesh3d\"}], \"parcoords\": [{\"line\": {\"colorbar\": {\"outlinewidth\": 0, \"ticks\": \"\"}}, \"type\": \"parcoords\"}], \"pie\": [{\"automargin\": true, \"type\": \"pie\"}], \"scatter\": [{\"marker\": {\"colorbar\": {\"outlinewidth\": 0, \"ticks\": \"\"}}, \"type\": \"scatter\"}], \"scatter3d\": [{\"line\": {\"colorbar\": {\"outlinewidth\": 0, \"ticks\": \"\"}}, \"marker\": {\"colorbar\": {\"outlinewidth\": 0, \"ticks\": \"\"}}, \"type\": \"scatter3d\"}], \"scattercarpet\": [{\"marker\": {\"colorbar\": {\"outlinewidth\": 0, \"ticks\": \"\"}}, \"type\": \"scattercarpet\"}], \"scattergeo\": [{\"marker\": {\"colorbar\": {\"outlinewidth\": 0, \"ticks\": \"\"}}, \"type\": \"scattergeo\"}], \"scattergl\": [{\"marker\": {\"colorbar\": {\"outlinewidth\": 0, \"ticks\": \"\"}}, \"type\": \"scattergl\"}], \"scattermapbox\": [{\"marker\": {\"colorbar\": {\"outlinewidth\": 0, \"ticks\": \"\"}}, \"type\": \"scattermapbox\"}], \"scatterpolar\": [{\"marker\": {\"colorbar\": {\"outlinewidth\": 0, \"ticks\": \"\"}}, \"type\": \"scatterpolar\"}], \"scatterpolargl\": [{\"marker\": {\"colorbar\": {\"outlinewidth\": 0, \"ticks\": \"\"}}, \"type\": \"scatterpolargl\"}], \"scatterternary\": [{\"marker\": {\"colorbar\": {\"outlinewidth\": 0, \"ticks\": \"\"}}, \"type\": \"scatterternary\"}], \"surface\": [{\"colorbar\": {\"outlinewidth\": 0, \"ticks\": \"\"}, \"colorscale\": [[0.0, \"#0d0887\"], [0.1111111111111111, \"#46039f\"], [0.2222222222222222, \"#7201a8\"], [0.3333333333333333, \"#9c179e\"], [0.4444444444444444, \"#bd3786\"], [0.5555555555555556, \"#d8576b\"], [0.6666666666666666, \"#ed7953\"], [0.7777777777777778, \"#fb9f3a\"], [0.8888888888888888, \"#fdca26\"], [1.0, \"#f0f921\"]], \"type\": \"surface\"}], \"table\": [{\"cells\": {\"fill\": {\"color\": \"#EBF0F8\"}, \"line\": {\"color\": \"white\"}}, \"header\": {\"fill\": {\"color\": \"#C8D4E3\"}, \"line\": {\"color\": \"white\"}}, \"type\": \"table\"}]}, \"layout\": {\"annotationdefaults\": {\"arrowcolor\": \"#2a3f5f\", \"arrowhead\": 0, \"arrowwidth\": 1}, \"coloraxis\": {\"colorbar\": {\"outlinewidth\": 0, \"ticks\": \"\"}}, \"colorscale\": {\"diverging\": [[0, \"#8e0152\"], [0.1, \"#c51b7d\"], [0.2, \"#de77ae\"], [0.3, \"#f1b6da\"], [0.4, \"#fde0ef\"], [0.5, \"#f7f7f7\"], [0.6, \"#e6f5d0\"], [0.7, \"#b8e186\"], [0.8, \"#7fbc41\"], [0.9, \"#4d9221\"], [1, \"#276419\"]], \"sequential\": [[0.0, \"#0d0887\"], [0.1111111111111111, \"#46039f\"], [0.2222222222222222, \"#7201a8\"], [0.3333333333333333, \"#9c179e\"], [0.4444444444444444, \"#bd3786\"], [0.5555555555555556, \"#d8576b\"], [0.6666666666666666, \"#ed7953\"], [0.7777777777777778, \"#fb9f3a\"], [0.8888888888888888, \"#fdca26\"], [1.0, \"#f0f921\"]], \"sequentialminus\": [[0.0, \"#0d0887\"], [0.1111111111111111, \"#46039f\"], [0.2222222222222222, \"#7201a8\"], [0.3333333333333333, \"#9c179e\"], [0.4444444444444444, \"#bd3786\"], [0.5555555555555556, \"#d8576b\"], [0.6666666666666666, \"#ed7953\"], [0.7777777777777778, \"#fb9f3a\"], [0.8888888888888888, \"#fdca26\"], [1.0, \"#f0f921\"]]}, \"colorway\": [\"#636efa\", \"#EF553B\", \"#00cc96\", \"#ab63fa\", \"#FFA15A\", \"#19d3f3\", \"#FF6692\", \"#B6E880\", \"#FF97FF\", \"#FECB52\"], \"font\": {\"color\": \"#2a3f5f\"}, \"geo\": {\"bgcolor\": \"white\", \"lakecolor\": \"white\", \"landcolor\": \"#E5ECF6\", \"showlakes\": true, \"showland\": true, \"subunitcolor\": \"white\"}, \"hoverlabel\": {\"align\": \"left\"}, \"hovermode\": \"closest\", \"mapbox\": {\"style\": \"light\"}, \"paper_bgcolor\": \"white\", \"plot_bgcolor\": \"#E5ECF6\", \"polar\": {\"angularaxis\": {\"gridcolor\": \"white\", \"linecolor\": \"white\", \"ticks\": \"\"}, \"bgcolor\": \"#E5ECF6\", \"radialaxis\": {\"gridcolor\": \"white\", \"linecolor\": \"white\", \"ticks\": \"\"}}, \"scene\": {\"xaxis\": {\"backgroundcolor\": \"#E5ECF6\", \"gridcolor\": \"white\", \"gridwidth\": 2, \"linecolor\": \"white\", \"showbackground\": true, \"ticks\": \"\", \"zerolinecolor\": \"white\"}, \"yaxis\": {\"backgroundcolor\": \"#E5ECF6\", \"gridcolor\": \"white\", \"gridwidth\": 2, \"linecolor\": \"white\", \"showbackground\": true, \"ticks\": \"\", \"zerolinecolor\": \"white\"}, \"zaxis\": {\"backgroundcolor\": \"#E5ECF6\", \"gridcolor\": \"white\", \"gridwidth\": 2, \"linecolor\": \"white\", \"showbackground\": true, \"ticks\": \"\", \"zerolinecolor\": \"white\"}}, \"shapedefaults\": {\"line\": {\"color\": \"#2a3f5f\"}}, \"ternary\": {\"aaxis\": {\"gridcolor\": \"white\", \"linecolor\": \"white\", \"ticks\": \"\"}, \"baxis\": {\"gridcolor\": \"white\", \"linecolor\": \"white\", \"ticks\": \"\"}, \"bgcolor\": \"#E5ECF6\", \"caxis\": {\"gridcolor\": \"white\", \"linecolor\": \"white\", \"ticks\": \"\"}}, \"title\": {\"x\": 0.05}, \"xaxis\": {\"automargin\": true, \"gridcolor\": \"white\", \"linecolor\": \"white\", \"ticks\": \"\", \"title\": {\"standoff\": 15}, \"zerolinecolor\": \"white\", \"zerolinewidth\": 2}, \"yaxis\": {\"automargin\": true, \"gridcolor\": \"white\", \"linecolor\": \"white\", \"ticks\": \"\", \"title\": {\"standoff\": 15}, \"zerolinecolor\": \"white\", \"zerolinewidth\": 2}}}, \"xaxis\": {\"anchor\": \"y\", \"domain\": [0.0, 1.0], \"title\": {\"text\": \"date_saved\"}}, \"yaxis\": {\"anchor\": \"x\", \"domain\": [0.0, 1.0], \"title\": {\"text\": \"Added in <4 weeks pct\"}}},                        {\"responsive\": true}                    ).then(function(){\n",
       "                            \n",
       "var gd = document.getElementById('3b6b1038-0b66-4cc4-b126-c11078c27cde');\n",
       "var x = new MutationObserver(function (mutations, observer) {{\n",
       "        var display = window.getComputedStyle(gd).display;\n",
       "        if (!display || display === 'none') {{\n",
       "            console.log([gd, 'removed!']);\n",
       "            Plotly.purge(gd);\n",
       "            observer.disconnect();\n",
       "        }}\n",
       "}});\n",
       "\n",
       "// Listen for the removal of the full notebook cells\n",
       "var notebookContainer = gd.closest('#notebook-container');\n",
       "if (notebookContainer) {{\n",
       "    x.observe(notebookContainer, {childList: true});\n",
       "}}\n",
       "\n",
       "// Listen for the clearing of the current output cell\n",
       "var outputEl = gd.closest('.output');\n",
       "if (outputEl) {{\n",
       "    x.observe(outputEl, {childList: true});\n",
       "}}\n",
       "\n",
       "                        })                };                });            </script>        </div>"
      ]
     },
     "metadata": {},
     "output_type": "display_data"
    }
   ],
   "source": [
    "px.line(ns_gb.reset_index(), 'date_saved', 'Added in <4 weeks pct'\n",
    "       , color = 'org_name'\n",
    "#        , title= 'Number of Dogs in Shelter'\n",
    "       )"
   ]
  },
  {
   "cell_type": "code",
   "execution_count": null,
   "metadata": {},
   "outputs": [],
   "source": []
  },
  {
   "cell_type": "code",
   "execution_count": null,
   "metadata": {},
   "outputs": [],
   "source": []
  }
 ],
 "metadata": {
  "kernelspec": {
   "display_name": "Python 3",
   "language": "python",
   "name": "python3"
  },
  "language_info": {
   "codemirror_mode": {
    "name": "ipython",
    "version": 3
   },
   "file_extension": ".py",
   "mimetype": "text/x-python",
   "name": "python",
   "nbconvert_exporter": "python",
   "pygments_lexer": "ipython3",
   "version": "3.6.9"
  },
  "toc": {
   "base_numbering": 1,
   "nav_menu": {},
   "number_sections": true,
   "sideBar": true,
   "skip_h1_title": false,
   "title_cell": "Table of Contents",
   "title_sidebar": "Contents",
   "toc_cell": false,
   "toc_position": {},
   "toc_section_display": true,
   "toc_window_display": false
  }
 },
 "nbformat": 4,
 "nbformat_minor": 4
}
