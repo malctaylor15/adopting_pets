{
 "cells": [
  {
   "cell_type": "code",
   "execution_count": 4,
   "metadata": {},
   "outputs": [],
   "source": [
    "import pandas as pd\n",
    "import sqlite3 \n",
    "import datetime"
   ]
  },
  {
   "cell_type": "code",
   "execution_count": 3,
   "metadata": {},
   "outputs": [
    {
     "name": "stdout",
     "output_type": "stream",
     "text": [
      "[('dog_10475_30mi',), ('cat_10475_30mi',)]\n"
     ]
    }
   ],
   "source": [
    "con = sqlite3.connect('/home/malcolm/petfinder/data/petfinder.db')\n",
    "cursor = con.cursor()\n",
    "cursor.execute(\"SELECT name FROM sqlite_master WHERE type='table';\")\n",
    "print(cursor.fetchall()"
   ]
  },
  {
   "cell_type": "code",
   "execution_count": 5,
   "metadata": {},
   "outputs": [],
   "source": [
    "today = datetime.datetime.now()\n",
    "today_str = str(datetime.datetime.now().date())\n",
    "two_weeks = today - datetime.timedelta(days=7)\n",
    "two_weeks_str = str(two_weeks.date())"
   ]
  },
  {
   "cell_type": "code",
   "execution_count": 6,
   "metadata": {},
   "outputs": [
    {
     "name": "stdout",
     "output_type": "stream",
     "text": [
      "(2284, 50)\n"
     ]
    },
    {
     "data": {
      "text/html": [
       "<div>\n",
       "<style scoped>\n",
       "    .dataframe tbody tr th:only-of-type {\n",
       "        vertical-align: middle;\n",
       "    }\n",
       "\n",
       "    .dataframe tbody tr th {\n",
       "        vertical-align: top;\n",
       "    }\n",
       "\n",
       "    .dataframe thead th {\n",
       "        text-align: right;\n",
       "    }\n",
       "</style>\n",
       "<table border=\"1\" class=\"dataframe\">\n",
       "  <thead>\n",
       "    <tr style=\"text-align: right;\">\n",
       "      <th></th>\n",
       "      <th>id</th>\n",
       "      <th>organization_id</th>\n",
       "      <th>url</th>\n",
       "      <th>type</th>\n",
       "      <th>species</th>\n",
       "      <th>age</th>\n",
       "      <th>gender</th>\n",
       "      <th>size</th>\n",
       "      <th>coat</th>\n",
       "      <th>tags</th>\n",
       "      <th>...</th>\n",
       "      <th>contact.address.address1</th>\n",
       "      <th>contact.address.address2</th>\n",
       "      <th>contact.address.city</th>\n",
       "      <th>contact.address.state</th>\n",
       "      <th>contact.address.postcode</th>\n",
       "      <th>contact.address.country</th>\n",
       "      <th>animal_id</th>\n",
       "      <th>animal_type</th>\n",
       "      <th>primary_photo_cropped</th>\n",
       "      <th>date_saved</th>\n",
       "    </tr>\n",
       "  </thead>\n",
       "  <tbody>\n",
       "    <tr>\n",
       "      <th>0</th>\n",
       "      <td>52224330</td>\n",
       "      <td>NY1445</td>\n",
       "      <td>https://www.petfinder.com/dog/boone-52224330/n...</td>\n",
       "      <td>Dog</td>\n",
       "      <td>Dog</td>\n",
       "      <td>Baby</td>\n",
       "      <td>Male</td>\n",
       "      <td>Medium</td>\n",
       "      <td>None</td>\n",
       "      <td>0                          [High energy, playf...</td>\n",
       "      <td>...</td>\n",
       "      <td>None</td>\n",
       "      <td>None</td>\n",
       "      <td>Fresh Meadows</td>\n",
       "      <td>NY</td>\n",
       "      <td>11365</td>\n",
       "      <td>US</td>\n",
       "      <td>52224330</td>\n",
       "      <td>dog</td>\n",
       "      <td>None</td>\n",
       "      <td>2021-07-03</td>\n",
       "    </tr>\n",
       "    <tr>\n",
       "      <th>1</th>\n",
       "      <td>52223836</td>\n",
       "      <td>NY1445</td>\n",
       "      <td>https://www.petfinder.com/dog/thor-52223836/ny...</td>\n",
       "      <td>Dog</td>\n",
       "      <td>Dog</td>\n",
       "      <td>Young</td>\n",
       "      <td>Male</td>\n",
       "      <td>Small</td>\n",
       "      <td>Long</td>\n",
       "      <td>0                          [High energy, playf...</td>\n",
       "      <td>...</td>\n",
       "      <td>None</td>\n",
       "      <td>None</td>\n",
       "      <td>Fresh Meadows</td>\n",
       "      <td>NY</td>\n",
       "      <td>11365</td>\n",
       "      <td>US</td>\n",
       "      <td>52223836</td>\n",
       "      <td>dog</td>\n",
       "      <td>None</td>\n",
       "      <td>2021-07-03</td>\n",
       "    </tr>\n",
       "    <tr>\n",
       "      <th>2</th>\n",
       "      <td>52223812</td>\n",
       "      <td>NY1445</td>\n",
       "      <td>https://www.petfinder.com/dog/zeus-52223812/ny...</td>\n",
       "      <td>Dog</td>\n",
       "      <td>Dog</td>\n",
       "      <td>Baby</td>\n",
       "      <td>Male</td>\n",
       "      <td>Medium</td>\n",
       "      <td>None</td>\n",
       "      <td>0                          [High energy, playf...</td>\n",
       "      <td>...</td>\n",
       "      <td>None</td>\n",
       "      <td>None</td>\n",
       "      <td>Fresh Meadows</td>\n",
       "      <td>NY</td>\n",
       "      <td>11365</td>\n",
       "      <td>US</td>\n",
       "      <td>52223812</td>\n",
       "      <td>dog</td>\n",
       "      <td>None</td>\n",
       "      <td>2021-07-03</td>\n",
       "    </tr>\n",
       "    <tr>\n",
       "      <th>3</th>\n",
       "      <td>52223615</td>\n",
       "      <td>NY1506</td>\n",
       "      <td>https://www.petfinder.com/dog/scruffy-nyc-5222...</td>\n",
       "      <td>Dog</td>\n",
       "      <td>Dog</td>\n",
       "      <td>Adult</td>\n",
       "      <td>Male</td>\n",
       "      <td>Large</td>\n",
       "      <td>None</td>\n",
       "      <td>0                          [High energy, playf...</td>\n",
       "      <td>...</td>\n",
       "      <td>None</td>\n",
       "      <td>None</td>\n",
       "      <td>New York</td>\n",
       "      <td>NY</td>\n",
       "      <td>10013</td>\n",
       "      <td>US</td>\n",
       "      <td>52223615</td>\n",
       "      <td>dog</td>\n",
       "      <td>None</td>\n",
       "      <td>2021-07-03</td>\n",
       "    </tr>\n",
       "    <tr>\n",
       "      <th>4</th>\n",
       "      <td>52223614</td>\n",
       "      <td>NY1506</td>\n",
       "      <td>https://www.petfinder.com/dog/sena-atl-5222361...</td>\n",
       "      <td>Dog</td>\n",
       "      <td>Dog</td>\n",
       "      <td>Baby</td>\n",
       "      <td>Female</td>\n",
       "      <td>Small</td>\n",
       "      <td>None</td>\n",
       "      <td>0                          [High energy, playf...</td>\n",
       "      <td>...</td>\n",
       "      <td>None</td>\n",
       "      <td>None</td>\n",
       "      <td>New York</td>\n",
       "      <td>NY</td>\n",
       "      <td>10013</td>\n",
       "      <td>US</td>\n",
       "      <td>52223614</td>\n",
       "      <td>dog</td>\n",
       "      <td>None</td>\n",
       "      <td>2021-07-03</td>\n",
       "    </tr>\n",
       "  </tbody>\n",
       "</table>\n",
       "<p>5 rows × 50 columns</p>\n",
       "</div>"
      ],
      "text/plain": [
       "         id organization_id  \\\n",
       "0  52224330          NY1445   \n",
       "1  52223836          NY1445   \n",
       "2  52223812          NY1445   \n",
       "3  52223615          NY1506   \n",
       "4  52223614          NY1506   \n",
       "\n",
       "                                                 url type species    age  \\\n",
       "0  https://www.petfinder.com/dog/boone-52224330/n...  Dog     Dog   Baby   \n",
       "1  https://www.petfinder.com/dog/thor-52223836/ny...  Dog     Dog  Young   \n",
       "2  https://www.petfinder.com/dog/zeus-52223812/ny...  Dog     Dog   Baby   \n",
       "3  https://www.petfinder.com/dog/scruffy-nyc-5222...  Dog     Dog  Adult   \n",
       "4  https://www.petfinder.com/dog/sena-atl-5222361...  Dog     Dog   Baby   \n",
       "\n",
       "   gender    size  coat                                               tags  \\\n",
       "0    Male  Medium  None  0                          [High energy, playf...   \n",
       "1    Male   Small  Long  0                          [High energy, playf...   \n",
       "2    Male  Medium  None  0                          [High energy, playf...   \n",
       "3    Male   Large  None  0                          [High energy, playf...   \n",
       "4  Female   Small  None  0                          [High energy, playf...   \n",
       "\n",
       "   ... contact.address.address1 contact.address.address2 contact.address.city  \\\n",
       "0  ...                     None                     None        Fresh Meadows   \n",
       "1  ...                     None                     None        Fresh Meadows   \n",
       "2  ...                     None                     None        Fresh Meadows   \n",
       "3  ...                     None                     None             New York   \n",
       "4  ...                     None                     None             New York   \n",
       "\n",
       "  contact.address.state contact.address.postcode contact.address.country  \\\n",
       "0                    NY                    11365                      US   \n",
       "1                    NY                    11365                      US   \n",
       "2                    NY                    11365                      US   \n",
       "3                    NY                    10013                      US   \n",
       "4                    NY                    10013                      US   \n",
       "\n",
       "  animal_id animal_type  primary_photo_cropped  date_saved  \n",
       "0  52224330         dog                   None  2021-07-03  \n",
       "1  52223836         dog                   None  2021-07-03  \n",
       "2  52223812         dog                   None  2021-07-03  \n",
       "3  52223615         dog                   None  2021-07-03  \n",
       "4  52223614         dog                   None  2021-07-03  \n",
       "\n",
       "[5 rows x 50 columns]"
      ]
     },
     "execution_count": 6,
     "metadata": {},
     "output_type": "execute_result"
    }
   ],
   "source": [
    "data = pd.read_sql(f\"\"\"\n",
    "select * from dog_10475_30mi\n",
    "where date_saved between '{two_weeks_str}' and '{today_str}'\n",
    "\"\"\" , con)\n",
    "print(data.shape)\n",
    "data.head()"
   ]
  },
  {
   "cell_type": "code",
   "execution_count": 7,
   "metadata": {},
   "outputs": [
    {
     "data": {
      "text/plain": [
       "Index(['id', 'organization_id', 'url', 'type', 'species', 'age', 'gender',\n",
       "       'size', 'coat', 'tags', 'name', 'description', 'organization_animal_id',\n",
       "       'photos', 'videos', 'status', 'status_changed_at', 'published_at',\n",
       "       'distance', 'breeds.primary', 'breeds.secondary', 'breeds.mixed',\n",
       "       'breeds.unknown', 'colors.primary', 'colors.secondary',\n",
       "       'colors.tertiary', 'attributes.spayed_neutered',\n",
       "       'attributes.house_trained', 'attributes.declawed',\n",
       "       'attributes.special_needs', 'attributes.shots_current',\n",
       "       'environment.children', 'environment.dogs', 'environment.cats',\n",
       "       'primary_photo_cropped.small', 'primary_photo_cropped.medium',\n",
       "       'primary_photo_cropped.large', 'primary_photo_cropped.full',\n",
       "       'contact.email', 'contact.phone', 'contact.address.address1',\n",
       "       'contact.address.address2', 'contact.address.city',\n",
       "       'contact.address.state', 'contact.address.postcode',\n",
       "       'contact.address.country', 'animal_id', 'animal_type',\n",
       "       'primary_photo_cropped', 'date_saved'],\n",
       "      dtype='object')"
      ]
     },
     "execution_count": 7,
     "metadata": {},
     "output_type": "execute_result"
    }
   ],
   "source": [
    "data.columns"
   ]
  },
  {
   "cell_type": "code",
   "execution_count": 8,
   "metadata": {},
   "outputs": [
    {
     "data": {
      "text/plain": [
       "adoptable    2284\n",
       "Name: status, dtype: int64"
      ]
     },
     "execution_count": 8,
     "metadata": {},
     "output_type": "execute_result"
    }
   ],
   "source": [
    "data['status'].value_counts()"
   ]
  },
  {
   "cell_type": "code",
   "execution_count": 9,
   "metadata": {},
   "outputs": [
    {
     "data": {
      "text/plain": [
       "(260, 50)"
      ]
     },
     "execution_count": 9,
     "metadata": {},
     "output_type": "execute_result"
    }
   ],
   "source": [
    "status_change = data[data['status_changed_at'] != data['published_at']]\n",
    "status_change.shape"
   ]
  },
  {
   "cell_type": "code",
   "execution_count": 10,
   "metadata": {},
   "outputs": [
    {
     "data": {
      "text/plain": [
       "White / Cream                       329\n",
       "Yellow / Tan / Blond / Fawn         101\n",
       "Brown / Chocolate                    44\n",
       "Black                                41\n",
       "Red / Chestnut / Orange              23\n",
       "Brindle                              11\n",
       "Gray / Blue / Silver                 11\n",
       "Golden                               10\n",
       "Tricolor (Brown, Black, & White)      9\n",
       "Bicolor                               6\n",
       "Apricot / Beige                       4\n",
       "Sable                                 3\n",
       "Harlequin                             1\n",
       "Merle (Blue)                          1\n",
       "Merle (Red)                           1\n",
       "Name: colors.secondary, dtype: int64"
      ]
     },
     "execution_count": 10,
     "metadata": {},
     "output_type": "execute_result"
    }
   ],
   "source": [
    "data['colors.secondary'].value_counts()"
   ]
  },
  {
   "cell_type": "code",
   "execution_count": null,
   "metadata": {},
   "outputs": [],
   "source": []
  }
 ],
 "metadata": {
  "kernelspec": {
   "display_name": "Python 3",
   "language": "python",
   "name": "python3"
  },
  "language_info": {
   "codemirror_mode": {
    "name": "ipython",
    "version": 3
   },
   "file_extension": ".py",
   "mimetype": "text/x-python",
   "name": "python",
   "nbconvert_exporter": "python",
   "pygments_lexer": "ipython3",
   "version": "3.6.9"
  },
  "toc": {
   "base_numbering": 1,
   "nav_menu": {},
   "number_sections": true,
   "sideBar": true,
   "skip_h1_title": false,
   "title_cell": "Table of Contents",
   "title_sidebar": "Contents",
   "toc_cell": false,
   "toc_position": {},
   "toc_section_display": true,
   "toc_window_display": false
  }
 },
 "nbformat": 4,
 "nbformat_minor": 4
}
