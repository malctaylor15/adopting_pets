{
 "cells": [
  {
   "cell_type": "code",
   "execution_count": 1,
   "metadata": {},
   "outputs": [],
   "source": [
    "import sys \n",
    "import os\n",
    "os.chdir('/home/malcolm')\n",
    "sys.path.append('/home/malcolm/EmailSender/')\n",
    "sys.path.append('/home/malcolm/petfinder/')\n",
    "from EmailSender.EmailSender import EmailSender as ES\n",
    "from pf_scripts.petfinder_eda import PetFinderEda\n",
    "import datetime\n",
    "\n",
    "today = datetime.datetime.now().date()\n"
   ]
  },
  {
   "cell_type": "code",
   "execution_count": 2,
   "metadata": {},
   "outputs": [
    {
     "name": "stderr",
     "output_type": "stream",
     "text": [
      "2022-01-01 14:53:07,677 :: INFO :: [('dog_10475_30mi',), ('cat_10475_30mi',), ('Organizations',), ('Dog_Image_Status',)]\n",
      "2022-01-01 14:53:56,968 :: INFO :: Number of datapoints in data_raw: 17533\n",
      "2022-01-01 14:53:56,972 :: INFO :: Number of data points in latest day: 2155\n",
      "2022-01-01 14:53:56,991 :: INFO :: NumExpr defaulting to 1 threads.\n",
      "2022-01-01 14:53:57,000 :: INFO :: Top n dog orgs: ['Rescue Dogs Rock NYC', 'Second Chance Rescue', 'Ruff House Rescue', 'Community Cats Inc.']\n",
      "2022-01-01 14:54:18,878 :: INFO :: Dog days in shelter df shape: (2599, 54)\n"
     ]
    },
    {
     "name": "stdout",
     "output_type": "stream",
     "text": [
      "Success\n"
     ]
    }
   ],
   "source": [
    "try: \n",
    "\n",
    "    pf_eda = PetFinderEda()\n",
    "    pf_eda.execute()\n",
    "    \n",
    "    html_dict = {k:v.to_html() for k, v in pf_eda.output_dfs.items() }\n",
    "    body_html = f\"\"\"\n",
    "    This email contains a report of the <b>dogs</b> listed on Petfinder.com from {pf_eda.two_weeks_str} to {pf_eda.today_str} \n",
    "    for all locations 30 miles from 10475. \n",
    "\n",
    "    It contains summary information about the Number of dogs in shelters as of {pf_eda.today_str}, top organizations\n",
    "    , dogs who have been in shelters the longest. \n",
    "    <br>\n",
    "    <br>\n",
    "    <b>Adoptions</b>\n",
    "    {html_dict['New Old Existing']}\n",
    "    <br>\n",
    "    <br>\n",
    "    <b>Time in Shelter </b>\n",
    "    {html_dict['Long Ad Posted DF']}\n",
    "    <br>\n",
    "    <br>\n",
    "    <b>Shelters with Most Dogs </b> \n",
    "    {html_dict['Top Orgs']}\n",
    "    <br>\n",
    "    <br>\n",
    "    <b>Summary of Dogs in Shelter </b>\n",
    "    {html_dict['All Summaries']}\n",
    "    <br>\n",
    "    <br>\n",
    "    <b>Dogs in Image</b> \n",
    "    {html_dict['Dogs in Imgs']}\n",
    "\n",
    "    \"\"\"\n",
    "    \n",
    "    message_params = {}\n",
    "    message_params['Subject'] = f\"Petfinder EDA {str(today)}\"\n",
    "    message_params['Body'] = body_html\n",
    "    message_params['Image_paths'] = pf_eda.image_paths_to_send    \n",
    "    \n",
    "    email_sender = ES(**message_params)\n",
    "    email_sender.execute()\n",
    "    print(\"Success\")\n",
    "except Exception as e:\n",
    "    error_email = {}\n",
    "    error_email['Subject'] = f\"Error in Petfinder for {str(today)}\"\n",
    "    error_email['Body'] = \"Error in Petfinder: Error message <br><br>\" + str(e)\n",
    "    \n",
    "    email_sender = ES(**error_email)\n",
    "    email_sender.execute()\n",
    "    print(\"Failed\")"
   ]
  },
  {
   "cell_type": "code",
   "execution_count": null,
   "metadata": {},
   "outputs": [],
   "source": []
  },
  {
   "cell_type": "code",
   "execution_count": null,
   "metadata": {},
   "outputs": [],
   "source": []
  }
 ],
 "metadata": {
  "kernelspec": {
   "display_name": "Python 3",
   "language": "python",
   "name": "python3"
  },
  "language_info": {
   "codemirror_mode": {
    "name": "ipython",
    "version": 3
   },
   "file_extension": ".py",
   "mimetype": "text/x-python",
   "name": "python",
   "nbconvert_exporter": "python",
   "pygments_lexer": "ipython3",
   "version": "3.6.9"
  },
  "toc": {
   "base_numbering": 1,
   "nav_menu": {},
   "number_sections": true,
   "sideBar": true,
   "skip_h1_title": false,
   "title_cell": "Table of Contents",
   "title_sidebar": "Contents",
   "toc_cell": false,
   "toc_position": {},
   "toc_section_display": true,
   "toc_window_display": false
  }
 },
 "nbformat": 4,
 "nbformat_minor": 4
}
