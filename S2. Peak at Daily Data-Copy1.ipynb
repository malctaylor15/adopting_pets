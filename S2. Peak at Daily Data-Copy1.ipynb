{
 "cells": [
  {
   "cell_type": "code",
   "execution_count": 1,
   "metadata": {},
   "outputs": [],
   "source": [
    "import pandas as pd\n",
    "import sqlite3 \n",
    "import pytz\n",
    "import datetime\n",
    "import logging\n",
    "import os \n",
    "import plotly.express as px \n",
    "import numpy as np \n",
    "import sys \n",
    "tz = pytz.timezone('UTC')\n",
    "pd.set_option(\"display.max_columns\", 100)\n",
    "pd.set_option(\"display.max_colwidth\", 200)\n",
    "pd.options.mode.chained_assignment = None  # default='warn'\n",
    "%load_ext autoreload\n",
    "%autoreload 2"
   ]
  },
  {
   "cell_type": "code",
   "execution_count": null,
   "metadata": {},
   "outputs": [],
   "source": []
  },
  {
   "cell_type": "code",
   "execution_count": 2,
   "metadata": {},
   "outputs": [],
   "source": [
    "logger = logging.getLogger(__name__)\n",
    "logging.basicConfig(level=logging.INFO, format='%(asctime)s :: %(levelname)s :: %(message)s')\n"
   ]
  },
  {
   "cell_type": "code",
   "execution_count": 3,
   "metadata": {},
   "outputs": [],
   "source": [
    "def get_cnts_pcts(series):\n",
    "    cnts = series.value_counts()\n",
    "    pcts = 100*series.value_counts(normalize=True).round(5)\n",
    "    combo = pd.concat({\"Count\":cnts, \"Percent\": pcts}, axis=1)\n",
    "    return(combo)\n"
   ]
  },
  {
   "cell_type": "code",
   "execution_count": 4,
   "metadata": {
    "code_folding": []
   },
   "outputs": [],
   "source": [
    "def summarize_dog_pop(df):\n",
    "    \n",
    "    out = {}\n",
    "    out['Count'] = df.shape[0]\n",
    "    \n",
    "    def parse_cnts_pcts1(df, desc):\n",
    "        try:\n",
    "            dict1 = {f'Top {desc} Name': df.iloc[0].name, \n",
    "                     f'Top {desc} %' : df.iloc[0]['Percent'], \n",
    "                    }\n",
    "        except IndexError:\n",
    "            dict1 = {f'Top {desc} Name': None, \n",
    "                     f'Top {desc} %' : None, \n",
    "                    }\n",
    "        return(dict1)\n",
    "    \n",
    "    def parse_cnts_pcts2(df, desc):\n",
    "        try:\n",
    "            dict1 = {f'2nd {desc} Name': df.iloc[1].name, \n",
    "                     f'2nd {desc} %' : df.iloc[1]['Percent'], \n",
    "                }\n",
    "        except IndexError:\n",
    "            dict1 = {f'2nd {desc} Name': None, \n",
    "                     f'2nd {desc} %' : None, \n",
    "                }\n",
    "        return(dict1)\n",
    "    \n",
    "    breeds = get_cnts_pcts(df['breeds.primary'])\n",
    "    breeds_dict1 = parse_cnts_pcts1(breeds, 'Breed')\n",
    "    breeds_dict2 = parse_cnts_pcts2(breeds, 'Breed')\n",
    "\n",
    "    age = get_cnts_pcts(df['age'])\n",
    "    age_dict1 = parse_cnts_pcts1(age, 'Age')\n",
    "    age_dict2 = parse_cnts_pcts2(age, 'Age')\n",
    "    \n",
    "    color = get_cnts_pcts(df['colors.primary'])\n",
    "    color_dict1 = parse_cnts_pcts1(color, 'Color')\n",
    "    color_dict2 = parse_cnts_pcts2(color, 'Color')\n",
    "    \n",
    "    \n",
    "    children = get_cnts_pcts(df['environment.children'])\n",
    "    children_dict1 = parse_cnts_pcts1(children, 'Children')\n",
    "    children_dict2 = parse_cnts_pcts2(children, 'Children')\n",
    "    \n",
    "    housetrained = get_cnts_pcts(df['attributes.house_trained'])\n",
    "    housetrained_dict1 = parse_cnts_pcts1(housetrained, 'House Trained')\n",
    "    housetrained_dict2 = parse_cnts_pcts2(housetrained, 'House Trained')\n",
    "    \n",
    "    dog_friendly = get_cnts_pcts(df['environment.dogs'])\n",
    "    dog_friendly_dict1 = parse_cnts_pcts1(dog_friendly, 'Dog Friendly')\n",
    "    dog_friendly_dict2 = parse_cnts_pcts2(dog_friendly, 'Dog Friendly')\n",
    "    \n",
    "    out.update(breeds_dict1)\n",
    "    out.update(age_dict1)\n",
    "    out.update(color_dict1)\n",
    "    out.update(children_dict1)\n",
    "    out.update(housetrained_dict1)\n",
    "    out.update(dog_friendly_dict1)\n",
    "    out.update(breeds_dict2)\n",
    "    \n",
    "    out_series = pd.Series(out)\n",
    "    return(out_series)"
   ]
  },
  {
   "cell_type": "code",
   "execution_count": 5,
   "metadata": {
    "code_folding": []
   },
   "outputs": [],
   "source": [
    "def dog_days_gb_func(df, adopt_date=(datetime.datetime.now() - datetime.timedelta(days=1)).date()):\n",
    "    \n",
    "    df = df.sort_values('date_saved')\n",
    "    \n",
    "    out = {}\n",
    "    out['Days ad posted'] = (df['date_saved'].max() - df['published_at'].min()).days\n",
    "    adoptable_days = df[df['status'] == 'adoptable']\n",
    "    out['Last Adoptable Day'] = adoptable_days['date_saved'].max()\n",
    "    out['Adopted (last date)'] = df.iloc[-1]['date_saved'] >= adopt_date \n",
    "    \n",
    "    out_series = pd.Series(out)\n",
    "    last_record = df.iloc[0]\n",
    "    out_all = pd.concat([out_series, last_record]) \n",
    "    return(out_all)"
   ]
  },
  {
   "cell_type": "code",
   "execution_count": 6,
   "metadata": {
    "code_folding": []
   },
   "outputs": [],
   "source": [
    "def top_org_gb_func(df):\n",
    "    out = {}\n",
    "    out['Count'] = df.shape[0]\n",
    "    out['Unique dogs'] = df['id'].nunique()\n",
    "    \n",
    "    out['Avg Days in Shelter'] = df['Days bw saved and published'].mean().round(1)\n",
    "    out['Lower 20% days in Shelter'] = np.quantile(df['Days bw saved and published'], 0.2)\n",
    "    out['Upper 20% days in Shelter'] = np.quantile(df['Days bw saved and published'], 0.8)\n",
    "\n",
    "    out['Added last week sum'] = df['Added in last week'].sum()\n",
    "    out['Added last week pct'] = np.round(100* out['Added last week sum']/out['Count'], 2)\n",
    "    \n",
    "    out['Added in >4 weeks sum'] = df['Added in >4 weeks'].sum()\n",
    "    out['Added in >4 weeks pct'] = np.round(100* out['Added in >4 weeks sum']/out['Count'], 2)\n",
    "    \n",
    "    out_series = pd.Series(out)\n",
    "    return(out_series)"
   ]
  },
  {
   "cell_type": "code",
   "execution_count": 9,
   "metadata": {
    "code_folding": [
     15,
     21
    ]
   },
   "outputs": [],
   "source": [
    "class PetFinderEda():\n",
    "    \n",
    "    def __init__(self, **kwargs):\n",
    "        self.db_location = '/home/malcolm/petfinder/data/petfinder.db'\n",
    "        self.today = datetime.datetime.now() - datetime.timedelta(days=1)\n",
    "        self.today_str = str(datetime.datetime.now().date())\n",
    "        self.two_weeks = self.today - datetime.timedelta(days=7)\n",
    "        self.two_weeks_str = str(self.two_weeks.date())    \n",
    "        self.debug = True\n",
    "        self.image_save_folder = f'/home/malcolm/petfinder/data/result_images/{self.today_str}/'\n",
    "        # Find folder with dog pics \n",
    "        folder_base = '/home/malcolm/sym_data_storage/Petfinder/Dogs/'\n",
    "        folder_loc = datetime.datetime.now().strftime('%Y-%-m')\n",
    "        self.dogs_pic_folder = folder_base + folder_loc +'/'\n",
    "        \n",
    "        \n",
    "        self.metrics = {}\n",
    "        self.output_dfs = {}\n",
    "        self.__dict__.update(**kwargs)\n",
    "        \n",
    "        os.makedirs(self.image_save_folder, exist_ok=True)\n",
    "        pass\n",
    "    \n",
    "    def create_con(self):\n",
    "        self.con = sqlite3.connect(self.db_location)\n",
    "        self.cursor = self.con.cursor()\n",
    "        self.cursor.execute(\"SELECT name FROM sqlite_master WHERE type='table';\")\n",
    "        logger.info(self.cursor.fetchall())\n",
    "        \n",
    "    def get_new_old_existing_dogs(self):\n",
    "\n",
    "        sql2 = f\"\"\"\n",
    "\n",
    "        with two_weeks_dogs as (\n",
    "        select id as id_old\n",
    "        , status as status_old\n",
    "        , status_changed_at as status_change_old\n",
    "        , date_saved as date_saved_old\n",
    "        from dog_10475_30mi\n",
    "        where date_saved = '{self.two_weeks_str}'\n",
    "        ) , \n",
    "        today_dogs as (\n",
    "        select id as id_new\n",
    "        , status as status_new\n",
    "        , status_changed_at as status_change_new\n",
    "        , date_saved as date_saved_new\n",
    "        from dog_10475_30mi\n",
    "        where date_saved = '{self.today_str}'\n",
    "        )\n",
    "\n",
    "\n",
    "        select count(*)\n",
    "        , count(distinct id_new) as unique_new_dogs\n",
    "        , count(distinct id_old) as unique_old_dogs\n",
    "        , sum(case when id_old is null then 1 else 0 end) as new_dogs -- Old doesn't have key so dog must be new\n",
    "        , sum(case when id_new is null then 1 else 0 end) as old_dogs -- New doesn't have key so dog must be old \n",
    "        , sum(case when id_old is not null and id_new is not null then 1 else 0 end) as still_there_dogs\n",
    "        , min(date_saved_old) as start_date\n",
    "        , max(date_saved_new) as end_date\n",
    "\n",
    "        from (\n",
    "        SELECT id_new, status_new, status_change_new, date_saved_new\n",
    "        , id_old, status_old, status_change_old, date_saved_old\n",
    "        from two_weeks_dogs\n",
    "        left join today_dogs\n",
    "        on two_weeks_dogs.id_old = today_dogs.id_new\n",
    "\n",
    "        UNION \n",
    "\n",
    "        SELECT id_new, status_new, status_change_new, date_saved_new\n",
    "        , id_old, status_old, status_change_old, date_saved_old\n",
    "        from today_dogs \n",
    "        left join two_weeks_dogs\n",
    "        on today_dogs.id_new = two_weeks_dogs.id_old\n",
    "        )x\n",
    "\n",
    "        \"\"\"\n",
    "\n",
    "        self.new_old_existing = pd.read_sql(sql2, self.con)\n",
    "        self.output_dfs['New Old Existing'] = self.new_old_existing\n",
    "        \n",
    "    def load_raw_data(self):\n",
    "        self.data_raw = pd.read_sql(f\"\"\"\n",
    "        select dogs.*, orgs.name as org_name \n",
    "        from dog_10475_30mi dogs\n",
    "        left join Organizations orgs\n",
    "        on dogs.organization_id = orgs.id\n",
    "        where date_saved between '{self.two_weeks_str}' and '{self.today_str}'\n",
    "        \"\"\" , self.con)\n",
    "        self.data_raw['published_at'] = pd.to_datetime(self.data_raw['published_at'])\n",
    "        self.data_raw['status_changed_at'] = pd.to_datetime(self.data_raw['status_changed_at'])\n",
    "        \n",
    "        self.data_raw['date_saved'] = pd.to_datetime(self.data_raw['date_saved'], utc=True)\n",
    "        self.latest_day_df = self.data_raw[self.data_raw['date_saved'] == self.data_raw['date_saved'].max()]\n",
    "        \n",
    "        logger.info(\"Number of datapoints in data_raw: \" + str(self.data_raw.shape[0]))\n",
    "        logger.info(\"Number of data points in latest day: \" + str(self.latest_day_df.shape[0]))\n",
    "        \n",
    "    def get_top_orgs(self):\n",
    "        org_value_counts = get_cnts_pcts(self.latest_day_df['org_name'])\n",
    "        self.top_n_dog_orgs = org_value_counts.sort_values('Count', ascending=False).iloc[:4].index.tolist()\n",
    "        logger.info(\"Top n dog orgs: \" + str(self.top_n_dog_orgs))\n",
    "        self.output_dfs['Top Orgs'] = org_value_counts.iloc[:4]\n",
    "             \n",
    "    def get_dog_days_gb(self):\n",
    "        self.dog_gb = self.data_raw.groupby('id').apply(dog_days_gb_func)\n",
    "        self.adopted_df = self.dog_gb[self.dog_gb['Adopted (last date)'] == False]\n",
    "        logger.info(\"Dog days in shelter df shape: \" + str(self.dog_gb.shape))\n",
    "        # Analysis \n",
    "        long_ad_posted_dogs = self.dog_gb[self.dog_gb['Days ad posted'] >= 180]\n",
    "        long_ad_posted_age_cnts = get_cnts_pcts(long_ad_posted_dogs['age'])\\\n",
    "            .rename({'Count': '6 Mo+ Ad Count', \n",
    "                    'Percent': '6 Mo+ Ad Pct'}, axis=1 )\n",
    "        age_cnts = get_cnts_pcts(self.dog_gb['age'])\\\n",
    "            .rename({'Count': 'Full Pop Count',\n",
    "                      'Percent': 'Full Pop Pct'}, axis= 1)\n",
    "        long_ad_posted_age_cnts = pd.merge(long_ad_posted_age_cnts, age_cnts, left_index=True, right_index=True)\n",
    "        long_ad_posted_age_cnts['Sample Ratio'] = (long_ad_posted_age_cnts['6 Mo+ Ad Pct']/age_cnts['Full Pop Pct']).round(2)\n",
    "        self.long_ad_posted_age_cnts = long_ad_posted_age_cnts\n",
    "        self.output_dfs['Long Ad Posted DF'] = self.long_ad_posted_age_cnts\n",
    "        \n",
    "    def summarize_latest_day(self):\n",
    "        all_summaries = {}\n",
    "        all_summaries['Latest Day'] = summarize_dog_pop(self.latest_day_df)\n",
    "        all_summaries['Adopted'] = summarize_dog_pop(self.adopted_df)\n",
    "        for org in self.top_n_dog_orgs:\n",
    "            all_summaries[org] = summarize_dog_pop(self.latest_day_df[self.latest_day_df['org_name'] == org])\n",
    "        self.all_summaries_df = pd.concat(all_summaries, axis=1)\n",
    "        self.output_dfs['All Summaries'] = self.all_summaries_df\n",
    "\n",
    "    def create_top_orgs_over_time_dfs(self):\n",
    "        top_orgs = self.output_dfs['Top Orgs'].index.tolist()\n",
    "        ns_raw = self.data_raw[self.data_raw['org_name'].isin(top_orgs)]\n",
    "        ns_raw['Days bw saved and published'] = (ns_raw['date_saved'] - ns_raw['published_at']).dt.days\n",
    "        ns_raw['Added in last week'] = ns_raw['Days bw saved and published'] <= 7\n",
    "        ns_raw['Added in >4 weeks']  = ns_raw['Days bw saved and published'] >= 28\n",
    "        self.top_orgs_raw = ns_raw\n",
    "        self.top_orgs_gb_df = self.top_orgs_raw.groupby(['date_saved', 'org_name']).apply(top_org_gb_func)\n",
    "        logger.debug(\"Finished Top Orgs over Time\")\n",
    "        \n",
    "    def create_top_org_plots(self):\n",
    "        # Shuffle the dataframe  \n",
    "        cols = ['Avg Days in Shelter', 'Upper 20% days in Shelter']\n",
    "        days_in_regroup = pd.concat({x : self.top_orgs_gb_df[x] for x in cols})\\\n",
    "            .reset_index()\\\n",
    "            .rename({'level_0':'Days Measure', \n",
    "                    0 : \"# of Days\"}, axis=1)\n",
    "        \n",
    "        # Create ands save first plot \n",
    "        n_days_per_org_img = px.line(days_in_regroup, 'date_saved', '# of Days'\n",
    "            , color='org_name'\n",
    "            , line_dash='Days Measure'\n",
    "            , title='Number of Days (average, top decile) in Shelter over Time'                         \n",
    "            )\n",
    "        n_days_per_org_img.write_image(self.image_save_folder + f'N Days per Dog.png')\n",
    "        \n",
    "        # Create and save second plot \n",
    "        n_dogs_in_shelter_img = px.line(self.top_orgs_gb_df.reset_index(), 'date_saved', 'Unique dogs'\n",
    "           , color = 'org_name'\n",
    "           , title= 'Number of Dogs in Shelter')\n",
    "        n_dogs_in_shelter_img.write_image(self.image_save_folder + 'N Dogs in Shelters.png')\n",
    "        \n",
    "        # Create and save third plot \n",
    "        last_week_dogs_img = px.line(self.top_orgs_gb_df.reset_index(), 'date_saved', 'Added last week pct'\n",
    "           , color = 'org_name'\n",
    "           , title= 'Number of Dogs in Shelter <7 days'\n",
    "           )\n",
    "        last_week_dogs_img.write_image(self.image_save_folder + 'Added Last Week Dogs.png')\n",
    "      \n",
    "        # Create and save third plot \n",
    "        dogs_still_there_img = px.line(self.top_orgs_gb_df.reset_index(), 'date_saved', 'Added in >4 weeks pct'\n",
    "           , color = 'org_name'\n",
    "           , title= 'Number of Dogs in Shelter >4 weeks'\n",
    "           )\n",
    "        dogs_still_there_img.write_image(self.image_save_folder + 'Still There Dogs.png')\n",
    "        logger.debug('Finished Creating Images')\n",
    "        \n",
    "    def get_pics_to_send(self):\n",
    "        # 4 pictures of dogs to send \n",
    "        total_dog_pics = os.listdir(self.dogs_pic_folder)\n",
    "        pics_to_send = np.random.choice([self.dogs_pic_folder + x for x in total_dog_pics], size = 4)\n",
    "    \n",
    "        # Charts \n",
    "        charts = os.listdir(self.image_save_folder)\n",
    "        self.image_paths_to_send = [self.image_save_folder + x for x in charts]\n",
    "        self.image_paths_to_send.extend(pics_to_send.tolist())\n",
    "        \n",
    "    def cleanup(self):\n",
    "        self.con.commit()\n",
    "        self.con.close()\n",
    "        logger.debug('Finished Cleanup ')\n",
    "        \n",
    "    def execute(self):\n",
    "        self.create_con()\n",
    "        self.get_new_old_existing_dogs()\n",
    "        self.load_raw_data()\n",
    "        self.get_top_orgs()\n",
    "        self.get_dog_days_gb()\n",
    "        self.summarize_latest_day()\n",
    "        self.create_top_orgs_over_time_dfs()\n",
    "        self.create_top_org_plots()\n",
    "        self.get_pics_to_send()\n",
    "        self.cleanup()\n",
    "        "
   ]
  },
  {
   "cell_type": "code",
   "execution_count": 10,
   "metadata": {},
   "outputs": [
    {
     "name": "stderr",
     "output_type": "stream",
     "text": [
      "2021-11-21 14:51:22,129 :: INFO :: [('dog_10475_30mi',), ('cat_10475_30mi',), ('Organizations',), ('Dog_Image_Status',)]\n",
      "2021-11-21 14:52:02,798 :: INFO :: Number of datapoints in data_raw: 19171\n",
      "2021-11-21 14:52:02,805 :: INFO :: Number of data points in latest day: 2375\n",
      "2021-11-21 14:52:02,822 :: INFO :: Top n dog orgs: ['Rescue Dogs Rock NYC', 'Second Chance Rescue', 'Ruff House Rescue', 'Town of Hempstead Animal Shelter']\n",
      "2021-11-21 14:52:30,715 :: INFO :: Dog days in shelter df shape: (2900, 54)\n"
     ]
    }
   ],
   "source": [
    "pf_eda = PetFinderEda()\n",
    "pf_eda.execute()"
   ]
  },
  {
   "cell_type": "code",
   "execution_count": 11,
   "metadata": {},
   "outputs": [
    {
     "data": {
      "text/plain": [
       "dict_keys(['New Old Existing', 'Top Orgs', 'Long Ad Posted DF', 'All Summaries'])"
      ]
     },
     "execution_count": 11,
     "metadata": {},
     "output_type": "execute_result"
    }
   ],
   "source": [
    "pf_eda.output_dfs.keys()"
   ]
  },
  {
   "cell_type": "code",
   "execution_count": 12,
   "metadata": {},
   "outputs": [
    {
     "data": {
      "text/html": [
       "<div>\n",
       "<style scoped>\n",
       "    .dataframe tbody tr th:only-of-type {\n",
       "        vertical-align: middle;\n",
       "    }\n",
       "\n",
       "    .dataframe tbody tr th {\n",
       "        vertical-align: top;\n",
       "    }\n",
       "\n",
       "    .dataframe thead th {\n",
       "        text-align: right;\n",
       "    }\n",
       "</style>\n",
       "<table border=\"1\" class=\"dataframe\">\n",
       "  <thead>\n",
       "    <tr style=\"text-align: right;\">\n",
       "      <th></th>\n",
       "      <th>6 Mo+ Ad Count</th>\n",
       "      <th>6 Mo+ Ad Pct</th>\n",
       "      <th>Full Pop Count</th>\n",
       "      <th>Full Pop Pct</th>\n",
       "      <th>Sample Ratio</th>\n",
       "    </tr>\n",
       "  </thead>\n",
       "  <tbody>\n",
       "    <tr>\n",
       "      <th>Adult</th>\n",
       "      <td>383</td>\n",
       "      <td>62.276</td>\n",
       "      <td>1169</td>\n",
       "      <td>40.310</td>\n",
       "      <td>1.54</td>\n",
       "    </tr>\n",
       "    <tr>\n",
       "      <th>Young</th>\n",
       "      <td>140</td>\n",
       "      <td>22.764</td>\n",
       "      <td>748</td>\n",
       "      <td>25.793</td>\n",
       "      <td>0.88</td>\n",
       "    </tr>\n",
       "    <tr>\n",
       "      <th>Senior</th>\n",
       "      <td>74</td>\n",
       "      <td>12.033</td>\n",
       "      <td>246</td>\n",
       "      <td>8.483</td>\n",
       "      <td>1.42</td>\n",
       "    </tr>\n",
       "    <tr>\n",
       "      <th>Baby</th>\n",
       "      <td>18</td>\n",
       "      <td>2.927</td>\n",
       "      <td>737</td>\n",
       "      <td>25.414</td>\n",
       "      <td>0.12</td>\n",
       "    </tr>\n",
       "  </tbody>\n",
       "</table>\n",
       "</div>"
      ],
      "text/plain": [
       "        6 Mo+ Ad Count  6 Mo+ Ad Pct  Full Pop Count  Full Pop Pct  \\\n",
       "Adult              383        62.276            1169        40.310   \n",
       "Young              140        22.764             748        25.793   \n",
       "Senior              74        12.033             246         8.483   \n",
       "Baby                18         2.927             737        25.414   \n",
       "\n",
       "        Sample Ratio  \n",
       "Adult           1.54  \n",
       "Young           0.88  \n",
       "Senior          1.42  \n",
       "Baby            0.12  "
      ]
     },
     "execution_count": 12,
     "metadata": {},
     "output_type": "execute_result"
    }
   ],
   "source": [
    "pf_eda.output_dfs['Long Ad Posted DF']"
   ]
  },
  {
   "cell_type": "code",
   "execution_count": 13,
   "metadata": {},
   "outputs": [
    {
     "data": {
      "text/html": [
       "<div>\n",
       "<style scoped>\n",
       "    .dataframe tbody tr th:only-of-type {\n",
       "        vertical-align: middle;\n",
       "    }\n",
       "\n",
       "    .dataframe tbody tr th {\n",
       "        vertical-align: top;\n",
       "    }\n",
       "\n",
       "    .dataframe thead th {\n",
       "        text-align: right;\n",
       "    }\n",
       "</style>\n",
       "<table border=\"1\" class=\"dataframe\">\n",
       "  <thead>\n",
       "    <tr style=\"text-align: right;\">\n",
       "      <th></th>\n",
       "      <th>count(*)</th>\n",
       "      <th>unique_new_dogs</th>\n",
       "      <th>unique_old_dogs</th>\n",
       "      <th>new_dogs</th>\n",
       "      <th>old_dogs</th>\n",
       "      <th>still_there_dogs</th>\n",
       "      <th>start_date</th>\n",
       "      <th>end_date</th>\n",
       "    </tr>\n",
       "  </thead>\n",
       "  <tbody>\n",
       "    <tr>\n",
       "      <th>0</th>\n",
       "      <td>2820</td>\n",
       "      <td>2375</td>\n",
       "      <td>2459</td>\n",
       "      <td>361</td>\n",
       "      <td>445</td>\n",
       "      <td>2014</td>\n",
       "      <td>2021-11-13</td>\n",
       "      <td>2021-11-21</td>\n",
       "    </tr>\n",
       "  </tbody>\n",
       "</table>\n",
       "</div>"
      ],
      "text/plain": [
       "   count(*)  unique_new_dogs  unique_old_dogs  new_dogs  old_dogs  \\\n",
       "0      2820             2375             2459       361       445   \n",
       "\n",
       "   still_there_dogs  start_date    end_date  \n",
       "0              2014  2021-11-13  2021-11-21  "
      ]
     },
     "execution_count": 13,
     "metadata": {},
     "output_type": "execute_result"
    }
   ],
   "source": [
    "pf_eda.output_dfs['New Old Existing']"
   ]
  },
  {
   "cell_type": "code",
   "execution_count": 14,
   "metadata": {},
   "outputs": [
    {
     "data": {
      "text/html": [
       "<div>\n",
       "<style scoped>\n",
       "    .dataframe tbody tr th:only-of-type {\n",
       "        vertical-align: middle;\n",
       "    }\n",
       "\n",
       "    .dataframe tbody tr th {\n",
       "        vertical-align: top;\n",
       "    }\n",
       "\n",
       "    .dataframe thead th {\n",
       "        text-align: right;\n",
       "    }\n",
       "</style>\n",
       "<table border=\"1\" class=\"dataframe\">\n",
       "  <thead>\n",
       "    <tr style=\"text-align: right;\">\n",
       "      <th></th>\n",
       "      <th>Count</th>\n",
       "      <th>Percent</th>\n",
       "    </tr>\n",
       "  </thead>\n",
       "  <tbody>\n",
       "    <tr>\n",
       "      <th>Rescue Dogs Rock NYC</th>\n",
       "      <td>219</td>\n",
       "      <td>10.153</td>\n",
       "    </tr>\n",
       "    <tr>\n",
       "      <th>Second Chance Rescue</th>\n",
       "      <td>101</td>\n",
       "      <td>4.682</td>\n",
       "    </tr>\n",
       "    <tr>\n",
       "      <th>Ruff House Rescue</th>\n",
       "      <td>87</td>\n",
       "      <td>4.033</td>\n",
       "    </tr>\n",
       "    <tr>\n",
       "      <th>Town of Hempstead Animal Shelter</th>\n",
       "      <td>55</td>\n",
       "      <td>2.550</td>\n",
       "    </tr>\n",
       "  </tbody>\n",
       "</table>\n",
       "</div>"
      ],
      "text/plain": [
       "                                  Count  Percent\n",
       "Rescue Dogs Rock NYC                219   10.153\n",
       "Second Chance Rescue                101    4.682\n",
       "Ruff House Rescue                    87    4.033\n",
       "Town of Hempstead Animal Shelter     55    2.550"
      ]
     },
     "execution_count": 14,
     "metadata": {},
     "output_type": "execute_result"
    }
   ],
   "source": [
    "pf_eda.output_dfs['Top Orgs']"
   ]
  },
  {
   "cell_type": "code",
   "execution_count": 15,
   "metadata": {
    "scrolled": true
   },
   "outputs": [
    {
     "data": {
      "text/html": [
       "<div>\n",
       "<style scoped>\n",
       "    .dataframe tbody tr th:only-of-type {\n",
       "        vertical-align: middle;\n",
       "    }\n",
       "\n",
       "    .dataframe tbody tr th {\n",
       "        vertical-align: top;\n",
       "    }\n",
       "\n",
       "    .dataframe thead th {\n",
       "        text-align: right;\n",
       "    }\n",
       "</style>\n",
       "<table border=\"1\" class=\"dataframe\">\n",
       "  <thead>\n",
       "    <tr style=\"text-align: right;\">\n",
       "      <th></th>\n",
       "      <th>Latest Day</th>\n",
       "      <th>Adopted</th>\n",
       "      <th>Rescue Dogs Rock NYC</th>\n",
       "      <th>Second Chance Rescue</th>\n",
       "      <th>Ruff House Rescue</th>\n",
       "      <th>Town of Hempstead Animal Shelter</th>\n",
       "    </tr>\n",
       "  </thead>\n",
       "  <tbody>\n",
       "    <tr>\n",
       "      <th>Count</th>\n",
       "      <td>2375</td>\n",
       "      <td>448</td>\n",
       "      <td>219</td>\n",
       "      <td>101</td>\n",
       "      <td>87</td>\n",
       "      <td>55</td>\n",
       "    </tr>\n",
       "    <tr>\n",
       "      <th>Top Breed Name</th>\n",
       "      <td>Labrador Retriever</td>\n",
       "      <td>Labrador Retriever</td>\n",
       "      <td>Labrador Retriever</td>\n",
       "      <td>American Staffordshire Terrier</td>\n",
       "      <td>Chihuahua</td>\n",
       "      <td>Terrier</td>\n",
       "    </tr>\n",
       "    <tr>\n",
       "      <th>Top Breed %</th>\n",
       "      <td>12.842</td>\n",
       "      <td>18.527</td>\n",
       "      <td>21.461</td>\n",
       "      <td>37.624</td>\n",
       "      <td>22.989</td>\n",
       "      <td>61.818</td>\n",
       "    </tr>\n",
       "    <tr>\n",
       "      <th>Top Age Name</th>\n",
       "      <td>Adult</td>\n",
       "      <td>Baby</td>\n",
       "      <td>Adult</td>\n",
       "      <td>Adult</td>\n",
       "      <td>Young</td>\n",
       "      <td>Adult</td>\n",
       "    </tr>\n",
       "    <tr>\n",
       "      <th>Top Age %</th>\n",
       "      <td>43.705</td>\n",
       "      <td>47.321</td>\n",
       "      <td>49.315</td>\n",
       "      <td>50.495</td>\n",
       "      <td>51.724</td>\n",
       "      <td>85.455</td>\n",
       "    </tr>\n",
       "    <tr>\n",
       "      <th>Top Color Name</th>\n",
       "      <td>Black</td>\n",
       "      <td>Black</td>\n",
       "      <td>None</td>\n",
       "      <td>Tricolor (Brown, Black, &amp; White)</td>\n",
       "      <td>Black</td>\n",
       "      <td>None</td>\n",
       "    </tr>\n",
       "    <tr>\n",
       "      <th>Top Color %</th>\n",
       "      <td>21.649</td>\n",
       "      <td>23.125</td>\n",
       "      <td>None</td>\n",
       "      <td>50</td>\n",
       "      <td>34.483</td>\n",
       "      <td>None</td>\n",
       "    </tr>\n",
       "    <tr>\n",
       "      <th>Top Children Name</th>\n",
       "      <td>1</td>\n",
       "      <td>1</td>\n",
       "      <td>1</td>\n",
       "      <td>1</td>\n",
       "      <td>0</td>\n",
       "      <td>0</td>\n",
       "    </tr>\n",
       "    <tr>\n",
       "      <th>Top Children %</th>\n",
       "      <td>78.215</td>\n",
       "      <td>95.279</td>\n",
       "      <td>98.122</td>\n",
       "      <td>83.333</td>\n",
       "      <td>100</td>\n",
       "      <td>100</td>\n",
       "    </tr>\n",
       "    <tr>\n",
       "      <th>Top House Trained Name</th>\n",
       "      <td>0</td>\n",
       "      <td>0</td>\n",
       "      <td>0</td>\n",
       "      <td>0</td>\n",
       "      <td>0</td>\n",
       "      <td>0</td>\n",
       "    </tr>\n",
       "    <tr>\n",
       "      <th>Top House Trained %</th>\n",
       "      <td>57.432</td>\n",
       "      <td>66.518</td>\n",
       "      <td>82.648</td>\n",
       "      <td>65.347</td>\n",
       "      <td>100</td>\n",
       "      <td>90.909</td>\n",
       "    </tr>\n",
       "    <tr>\n",
       "      <th>Top Dog Friendly Name</th>\n",
       "      <td>1</td>\n",
       "      <td>1</td>\n",
       "      <td>1</td>\n",
       "      <td>1</td>\n",
       "      <td>0</td>\n",
       "      <td>0</td>\n",
       "    </tr>\n",
       "    <tr>\n",
       "      <th>Top Dog Friendly %</th>\n",
       "      <td>84.645</td>\n",
       "      <td>97.153</td>\n",
       "      <td>96.774</td>\n",
       "      <td>87.097</td>\n",
       "      <td>100</td>\n",
       "      <td>87.5</td>\n",
       "    </tr>\n",
       "    <tr>\n",
       "      <th>2nd Breed Name</th>\n",
       "      <td>Pit Bull Terrier</td>\n",
       "      <td>Chihuahua</td>\n",
       "      <td>Mixed Breed</td>\n",
       "      <td>Labrador Retriever</td>\n",
       "      <td>Labrador Retriever</td>\n",
       "      <td>Hound</td>\n",
       "    </tr>\n",
       "    <tr>\n",
       "      <th>2nd Breed %</th>\n",
       "      <td>12.337</td>\n",
       "      <td>10.045</td>\n",
       "      <td>10.959</td>\n",
       "      <td>25.743</td>\n",
       "      <td>20.69</td>\n",
       "      <td>7.273</td>\n",
       "    </tr>\n",
       "  </tbody>\n",
       "</table>\n",
       "</div>"
      ],
      "text/plain": [
       "                                Latest Day             Adopted  \\\n",
       "Count                                 2375                 448   \n",
       "Top Breed Name          Labrador Retriever  Labrador Retriever   \n",
       "Top Breed %                         12.842              18.527   \n",
       "Top Age Name                         Adult                Baby   \n",
       "Top Age %                           43.705              47.321   \n",
       "Top Color Name                       Black               Black   \n",
       "Top Color %                         21.649              23.125   \n",
       "Top Children Name                        1                   1   \n",
       "Top Children %                      78.215              95.279   \n",
       "Top House Trained Name                   0                   0   \n",
       "Top House Trained %                 57.432              66.518   \n",
       "Top Dog Friendly Name                    1                   1   \n",
       "Top Dog Friendly %                  84.645              97.153   \n",
       "2nd Breed Name            Pit Bull Terrier           Chihuahua   \n",
       "2nd Breed %                         12.337              10.045   \n",
       "\n",
       "                       Rescue Dogs Rock NYC              Second Chance Rescue  \\\n",
       "Count                                   219                               101   \n",
       "Top Breed Name           Labrador Retriever    American Staffordshire Terrier   \n",
       "Top Breed %                          21.461                            37.624   \n",
       "Top Age Name                          Adult                             Adult   \n",
       "Top Age %                            49.315                            50.495   \n",
       "Top Color Name                         None  Tricolor (Brown, Black, & White)   \n",
       "Top Color %                            None                                50   \n",
       "Top Children Name                         1                                 1   \n",
       "Top Children %                       98.122                            83.333   \n",
       "Top House Trained Name                    0                                 0   \n",
       "Top House Trained %                  82.648                            65.347   \n",
       "Top Dog Friendly Name                     1                                 1   \n",
       "Top Dog Friendly %                   96.774                            87.097   \n",
       "2nd Breed Name                  Mixed Breed                Labrador Retriever   \n",
       "2nd Breed %                          10.959                            25.743   \n",
       "\n",
       "                         Ruff House Rescue Town of Hempstead Animal Shelter  \n",
       "Count                                   87                               55  \n",
       "Top Breed Name                   Chihuahua                          Terrier  \n",
       "Top Breed %                         22.989                           61.818  \n",
       "Top Age Name                         Young                            Adult  \n",
       "Top Age %                           51.724                           85.455  \n",
       "Top Color Name                       Black                             None  \n",
       "Top Color %                         34.483                             None  \n",
       "Top Children Name                        0                                0  \n",
       "Top Children %                         100                              100  \n",
       "Top House Trained Name                   0                                0  \n",
       "Top House Trained %                    100                           90.909  \n",
       "Top Dog Friendly Name                    0                                0  \n",
       "Top Dog Friendly %                     100                             87.5  \n",
       "2nd Breed Name          Labrador Retriever                            Hound  \n",
       "2nd Breed %                          20.69                            7.273  "
      ]
     },
     "execution_count": 15,
     "metadata": {},
     "output_type": "execute_result"
    }
   ],
   "source": [
    "pf_eda.output_dfs['All Summaries']"
   ]
  },
  {
   "cell_type": "code",
   "execution_count": null,
   "metadata": {},
   "outputs": [],
   "source": []
  },
  {
   "cell_type": "code",
   "execution_count": 16,
   "metadata": {},
   "outputs": [],
   "source": [
    "html_dict = {k:v.to_html() for k, v in pf_eda.output_dfs.items() }\n",
    "body_html = f\"\"\"\n",
    "This email contains a report of the <b>dogs</b> listed on Petfinder.com from {pf_eda.two_weeks_str} to {pf_eda.today_str} \n",
    "for all locations 30 miles from 10475. \n",
    "\n",
    "It contains summary information about the Number of dogs in shelters as of {pf_eda.today_str}, top organizations\n",
    ", dogs who have been in shelters the longest. \n",
    "<br>\n",
    "<br>\n",
    "<b>Adoptions</b>\n",
    "{html_dict['New Old Existing']}\n",
    "<br>\n",
    "<br>\n",
    "<b>Time in Shelter </b>\n",
    "{html_dict['Long Ad Posted DF']}\n",
    "<br>\n",
    "<br>\n",
    "<b>Shelters with Most Dogs </b>\n",
    "{html_dict['Top Orgs']}\n",
    "<br>\n",
    "<br>\n",
    "<b>Summary of Dogs in Shelter </b>\n",
    "{html_dict['All Summaries']}\n",
    "\n",
    "\n",
    "\"\"\"\n"
   ]
  },
  {
   "cell_type": "code",
   "execution_count": 17,
   "metadata": {},
   "outputs": [],
   "source": [
    "charts = os.listdir(pf_eda.image_save_folder)\n",
    "full_path_charts = [pf_eda.image_save_folder + x for x in charts]"
   ]
  },
  {
   "cell_type": "code",
   "execution_count": 18,
   "metadata": {},
   "outputs": [],
   "source": [
    "folder_base = '/home/malcolm/sym_data_storage/Petfinder/Dogs/'\n",
    "folder_loc = datetime.datetime.now().strftime('%Y-%-m')\n",
    "folder_path = folder_base + folder_loc +'/'\n",
    "total_dog_pics = os.listdir(folder_path)\n",
    "pics_to_send = np.random.choice([folder_path + x for x in total_dog_pics], size = 4)"
   ]
  },
  {
   "cell_type": "code",
   "execution_count": null,
   "metadata": {},
   "outputs": [],
   "source": [
    "full_path_charts.extend(pics_to_send.tolist())"
   ]
  },
  {
   "cell_type": "markdown",
   "metadata": {},
   "source": [
    "## Email"
   ]
  },
  {
   "cell_type": "code",
   "execution_count": 19,
   "metadata": {},
   "outputs": [],
   "source": [
    "sys.path.append('/home/malcolm/EmailSender/')"
   ]
  },
  {
   "cell_type": "code",
   "execution_count": 20,
   "metadata": {},
   "outputs": [],
   "source": [
    "from EmailSender import EmailSender\n",
    "from IPython.core.display import display, HTML, Image"
   ]
  },
  {
   "cell_type": "code",
   "execution_count": 21,
   "metadata": {},
   "outputs": [],
   "source": [
    "message_params = {}\n",
    "message_params['Subject'] = f\"Petfinder Dogs from {pf_eda.two_weeks_str} to {pf_eda.today_str}\"\n",
    "message_params['Body'] = body_html\n",
    "message_params['Image_paths'] = pf_eda.image_paths_to_send"
   ]
  },
  {
   "cell_type": "code",
   "execution_count": 22,
   "metadata": {},
   "outputs": [],
   "source": [
    "email_sender = EmailSender(**message_params)\n",
    "email_sender.execute()"
   ]
  },
  {
   "cell_type": "code",
   "execution_count": null,
   "metadata": {},
   "outputs": [],
   "source": []
  },
  {
   "cell_type": "code",
   "execution_count": null,
   "metadata": {},
   "outputs": [],
   "source": []
  },
  {
   "cell_type": "code",
   "execution_count": null,
   "metadata": {},
   "outputs": [],
   "source": []
  },
  {
   "cell_type": "code",
   "execution_count": null,
   "metadata": {},
   "outputs": [],
   "source": [
    "[(x, type(getattr(pf_eda, x))) for x in dir(pf_eda) if x[:2] != '__' ]"
   ]
  },
  {
   "cell_type": "code",
   "execution_count": null,
   "metadata": {},
   "outputs": [],
   "source": [
    "Image(pf_eda.image_save_folder+'/Still There Dogs.png')"
   ]
  },
  {
   "cell_type": "code",
   "execution_count": null,
   "metadata": {},
   "outputs": [],
   "source": []
  },
  {
   "cell_type": "markdown",
   "metadata": {},
   "source": [
    "## Begin OLD STUFF"
   ]
  },
  {
   "cell_type": "code",
   "execution_count": null,
   "metadata": {
    "scrolled": true
   },
   "outputs": [],
   "source": [
    "con = sqlite3.connect('/home/malcolm/petfinder/data/petfinder.db')\n",
    "cursor = con.cursor()\n",
    "cursor.execute(\"SELECT name FROM sqlite_master WHERE type='table';\")\n",
    "print(cursor.fetchall())"
   ]
  },
  {
   "cell_type": "code",
   "execution_count": null,
   "metadata": {},
   "outputs": [],
   "source": [
    "today = datetime.datetime.now()\n",
    "today_str = str(datetime.datetime.now().date())\n",
    "two_weeks = today - datetime.timedelta(days=7)\n",
    "two_weeks_str = str(two_weeks.date())"
   ]
  },
  {
   "cell_type": "code",
   "execution_count": null,
   "metadata": {},
   "outputs": [],
   "source": [
    "sql2 = f\"\"\"\n",
    "\n",
    "with two_weeks_dogs as (\n",
    "select id as id_old\n",
    ", status as status_old\n",
    ", status_changed_at as status_change_old\n",
    ", date_saved as date_saved_old\n",
    "from dog_10475_30mi\n",
    "where date_saved = '{two_weeks_str}'\n",
    ") , \n",
    "today_dogs as (\n",
    "select id as id_new\n",
    ", status as status_new\n",
    ", status_changed_at as status_change_new\n",
    ", date_saved as date_saved_new\n",
    "from dog_10475_30mi\n",
    "where date_saved = '{today_str}'\n",
    ")\n",
    "\n",
    "\n",
    "select count(*) as total_dogs\n",
    ", count(distinct id_new) as unique_new_dogs\n",
    ", count(distinct id_old) as unique_old_dogs\n",
    ", sum(case when id_old is null then 1 else 0 end) as new_dogs -- Old doesn't have key so dog must be new\n",
    ", sum(case when id_new is null then 1 else 0 end) as old_dogs -- New doesn't have key so dog must be old \n",
    ", sum(case when id_old is not null and id_new is not null then 1 else 0 end) as still_there_dogs\n",
    ", min(date_saved_old) as start_date\n",
    ", max(date_saved_new) as end_date\n",
    "\n",
    "from (\n",
    "SELECT id_new, status_new, status_change_new, date_saved_new\n",
    ", id_old, status_old, status_change_old, date_saved_old\n",
    "from two_weeks_dogs\n",
    "left join today_dogs\n",
    "on two_weeks_dogs.id_old = today_dogs.id_new\n",
    "\n",
    "UNION \n",
    "\n",
    "SELECT id_new, status_new, status_change_new, date_saved_new\n",
    ", id_old, status_old, status_change_old, date_saved_old\n",
    "from today_dogs \n",
    "left join two_weeks_dogs\n",
    "on today_dogs.id_new = two_weeks_dogs.id_old\n",
    ")x\n",
    "\n",
    "\"\"\"\n",
    "\n",
    "demo1 = pd.read_sql(sql2, con)\n",
    "demo1"
   ]
  },
  {
   "cell_type": "code",
   "execution_count": null,
   "metadata": {},
   "outputs": [],
   "source": []
  },
  {
   "cell_type": "code",
   "execution_count": null,
   "metadata": {
    "scrolled": true
   },
   "outputs": [],
   "source": [
    "data_raw = pd.read_sql(f\"\"\"\n",
    "select dogs.*, orgs.name as org_name \n",
    "from dog_10475_30mi dogs\n",
    "left join Organizations orgs\n",
    "on dogs.organization_id = orgs.id\n",
    "where date_saved between '{two_weeks_str}' and '{today_str}'\n",
    "\"\"\" , con)\n",
    "data_raw['published_at'] = pd.to_datetime(data_raw['published_at'])\n",
    "data_raw['status_changed_at'] = pd.to_datetime(data_raw['status_changed_at'])\n",
    "data_raw['date_saved'] = pd.to_datetime(data_raw['date_saved'], utc=True)\n",
    "\n",
    "data = data_raw[data_raw['date_saved'] == data_raw['date_saved'].max()]\n",
    "print(data.shape)\n",
    "data.head()"
   ]
  },
  {
   "cell_type": "code",
   "execution_count": null,
   "metadata": {},
   "outputs": [],
   "source": [
    "data_raw['id'].nunique()"
   ]
  },
  {
   "cell_type": "code",
   "execution_count": null,
   "metadata": {},
   "outputs": [],
   "source": [
    "data_raw.shape"
   ]
  },
  {
   "cell_type": "markdown",
   "metadata": {},
   "source": [
    "## Peak at some attributes"
   ]
  },
  {
   "cell_type": "code",
   "execution_count": null,
   "metadata": {},
   "outputs": [],
   "source": [
    "data.columns"
   ]
  },
  {
   "cell_type": "code",
   "execution_count": null,
   "metadata": {},
   "outputs": [],
   "source": [
    "data[data['status_changed_at'] <= '2021-01-01'].shape\n",
    "# Probably data quality issue.. should investigate or drop these records"
   ]
  },
  {
   "cell_type": "code",
   "execution_count": null,
   "metadata": {
    "scrolled": true
   },
   "outputs": [],
   "source": [
    "status_change = data[data['status_changed_at'] != data['published_at']]\n",
    "status_change.shape"
   ]
  },
  {
   "cell_type": "code",
   "execution_count": null,
   "metadata": {
    "scrolled": true
   },
   "outputs": [],
   "source": [
    "status_change"
   ]
  },
  {
   "cell_type": "code",
   "execution_count": null,
   "metadata": {},
   "outputs": [],
   "source": [
    "status_change.status.value_counts()"
   ]
  },
  {
   "cell_type": "code",
   "execution_count": null,
   "metadata": {},
   "outputs": [],
   "source": []
  },
  {
   "cell_type": "code",
   "execution_count": null,
   "metadata": {},
   "outputs": [],
   "source": [
    "summary = summarize_dog_pop(data)\n",
    "summary"
   ]
  },
  {
   "cell_type": "code",
   "execution_count": null,
   "metadata": {
    "scrolled": true
   },
   "outputs": [],
   "source": [
    "data[data['org_name'] == 'Rescue Dogs Rock NYC']"
   ]
  },
  {
   "cell_type": "code",
   "execution_count": null,
   "metadata": {},
   "outputs": [],
   "source": [
    "summary1 = summarize_dog_pop(data[data['org_name'] == 'Rescue Dogs Rock NYC'])\n",
    "summary1"
   ]
  },
  {
   "cell_type": "code",
   "execution_count": null,
   "metadata": {},
   "outputs": [],
   "source": [
    "summary2 = summarize_dog_pop(data[data['org_name'] == 'Second Chance Rescue'])\n",
    "summary2"
   ]
  },
  {
   "cell_type": "code",
   "execution_count": null,
   "metadata": {},
   "outputs": [],
   "source": [
    "org_value_counts = get_cnts_pcts(data['org_name'])\n",
    "org_value_counts"
   ]
  },
  {
   "cell_type": "code",
   "execution_count": null,
   "metadata": {},
   "outputs": [],
   "source": [
    "# # of shelter with more than 10 dogs \n",
    "org_value_counts[org_value_counts['Count'] >= 10].shape[0]"
   ]
  },
  {
   "cell_type": "code",
   "execution_count": null,
   "metadata": {},
   "outputs": [],
   "source": [
    "org_value_counts['Count'].hist()"
   ]
  },
  {
   "cell_type": "code",
   "execution_count": null,
   "metadata": {
    "scrolled": true
   },
   "outputs": [],
   "source": [
    "data.iloc[1]"
   ]
  },
  {
   "cell_type": "code",
   "execution_count": null,
   "metadata": {},
   "outputs": [],
   "source": []
  },
  {
   "cell_type": "markdown",
   "metadata": {},
   "source": [
    "## Dog Status Change"
   ]
  },
  {
   "cell_type": "code",
   "execution_count": null,
   "metadata": {},
   "outputs": [],
   "source": []
  },
  {
   "cell_type": "code",
   "execution_count": null,
   "metadata": {
    "scrolled": true
   },
   "outputs": [],
   "source": [
    "dog_gb = data_raw.groupby('id').apply(dog_days_gb_func)\n",
    "print(\"Shape: \", dog_gb.shape)\n",
    "dog_gb"
   ]
  },
  {
   "cell_type": "raw",
   "metadata": {},
   "source": [
    "dog_gb['Days in DB (yourdb)'].describe()"
   ]
  },
  {
   "cell_type": "code",
   "execution_count": null,
   "metadata": {},
   "outputs": [],
   "source": [
    "(dog_gb['Adopted (last date)'] == False).sum()"
   ]
  },
  {
   "cell_type": "code",
   "execution_count": null,
   "metadata": {},
   "outputs": [],
   "source": []
  },
  {
   "cell_type": "code",
   "execution_count": null,
   "metadata": {},
   "outputs": [],
   "source": [
    "adopted = dog_gb[dog_gb['Adopted (last date)'] == False]\n",
    "summarize_dog_pop(adopted)"
   ]
  },
  {
   "cell_type": "code",
   "execution_count": null,
   "metadata": {},
   "outputs": [],
   "source": [
    "adopted['Days ad posted'].describe()"
   ]
  },
  {
   "cell_type": "code",
   "execution_count": null,
   "metadata": {},
   "outputs": [],
   "source": []
  },
  {
   "cell_type": "code",
   "execution_count": null,
   "metadata": {},
   "outputs": [],
   "source": [
    "dog_gb['Days ad posted'].describe()"
   ]
  },
  {
   "cell_type": "code",
   "execution_count": null,
   "metadata": {},
   "outputs": [],
   "source": [
    "long_ad_posted_dogs = dog_gb[dog_gb['Days ad posted'] >= 180]\n",
    "long_ad_posted_dogs.shape"
   ]
  },
  {
   "cell_type": "code",
   "execution_count": null,
   "metadata": {
    "scrolled": true
   },
   "outputs": [],
   "source": [
    "long_ad_posted_dogs['age'].value_counts()"
   ]
  },
  {
   "cell_type": "code",
   "execution_count": null,
   "metadata": {},
   "outputs": [],
   "source": [
    "\n",
    "age_cnts"
   ]
  },
  {
   "cell_type": "code",
   "execution_count": null,
   "metadata": {},
   "outputs": [],
   "source": [
    "long_ad_posted_age_cnts = get_cnts_pcts(long_ad_posted_dogs['age'])\\\n",
    "    .rename({'Count': '6 Mo+ Ad Count', \n",
    "            'Percent': '6 Mo+ Ad Pct'}, axis=1 )\n",
    "age_cnts = get_cnts_pcts(dog_gb['age'])\\\n",
    "    .rename({'Count': 'Full Pop Count',\n",
    "              'Percent': 'Full Pop Pct'}, axis= 1)\n",
    "long_ad_posted_age_cnts = pd.merge(long_ad_posted_age_cnts, age_cnts, left_index=True, right_index=True)\n",
    "long_ad_posted_age_cnts['Sample Ratio'] = (long_ad_posted_age_cnts['6 Mo+ Ad Pct']/age_cnts['Full Pop Pct']).round(2)\n",
    "long_ad_posted_age_cnts"
   ]
  },
  {
   "cell_type": "code",
   "execution_count": null,
   "metadata": {},
   "outputs": [],
   "source": [
    "age_cnts"
   ]
  },
  {
   "cell_type": "markdown",
   "metadata": {},
   "source": [
    "## Top Places over time\n"
   ]
  },
  {
   "cell_type": "code",
   "execution_count": null,
   "metadata": {},
   "outputs": [],
   "source": [
    "import plotly.express as px\n",
    "import numpy as np"
   ]
  },
  {
   "cell_type": "code",
   "execution_count": null,
   "metadata": {},
   "outputs": [],
   "source": [
    "data_raw.shape"
   ]
  },
  {
   "cell_type": "code",
   "execution_count": null,
   "metadata": {},
   "outputs": [],
   "source": [
    "org_value_counts.sort_values('Count', ascending=False).iloc[:4]"
   ]
  },
  {
   "cell_type": "code",
   "execution_count": null,
   "metadata": {},
   "outputs": [],
   "source": [
    "top_n_dog_orgs = org_value_counts.sort_values('Count', ascending=False).iloc[:4].index.tolist()\n",
    "top_n_dog_orgs\n",
    "# str(top_n_dog_orgs)[1:-1]"
   ]
  },
  {
   "cell_type": "code",
   "execution_count": null,
   "metadata": {},
   "outputs": [],
   "source": []
  },
  {
   "cell_type": "code",
   "execution_count": null,
   "metadata": {},
   "outputs": [],
   "source": [
    "ns_raw = data_raw[data_raw['org_name'].isin(top_n_dog_orgs)]\n",
    "print(\"Shape: \", ns_raw.shape)\n",
    "ns_raw.head()"
   ]
  },
  {
   "cell_type": "code",
   "execution_count": null,
   "metadata": {},
   "outputs": [],
   "source": [
    "ns_raw.columns"
   ]
  },
  {
   "cell_type": "code",
   "execution_count": null,
   "metadata": {
    "scrolled": true
   },
   "outputs": [],
   "source": [
    "ns_raw['Days bw saved and published'] = (ns_raw['date_saved'] - ns_raw['published_at']).dt.days\n",
    "ns_raw['Added in last week'] = ns_raw['Days bw saved and published'] <= 7\n",
    "ns_raw['Added in <4 weeks']  = ns_raw['Days bw saved and published'] >= 28\n",
    "\n"
   ]
  },
  {
   "cell_type": "code",
   "execution_count": null,
   "metadata": {},
   "outputs": [],
   "source": [
    "def gb_func(df):\n",
    "    out = {}\n",
    "    out['Count'] = df.shape[0]\n",
    "    out['Unique dogs'] = df['id'].nunique()\n",
    "    \n",
    "    out['Avg Days in Shelter'] = df['Days bw saved and published'].mean().round(1)\n",
    "    out['Lower 20% days in Shelter'] = np.quantile(df['Days bw saved and published'], 0.2)\n",
    "    out['Upper 20% days in Shelter'] = np.quantile(df['Days bw saved and published'], 0.8)\n",
    "\n",
    "    out['Added last week sum'] = df['Added in last week'].sum()\n",
    "    out['Added last week pct'] = np.round(100* out['Added last week sum']/out['Count'], 2)\n",
    "    \n",
    "    out['Added in <4 weeks sum'] = df['Added in <4 weeks'].sum()\n",
    "    out['Added in <4 weeks pct'] = np.round(100* out['Added in <4 weeks sum']/out['Count'], 2)\n",
    "    \n",
    "    \n",
    "\n",
    "    \n",
    "    out_series = pd.Series(out)\n",
    "    return(out_series)"
   ]
  },
  {
   "cell_type": "code",
   "execution_count": null,
   "metadata": {
    "scrolled": true
   },
   "outputs": [],
   "source": [
    "ns_gb = ns_raw.groupby(['date_saved', 'org_name']).apply(gb_func)\n",
    "ns_gb"
   ]
  },
  {
   "cell_type": "code",
   "execution_count": null,
   "metadata": {},
   "outputs": [],
   "source": [
    "cols = ['Avg Days in Shelter', 'Upper 20% days in Shelter']\n",
    "days_in_regroup = pd.concat({x:ns_gb[x] for x in cols})\\\n",
    "    .reset_index()\\\n",
    "    .rename({'level_0':'Days Measure', \n",
    "            0 : \"# of Days\"}, axis=1)\n",
    "days_in_regroup.head()"
   ]
  },
  {
   "cell_type": "code",
   "execution_count": null,
   "metadata": {},
   "outputs": [],
   "source": [
    "px.line(days_in_regroup, 'date_saved', '# of Days'\n",
    "        , color='org_name'\n",
    "        , line_dash='Days Measure'\n",
    "        , )"
   ]
  },
  {
   "cell_type": "code",
   "execution_count": null,
   "metadata": {},
   "outputs": [],
   "source": [
    "px.line(ns_gb.reset_index(), 'date_saved', 'Unique dogs'\n",
    "       , color = 'org_name'\n",
    "       , title= 'Number of Dogs in Shelter')"
   ]
  },
  {
   "cell_type": "code",
   "execution_count": null,
   "metadata": {},
   "outputs": [],
   "source": [
    "px.line(ns_gb.reset_index(), 'date_saved', 'Added last week pct'\n",
    "       , color = 'org_name'\n",
    "#        , title= 'Number of Dogs in Shelter'\n",
    "       )"
   ]
  },
  {
   "cell_type": "code",
   "execution_count": null,
   "metadata": {},
   "outputs": [],
   "source": [
    "px.line(ns_gb.reset_index(), 'date_saved', 'Added in <4 weeks pct'\n",
    "       , color = 'org_name'\n",
    "#        , title= 'Number of Dogs in Shelter'\n",
    "       )"
   ]
  },
  {
   "cell_type": "code",
   "execution_count": null,
   "metadata": {},
   "outputs": [],
   "source": []
  },
  {
   "cell_type": "code",
   "execution_count": null,
   "metadata": {},
   "outputs": [],
   "source": []
  }
 ],
 "metadata": {
  "kernelspec": {
   "display_name": "Python 3 (ipykernel)",
   "language": "python",
   "name": "python3"
  },
  "language_info": {
   "codemirror_mode": {
    "name": "ipython",
    "version": 3
   },
   "file_extension": ".py",
   "mimetype": "text/x-python",
   "name": "python",
   "nbconvert_exporter": "python",
   "pygments_lexer": "ipython3",
   "version": "3.10.6"
  },
  "toc": {
   "base_numbering": 1,
   "nav_menu": {},
   "number_sections": true,
   "sideBar": true,
   "skip_h1_title": false,
   "title_cell": "Table of Contents",
   "title_sidebar": "Contents",
   "toc_cell": false,
   "toc_position": {
    "height": "calc(100% - 180px)",
    "left": "10px",
    "top": "150px",
    "width": "220.391px"
   },
   "toc_section_display": true,
   "toc_window_display": false
  },
  "varInspector": {
   "cols": {
    "lenName": 16,
    "lenType": 16,
    "lenVar": 40
   },
   "kernels_config": {
    "python": {
     "delete_cmd_postfix": "",
     "delete_cmd_prefix": "del ",
     "library": "var_list.py",
     "varRefreshCmd": "print(var_dic_list())"
    },
    "r": {
     "delete_cmd_postfix": ") ",
     "delete_cmd_prefix": "rm(",
     "library": "var_list.r",
     "varRefreshCmd": "cat(var_dic_list()) "
    }
   },
   "types_to_exclude": [
    "module",
    "function",
    "builtin_function_or_method",
    "instance",
    "_Feature"
   ],
   "window_display": false
  }
 },
 "nbformat": 4,
 "nbformat_minor": 4
}
