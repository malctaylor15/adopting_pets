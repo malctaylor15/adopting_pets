{
 "cells": [
  {
   "cell_type": "code",
   "execution_count": 9,
   "metadata": {},
   "outputs": [],
   "source": [
    "import pandas as pd \n",
    "import numpy as np \n",
    "import plotly.express as px \n",
    "import petpy \n",
    "import pickle\n",
    "import sqlite3\n",
    "import time\n",
    "import datetime"
   ]
  },
  {
   "cell_type": "code",
   "execution_count": 10,
   "metadata": {},
   "outputs": [],
   "source": [
    "with open('/home/malcolm/credentials/petfinder_credentials.pkl', 'rb') as hnd:\n",
    "    creds = pickle.load(hnd)"
   ]
  },
  {
   "cell_type": "code",
   "execution_count": null,
   "metadata": {},
   "outputs": [],
   "source": []
  },
  {
   "cell_type": "markdown",
   "metadata": {},
   "source": [
    "## Create API Request yourself"
   ]
  },
  {
   "cell_type": "code",
   "execution_count": 11,
   "metadata": {},
   "outputs": [],
   "source": [
    "import urllib\n",
    "import requests"
   ]
  },
  {
   "cell_type": "code",
   "execution_count": 12,
   "metadata": {},
   "outputs": [],
   "source": [
    "endpoint = 'oauth2/token'\n",
    "host = 'http://api.petfinder.com/v2/'\n",
    "url = urllib.parse.urljoin(host, endpoint)\n",
    "\n",
    "data = {\n",
    "    'grant_type': 'client_credentials',\n",
    "    'client_id': creds['key'],\n",
    "    'client_secret': creds['secret']\n",
    "}\n",
    "\n",
    "r = requests.post(url, data=data)\n",
    "api_key = r.json()['access_token']"
   ]
  },
  {
   "cell_type": "raw",
   "metadata": {},
   "source": [
    "pf_key = pf._auth"
   ]
  },
  {
   "cell_type": "code",
   "execution_count": 13,
   "metadata": {},
   "outputs": [],
   "source": [
    "animals_endpt = 'https://api.petfinder.com/v2/animals/'\n",
    "params = dict(type='dog', \n",
    "    location='10475', distance=30,\n",
    "    limit=100, page=1\n",
    "             )\n",
    "headers = {'Authorization' : 'Bearer ' + api_key}\n",
    "# headers = {'Authorization' : 'Bearer ' + pf_key}"
   ]
  },
  {
   "cell_type": "code",
   "execution_count": 14,
   "metadata": {},
   "outputs": [
    {
     "data": {
      "text/plain": [
       "<Response [429]>"
      ]
     },
     "execution_count": 14,
     "metadata": {},
     "output_type": "execute_result"
    }
   ],
   "source": [
    "results = requests.get(animals_endpt\n",
    "                       , params=params\n",
    "                       , headers=headers)\n",
    "results"
   ]
  },
  {
   "cell_type": "code",
   "execution_count": 15,
   "metadata": {},
   "outputs": [
    {
     "data": {
      "text/plain": [
       "dict_keys(['type', 'status', 'title', 'detail'])"
      ]
     },
     "execution_count": 15,
     "metadata": {},
     "output_type": "execute_result"
    }
   ],
   "source": [
    "dogs_rslts_json = results.json()\n",
    "dogs_rslts_json.keys()"
   ]
  },
  {
   "cell_type": "code",
   "execution_count": 16,
   "metadata": {
    "scrolled": true
   },
   "outputs": [
    {
     "ename": "KeyError",
     "evalue": "'pagination'",
     "output_type": "error",
     "traceback": [
      "\u001b[0;31m---------------------------------------------------------------------------\u001b[0m",
      "\u001b[0;31mKeyError\u001b[0m                                  Traceback (most recent call last)",
      "\u001b[0;32m<ipython-input-16-9dbcdf4587fb>\u001b[0m in \u001b[0;36m<module>\u001b[0;34m\u001b[0m\n\u001b[0;32m----> 1\u001b[0;31m \u001b[0mn_dog_pages\u001b[0m \u001b[0;34m=\u001b[0m \u001b[0mdogs_rslts_json\u001b[0m\u001b[0;34m[\u001b[0m\u001b[0;34m'pagination'\u001b[0m\u001b[0;34m]\u001b[0m\u001b[0;34m[\u001b[0m\u001b[0;34m'total_pages'\u001b[0m\u001b[0;34m]\u001b[0m\u001b[0;34m\u001b[0m\u001b[0;34m\u001b[0m\u001b[0m\n\u001b[0m\u001b[1;32m      2\u001b[0m \u001b[0mn_dog_pages\u001b[0m\u001b[0;34m\u001b[0m\u001b[0;34m\u001b[0m\u001b[0m\n",
      "\u001b[0;31mKeyError\u001b[0m: 'pagination'"
     ]
    }
   ],
   "source": [
    "n_dog_pages = dogs_rslts_json['pagination']['total_pages']\n",
    "n_dog_pages"
   ]
  },
  {
   "cell_type": "code",
   "execution_count": null,
   "metadata": {},
   "outputs": [],
   "source": [
    "params['type'] = 'cat'\n",
    "results = requests.get(animals_endpt\n",
    "                       , params=params\n",
    "                       , headers=headers)\n",
    "assert(results.status_code == 200), f\"Status code not 200: It's {results.status_code}\"\n",
    "cats_rslts_json = results.json()\n",
    "n_cat_pages = cats_rslts_json['pagination']['total_pages']\n",
    "n_cat_pages"
   ]
  },
  {
   "cell_type": "code",
   "execution_count": null,
   "metadata": {},
   "outputs": [],
   "source": []
  },
  {
   "cell_type": "code",
   "execution_count": null,
   "metadata": {},
   "outputs": [],
   "source": []
  },
  {
   "cell_type": "markdown",
   "metadata": {},
   "source": [
    "## Get All Animals For Region\n"
   ]
  },
  {
   "cell_type": "code",
   "execution_count": null,
   "metadata": {},
   "outputs": [],
   "source": [
    "pf = petpy.Petfinder(key=creds['key'], secret=creds['secret'])"
   ]
  },
  {
   "cell_type": "code",
   "execution_count": null,
   "metadata": {},
   "outputs": [],
   "source": [
    "params.keys()"
   ]
  },
  {
   "cell_type": "code",
   "execution_count": null,
   "metadata": {},
   "outputs": [],
   "source": [
    "petpy_dict = params.copy()\n",
    "# petpy_dict['animal_type'] = petpy_dict.pop('type')\n",
    "petpy_dict['animal_type'] = 'dog'\n",
    "petpy_dict['results_per_page'] = petpy_dict.pop('limit')\n",
    "petpy_dict['pages'] = n_dog_pages\n",
    "petpy_dict['return_df'] = True\n",
    "del(petpy_dict['page'])\n",
    "if 'type' in petpy_dict.keys():\n",
    "    del(petpy_dict['type'])\n",
    "print(petpy_dict)"
   ]
  },
  {
   "cell_type": "code",
   "execution_count": null,
   "metadata": {},
   "outputs": [],
   "source": [
    "adoptable_dogs = pf.animals(**petpy_dict)\n",
    "adoptable_dogs['date_saved'] = str(datetime.datetime.now().date())\n",
    "adoptable_dogs"
   ]
  },
  {
   "cell_type": "markdown",
   "metadata": {},
   "source": [
    "## Cats"
   ]
  },
  {
   "cell_type": "code",
   "execution_count": null,
   "metadata": {},
   "outputs": [],
   "source": [
    "time.sleep(5)\n",
    "petpy_dict['animal_type'] = 'cat'\n",
    "petpy_dict['pages'] = n_cat_pages\n",
    "adoptable_cats = pf.animals(**petpy_dict)\n",
    "adoptable_cats['date_saved'] = str(datetime.datetime.now().date())\n",
    "adoptable_cats"
   ]
  },
  {
   "cell_type": "code",
   "execution_count": null,
   "metadata": {},
   "outputs": [],
   "source": []
  },
  {
   "cell_type": "markdown",
   "metadata": {},
   "source": [
    "## Organizations"
   ]
  },
  {
   "cell_type": "code",
   "execution_count": null,
   "metadata": {
    "scrolled": true
   },
   "outputs": [],
   "source": [
    "all_orgs = pd.concat([adoptable_dogs['organization_id'].iloc[:,0], \n",
    "            adoptable_cats['organization_id'].iloc[:,0]]).unique()\n",
    "all_orgs"
   ]
  },
  {
   "cell_type": "code",
   "execution_count": null,
   "metadata": {},
   "outputs": [],
   "source": []
  },
  {
   "cell_type": "code",
   "execution_count": null,
   "metadata": {},
   "outputs": [],
   "source": [
    "all_orgs_list = list(all_orgs)\n",
    "len(all_orgs_list)"
   ]
  },
  {
   "cell_type": "code",
   "execution_count": null,
   "metadata": {
    "scrolled": true
   },
   "outputs": [],
   "source": [
    "orgs = pf.organizations(all_orgs_list)\n",
    "orgs"
   ]
  },
  {
   "cell_type": "code",
   "execution_count": null,
   "metadata": {},
   "outputs": [],
   "source": [
    "len(orgs['organizations'])"
   ]
  },
  {
   "cell_type": "markdown",
   "metadata": {},
   "source": [
    "## Export to SQL"
   ]
  },
  {
   "cell_type": "code",
   "execution_count": null,
   "metadata": {},
   "outputs": [],
   "source": []
  },
  {
   "cell_type": "raw",
   "metadata": {},
   "source": [
    "## Organizations"
   ]
  },
  {
   "cell_type": "raw",
   "metadata": {
    "scrolled": true
   },
   "source": [
    "dog_orgs = adoptable_dogs['organization_id'].iloc[:,0].unique()\n",
    "dog_orgs"
   ]
  },
  {
   "cell_type": "raw",
   "metadata": {},
   "source": [
    "dog_orgs_list = list(dog_orgs)\n",
    "len(dog_orgs_list)"
   ]
  },
  {
   "cell_type": "raw",
   "metadata": {},
   "source": [
    "orgs = pf.organizations(dog_orgs[0])\n",
    "orgs"
   ]
  },
  {
   "cell_type": "raw",
   "metadata": {},
   "source": []
  },
  {
   "cell_type": "code",
   "execution_count": null,
   "metadata": {},
   "outputs": [],
   "source": []
  },
  {
   "cell_type": "code",
   "execution_count": null,
   "metadata": {},
   "outputs": [],
   "source": [
    "# Prep dataset for export into SQL \n",
    "adoptable_dogs = adoptable_dogs.loc[:,~adoptable_dogs.columns.duplicated()]\n",
    "adoptable_cats = adoptable_cats.loc[:,~adoptable_cats.columns.duplicated()]\n",
    "for x in ['tags', 'photos', 'videos']:\n",
    "    adoptable_dogs[x] = str(adoptable_dogs[x])\n",
    "    adoptable_cats[x] = str(adoptable_cats[x])"
   ]
  },
  {
   "cell_type": "code",
   "execution_count": null,
   "metadata": {},
   "outputs": [],
   "source": [
    "con = sqlite3.connect('/home/malcolm/petfinder/data/petfinder_qa.db')\n",
    "cursor = con.cursor()"
   ]
  },
  {
   "cell_type": "code",
   "execution_count": null,
   "metadata": {},
   "outputs": [],
   "source": [
    "table_name_suffix = f\"{petpy_dict['location']}_{petpy_dict['distance']}mi\"\n",
    "table_name_suffix\n",
    "\n"
   ]
  },
  {
   "cell_type": "code",
   "execution_count": null,
   "metadata": {},
   "outputs": [],
   "source": [
    "adoptable_dogs.to_sql('dogs_'+table_name_suffix, con, index=False, if_exists='append')\n",
    "adoptable_cats.to_sql('cats_'+table_name_suffix, con, index=False, if_exists='append')"
   ]
  },
  {
   "cell_type": "code",
   "execution_count": null,
   "metadata": {},
   "outputs": [],
   "source": []
  },
  {
   "cell_type": "markdown",
   "metadata": {},
   "source": [
    "## Check Organization's API"
   ]
  },
  {
   "cell_type": "code",
   "execution_count": null,
   "metadata": {
    "scrolled": true
   },
   "outputs": [],
   "source": [
    "dog_org_ids = adoptable_dogs['organization_id'].unique().tolist()\n",
    "cat_org_ids = adoptable_cats['organization_id'].unique().tolist()\n",
    "org_ids_all = set(dog_org_ids + cat_org_ids)\n",
    "org_ids = list(org_ids_all)\n",
    "print(len(org_ids))"
   ]
  },
  {
   "cell_type": "code",
   "execution_count": null,
   "metadata": {},
   "outputs": [],
   "source": [
    "org_ids"
   ]
  },
  {
   "cell_type": "code",
   "execution_count": null,
   "metadata": {},
   "outputs": [],
   "source": []
  },
  {
   "cell_type": "code",
   "execution_count": null,
   "metadata": {
    "scrolled": true
   },
   "outputs": [],
   "source": [
    "orgs_df = pf.organizations(org_ids, return_df =True)\n",
    "orgs_df['photos'] = str(orgs_df['photos'])\n",
    "orgs_df['date_saved'] = str(datetime.datetime.now().date())\n",
    "orgs_df"
   ]
  },
  {
   "cell_type": "code",
   "execution_count": null,
   "metadata": {},
   "outputs": [],
   "source": [
    "orgs_df.to_sql('Organizations', con, index=False, if_exists='replace')"
   ]
  },
  {
   "cell_type": "code",
   "execution_count": null,
   "metadata": {},
   "outputs": [],
   "source": []
  },
  {
   "cell_type": "code",
   "execution_count": null,
   "metadata": {},
   "outputs": [],
   "source": []
  },
  {
   "cell_type": "code",
   "execution_count": null,
   "metadata": {},
   "outputs": [],
   "source": []
  },
  {
   "cell_type": "markdown",
   "metadata": {},
   "source": [
    "## Graveyard "
   ]
  },
  {
   "cell_type": "code",
   "execution_count": null,
   "metadata": {},
   "outputs": [],
   "source": [
    "pf = petpy.Petfinder(key=creds['key'], secret=creds['secret'])"
   ]
  },
  {
   "cell_type": "raw",
   "metadata": {},
   "source": [
    "# All animal types and their relevant data.\n",
    "all_types = pf.animal_types()\n",
    "\n",
    "# Returning data for a single animal type\n",
    "dogs = pf.animal_types('dog')"
   ]
  },
  {
   "cell_type": "raw",
   "metadata": {},
   "source": [
    "all_types"
   ]
  },
  {
   "cell_type": "raw",
   "metadata": {},
   "source": [
    "dogs"
   ]
  },
  {
   "cell_type": "raw",
   "metadata": {},
   "source": [
    "# all_breeds = pf.breeds()\n",
    "print(all_breeds['breeds'].keys())"
   ]
  },
  {
   "cell_type": "raw",
   "metadata": {},
   "source": [
    "dog_breeds = pf.breeds('dog')\n",
    "dog_breeds"
   ]
  },
  {
   "cell_type": "code",
   "execution_count": null,
   "metadata": {},
   "outputs": [],
   "source": [
    "# temp_dogs = pf.animals(animal_type='dog', \n",
    "#     location=10475, distance=50,\n",
    "#     results_per_page=100, pages=1, return_df=False)\n",
    "temp_dogs.keys()"
   ]
  },
  {
   "cell_type": "code",
   "execution_count": null,
   "metadata": {
    "scrolled": true
   },
   "outputs": [],
   "source": [
    "adoptable_dogs = pf.animals(animal_type='dog', \n",
    "    location=10475, distance=25,\n",
    "    results_per_page=100, pages=2, return_df=True)\n",
    "adoptable_dogs"
   ]
  },
  {
   "cell_type": "code",
   "execution_count": null,
   "metadata": {
    "scrolled": true
   },
   "outputs": [],
   "source": [
    "adoptable_dogs.columns"
   ]
  },
  {
   "cell_type": "code",
   "execution_count": null,
   "metadata": {},
   "outputs": [],
   "source": [
    "vc = adoptable_dogs['contact.address.city'].value_counts()\n",
    "print(vc.shape)\n",
    "vc.head(10)"
   ]
  },
  {
   "cell_type": "code",
   "execution_count": null,
   "metadata": {},
   "outputs": [],
   "source": [
    "vc.sum()"
   ]
  },
  {
   "cell_type": "code",
   "execution_count": null,
   "metadata": {},
   "outputs": [],
   "source": [
    "adoptable_dogs['status'].value_counts()"
   ]
  },
  {
   "cell_type": "markdown",
   "metadata": {},
   "source": []
  },
  {
   "cell_type": "code",
   "execution_count": null,
   "metadata": {},
   "outputs": [],
   "source": [
    "con.commit()\n",
    "con.close()"
   ]
  },
  {
   "cell_type": "code",
   "execution_count": null,
   "metadata": {},
   "outputs": [],
   "source": []
  },
  {
   "cell_type": "code",
   "execution_count": null,
   "metadata": {},
   "outputs": [],
   "source": []
  }
 ],
 "metadata": {
  "kernelspec": {
   "display_name": "Python 3",
   "language": "python",
   "name": "python3"
  },
  "language_info": {
   "codemirror_mode": {
    "name": "ipython",
    "version": 3
   },
   "file_extension": ".py",
   "mimetype": "text/x-python",
   "name": "python",
   "nbconvert_exporter": "python",
   "pygments_lexer": "ipython3",
   "version": "3.6.9"
  },
  "toc": {
   "base_numbering": 1,
   "nav_menu": {},
   "number_sections": true,
   "sideBar": true,
   "skip_h1_title": false,
   "title_cell": "Table of Contents",
   "title_sidebar": "Contents",
   "toc_cell": false,
   "toc_position": {},
   "toc_section_display": true,
   "toc_window_display": true
  }
 },
 "nbformat": 4,
 "nbformat_minor": 4
}
