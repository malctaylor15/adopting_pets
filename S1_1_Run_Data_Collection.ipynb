{
 "cells": [
  {
   "cell_type": "code",
   "execution_count": 1,
   "metadata": {},
   "outputs": [],
   "source": [
    "import smtplib\n",
    "import ssl\n",
    "from email.mime.text import MIMEText\n",
    "from email.mime.multipart import MIMEMultipart\n",
    "import base64\n",
    "import papermill as pm\n",
    "import os \n",
    "import sys\n",
    "import re \n",
    "import datetime\n",
    "import pickle\n",
    "import nbconvert\n",
    "import nbformat\n",
    "from traitlets.config import Config\n",
    "from nbconvert import HTMLExporter\n",
    "from nbconvert.writers import FilesWriter"
   ]
  },
  {
   "cell_type": "code",
   "execution_count": 2,
   "metadata": {},
   "outputs": [
    {
     "name": "stdout",
     "output_type": "stream",
     "text": [
      "/home/malcolm/petfinder\r\n"
     ]
    }
   ],
   "source": [
    "!pwd"
   ]
  },
  {
   "cell_type": "markdown",
   "metadata": {},
   "source": [
    "## Run Notebooks"
   ]
  },
  {
   "cell_type": "code",
   "execution_count": 4,
   "metadata": {},
   "outputs": [],
   "source": [
    "today_str = str(datetime.datetime.now().date())"
   ]
  },
  {
   "cell_type": "code",
   "execution_count": 5,
   "metadata": {},
   "outputs": [],
   "source": [
    "notebook = \"S1_Petfinder_prod.ipynb\"\n",
    "new_notebook = f\"run_notebooks/S1_Petfinder_prod_{today_str}.ipynb\""
   ]
  },
  {
   "cell_type": "code",
   "execution_count": 6,
   "metadata": {
    "scrolled": true
   },
   "outputs": [
    {
     "data": {
      "application/vnd.jupyter.widget-view+json": {
       "model_id": "7c12ecf9f0cb4a0894bb20c30bdab5c5",
       "version_major": 2,
       "version_minor": 0
      },
      "text/plain": [
       "HBox(children=(FloatProgress(value=0.0, description='Executing', max=67.0, style=ProgressStyle(description_wid…"
      ]
     },
     "metadata": {},
     "output_type": "display_data"
    },
    {
     "name": "stdout",
     "output_type": "stream",
     "text": [
      "\n",
      "Error\n",
      "\n",
      "---------------------------------------------------------------------------\n",
      "Exception encountered at \"In [16]\":\n",
      "---------------------------------------------------------------------------\n",
      "WebDriverException                        Traceback (most recent call last)\n",
      "<ipython-input-16-a1f41e2291d8> in <module>\n",
      "      1 print(sys.platform)\n",
      "      2 if sys.platform == 'linux':\n",
      "----> 3     browser = webdriver.Chrome('/usr/bin/chromedriver', options=options)\n",
      "      4 elif sys.platform =='darwin':\n",
      "      5     browser = webdriver.Chrome('/Users/malcolmtaylor/node_modules/chromedriver/lib/chromedriver/chromedriver'\n",
      "\n",
      "~/venv/lib/python3.7/site-packages/selenium/webdriver/chrome/webdriver.py in __init__(self, executable_path, port, options, service_args, desired_capabilities, service_log_path, chrome_options, keep_alive)\n",
      "     79                     remote_server_addr=self.service.service_url,\n",
      "     80                     keep_alive=keep_alive),\n",
      "---> 81                 desired_capabilities=desired_capabilities)\n",
      "     82         except Exception:\n",
      "     83             self.quit()\n",
      "\n",
      "~/venv/lib/python3.7/site-packages/selenium/webdriver/remote/webdriver.py in __init__(self, command_executor, desired_capabilities, browser_profile, proxy, keep_alive, file_detector, options)\n",
      "    155             warnings.warn(\"Please use FirefoxOptions to set browser profile\",\n",
      "    156                           DeprecationWarning, stacklevel=2)\n",
      "--> 157         self.start_session(capabilities, browser_profile)\n",
      "    158         self._switch_to = SwitchTo(self)\n",
      "    159         self._mobile = Mobile(self)\n",
      "\n",
      "~/venv/lib/python3.7/site-packages/selenium/webdriver/remote/webdriver.py in start_session(self, capabilities, browser_profile)\n",
      "    250         parameters = {\"capabilities\": w3c_caps,\n",
      "    251                       \"desiredCapabilities\": capabilities}\n",
      "--> 252         response = self.execute(Command.NEW_SESSION, parameters)\n",
      "    253         if 'sessionId' not in response:\n",
      "    254             response = response['value']\n",
      "\n",
      "~/venv/lib/python3.7/site-packages/selenium/webdriver/remote/webdriver.py in execute(self, driver_command, params)\n",
      "    319         response = self.command_executor.execute(driver_command, params)\n",
      "    320         if response:\n",
      "--> 321             self.error_handler.check_response(response)\n",
      "    322             response['value'] = self._unwrap_value(\n",
      "    323                 response.get('value', None))\n",
      "\n",
      "~/venv/lib/python3.7/site-packages/selenium/webdriver/remote/errorhandler.py in check_response(self, response)\n",
      "    240                 alert_text = value['alert'].get('text')\n",
      "    241             raise exception_class(message, screen, stacktrace, alert_text)\n",
      "--> 242         raise exception_class(message, screen, stacktrace)\n",
      "    243 \n",
      "    244     def _value_or_default(self, obj, key, default):\n",
      "\n",
      "WebDriverException: Message: unknown error: Chrome failed to start: exited abnormally\n",
      "  (unknown error: DevToolsActivePort file doesn't exist)\n",
      "  (The process started from chrome location /usr/bin/chromium-browser is no longer running, so ChromeDriver is assuming that Chrome has crashed.)\n",
      "\n",
      "\n"
     ]
    }
   ],
   "source": [
    "try:\n",
    "    pm.execute_notebook(notebook\n",
    "              , new_notebook)\n",
    "    error = None\n",
    "except Exception as e:\n",
    "    error = str(e)\n",
    "    print(\"Error\")\n",
    "    print(error)"
   ]
  },
  {
   "cell_type": "markdown",
   "metadata": {},
   "source": [
    "## Email"
   ]
  },
  {
   "cell_type": "code",
   "execution_count": 12,
   "metadata": {},
   "outputs": [],
   "source": [
    "def wrap_as_html(new_notebook_name):\n",
    "    \n",
    "    with open(new_notebook_name, 'r') as hnd:\n",
    "        notebook_txt = hnd.read()\n",
    "    nb_notebook = nbformat.reads(notebook_txt, as_version=4)\n",
    "    html_exporter = HTMLExporter()\n",
    "    html_exporter.template_file = 'basic'\n",
    "    (body, resources) = html_exporter.from_notebook_node(nb_notebook)\n",
    "\n",
    "    writer1 = FilesWriter()\n",
    "    html_name = re.sub('.ipynb', '', new_notebook_name)\n",
    "    writer1.write(output = body, resources = resources, notebook_name=html_name)\n",
    "    html_name = html_name + '.html'\n",
    "\n",
    "\n",
    "    return(html_name)"
   ]
  },
  {
   "cell_type": "code",
   "execution_count": 13,
   "metadata": {},
   "outputs": [],
   "source": [
    "def create_html_attachment(html_name):\n",
    "    \n",
    "    with open(html_path, 'r') as hnd:\n",
    "        html = hnd.read()\n",
    "    part1 = MIMEText(html, 'html')\n",
    "    part1.add_header(\"Content-Disposition\", f\"attachment; filename= {html_path}\")\n",
    "    \n",
    "    return(part1)"
   ]
  },
  {
   "cell_type": "code",
   "execution_count": 14,
   "metadata": {},
   "outputs": [],
   "source": [
    "gmail_login = \"malctaylordev@gmail.com\"\n",
    "sender_email = \"malctaylordev@gmail.com\"\n",
    "reciever_email = \"malctaylor15@gmail.com\"\n",
    "# reciever_email = gmail_login"
   ]
  },
  {
   "cell_type": "code",
   "execution_count": 15,
   "metadata": {},
   "outputs": [],
   "source": [
    "with open('/home/malcolm/credentials/email_pw.pkl', 'rb') as hnd:\n",
    "    pw = pickle.load(hnd)['pw']"
   ]
  },
  {
   "cell_type": "code",
   "execution_count": 16,
   "metadata": {},
   "outputs": [],
   "source": [
    "message = MIMEMultipart()\n",
    "message[\"From\"] = sender_email\n",
    "message[\"To\"] = reciever_email\n",
    "port = 465\n",
    "context = ssl.create_default_context()"
   ]
  },
  {
   "cell_type": "code",
   "execution_count": null,
   "metadata": {},
   "outputs": [],
   "source": []
  },
  {
   "cell_type": "code",
   "execution_count": 18,
   "metadata": {},
   "outputs": [
    {
     "name": "stdout",
     "output_type": "stream",
     "text": [
      "removed notebook:  run_notebooks/get_latest_songs_prod_2020-08-02.ipynb\n"
     ]
    }
   ],
   "source": [
    "if isinstance(error, str):\n",
    "    print(\"Error workflow...\")\n",
    "    subject = \"Error in Petfinder: \"+today_str\n",
    "    message[\"Subject\"] = subject\n",
    "\n",
    "    \n",
    "    body = \"\"\"\n",
    "        There was an error in Petfinder Data Collection. \n",
    "\n",
    "        Stack Trace: \n",
    "\n",
    "        \"\"\" + error\n",
    "    \n",
    "    text = MIMEText(body, \"plain\")\n",
    "    \n",
    "    message.attach(text)\n",
    "\n",
    "    try:\n",
    "        html_path = wrap_as_html(new_notebook)\n",
    "        html_attachment = create_html_attachment(html_path)\n",
    "        message.attach(html_attachment)\n",
    "\n",
    "    except Exception as e: \n",
    "        print(e)\n",
    "        body = body + \" \\n\\n Error attaching notebook... WIP \\n\\n\" + str(e)\n",
    "  \n",
    "    \n",
    "    with smtplib.SMTP_SSL(\"smtp.gmail.com\", port, context=context) as server:\n",
    "        server.login(gmail_login, pw)\n",
    "        server.sendmail(gmail_login, reciever_email, message.as_string())\n",
    "else: \n",
    "    os.system(\"rm \"+ new_notebook)\n",
    "    print(\"removed notebook: \", new_notebook)"
   ]
  }
 ],
 "metadata": {
  "kernelspec": {
   "display_name": "Python 3",
   "language": "python",
   "name": "python3"
  },
  "language_info": {
   "codemirror_mode": {
    "name": "ipython",
    "version": 3
   },
   "file_extension": ".py",
   "mimetype": "text/x-python",
   "name": "python",
   "nbconvert_exporter": "python",
   "pygments_lexer": "ipython3",
   "version": "3.6.9"
  },
  "toc": {
   "base_numbering": 1,
   "nav_menu": {},
   "number_sections": true,
   "sideBar": true,
   "skip_h1_title": false,
   "title_cell": "Table of Contents",
   "title_sidebar": "Contents",
   "toc_cell": false,
   "toc_position": {},
   "toc_section_display": true,
   "toc_window_display": false
  }
 },
 "nbformat": 4,
 "nbformat_minor": 4
}
