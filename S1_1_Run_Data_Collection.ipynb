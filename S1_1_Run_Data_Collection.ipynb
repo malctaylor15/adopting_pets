{
 "cells": [
  {
   "cell_type": "code",
   "execution_count": 1,
   "metadata": {},
   "outputs": [],
   "source": [
    "import papermill as pm\n",
    "import os \n",
    "import sys\n",
    "import re \n",
    "import datetime\n",
    "import pickle\n",
    "\n",
    "sys.path.append('/home/malcolm/EmailSender1/')\n",
    "sys.path.append('/home/malcolm/petfinder/')\n",
    "from EmailSender import EmailSender as ES\n"
   ]
  },
  {
   "cell_type": "code",
   "execution_count": 2,
   "metadata": {},
   "outputs": [
    {
     "name": "stdout",
     "output_type": "stream",
     "text": [
      "/home/malcolm/petfinder\r\n"
     ]
    }
   ],
   "source": [
    "!pwd"
   ]
  },
  {
   "cell_type": "markdown",
   "metadata": {},
   "source": [
    "## Run Notebooks"
   ]
  },
  {
   "cell_type": "code",
   "execution_count": 3,
   "metadata": {},
   "outputs": [],
   "source": [
    "today_str = str(datetime.datetime.now().date())"
   ]
  },
  {
   "cell_type": "code",
   "execution_count": 4,
   "metadata": {},
   "outputs": [],
   "source": [
    "notebook = \"/home/malcolm/petfinder/S1_Petfinder_prod.ipynb\"\n",
    "new_notebook = f\"/home/malcolm/petfinder/run_notebooks/S1_Petfinder_prod_{today_str}.ipynb\""
   ]
  },
  {
   "cell_type": "code",
   "execution_count": 5,
   "metadata": {
    "scrolled": true
   },
   "outputs": [
    {
     "data": {
      "application/vnd.jupyter.widget-view+json": {
       "model_id": "62b5c30ea2d54276a8ce633264abe763",
       "version_major": 2,
       "version_minor": 0
      },
      "text/plain": [
       "Executing:   0%|          | 0/51 [00:00<?, ?cell/s]"
      ]
     },
     "metadata": {},
     "output_type": "display_data"
    },
    {
     "name": "stdout",
     "output_type": "stream",
     "text": [
      "Finished Sucessfully\n"
     ]
    }
   ],
   "source": [
    "try:\n",
    "    pm.execute_notebook(notebook\n",
    "              , new_notebook)\n",
    "    error = None\n",
    "    print(\"Finished Sucessfully\")\n",
    "except Exception as e:\n",
    "    error = str(e)\n",
    "    print(\"Error\")\n",
    "    error_email = {}\n",
    "    error_email['Subject'] = f\"Error in Petfinder Data Collection for {str(today_str)}\"\n",
    "    error_email['Body'] = f\"\"\"\n",
    "    There was an error in Petfinder Data Collection. \n",
    "\n",
    "    Stack Trace: \n",
    "    \n",
    "    {str(e)}\n",
    "    \n",
    "    \"\"\"\n",
    "    if os.path.isfile(new_notebook):\n",
    "        error_email['run_notebook_path'] = new_notebook \n",
    "    email_sender = ES(**error_email)\n",
    "    email_sender.execute()\n",
    "    print(\"Sent fail email\")"
   ]
  }
 ],
 "metadata": {
  "kernelspec": {
   "display_name": "Python 3 (ipykernel)",
   "language": "python",
   "name": "python3"
  },
  "language_info": {
   "codemirror_mode": {
    "name": "ipython",
    "version": 3
   },
   "file_extension": ".py",
   "mimetype": "text/x-python",
   "name": "python",
   "nbconvert_exporter": "python",
   "pygments_lexer": "ipython3",
   "version": "3.10.12"
  },
  "toc": {
   "base_numbering": 1,
   "nav_menu": {},
   "number_sections": true,
   "sideBar": true,
   "skip_h1_title": false,
   "title_cell": "Table of Contents",
   "title_sidebar": "Contents",
   "toc_cell": false,
   "toc_position": {},
   "toc_section_display": true,
   "toc_window_display": false
  },
  "varInspector": {
   "cols": {
    "lenName": 16,
    "lenType": 16,
    "lenVar": 40
   },
   "kernels_config": {
    "python": {
     "delete_cmd_postfix": "",
     "delete_cmd_prefix": "del ",
     "library": "var_list.py",
     "varRefreshCmd": "print(var_dic_list())"
    },
    "r": {
     "delete_cmd_postfix": ") ",
     "delete_cmd_prefix": "rm(",
     "library": "var_list.r",
     "varRefreshCmd": "cat(var_dic_list()) "
    }
   },
   "types_to_exclude": [
    "module",
    "function",
    "builtin_function_or_method",
    "instance",
    "_Feature"
   ],
   "window_display": false
  }
 },
 "nbformat": 4,
 "nbformat_minor": 4
}
