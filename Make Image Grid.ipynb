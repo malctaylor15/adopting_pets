{
 "cells": [
  {
   "cell_type": "code",
   "execution_count": null,
   "metadata": {},
   "outputs": [],
   "source": [
    "from PIL import Image \n",
    "import os "
   ]
  },
  {
   "cell_type": "code",
   "execution_count": null,
   "metadata": {},
   "outputs": [],
   "source": [
    "def append_images(images, direction='horizontal',\n",
    "                  bg_color=(255,255,255), aligment='center'):\n",
    "    \"\"\"\n",
    "    Appends images in horizontal/vertical direction.\n",
    "    \n",
    "    https://stackoverflow.com/questions/30227466/combine-several-images-horizontally-with-python/46623632#46623632\n",
    "    \n",
    "    Args:\n",
    "        images: List of PIL images\n",
    "        direction: direction of concatenation, 'horizontal' or 'vertical'\n",
    "        bg_color: Background color (default: white)\n",
    "        aligment: alignment mode if images need padding;\n",
    "           'left', 'right', 'top', 'bottom', or 'center'\n",
    "\n",
    "    Returns:\n",
    "        Concatenated image as a new PIL image object.\n",
    "    \"\"\"\n",
    "    widths, heights = zip(*(i.size for i in images))\n",
    "\n",
    "    if direction=='horizontal':\n",
    "        new_width = sum(widths)\n",
    "        new_height = max(heights)\n",
    "    else:\n",
    "        new_width = max(widths)\n",
    "        new_height = sum(heights)\n",
    "\n",
    "    new_im = Image.new('RGB', (new_width, new_height), color=bg_color)\n",
    "\n",
    "\n",
    "    offset = 0\n",
    "    for im in images:\n",
    "        if direction=='horizontal':\n",
    "            y = 0\n",
    "            if aligment == 'center':\n",
    "                y = int((new_height - im.size[1])/2)\n",
    "            elif aligment == 'bottom':\n",
    "                y = new_height - im.size[1]\n",
    "            new_im.paste(im, (offset, y))\n",
    "            offset += im.size[0]\n",
    "        else:\n",
    "            x = 0\n",
    "            if aligment == 'center':\n",
    "                x = int((new_width - im.size[0])/2)\n",
    "            elif aligment == 'right':\n",
    "                x = new_width - im.size[0]\n",
    "            new_im.paste(im, (x, offset))\n",
    "            offset += im.size[1]\n",
    "\n",
    "    return new_im"
   ]
  },
  {
   "cell_type": "markdown",
   "metadata": {},
   "source": [
    "## Charts"
   ]
  },
  {
   "cell_type": "code",
   "execution_count": null,
   "metadata": {},
   "outputs": [],
   "source": [
    "base_path = '/home/malcolm/petfinder/data/result_images/'"
   ]
  },
  {
   "cell_type": "code",
   "execution_count": null,
   "metadata": {},
   "outputs": [],
   "source": [
    "latest_dir = os.listdir(base_path)\n",
    "latest_dir.sort()\n",
    "latest_dir = latest_dir[-1]\n",
    "base_path = base_path + latest_dir + '/'"
   ]
  },
  {
   "cell_type": "code",
   "execution_count": null,
   "metadata": {},
   "outputs": [],
   "source": [
    "images = os.listdir(base_path)\n",
    "imgs = {img_name :Image.open(base_path + img_name) for img_name in images}\n",
    "images"
   ]
  },
  {
   "cell_type": "code",
   "execution_count": null,
   "metadata": {},
   "outputs": [],
   "source": [
    "img1 = append_images([imgs['Added Last Week Dogs.png'], imgs['Still There Dogs.png']]\n",
    "                     , direction='horizontal')\n",
    "img2 = append_images([imgs['N Dogs in Shelters.png'], imgs['N Days per Dog.png']], direction='horizontal')\n",
    "img3 = append_images([img1, img2], direction='vertical')"
   ]
  },
  {
   "cell_type": "code",
   "execution_count": null,
   "metadata": {},
   "outputs": [],
   "source": [
    "img3"
   ]
  },
  {
   "cell_type": "code",
   "execution_count": null,
   "metadata": {},
   "outputs": [],
   "source": []
  },
  {
   "cell_type": "markdown",
   "metadata": {},
   "source": [
    "## Individual Dogs"
   ]
  },
  {
   "cell_type": "code",
   "execution_count": null,
   "metadata": {},
   "outputs": [],
   "source": [
    "import sqlite3 \n",
    "import numpy as np\n",
    "import pandas as pd\n",
    "import datetime"
   ]
  },
  {
   "cell_type": "code",
   "execution_count": null,
   "metadata": {},
   "outputs": [],
   "source": [
    "dogs_pic_folder = '/home/malcolm/sym_data_storage/Petfinder/Dogs/2021-12/'\n",
    "image_save_folder = '/home/malcolm/petfinder/data/result_images/2021-12-31/'\n"
   ]
  },
  {
   "cell_type": "code",
   "execution_count": null,
   "metadata": {},
   "outputs": [],
   "source": [
    "# 4 pictures of dogs to send \n",
    "total_dog_pics = os.listdir(dogs_pic_folder)\n",
    "pics_to_send = np.random.choice([dogs_pic_folder + x for x in total_dog_pics], size = 4)\n",
    "\n",
    "# Charts \n",
    "charts = os.listdir(image_save_folder)\n",
    "image_paths_to_send = [image_save_folder + x for x in charts]\n",
    "image_paths_to_send.extend(pics_to_send.tolist())"
   ]
  },
  {
   "cell_type": "code",
   "execution_count": null,
   "metadata": {},
   "outputs": [],
   "source": [
    "len(image_paths_to_send)"
   ]
  },
  {
   "cell_type": "code",
   "execution_count": null,
   "metadata": {},
   "outputs": [],
   "source": [
    "con = sqlite3.connect('/home/malcolm/petfinder/data/petfinder.db')\n",
    "cursor = con.cursor()"
   ]
  },
  {
   "cell_type": "code",
   "execution_count": null,
   "metadata": {},
   "outputs": [],
   "source": [
    "img_status = pd.read_sql(\"\"\" \n",
    "select * \n",
    "from Dog_Image_Status\n",
    "limit 10 \n",
    "\"\"\", con)\n",
    "img_status.head()"
   ]
  },
  {
   "cell_type": "code",
   "execution_count": null,
   "metadata": {},
   "outputs": [],
   "source": [
    "cursor.execute(\"\"\"\n",
    "select date_saved, count(*) as cnt\n",
    ", count(distinct id) as unique_id\n",
    ", count(distinct name) as unique_names\n",
    "from Dog_Image_Status\n",
    "where date_saved > '2021-12-15'\n",
    "group by date_saved \n",
    "order by 1 desc\n",
    "\"\"\").fetchall()"
   ]
  },
  {
   "cell_type": "code",
   "execution_count": null,
   "metadata": {},
   "outputs": [],
   "source": [
    "today = datetime.datetime.now() - datetime.timedelta(days=1)\n",
    "today_str = str(datetime.datetime.now().date())\n",
    "two_weeks = today - datetime.timedelta(days=7)\n",
    "two_weeks_str = str(two_weeks.date())"
   ]
  },
  {
   "cell_type": "code",
   "execution_count": null,
   "metadata": {},
   "outputs": [],
   "source": [
    "cursor.execute(f\"\"\"\n",
    "select count(distinct id) from dog_10475_30mi\n",
    "where date_saved between '{two_weeks_str}' and '{today_str}'\n",
    "\"\"\").fetchall()"
   ]
  },
  {
   "cell_type": "code",
   "execution_count": null,
   "metadata": {},
   "outputs": [],
   "source": []
  },
  {
   "cell_type": "code",
   "execution_count": null,
   "metadata": {},
   "outputs": [],
   "source": [
    "data_raw = pd.read_sql(f\"\"\"\n",
    "select dogs.*, orgs.name as org_name \n",
    "from dog_10475_30mi dogs\n",
    "left join Organizations orgs\n",
    "on dogs.organization_id = orgs.id\n",
    "where date_saved between '{two_weeks_str}' and '{today_str}'\n",
    "\"\"\" , con)\n",
    "print(\"Shape: \", data_raw.shape)\n",
    "print(data_raw.columns)"
   ]
  },
  {
   "cell_type": "code",
   "execution_count": null,
   "metadata": {},
   "outputs": [],
   "source": [
    "pd.set_option('max_columns', 1000)\n",
    "pd.set_option('max_colwidth', 1000)"
   ]
  },
  {
   "cell_type": "code",
   "execution_count": null,
   "metadata": {},
   "outputs": [],
   "source": [
    "key_cols = ['size', 'gender', 'tags', 'name', 'description', 'breeds.primary', 'contact.address.city'\n",
    "           , 'org_name', 'date_saved']"
   ]
  },
  {
   "cell_type": "code",
   "execution_count": null,
   "metadata": {},
   "outputs": [],
   "source": [
    "img_pics_df = pd.read_sql(f\"\"\"\n",
    "select max(dogs.name) as dog_name\n",
    ", max(`breeds.primary`) as breed, max(gender) as gender, max(size) as size\n",
    ", max(`colors.primary`) as color\n",
    ", max(orgs.name) as org_name, max(`contact.address.city`) as city, min(img.date_saved) as img_date_saved\n",
    ", max(description) as description--, max(tags) tags\n",
    ", max(Image_Status) img_loc, dogs.id\n",
    "from dog_10475_30mi dogs\n",
    "left join Organizations orgs\n",
    "on dogs.organization_id = orgs.id\n",
    "left join Dog_Image_Status img\n",
    "on dogs.id = img.id\n",
    "where img.date_saved between '{two_weeks_str}' and '{today_str}'\n",
    "and img.Image_Status is not null \n",
    "and img.Image_Status != ''\n",
    "group by dogs.id\n",
    "order by dogs.id \n",
    "\"\"\" , con)\n",
    "print(\"Shape: \", img_pics_df.shape)\n",
    "print(img_pics_df.columns)\n",
    "img_pics_df.head()"
   ]
  },
  {
   "cell_type": "code",
   "execution_count": null,
   "metadata": {},
   "outputs": [],
   "source": [
    "img_pics_df.head()"
   ]
  },
  {
   "cell_type": "code",
   "execution_count": null,
   "metadata": {},
   "outputs": [],
   "source": [
    "selected_pics = img_pics_df.sample(n=4, random_state=123)\n",
    "pic_locs = selected_pics['img_loc'].tolist()\n",
    "selected_pics = selected_pics.drop(['img_loc'], axis=1)\n",
    "selected_pics"
   ]
  },
  {
   "cell_type": "code",
   "execution_count": null,
   "metadata": {},
   "outputs": [],
   "source": [
    "dog_imgs = [Image.open(x) for x in pic_locs]\n",
    "dog_img1 = append_images([dog_imgs[0], dog_imgs[1]]\n",
    "                        , direction='horizontal')\n",
    "dog_img2 = append_images([dog_imgs[2], dog_imgs[3]]\n",
    "                        , direction='horizontal')\n",
    "dog_img3 =  append_images([dog_img1, dog_img2], direction='vertical')\n",
    "dog_img3"
   ]
  },
  {
   "cell_type": "code",
   "execution_count": null,
   "metadata": {},
   "outputs": [],
   "source": [
    "dog_img3.save(image_save_folder+ '4_dogs.jpeg')"
   ]
  },
  {
   "cell_type": "markdown",
   "metadata": {},
   "source": [
    "## Plotly to PIL"
   ]
  },
  {
   "cell_type": "code",
   "execution_count": null,
   "metadata": {
    "scrolled": true
   },
   "outputs": [],
   "source": [
    "import plotly.graph_objects as go\n",
    "\n",
    "# Create figure\n",
    "fig = go.Figure()\n",
    "\n",
    "# Add trace\n",
    "fig.add_trace(\n",
    "    go.Scatter(x=[0, 0.5, 1, 2, 2.2], y=[1.23, 2.5, 0.42, 3, 1])\n",
    ")\n",
    "\n",
    "# Add images\n",
    "fig.add_layout_image(\n",
    "        dict(\n",
    "            source=\"https://images.plot.ly/language-icons/api-home/python-logo.png\",\n",
    "            xref=\"x\",\n",
    "            yref=\"y\",\n",
    "            x=0,\n",
    "            y=3,\n",
    "            sizex=2,\n",
    "            sizey=2,\n",
    "            sizing=\"stretch\",\n",
    "            opacity=0.5,\n",
    "            layer=\"below\")\n",
    ")\n",
    "\n",
    "# Set templates\n",
    "fig.update_layout(template=\"plotly_white\")\n",
    "\n",
    "fig.show()"
   ]
  },
  {
   "cell_type": "code",
   "execution_count": null,
   "metadata": {},
   "outputs": [],
   "source": [
    "pil_img = fig.to_image()"
   ]
  },
  {
   "cell_type": "code",
   "execution_count": null,
   "metadata": {},
   "outputs": [],
   "source": [
    "import io"
   ]
  },
  {
   "cell_type": "code",
   "execution_count": null,
   "metadata": {},
   "outputs": [],
   "source": [
    "Image.open(io.BytesIO(pil_img))"
   ]
  },
  {
   "cell_type": "markdown",
   "metadata": {},
   "source": [
    "## Test Changes"
   ]
  },
  {
   "cell_type": "code",
   "execution_count": 1,
   "metadata": {},
   "outputs": [],
   "source": [
    "%load_ext autoreload\n",
    "%autoreload 2"
   ]
  },
  {
   "cell_type": "code",
   "execution_count": 2,
   "metadata": {},
   "outputs": [],
   "source": [
    "import sys \n",
    "import os\n",
    "os.chdir('/home/malcolm')\n",
    "sys.path.append('/home/malcolm/EmailSender/')\n",
    "sys.path.append('/home/malcolm/petfinder/')\n",
    "from EmailSender.EmailSender import EmailSender as ES\n",
    "from pf_scripts.petfinder_eda import PetFinderEda\n",
    "import datetime\n",
    "\n",
    "today = datetime.datetime.now().date()\n"
   ]
  },
  {
   "cell_type": "code",
   "execution_count": null,
   "metadata": {},
   "outputs": [],
   "source": []
  },
  {
   "cell_type": "code",
   "execution_count": 8,
   "metadata": {},
   "outputs": [
    {
     "name": "stdout",
     "output_type": "stream",
     "text": [
      "Success\n"
     ]
    }
   ],
   "source": [
    "try: \n",
    "\n",
    "#     pf_eda = PetFinderEda()\n",
    "#     pf_eda.execute()\n",
    "    \n",
    "    html_dict = {k:v.to_html() for k, v in pf_eda.output_dfs.items() }\n",
    "    body_html = f\"\"\"\n",
    "    This email contains a report of the <b>dogs</b> listed on Petfinder.com from {pf_eda.two_weeks_str} to {pf_eda.today_str} \n",
    "    for all locations 30 miles from 10475. \n",
    "\n",
    "    It contains summary information about the Number of dogs in shelters as of {pf_eda.today_str}, top organizations\n",
    "    , dogs who have been in shelters the longest. \n",
    "    <br>\n",
    "    <br>\n",
    "    <b>Adoptions</b>\n",
    "    {html_dict['New Old Existing']}\n",
    "    <br>\n",
    "    <br>\n",
    "    <b>Time in Shelter </b>\n",
    "    {html_dict['Long Ad Posted DF']}\n",
    "    <br>\n",
    "    <br>\n",
    "    <b>Shelters with Most Dogs </b> \n",
    "    {html_dict['Top Orgs']}\n",
    "    <br>\n",
    "    <br>\n",
    "    <b>Summary of Dogs in Shelter </b>\n",
    "    {html_dict['All Summaries']}\n",
    "    <br><br>\n",
    "    \n",
    "    <b>Dogs in Image</b> \n",
    "    {html_dict['Dogs in Imgs']}\n",
    "\n",
    "    \"\"\"\n",
    "    \n",
    "    message_params = {}\n",
    "    message_params['Subject'] = f\"Petfinder EDA {str(today)}\"\n",
    "    message_params['Body'] = body_html\n",
    "    message_params['Image_paths'] = pf_eda.image_paths_to_send    \n",
    "    \n",
    "    email_sender = ES(**message_params)\n",
    "    email_sender.execute()\n",
    "    print(\"Success\")\n",
    "except Exception as e:\n",
    "    error_email = {}\n",
    "    error_email['Subject'] = f\"Error in Petfinder for {str(today)}\"\n",
    "    error_email['Body'] = \"Error in Petfinder: Error message <br><br>\" + str(e)\n",
    "    \n",
    "    email_sender = ES(**error_email)\n",
    "    email_sender.execute()\n",
    "    print(\"Failed\")"
   ]
  },
  {
   "cell_type": "code",
   "execution_count": null,
   "metadata": {},
   "outputs": [],
   "source": []
  }
 ],
 "metadata": {
  "kernelspec": {
   "display_name": "Python 3",
   "language": "python",
   "name": "python3"
  },
  "language_info": {
   "codemirror_mode": {
    "name": "ipython",
    "version": 3
   },
   "file_extension": ".py",
   "mimetype": "text/x-python",
   "name": "python",
   "nbconvert_exporter": "python",
   "pygments_lexer": "ipython3",
   "version": "3.6.9"
  },
  "toc": {
   "base_numbering": 1,
   "nav_menu": {},
   "number_sections": true,
   "sideBar": true,
   "skip_h1_title": false,
   "title_cell": "Table of Contents",
   "title_sidebar": "Contents",
   "toc_cell": false,
   "toc_position": {},
   "toc_section_display": true,
   "toc_window_display": true
  }
 },
 "nbformat": 4,
 "nbformat_minor": 4
}
