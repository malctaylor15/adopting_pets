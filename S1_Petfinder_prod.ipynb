{
 "cells": [
  {
   "cell_type": "code",
   "execution_count": 1,
   "metadata": {},
   "outputs": [],
   "source": [
    "import pandas as pd \n",
    "import numpy as np \n",
    "import plotly.express as px \n",
    "import petpy \n",
    "import pickle\n",
    "import sqlite3\n",
    "import time\n",
    "import datetime\n",
    "import urllib\n",
    "import requests"
   ]
  },
  {
   "cell_type": "code",
   "execution_count": null,
   "metadata": {},
   "outputs": [],
   "source": []
  },
  {
   "cell_type": "markdown",
   "metadata": {},
   "source": [
    "## Functions  \n",
    "\n",
    "### Get Pagination Details"
   ]
  },
  {
   "cell_type": "code",
   "execution_count": 2,
   "metadata": {},
   "outputs": [],
   "source": [
    "def create_header(creds):\n",
    "    endpoint = 'oauth2/token'\n",
    "    host = 'http://api.petfinder.com/v2/'\n",
    "    url = urllib.parse.urljoin(host, endpoint)\n",
    "\n",
    "    data = {\n",
    "        'grant_type': 'client_credentials',\n",
    "        'client_id': creds['key'],\n",
    "        'client_secret': creds['secret']\n",
    "    }\n",
    "\n",
    "    r = requests.post(url, data=data)\n",
    "    api_key = r.json()['access_token']\n",
    "    headers = {'Authorization' : 'Bearer ' + api_key}\n",
    "    return(headers)"
   ]
  },
  {
   "cell_type": "code",
   "execution_count": 3,
   "metadata": {},
   "outputs": [],
   "source": [
    "def get_pagination_details(params, header):\n",
    "    animals_endpt = 'https://api.petfinder.com/v2/animals/'\n",
    "    results = requests.get(animals_endpt\n",
    "                       , params=params\n",
    "                       , headers=headers)\n",
    "    assert(results.status_code == 200), f\"Status code not 200: It's {results.status_code}\"\n",
    "    results_json = results.json()\n",
    "    keeper_results = {}\n",
    "    keeper_results['n_pages'] = results_json['pagination']['total_pages']\n",
    "    keeper_results['total_count'] = results_json['pagination']['total_count']\n",
    "    return(keeper_results)"
   ]
  },
  {
   "cell_type": "code",
   "execution_count": null,
   "metadata": {},
   "outputs": [],
   "source": []
  },
  {
   "cell_type": "code",
   "execution_count": null,
   "metadata": {},
   "outputs": [],
   "source": []
  },
  {
   "cell_type": "markdown",
   "metadata": {},
   "source": [
    "### Create Petpy dict  "
   ]
  },
  {
   "cell_type": "code",
   "execution_count": 4,
   "metadata": {},
   "outputs": [],
   "source": [
    "def create_petpy_dict(params, pages):\n",
    "    petpy_dict = params.copy()\n",
    "    petpy_dict['animal_type'] = petpy_dict.pop('type')\n",
    "    petpy_dict['results_per_page'] = petpy_dict.pop('limit')\n",
    "    petpy_dict['pages'] = pages\n",
    "    petpy_dict['return_df'] = True\n",
    "    del(petpy_dict['page'])\n",
    "    if 'type' in petpy_dict.keys():\n",
    "        del(petpy_dict['type'])\n",
    "    print(petpy_dict)\n",
    "    return(petpy_dict)"
   ]
  },
  {
   "cell_type": "markdown",
   "metadata": {},
   "source": [
    "### Export to SQL"
   ]
  },
  {
   "cell_type": "code",
   "execution_count": 5,
   "metadata": {},
   "outputs": [],
   "source": [
    "def _prepare_df_for_export(adoptable_pets):\n",
    "    # Prep dataset for export into SQL \n",
    "    adoptable_pets = adoptable_pets.loc[:,~adoptable_pets.columns.duplicated()]    \n",
    "    adoptable_pets['date_saved'] = str(datetime.datetime.now().date())\n",
    "    for x in ['tags', 'photos', 'videos']:\n",
    "        if x in adoptable_pets.columns:\n",
    "            adoptable_pets[x] = str(adoptable_pets[x])\n",
    "    return(adoptable_pets)"
   ]
  },
  {
   "cell_type": "code",
   "execution_count": 6,
   "metadata": {},
   "outputs": [],
   "source": [
    "def _create_con(path):\n",
    "    con = sqlite3.connect(path)\n",
    "    return(con)"
   ]
  },
  {
   "cell_type": "code",
   "execution_count": 7,
   "metadata": {},
   "outputs": [],
   "source": [
    "def _create_tbl_name(petpy_dict):\n",
    "    tbl_name = f\"{petpy_dict['animal_type']}_{petpy_dict['location']}_{petpy_dict['distance']}mi\"\n",
    "    return(tbl_name)"
   ]
  },
  {
   "cell_type": "code",
   "execution_count": 8,
   "metadata": {},
   "outputs": [],
   "source": [
    "def append_df(adoptable_pets, petpy_dict, path= '/home/malcolm/petfinder/data/petfinder.db'):\n",
    "    adoptable_pets = _prepare_df_for_export(adoptable_pets)\n",
    "    con = _create_con(path)\n",
    "    tbl_name = _create_tbl_name(petpy_dict)\n",
    "    adoptable_pets.to_sql(tbl_name, con, index=False, if_exists='append')\n",
    "    print(adoptable_pets.shape[0], \" pets added\") \n",
    "    con.commit()\n",
    "    con.close()"
   ]
  },
  {
   "cell_type": "code",
   "execution_count": null,
   "metadata": {},
   "outputs": [],
   "source": []
  },
  {
   "cell_type": "markdown",
   "metadata": {},
   "source": [
    "## Running it"
   ]
  },
  {
   "cell_type": "code",
   "execution_count": 9,
   "metadata": {},
   "outputs": [],
   "source": [
    "with open('/home/malcolm/credentials/petfinder_credentials.pkl', 'rb') as hnd:\n",
    "    creds = pickle.load(hnd)"
   ]
  },
  {
   "cell_type": "code",
   "execution_count": null,
   "metadata": {},
   "outputs": [],
   "source": []
  },
  {
   "cell_type": "code",
   "execution_count": 10,
   "metadata": {},
   "outputs": [],
   "source": [
    "dog_params = dict(type='dog', \n",
    "    location='10475', distance=30,\n",
    "    limit=100, page=1)\n",
    "cat_params = dict(type='cat', \n",
    "    location='10475', distance=30,\n",
    "    limit=100, page=1)"
   ]
  },
  {
   "cell_type": "code",
   "execution_count": null,
   "metadata": {},
   "outputs": [],
   "source": [
    "headers = create_header(creds)\n",
    "dog_pagination = get_pagination_details(dog_params, headers)\n",
    "dog_pages = dog_pagination['n_pages']\n",
    "cat_pagination = get_pagination_details(cat_params, headers)\n",
    "cat_pages = cat_pagination['n_pages']\n"
   ]
  },
  {
   "cell_type": "code",
   "execution_count": null,
   "metadata": {},
   "outputs": [],
   "source": [
    "pf = petpy.Petfinder(key=creds['key'], secret=creds['secret'])\n",
    "\n",
    "dogs_petpy_dict = create_petpy_dict(dog_params, dog_pages)\n",
    "adoptable_dogs = pf.animals(**dogs_petpy_dict)\n",
    "append_df(adoptable_dogs, dogs_petpy_dict)"
   ]
  },
  {
   "cell_type": "code",
   "execution_count": null,
   "metadata": {},
   "outputs": [],
   "source": [
    "time.sleep(5)\n",
    "cats_petpy_dict = create_petpy_dict(cat_params, cat_pages)\n",
    "adoptable_cats = pf.animals(**cats_petpy_dict)\n",
    "append_df(adoptable_cats, cats_petpy_dict)"
   ]
  },
  {
   "cell_type": "code",
   "execution_count": null,
   "metadata": {},
   "outputs": [],
   "source": [
    "assert(dog_pagination['total_count'] - 20 < adoptable_dogs.shape[0] < dog_pagination['total_count'] + 20)\\\n",
    "    ,f\"API count not close to df size- df size: {adoptable_dogs.shape[0]}, api count: {dog_pagination['total_count']}\"\n",
    "assert(cat_pagination['total_count'] - 20 < adoptable_cats.shape[0] < cat_pagination['total_count'] + 20)\\\n",
    "    ,f\"API count not close to df size- df size: {adoptable_cats.shape[0]}, api count: {cat_pagination['total_count']}\"\n"
   ]
  },
  {
   "cell_type": "code",
   "execution_count": null,
   "metadata": {},
   "outputs": [],
   "source": []
  },
  {
   "cell_type": "markdown",
   "metadata": {},
   "source": [
    "## Get Images"
   ]
  },
  {
   "cell_type": "code",
   "execution_count": 77,
   "metadata": {},
   "outputs": [],
   "source": [
    "from IPython.display import Image, display, HTML\n",
    "import os"
   ]
  },
  {
   "cell_type": "code",
   "execution_count": 84,
   "metadata": {},
   "outputs": [
    {
     "data": {
      "text/plain": [
       "'2021-09-04'"
      ]
     },
     "execution_count": 84,
     "metadata": {},
     "output_type": "execute_result"
    }
   ],
   "source": [
    "now = datetime.datetime.now()\n",
    "month = now.month\n",
    "year = now.year\n",
    "today_str = str(now.date())\n",
    "today_str"
   ]
  },
  {
   "cell_type": "code",
   "execution_count": 89,
   "metadata": {},
   "outputs": [
    {
     "data": {
      "text/plain": [
       "'/mnt/volume-nyc3-01/Petfinder/Dogs/2021-9/'"
      ]
     },
     "execution_count": 89,
     "metadata": {},
     "output_type": "execute_result"
    }
   ],
   "source": [
    "base_path = f'/mnt/volume-nyc3-01/Petfinder/Dogs/{year}-{month}/'\n",
    "os.makedirs(base_path, exist_ok=True)\n",
    "base_path"
   ]
  },
  {
   "cell_type": "code",
   "execution_count": 90,
   "metadata": {},
   "outputs": [
    {
     "name": "stdout",
     "output_type": "stream",
     "text": [
      "[('dog_10475_30mi',), ('cat_10475_30mi',), ('Organizations',)]\n"
     ]
    }
   ],
   "source": [
    "con = sqlite3.connect('/home/malcolm/petfinder/data/petfinder.db')\n",
    "cursor = con.cursor()\n",
    "cursor.execute(\"SELECT name FROM sqlite_master WHERE type='table';\")\n",
    "print(cursor.fetchall())"
   ]
  },
  {
   "cell_type": "code",
   "execution_count": 123,
   "metadata": {
    "scrolled": true
   },
   "outputs": [
    {
     "data": {
      "text/html": [
       "<div>\n",
       "<style scoped>\n",
       "    .dataframe tbody tr th:only-of-type {\n",
       "        vertical-align: middle;\n",
       "    }\n",
       "\n",
       "    .dataframe tbody tr th {\n",
       "        vertical-align: top;\n",
       "    }\n",
       "\n",
       "    .dataframe thead th {\n",
       "        text-align: right;\n",
       "    }\n",
       "</style>\n",
       "<table border=\"1\" class=\"dataframe\">\n",
       "  <thead>\n",
       "    <tr style=\"text-align: right;\">\n",
       "      <th></th>\n",
       "      <th>name</th>\n",
       "      <th>id</th>\n",
       "      <th>primary_photo_cropped.large</th>\n",
       "      <th>date_saved</th>\n",
       "      <th>Image_Status</th>\n",
       "    </tr>\n",
       "  </thead>\n",
       "  <tbody>\n",
       "    <tr>\n",
       "      <th>0</th>\n",
       "      <td>Mickey (TX)</td>\n",
       "      <td>52535672</td>\n",
       "      <td>https://dl5zpyw5k3jeb.cloudfront.net/photos/pe...</td>\n",
       "      <td>2021-08-01</td>\n",
       "      <td>None</td>\n",
       "    </tr>\n",
       "    <tr>\n",
       "      <th>1</th>\n",
       "      <td>Chiquita (TX)</td>\n",
       "      <td>52535630</td>\n",
       "      <td>https://dl5zpyw5k3jeb.cloudfront.net/photos/pe...</td>\n",
       "      <td>2021-08-01</td>\n",
       "      <td>None</td>\n",
       "    </tr>\n",
       "    <tr>\n",
       "      <th>2</th>\n",
       "      <td>Bob</td>\n",
       "      <td>52535330</td>\n",
       "      <td>https://dl5zpyw5k3jeb.cloudfront.net/photos/pe...</td>\n",
       "      <td>2021-08-01</td>\n",
       "      <td>None</td>\n",
       "    </tr>\n",
       "    <tr>\n",
       "      <th>3</th>\n",
       "      <td>Astor</td>\n",
       "      <td>52533667</td>\n",
       "      <td>https://dl5zpyw5k3jeb.cloudfront.net/photos/pe...</td>\n",
       "      <td>2021-08-01</td>\n",
       "      <td>None</td>\n",
       "    </tr>\n",
       "    <tr>\n",
       "      <th>4</th>\n",
       "      <td>Pirate pr</td>\n",
       "      <td>52533662</td>\n",
       "      <td>https://dl5zpyw5k3jeb.cloudfront.net/photos/pe...</td>\n",
       "      <td>2021-08-01</td>\n",
       "      <td>None</td>\n",
       "    </tr>\n",
       "  </tbody>\n",
       "</table>\n",
       "</div>"
      ],
      "text/plain": [
       "            name        id                        primary_photo_cropped.large  \\\n",
       "0    Mickey (TX)  52535672  https://dl5zpyw5k3jeb.cloudfront.net/photos/pe...   \n",
       "1  Chiquita (TX)  52535630  https://dl5zpyw5k3jeb.cloudfront.net/photos/pe...   \n",
       "2            Bob  52535330  https://dl5zpyw5k3jeb.cloudfront.net/photos/pe...   \n",
       "3          Astor  52533667  https://dl5zpyw5k3jeb.cloudfront.net/photos/pe...   \n",
       "4      Pirate pr  52533662  https://dl5zpyw5k3jeb.cloudfront.net/photos/pe...   \n",
       "\n",
       "   date_saved Image_Status  \n",
       "0  2021-08-01         None  \n",
       "1  2021-08-01         None  \n",
       "2  2021-08-01         None  \n",
       "3  2021-08-01         None  \n",
       "4  2021-08-01         None  "
      ]
     },
     "execution_count": 123,
     "metadata": {},
     "output_type": "execute_result"
    }
   ],
   "source": [
    "adoptable_dogs = pd.read_sql(f\"\"\"select dogs.name, dogs.id, dogs.`primary_photo_cropped.large`\n",
    ", dogs.date_saved, img.Image_Status\n",
    "from dog_10475_30mi dogs\n",
    "left join Dog_Image_Status img\n",
    "on dogs.id = img.id\n",
    "where dogs.date_saved = '{today_str}'\n",
    "and img.name is null\"\"\", con)\n",
    "adoptable_dogs.head()"
   ]
  },
  {
   "cell_type": "code",
   "execution_count": 95,
   "metadata": {},
   "outputs": [],
   "source": [
    "def save_image(row, base_path):\n",
    "    save_path = base_path + row['name'] + '_' + str(row['id']) + '.jpg'\n",
    "    link = row['primary_photo_cropped.large']\n",
    "    try:\n",
    "        urllib.request.urlretrieve(link, save_path)\n",
    "    except:\n",
    "        save_path = \"could not save image\"\n",
    "        print(\"could not save image\")\n",
    "    return(save_path)"
   ]
  },
  {
   "cell_type": "code",
   "execution_count": 102,
   "metadata": {},
   "outputs": [
    {
     "name": "stdout",
     "output_type": "stream",
     "text": [
      "could not save image\n",
      "could not save image\n",
      "could not save image\n",
      "could not save image\n",
      "could not save image\n",
      "could not save image\n",
      "could not save image\n",
      "could not save image\n",
      "could not save image\n",
      "could not save image\n",
      "could not save image\n",
      "could not save image\n",
      "could not save image\n"
     ]
    }
   ],
   "source": [
    "adoptable_dogs['Image_Status'] = adoptable_dogs.apply(lambda x: save_image(x, base_path=base_path), axis=1)"
   ]
  },
  {
   "cell_type": "code",
   "execution_count": 118,
   "metadata": {},
   "outputs": [],
   "source": [
    "adoptable_dogs[['date_saved', 'name', 'id', 'primary_photo_cropped.large', 'Image_Status']]\\\n",
    "    .to_sql('Dog_Image_Status', con, index=False, if_exists='append')\n",
    "con.commit()"
   ]
  },
  {
   "cell_type": "code",
   "execution_count": null,
   "metadata": {},
   "outputs": [],
   "source": []
  },
  {
   "cell_type": "markdown",
   "metadata": {},
   "source": [
    "## Update Org Info "
   ]
  },
  {
   "cell_type": "raw",
   "metadata": {},
   "source": [
    "pf = petpy.Petfinder(key=creds['key'], secret=creds['secret'])\n",
    "\n",
    "con = sqlite3.connect('/home/malcolm/petfinder/data/petfinder.db')\n",
    "cursor = con.cursor()\n",
    "cursor.execute(\"SELECT name FROM sqlite_master WHERE type='table';\")\n",
    "print(cursor.fetchall())"
   ]
  },
  {
   "cell_type": "raw",
   "metadata": {},
   "source": [
    "dog_orgs = pd.read_sql(\"\"\"select distinct organization_id\n",
    "from dog_10475_30mi\"\"\", con)\n",
    "cat_orgs = pd.read_sql(\"\"\"select distinct organization_id\n",
    "from cat_10475_30mi\"\"\", con)\n",
    "existing_orgs = pd.read_sql(\"select distinct id from organizations\", con)\n",
    "print(\"Dog Orgs: \", dog_orgs.shape[0]\n",
    "      , \" Cat Orgs: \", cat_orgs.shape[0]\n",
    "      , \"existing orgs: \", existing_orgs.shape[0])"
   ]
  },
  {
   "cell_type": "raw",
   "metadata": {},
   "source": [
    "existing_orgs"
   ]
  },
  {
   "cell_type": "raw",
   "metadata": {},
   "source": [
    "all_orgs = pd.concat([dog_orgs, cat_orgs])\n",
    "all_orgs = all_orgs.drop_duplicates()\n",
    "merged = pd.merge(all_orgs, existing_orgs\n",
    "                  , left_on='organization_id', right_on = 'id'\n",
    "                  , how='outer', indicator=True)\n",
    "print(merged['_merge'].value_counts())\n",
    "missing_orgs = merged[merged['_merge'] == 'left_only']['organization_id']\n",
    "missing_orgs = missing_orgs.tolist()\n",
    "print(\"Missing orgs: \", len(missing_orgs))\n",
    "missing_orgs[:10]"
   ]
  },
  {
   "cell_type": "raw",
   "metadata": {},
   "source": [
    "all_df = []\n",
    "loops = int(10/ len(missing_orgs))\n",
    "for x in range(loops):\n",
    "    start = x * 10 \n",
    "    end = (x+1) * 10\n",
    "    try:\n",
    "        pf_org_df = pf.organizations(organization_id = missing_orgs[start:end]\n",
    "                                     , results_per_page=100, return_df=True)\n",
    "        all_df.append(pf_org_df)\n",
    "        print(\"Finished: {start} :{end}\")\n",
    "    except:\n",
    "        print(f\"Error in {start}:{end}\")\n",
    "        "
   ]
  },
  {
   "cell_type": "raw",
   "metadata": {},
   "source": [
    "concated_all_orgs_df = pd.concat(all_df)\n",
    "concated_all_orgs_df['photos'] = str(concated_all_orgs_df['photos'])\n",
    "print(\"All Orgs\" ,concated_all_orgs_df.shape)\n",
    "concated_all_orgs_df.head()"
   ]
  },
  {
   "cell_type": "raw",
   "metadata": {},
   "source": [
    "concated_all_orgs_df.to_sql('Organizations', con, index=False, if_exists = 'append')"
   ]
  },
  {
   "cell_type": "raw",
   "metadata": {},
   "source": [
    "cursor.execute(\"select count(*) from organizations\").fetchall()"
   ]
  },
  {
   "cell_type": "raw",
   "metadata": {},
   "source": [
    "con.commit()\n",
    "con.close()"
   ]
  },
  {
   "cell_type": "code",
   "execution_count": null,
   "metadata": {},
   "outputs": [],
   "source": []
  }
 ],
 "metadata": {
  "kernelspec": {
   "display_name": "Python 3",
   "language": "python",
   "name": "python3"
  },
  "language_info": {
   "codemirror_mode": {
    "name": "ipython",
    "version": 3
   },
   "file_extension": ".py",
   "mimetype": "text/x-python",
   "name": "python",
   "nbconvert_exporter": "python",
   "pygments_lexer": "ipython3",
   "version": "3.6.9"
  },
  "toc": {
   "base_numbering": 1,
   "nav_menu": {},
   "number_sections": true,
   "sideBar": true,
   "skip_h1_title": false,
   "title_cell": "Table of Contents",
   "title_sidebar": "Contents",
   "toc_cell": false,
   "toc_position": {},
   "toc_section_display": true,
   "toc_window_display": true
  }
 },
 "nbformat": 4,
 "nbformat_minor": 4
}
