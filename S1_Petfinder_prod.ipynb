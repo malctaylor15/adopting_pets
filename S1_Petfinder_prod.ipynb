{
 "cells": [
  {
   "cell_type": "code",
   "execution_count": 1,
   "metadata": {},
   "outputs": [],
   "source": [
    "import pandas as pd \n",
    "import numpy as np \n",
    "import plotly.express as px \n",
    "import petpy \n",
    "import pickle\n",
    "import sqlite3\n",
    "import time\n",
    "import datetime\n",
    "import urllib\n",
    "import requests"
   ]
  },
  {
   "cell_type": "code",
   "execution_count": null,
   "metadata": {},
   "outputs": [],
   "source": []
  },
  {
   "cell_type": "markdown",
   "metadata": {},
   "source": [
    "## Functions  \n",
    "\n",
    "### Get Pagination Details"
   ]
  },
  {
   "cell_type": "code",
   "execution_count": 2,
   "metadata": {},
   "outputs": [],
   "source": [
    "def create_header(creds):\n",
    "    endpoint = 'oauth2/token'\n",
    "    host = 'http://api.petfinder.com/v2/'\n",
    "    url = urllib.parse.urljoin(host, endpoint)\n",
    "\n",
    "    data = {\n",
    "        'grant_type': 'client_credentials',\n",
    "        'client_id': creds['key'],\n",
    "        'client_secret': creds['secret']\n",
    "    }\n",
    "\n",
    "    r = requests.post(url, data=data)\n",
    "    api_key = r.json()['access_token']\n",
    "    headers = {'Authorization' : 'Bearer ' + api_key}\n",
    "    return(headers)"
   ]
  },
  {
   "cell_type": "code",
   "execution_count": 3,
   "metadata": {},
   "outputs": [],
   "source": [
    "def get_pagination_details(params, header):\n",
    "    animals_endpt = 'https://api.petfinder.com/v2/animals/'\n",
    "    results = requests.get(animals_endpt\n",
    "                       , params=params\n",
    "                       , headers=headers)\n",
    "    assert(results.status_code == 200), f\"Status code not 200: It's {results.status_code}\"\n",
    "    results_json = results.json()\n",
    "    keeper_results = {}\n",
    "    keeper_results['n_pages'] = results_json['pagination']['total_pages']\n",
    "    keeper_results['total_count'] = results_json['pagination']['total_count']\n",
    "    return(keeper_results)"
   ]
  },
  {
   "cell_type": "code",
   "execution_count": null,
   "metadata": {},
   "outputs": [],
   "source": []
  },
  {
   "cell_type": "code",
   "execution_count": null,
   "metadata": {},
   "outputs": [],
   "source": []
  },
  {
   "cell_type": "markdown",
   "metadata": {},
   "source": [
    "### Create Petpy dict  "
   ]
  },
  {
   "cell_type": "code",
   "execution_count": 4,
   "metadata": {},
   "outputs": [],
   "source": [
    "def create_petpy_dict(params, pages):\n",
    "    petpy_dict = params.copy()\n",
    "    petpy_dict['animal_type'] = petpy_dict.pop('type')\n",
    "    petpy_dict['results_per_page'] = petpy_dict.pop('limit')\n",
    "    petpy_dict['pages'] = pages\n",
    "    petpy_dict['return_df'] = True\n",
    "    del(petpy_dict['page'])\n",
    "    if 'type' in petpy_dict.keys():\n",
    "        del(petpy_dict['type'])\n",
    "    print(petpy_dict)\n",
    "    return(petpy_dict)"
   ]
  },
  {
   "cell_type": "markdown",
   "metadata": {},
   "source": [
    "### Export to SQL"
   ]
  },
  {
   "cell_type": "code",
   "execution_count": 5,
   "metadata": {},
   "outputs": [],
   "source": [
    "def _prepare_df_for_export(adoptable_pets):\n",
    "    # Prep dataset for export into SQL \n",
    "    adoptable_pets = adoptable_pets.loc[:,~adoptable_pets.columns.duplicated()]    \n",
    "    adoptable_pets['date_saved'] = str(datetime.datetime.now().date())\n",
    "    for x in ['tags', 'photos', 'videos']:\n",
    "        if x in adoptable_pets.columns:\n",
    "            adoptable_pets[x] = str(adoptable_pets[x])\n",
    "    return(adoptable_pets)"
   ]
  },
  {
   "cell_type": "code",
   "execution_count": 6,
   "metadata": {},
   "outputs": [],
   "source": [
    "def _create_con(path):\n",
    "    con = sqlite3.connect(path)\n",
    "    return(con)"
   ]
  },
  {
   "cell_type": "code",
   "execution_count": 7,
   "metadata": {},
   "outputs": [],
   "source": [
    "def _create_tbl_name(petpy_dict):\n",
    "    tbl_name = f\"{petpy_dict['animal_type']}_{petpy_dict['location']}_{petpy_dict['distance']}mi\"\n",
    "    return(tbl_name)"
   ]
  },
  {
   "cell_type": "code",
   "execution_count": 8,
   "metadata": {},
   "outputs": [],
   "source": [
    "def append_df(adoptable_pets, petpy_dict, path= '/home/malcolm/petfinder/data/petfinder.db'):\n",
    "    adoptable_pets = _prepare_df_for_export(adoptable_pets)\n",
    "    con = _create_con(path)\n",
    "    tbl_name = _create_tbl_name(petpy_dict)\n",
    "    adoptable_pets.to_sql(tbl_name, con, index=False, if_exists='append')\n",
    "    print(adoptable_pets.shape[0], \" pets added\") \n",
    "    con.commit()\n",
    "    con.close()"
   ]
  },
  {
   "cell_type": "code",
   "execution_count": null,
   "metadata": {},
   "outputs": [],
   "source": []
  },
  {
   "cell_type": "markdown",
   "metadata": {},
   "source": [
    "## Running it"
   ]
  },
  {
   "cell_type": "code",
   "execution_count": 9,
   "metadata": {},
   "outputs": [],
   "source": [
    "with open('/home/malcolm/credentials/petfinder_credentials.pkl', 'rb') as hnd:\n",
    "    creds = pickle.load(hnd)"
   ]
  },
  {
   "cell_type": "code",
   "execution_count": null,
   "metadata": {},
   "outputs": [],
   "source": []
  },
  {
   "cell_type": "code",
   "execution_count": 10,
   "metadata": {},
   "outputs": [],
   "source": [
    "dog_params = dict(type='dog', \n",
    "    location='10475', distance=30,\n",
    "    limit=100, page=1)\n",
    "cat_params = dict(type='cat', \n",
    "    location='10475', distance=30,\n",
    "    limit=100, page=1)"
   ]
  },
  {
   "cell_type": "code",
   "execution_count": 12,
   "metadata": {},
   "outputs": [],
   "source": [
    "headers = create_header(creds)\n",
    "dog_pagination = get_pagination_details(dog_params, headers)\n",
    "dog_pages = dog_pagination['n_pages']\n",
    "cat_pagination = get_pagination_details(cat_params, headers)\n",
    "cat_pages = cat_pagination['n_pages']\n"
   ]
  },
  {
   "cell_type": "code",
   "execution_count": 13,
   "metadata": {},
   "outputs": [
    {
     "name": "stdout",
     "output_type": "stream",
     "text": [
      "{'location': '10475', 'distance': 30, 'animal_type': 'dog', 'results_per_page': 100, 'pages': 23, 'return_df': True}\n",
      "2286  pets added\n"
     ]
    }
   ],
   "source": [
    "pf = petpy.Petfinder(key=creds['key'], secret=creds['secret'])\n",
    "\n",
    "dogs_petpy_dict = create_petpy_dict(dog_params, dog_pages)\n",
    "adoptable_dogs = pf.animals(**dogs_petpy_dict)\n",
    "append_df(adoptable_dogs, dogs_petpy_dict)"
   ]
  },
  {
   "cell_type": "code",
   "execution_count": null,
   "metadata": {},
   "outputs": [],
   "source": [
    "time.sleep(5)\n",
    "cats_petpy_dict = create_petpy_dict(cat_params, cat_pages)\n",
    "adoptable_cats = pf.animals(**cats_petpy_dict)\n",
    "append_df(adoptable_cats, cats_petpy_dict)"
   ]
  },
  {
   "cell_type": "code",
   "execution_count": 19,
   "metadata": {},
   "outputs": [],
   "source": [
    "assert(dog_pagination['total_count'] - 20 < adoptable_dogs.shape[0] < dog_pagination['total_count'] + 20)\\\n",
    "    ,f\"API count not close to df size- df size: {adoptable_dogs.shape[0]}, api count: {dog_pagination['total_count']}\"\n",
    "assert(cat_pagination['total_count'] - 20 < adoptable_cats.shape[0] < cat_pagination['total_count'] + 20)\\\n",
    "    ,f\"API count not close to df size- df size: {adoptable_cats.shape[0]}, api count: {cat_pagination['total_count']}\"\n"
   ]
  },
  {
   "cell_type": "code",
   "execution_count": null,
   "metadata": {},
   "outputs": [],
   "source": []
  },
  {
   "cell_type": "code",
   "execution_count": null,
   "metadata": {},
   "outputs": [],
   "source": []
  }
 ],
 "metadata": {
  "kernelspec": {
   "display_name": "Python 3",
   "language": "python",
   "name": "python3"
  },
  "language_info": {
   "codemirror_mode": {
    "name": "ipython",
    "version": 3
   },
   "file_extension": ".py",
   "mimetype": "text/x-python",
   "name": "python",
   "nbconvert_exporter": "python",
   "pygments_lexer": "ipython3",
   "version": "3.6.9"
  },
  "toc": {
   "base_numbering": 1,
   "nav_menu": {},
   "number_sections": true,
   "sideBar": true,
   "skip_h1_title": false,
   "title_cell": "Table of Contents",
   "title_sidebar": "Contents",
   "toc_cell": false,
   "toc_position": {},
   "toc_section_display": true,
   "toc_window_display": false
  }
 },
 "nbformat": 4,
 "nbformat_minor": 4
}
